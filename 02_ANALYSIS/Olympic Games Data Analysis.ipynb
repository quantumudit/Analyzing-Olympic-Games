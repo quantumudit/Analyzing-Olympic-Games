{
    "metadata": {
        "kernelspec": {
            "name": "SQL",
            "display_name": "SQL",
            "language": "sql"
        },
        "language_info": {
            "name": "sql",
            "version": ""
        },
        "extensions": {
            "azuredatastudio": {
                "version": 1,
                "views": []
            }
        }
    },
    "nbformat_minor": 2,
    "nbformat": 4,
    "cells": [
        {
            "cell_type": "markdown",
            "source": [
                "# Olympics Data Analysis\r\n",
                "\r\n",
                "In this analysis, We'll analyze the historical dataset on the modern olympic games, including all the games from Athens-1896 to Rio-2016.\r\n",
                "\r\n",
                "> Note: The winter and summer games were held in the same year up until 1992. After that, they staggered them such that winter Games occur on a four year cycle starting with 1994, then summer in 1996, then winter in 1998, and so on.\r\n",
                "\r\n",
                "The dataset used to build the `Olympics` database can be found here: [120 years of Olympic history: Athletes & Results](https://www.kaggle.com/heesoo37/120-years-of-olympic-history-athletes-and-results/version/2?select=noc_regions.csv)"
            ],
            "metadata": {
                "azdata_cell_guid": "8aebeb2f-bfc1-4650-b015-dcfc3c53cd30"
            }
        },
        {
            "cell_type": "markdown",
            "source": [
                "## Database Overview\r\n",
                "\r\n",
                "Let's check some basic details about the database & tables that we'll be using for the analysis."
            ],
            "metadata": {
                "azdata_cell_guid": "95a5226e-df73-4b5c-ba0e-8c36fc88a832"
            }
        },
        {
            "cell_type": "markdown",
            "source": [
                "**Connecting to the `Olympics` Database**"
            ],
            "metadata": {
                "azdata_cell_guid": "12a5493b-4fdc-4e64-9c39-1fa0e8d408e1"
            }
        },
        {
            "cell_type": "code",
            "source": [
                "USE Olympics"
            ],
            "metadata": {
                "azdata_cell_guid": "deda899c-0581-4fca-88d3-aca414fbaba8"
            },
            "outputs": [
                {
                    "output_type": "display_data",
                    "data": {
                        "text/html": "Commands completed successfully."
                    },
                    "metadata": {}
                },
                {
                    "output_type": "display_data",
                    "data": {
                        "text/html": "Total execution time: 00:00:00.001"
                    },
                    "metadata": {}
                }
            ],
            "execution_count": 4
        },
        {
            "cell_type": "markdown",
            "source": [
                "**Viewing Table Details in the `Olympics` Database**"
            ],
            "metadata": {
                "azdata_cell_guid": "26dd76b9-690a-48c5-a39f-35a36c92f59b"
            }
        },
        {
            "cell_type": "code",
            "source": [
                "SELECT \r\n",
                "    TABLE_SCHEMA,\r\n",
                "    TABLE_NAME,\r\n",
                "    TABLE_TYPE\r\n",
                "FROM \r\n",
                "    information_schema.tables\r\n",
                "ORDER BY \r\n",
                "    TABLE_NAME ASC;"
            ],
            "metadata": {
                "azdata_cell_guid": "d0c020b4-6a7d-4981-b17c-f888f2378e86"
            },
            "outputs": [
                {
                    "output_type": "display_data",
                    "data": {
                        "text/html": "(2 rows affected)"
                    },
                    "metadata": {}
                },
                {
                    "output_type": "display_data",
                    "data": {
                        "text/html": "Total execution time: 00:00:00.024"
                    },
                    "metadata": {}
                },
                {
                    "output_type": "execute_result",
                    "execution_count": 17,
                    "data": {
                        "application/vnd.dataresource+json": {
                            "schema": {
                                "fields": [
                                    {
                                        "name": "TABLE_SCHEMA"
                                    },
                                    {
                                        "name": "TABLE_NAME"
                                    },
                                    {
                                        "name": "TABLE_TYPE"
                                    }
                                ]
                            },
                            "data": [
                                {
                                    "0": "dbo",
                                    "1": "AthleteEvents",
                                    "2": "BASE TABLE"
                                },
                                {
                                    "0": "dbo",
                                    "1": "NOCRegions",
                                    "2": "BASE TABLE"
                                }
                            ]
                        },
                        "text/html": "<table><tr><th>TABLE_SCHEMA</th><th>TABLE_NAME</th><th>TABLE_TYPE</th></tr><tr><td>dbo</td><td>AthleteEvents</td><td>BASE TABLE</td></tr><tr><td>dbo</td><td>NOCRegions</td><td>BASE TABLE</td></tr></table>"
                    },
                    "metadata": {}
                }
            ],
            "execution_count": 17
        },
        {
            "cell_type": "markdown",
            "source": [
                "**Viewing Table Metadata for `dbo.AthleteEvents` Table**"
            ],
            "metadata": {
                "azdata_cell_guid": "3ab19097-ed12-486b-b3b5-247f7c035493"
            }
        },
        {
            "cell_type": "code",
            "source": [
                "SELECT\r\n",
                "    TABLE_SCHEMA + '.' + TABLE_NAME AS \"FULL_TABLE_NAME\",\r\n",
                "    COLUMN_NAME,\r\n",
                "    ORDINAL_POSITION,\r\n",
                "    DATA_TYPE\r\n",
                "FROM\r\n",
                "    INFORMATION_SCHEMA.COLUMNS\r\n",
                "WHERE\r\n",
                "    TABLE_NAME = 'AthleteEvents'"
            ],
            "metadata": {
                "azdata_cell_guid": "8d4e3cbe-a5cc-4ece-a579-f560534bf8b9"
            },
            "outputs": [
                {
                    "output_type": "display_data",
                    "data": {
                        "text/html": "(15 rows affected)"
                    },
                    "metadata": {}
                },
                {
                    "output_type": "display_data",
                    "data": {
                        "text/html": "Total execution time: 00:00:00.039"
                    },
                    "metadata": {}
                },
                {
                    "output_type": "execute_result",
                    "execution_count": 8,
                    "data": {
                        "application/vnd.dataresource+json": {
                            "schema": {
                                "fields": [
                                    {
                                        "name": "FULL_TABLE_NAME"
                                    },
                                    {
                                        "name": "COLUMN_NAME"
                                    },
                                    {
                                        "name": "ORDINAL_POSITION"
                                    },
                                    {
                                        "name": "DATA_TYPE"
                                    }
                                ]
                            },
                            "data": [
                                {
                                    "0": "dbo.AthleteEvents",
                                    "1": "ID",
                                    "2": "1",
                                    "3": "varchar"
                                },
                                {
                                    "0": "dbo.AthleteEvents",
                                    "1": "Name",
                                    "2": "2",
                                    "3": "varchar"
                                },
                                {
                                    "0": "dbo.AthleteEvents",
                                    "1": "Sex",
                                    "2": "3",
                                    "3": "varchar"
                                },
                                {
                                    "0": "dbo.AthleteEvents",
                                    "1": "Age",
                                    "2": "4",
                                    "3": "bigint"
                                },
                                {
                                    "0": "dbo.AthleteEvents",
                                    "1": "Height",
                                    "2": "5",
                                    "3": "bigint"
                                },
                                {
                                    "0": "dbo.AthleteEvents",
                                    "1": "Weight",
                                    "2": "6",
                                    "3": "float"
                                },
                                {
                                    "0": "dbo.AthleteEvents",
                                    "1": "Team",
                                    "2": "7",
                                    "3": "varchar"
                                },
                                {
                                    "0": "dbo.AthleteEvents",
                                    "1": "NOC",
                                    "2": "8",
                                    "3": "varchar"
                                },
                                {
                                    "0": "dbo.AthleteEvents",
                                    "1": "Year",
                                    "2": "9",
                                    "3": "bigint"
                                },
                                {
                                    "0": "dbo.AthleteEvents",
                                    "1": "Games",
                                    "2": "10",
                                    "3": "varchar"
                                },
                                {
                                    "0": "dbo.AthleteEvents",
                                    "1": "Season",
                                    "2": "11",
                                    "3": "varchar"
                                },
                                {
                                    "0": "dbo.AthleteEvents",
                                    "1": "City",
                                    "2": "12",
                                    "3": "varchar"
                                },
                                {
                                    "0": "dbo.AthleteEvents",
                                    "1": "Sport",
                                    "2": "13",
                                    "3": "varchar"
                                },
                                {
                                    "0": "dbo.AthleteEvents",
                                    "1": "Event",
                                    "2": "14",
                                    "3": "varchar"
                                },
                                {
                                    "0": "dbo.AthleteEvents",
                                    "1": "Medal",
                                    "2": "15",
                                    "3": "varchar"
                                }
                            ]
                        },
                        "text/html": "<table><tr><th>FULL_TABLE_NAME</th><th>COLUMN_NAME</th><th>ORDINAL_POSITION</th><th>DATA_TYPE</th></tr><tr><td>dbo.AthleteEvents</td><td>ID</td><td>1</td><td>varchar</td></tr><tr><td>dbo.AthleteEvents</td><td>Name</td><td>2</td><td>varchar</td></tr><tr><td>dbo.AthleteEvents</td><td>Sex</td><td>3</td><td>varchar</td></tr><tr><td>dbo.AthleteEvents</td><td>Age</td><td>4</td><td>bigint</td></tr><tr><td>dbo.AthleteEvents</td><td>Height</td><td>5</td><td>bigint</td></tr><tr><td>dbo.AthleteEvents</td><td>Weight</td><td>6</td><td>float</td></tr><tr><td>dbo.AthleteEvents</td><td>Team</td><td>7</td><td>varchar</td></tr><tr><td>dbo.AthleteEvents</td><td>NOC</td><td>8</td><td>varchar</td></tr><tr><td>dbo.AthleteEvents</td><td>Year</td><td>9</td><td>bigint</td></tr><tr><td>dbo.AthleteEvents</td><td>Games</td><td>10</td><td>varchar</td></tr><tr><td>dbo.AthleteEvents</td><td>Season</td><td>11</td><td>varchar</td></tr><tr><td>dbo.AthleteEvents</td><td>City</td><td>12</td><td>varchar</td></tr><tr><td>dbo.AthleteEvents</td><td>Sport</td><td>13</td><td>varchar</td></tr><tr><td>dbo.AthleteEvents</td><td>Event</td><td>14</td><td>varchar</td></tr><tr><td>dbo.AthleteEvents</td><td>Medal</td><td>15</td><td>varchar</td></tr></table>"
                    },
                    "metadata": {}
                }
            ],
            "execution_count": 8
        },
        {
            "cell_type": "markdown",
            "source": [
                "**Viewing Table Metadata for `dbo.NOCRegions` Table**"
            ],
            "metadata": {
                "azdata_cell_guid": "de4e0794-7194-413d-bce2-67507adef0b8"
            }
        },
        {
            "cell_type": "code",
            "source": [
                "SELECT\r\n",
                "    TABLE_SCHEMA + '.' + TABLE_NAME AS \"FULL_TABLE_NAME\",\r\n",
                "    COLUMN_NAME,\r\n",
                "    ORDINAL_POSITION,\r\n",
                "    DATA_TYPE\r\n",
                "FROM\r\n",
                "    INFORMATION_SCHEMA.COLUMNS\r\n",
                "WHERE\r\n",
                "    TABLE_NAME = 'NOCRegions'"
            ],
            "metadata": {
                "azdata_cell_guid": "64ef27aa-6960-4bc0-87dc-a1fa0f371b28"
            },
            "outputs": [
                {
                    "output_type": "display_data",
                    "data": {
                        "text/html": "(3 rows affected)"
                    },
                    "metadata": {}
                },
                {
                    "output_type": "display_data",
                    "data": {
                        "text/html": "Total execution time: 00:00:00.040"
                    },
                    "metadata": {}
                },
                {
                    "output_type": "execute_result",
                    "execution_count": 9,
                    "data": {
                        "application/vnd.dataresource+json": {
                            "schema": {
                                "fields": [
                                    {
                                        "name": "FULL_TABLE_NAME"
                                    },
                                    {
                                        "name": "COLUMN_NAME"
                                    },
                                    {
                                        "name": "ORDINAL_POSITION"
                                    },
                                    {
                                        "name": "DATA_TYPE"
                                    }
                                ]
                            },
                            "data": [
                                {
                                    "0": "dbo.NOCRegions",
                                    "1": "NOC",
                                    "2": "1",
                                    "3": "varchar"
                                },
                                {
                                    "0": "dbo.NOCRegions",
                                    "1": "Region",
                                    "2": "2",
                                    "3": "varchar"
                                },
                                {
                                    "0": "dbo.NOCRegions",
                                    "1": "Notes",
                                    "2": "3",
                                    "3": "varchar"
                                }
                            ]
                        },
                        "text/html": "<table><tr><th>FULL_TABLE_NAME</th><th>COLUMN_NAME</th><th>ORDINAL_POSITION</th><th>DATA_TYPE</th></tr><tr><td>dbo.NOCRegions</td><td>NOC</td><td>1</td><td>varchar</td></tr><tr><td>dbo.NOCRegions</td><td>Region</td><td>2</td><td>varchar</td></tr><tr><td>dbo.NOCRegions</td><td>Notes</td><td>3</td><td>varchar</td></tr></table>"
                    },
                    "metadata": {}
                }
            ],
            "execution_count": 9
        },
        {
            "cell_type": "markdown",
            "source": [
                "**Viewing Top-10 Records from `dbo.AthleteEvents` Table**"
            ],
            "metadata": {
                "azdata_cell_guid": "a7f0778e-b13a-4933-952b-12453e99a4bb"
            }
        },
        {
            "cell_type": "code",
            "source": [
                "SELECT \r\n",
                "    TOP (10) *\r\n",
                "FROM\r\n",
                "    dbo.AthleteEvents"
            ],
            "metadata": {
                "azdata_cell_guid": "1045c7cf-155d-4d84-b388-f1f92b3784f1"
            },
            "outputs": [
                {
                    "output_type": "display_data",
                    "data": {
                        "text/html": "(10 rows affected)"
                    },
                    "metadata": {}
                },
                {
                    "output_type": "display_data",
                    "data": {
                        "text/html": "Total execution time: 00:00:00.010"
                    },
                    "metadata": {}
                },
                {
                    "output_type": "execute_result",
                    "execution_count": 11,
                    "data": {
                        "application/vnd.dataresource+json": {
                            "schema": {
                                "fields": [
                                    {
                                        "name": "ID"
                                    },
                                    {
                                        "name": "Name"
                                    },
                                    {
                                        "name": "Sex"
                                    },
                                    {
                                        "name": "Age"
                                    },
                                    {
                                        "name": "Height"
                                    },
                                    {
                                        "name": "Weight"
                                    },
                                    {
                                        "name": "Team"
                                    },
                                    {
                                        "name": "NOC"
                                    },
                                    {
                                        "name": "Year"
                                    },
                                    {
                                        "name": "Games"
                                    },
                                    {
                                        "name": "Season"
                                    },
                                    {
                                        "name": "City"
                                    },
                                    {
                                        "name": "Sport"
                                    },
                                    {
                                        "name": "Event"
                                    },
                                    {
                                        "name": "Medal"
                                    }
                                ]
                            },
                            "data": [
                                {
                                    "0": "1",
                                    "1": "A Dijiang",
                                    "2": "M",
                                    "3": "24",
                                    "4": "180",
                                    "5": "80",
                                    "6": "China",
                                    "7": "CHN",
                                    "8": "1992",
                                    "9": "1992 Summer",
                                    "10": "Summer",
                                    "11": "Barcelona",
                                    "12": "Basketball",
                                    "13": "Basketball Men's Basketball",
                                    "14": "NA"
                                },
                                {
                                    "0": "2",
                                    "1": "A Lamusi",
                                    "2": "M",
                                    "3": "23",
                                    "4": "170",
                                    "5": "60",
                                    "6": "China",
                                    "7": "CHN",
                                    "8": "2012",
                                    "9": "2012 Summer",
                                    "10": "Summer",
                                    "11": "London",
                                    "12": "Judo",
                                    "13": "Judo Men's Extra-Lightweight",
                                    "14": "NA"
                                },
                                {
                                    "0": "3",
                                    "1": "Gunnar Nielsen Aaby",
                                    "2": "M",
                                    "3": "24",
                                    "4": "NULL",
                                    "5": "NULL",
                                    "6": "Denmark",
                                    "7": "DEN",
                                    "8": "1920",
                                    "9": "1920 Summer",
                                    "10": "Summer",
                                    "11": "Antwerpen",
                                    "12": "Football",
                                    "13": "Football Men's Football",
                                    "14": "NA"
                                },
                                {
                                    "0": "4",
                                    "1": "Edgar Lindenau Aabye",
                                    "2": "M",
                                    "3": "34",
                                    "4": "NULL",
                                    "5": "NULL",
                                    "6": "Denmark/Sweden",
                                    "7": "DEN",
                                    "8": "1900",
                                    "9": "1900 Summer",
                                    "10": "Summer",
                                    "11": "Paris",
                                    "12": "Tug-Of-War",
                                    "13": "Tug-Of-War Men's Tug-Of-War",
                                    "14": "Gold"
                                },
                                {
                                    "0": "5",
                                    "1": "Christine Jacoba Aaftink",
                                    "2": "F",
                                    "3": "21",
                                    "4": "185",
                                    "5": "82",
                                    "6": "Netherlands",
                                    "7": "NED",
                                    "8": "1988",
                                    "9": "1988 Winter",
                                    "10": "Winter",
                                    "11": "Calgary",
                                    "12": "Speed Skating",
                                    "13": "Speed Skating Women's 500 metres",
                                    "14": "NA"
                                },
                                {
                                    "0": "5",
                                    "1": "Christine Jacoba Aaftink",
                                    "2": "F",
                                    "3": "21",
                                    "4": "185",
                                    "5": "82",
                                    "6": "Netherlands",
                                    "7": "NED",
                                    "8": "1988",
                                    "9": "1988 Winter",
                                    "10": "Winter",
                                    "11": "Calgary",
                                    "12": "Speed Skating",
                                    "13": "Speed Skating Women's 1,000 metres",
                                    "14": "NA"
                                },
                                {
                                    "0": "5",
                                    "1": "Christine Jacoba Aaftink",
                                    "2": "F",
                                    "3": "25",
                                    "4": "185",
                                    "5": "82",
                                    "6": "Netherlands",
                                    "7": "NED",
                                    "8": "1992",
                                    "9": "1992 Winter",
                                    "10": "Winter",
                                    "11": "Albertville",
                                    "12": "Speed Skating",
                                    "13": "Speed Skating Women's 500 metres",
                                    "14": "NA"
                                },
                                {
                                    "0": "5",
                                    "1": "Christine Jacoba Aaftink",
                                    "2": "F",
                                    "3": "25",
                                    "4": "185",
                                    "5": "82",
                                    "6": "Netherlands",
                                    "7": "NED",
                                    "8": "1992",
                                    "9": "1992 Winter",
                                    "10": "Winter",
                                    "11": "Albertville",
                                    "12": "Speed Skating",
                                    "13": "Speed Skating Women's 1,000 metres",
                                    "14": "NA"
                                },
                                {
                                    "0": "5",
                                    "1": "Christine Jacoba Aaftink",
                                    "2": "F",
                                    "3": "27",
                                    "4": "185",
                                    "5": "82",
                                    "6": "Netherlands",
                                    "7": "NED",
                                    "8": "1994",
                                    "9": "1994 Winter",
                                    "10": "Winter",
                                    "11": "Lillehammer",
                                    "12": "Speed Skating",
                                    "13": "Speed Skating Women's 500 metres",
                                    "14": "NA"
                                },
                                {
                                    "0": "5",
                                    "1": "Christine Jacoba Aaftink",
                                    "2": "F",
                                    "3": "27",
                                    "4": "185",
                                    "5": "82",
                                    "6": "Netherlands",
                                    "7": "NED",
                                    "8": "1994",
                                    "9": "1994 Winter",
                                    "10": "Winter",
                                    "11": "Lillehammer",
                                    "12": "Speed Skating",
                                    "13": "Speed Skating Women's 1,000 metres",
                                    "14": "NA"
                                }
                            ]
                        },
                        "text/html": "<table><tr><th>ID</th><th>Name</th><th>Sex</th><th>Age</th><th>Height</th><th>Weight</th><th>Team</th><th>NOC</th><th>Year</th><th>Games</th><th>Season</th><th>City</th><th>Sport</th><th>Event</th><th>Medal</th></tr><tr><td>1</td><td>A Dijiang</td><td>M</td><td>24</td><td>180</td><td>80</td><td>China</td><td>CHN</td><td>1992</td><td>1992 Summer</td><td>Summer</td><td>Barcelona</td><td>Basketball</td><td>Basketball Men's Basketball</td><td>NA</td></tr><tr><td>2</td><td>A Lamusi</td><td>M</td><td>23</td><td>170</td><td>60</td><td>China</td><td>CHN</td><td>2012</td><td>2012 Summer</td><td>Summer</td><td>London</td><td>Judo</td><td>Judo Men's Extra-Lightweight</td><td>NA</td></tr><tr><td>3</td><td>Gunnar Nielsen Aaby</td><td>M</td><td>24</td><td>NULL</td><td>NULL</td><td>Denmark</td><td>DEN</td><td>1920</td><td>1920 Summer</td><td>Summer</td><td>Antwerpen</td><td>Football</td><td>Football Men's Football</td><td>NA</td></tr><tr><td>4</td><td>Edgar Lindenau Aabye</td><td>M</td><td>34</td><td>NULL</td><td>NULL</td><td>Denmark/Sweden</td><td>DEN</td><td>1900</td><td>1900 Summer</td><td>Summer</td><td>Paris</td><td>Tug-Of-War</td><td>Tug-Of-War Men's Tug-Of-War</td><td>Gold</td></tr><tr><td>5</td><td>Christine Jacoba Aaftink</td><td>F</td><td>21</td><td>185</td><td>82</td><td>Netherlands</td><td>NED</td><td>1988</td><td>1988 Winter</td><td>Winter</td><td>Calgary</td><td>Speed Skating</td><td>Speed Skating Women's 500 metres</td><td>NA</td></tr><tr><td>5</td><td>Christine Jacoba Aaftink</td><td>F</td><td>21</td><td>185</td><td>82</td><td>Netherlands</td><td>NED</td><td>1988</td><td>1988 Winter</td><td>Winter</td><td>Calgary</td><td>Speed Skating</td><td>Speed Skating Women's 1,000 metres</td><td>NA</td></tr><tr><td>5</td><td>Christine Jacoba Aaftink</td><td>F</td><td>25</td><td>185</td><td>82</td><td>Netherlands</td><td>NED</td><td>1992</td><td>1992 Winter</td><td>Winter</td><td>Albertville</td><td>Speed Skating</td><td>Speed Skating Women's 500 metres</td><td>NA</td></tr><tr><td>5</td><td>Christine Jacoba Aaftink</td><td>F</td><td>25</td><td>185</td><td>82</td><td>Netherlands</td><td>NED</td><td>1992</td><td>1992 Winter</td><td>Winter</td><td>Albertville</td><td>Speed Skating</td><td>Speed Skating Women's 1,000 metres</td><td>NA</td></tr><tr><td>5</td><td>Christine Jacoba Aaftink</td><td>F</td><td>27</td><td>185</td><td>82</td><td>Netherlands</td><td>NED</td><td>1994</td><td>1994 Winter</td><td>Winter</td><td>Lillehammer</td><td>Speed Skating</td><td>Speed Skating Women's 500 metres</td><td>NA</td></tr><tr><td>5</td><td>Christine Jacoba Aaftink</td><td>F</td><td>27</td><td>185</td><td>82</td><td>Netherlands</td><td>NED</td><td>1994</td><td>1994 Winter</td><td>Winter</td><td>Lillehammer</td><td>Speed Skating</td><td>Speed Skating Women's 1,000 metres</td><td>NA</td></tr></table>"
                    },
                    "metadata": {}
                }
            ],
            "execution_count": 11
        },
        {
            "cell_type": "markdown",
            "source": [
                "**Viewing Top 4% Records from `dbo.NOCRegions` Table**"
            ],
            "metadata": {
                "azdata_cell_guid": "deacb76a-8716-4637-a20a-6ab0edb705e0"
            }
        },
        {
            "cell_type": "code",
            "source": [
                "SELECT\r\n",
                "    TOP (4) PERCENT *\r\n",
                "FROM\r\n",
                "    dbo.NOCRegions"
            ],
            "metadata": {
                "azdata_cell_guid": "23a07ec2-b00b-4ea0-a6e0-c68077edef5d"
            },
            "outputs": [
                {
                    "output_type": "display_data",
                    "data": {
                        "text/html": "(10 rows affected)"
                    },
                    "metadata": {}
                },
                {
                    "output_type": "display_data",
                    "data": {
                        "text/html": "Total execution time: 00:00:00.039"
                    },
                    "metadata": {}
                },
                {
                    "output_type": "execute_result",
                    "metadata": {},
                    "execution_count": 30,
                    "data": {
                        "application/vnd.dataresource+json": {
                            "schema": {
                                "fields": [
                                    {
                                        "name": "NOC"
                                    },
                                    {
                                        "name": "Region"
                                    },
                                    {
                                        "name": "Notes"
                                    }
                                ]
                            },
                            "data": [
                                {
                                    "0": "AFG",
                                    "1": "Afghanistan",
                                    "2": "NULL"
                                },
                                {
                                    "0": "AHO",
                                    "1": "Curacao",
                                    "2": "Netherlands Antilles"
                                },
                                {
                                    "0": "ALB",
                                    "1": "Albania",
                                    "2": "NULL"
                                },
                                {
                                    "0": "ALG",
                                    "1": "Algeria",
                                    "2": "NULL"
                                },
                                {
                                    "0": "AND",
                                    "1": "Andorra",
                                    "2": "NULL"
                                },
                                {
                                    "0": "ANG",
                                    "1": "Angola",
                                    "2": "NULL"
                                },
                                {
                                    "0": "ANT",
                                    "1": "Antigua",
                                    "2": "Antigua and Barbuda"
                                },
                                {
                                    "0": "ANZ",
                                    "1": "Australia",
                                    "2": "Australasia"
                                },
                                {
                                    "0": "ARG",
                                    "1": "Argentina",
                                    "2": "NULL"
                                },
                                {
                                    "0": "ARM",
                                    "1": "Armenia",
                                    "2": "NULL"
                                }
                            ]
                        },
                        "text/html": [
                            "<table>",
                            "<tr><th>NOC</th><th>Region</th><th>Notes</th></tr>",
                            "<tr><td>AFG</td><td>Afghanistan</td><td>NULL</td></tr>",
                            "<tr><td>AHO</td><td>Curacao</td><td>Netherlands Antilles</td></tr>",
                            "<tr><td>ALB</td><td>Albania</td><td>NULL</td></tr>",
                            "<tr><td>ALG</td><td>Algeria</td><td>NULL</td></tr>",
                            "<tr><td>AND</td><td>Andorra</td><td>NULL</td></tr>",
                            "<tr><td>ANG</td><td>Angola</td><td>NULL</td></tr>",
                            "<tr><td>ANT</td><td>Antigua</td><td>Antigua and Barbuda</td></tr>",
                            "<tr><td>ANZ</td><td>Australia</td><td>Australasia</td></tr>",
                            "<tr><td>ARG</td><td>Argentina</td><td>NULL</td></tr>",
                            "<tr><td>ARM</td><td>Armenia</td><td>NULL</td></tr>",
                            "</table>"
                        ]
                    }
                }
            ],
            "execution_count": 30
        },
        {
            "cell_type": "markdown",
            "source": [
                "## Data Analysis with T-SQL Querying\r\n",
                "\r\n",
                "Let's query the database to analyze the historical olympics data.\r\n",
                "\r\n",
                ""
            ],
            "metadata": {
                "azdata_cell_guid": "6417404c-3308-406b-9304-3d9c85e7f368"
            }
        },
        {
            "cell_type": "markdown",
            "source": [
                "*The following query returns the number of olympic games have been held:*"
            ],
            "metadata": {
                "azdata_cell_guid": "b52487dc-2dd7-48a4-ab5a-88e4bbceedc3"
            }
        },
        {
            "cell_type": "code",
            "source": [
                "SELECT\r\n",
                "  COUNT(DISTINCT Games) AS 'total_olympic_games'\r\n",
                "FROM\r\n",
                "  dbo.AthleteEvents"
            ],
            "metadata": {
                "azdata_cell_guid": "50beafc7-2cfd-46f3-8647-f43489705757"
            },
            "outputs": [
                {
                    "output_type": "display_data",
                    "data": {
                        "text/html": "(1 row affected)"
                    },
                    "metadata": {}
                },
                {
                    "output_type": "display_data",
                    "data": {
                        "text/html": "Total execution time: 00:00:00.056"
                    },
                    "metadata": {}
                },
                {
                    "output_type": "execute_result",
                    "metadata": {},
                    "execution_count": 2,
                    "data": {
                        "application/vnd.dataresource+json": {
                            "schema": {
                                "fields": [
                                    {
                                        "name": "total_olympic_games"
                                    }
                                ]
                            },
                            "data": [
                                {
                                    "0": "51"
                                }
                            ]
                        },
                        "text/html": [
                            "<table>",
                            "<tr><th>total_olympic_games</th></tr>",
                            "<tr><td>51</td></tr>",
                            "</table>"
                        ]
                    }
                }
            ],
            "execution_count": 2
        },
        {
            "cell_type": "markdown",
            "source": [
                "*The following query returns all the olympic games held so far and their corresponding hosting cities:*"
            ],
            "metadata": {
                "azdata_cell_guid": "689ae2a8-7745-4bb9-8b52-ac30cde431d3"
            }
        },
        {
            "cell_type": "code",
            "source": [
                "SELECT DISTINCT\r\n",
                "\tYear,\r\n",
                "\tSeason,\r\n",
                "\tCity,\r\n",
                "\tGames\r\n",
                "FROM\r\n",
                "\tdbo.AthleteEvents\r\n",
                "ORDER BY\r\n",
                "\tYear, Season"
            ],
            "metadata": {
                "azdata_cell_guid": "c213b6af-a9d5-437d-b8a3-f0ec78a2cc32"
            },
            "outputs": [
                {
                    "output_type": "display_data",
                    "data": {
                        "text/html": "(52 rows affected)"
                    },
                    "metadata": {}
                },
                {
                    "output_type": "display_data",
                    "data": {
                        "text/html": "Total execution time: 00:00:00.078"
                    },
                    "metadata": {}
                },
                {
                    "output_type": "execute_result",
                    "metadata": {},
                    "execution_count": 31,
                    "data": {
                        "application/vnd.dataresource+json": {
                            "schema": {
                                "fields": [
                                    {
                                        "name": "Year"
                                    },
                                    {
                                        "name": "Season"
                                    },
                                    {
                                        "name": "City"
                                    },
                                    {
                                        "name": "Games"
                                    }
                                ]
                            },
                            "data": [
                                {
                                    "0": "1896",
                                    "1": "Summer",
                                    "2": "Athina",
                                    "3": "1896 Summer"
                                },
                                {
                                    "0": "1900",
                                    "1": "Summer",
                                    "2": "Paris",
                                    "3": "1900 Summer"
                                },
                                {
                                    "0": "1904",
                                    "1": "Summer",
                                    "2": "St. Louis",
                                    "3": "1904 Summer"
                                },
                                {
                                    "0": "1906",
                                    "1": "Summer",
                                    "2": "Athina",
                                    "3": "1906 Summer"
                                },
                                {
                                    "0": "1908",
                                    "1": "Summer",
                                    "2": "London",
                                    "3": "1908 Summer"
                                },
                                {
                                    "0": "1912",
                                    "1": "Summer",
                                    "2": "Stockholm",
                                    "3": "1912 Summer"
                                },
                                {
                                    "0": "1920",
                                    "1": "Summer",
                                    "2": "Antwerpen",
                                    "3": "1920 Summer"
                                },
                                {
                                    "0": "1924",
                                    "1": "Summer",
                                    "2": "Paris",
                                    "3": "1924 Summer"
                                },
                                {
                                    "0": "1924",
                                    "1": "Winter",
                                    "2": "Chamonix",
                                    "3": "1924 Winter"
                                },
                                {
                                    "0": "1928",
                                    "1": "Summer",
                                    "2": "Amsterdam",
                                    "3": "1928 Summer"
                                },
                                {
                                    "0": "1928",
                                    "1": "Winter",
                                    "2": "Sankt Moritz",
                                    "3": "1928 Winter"
                                },
                                {
                                    "0": "1932",
                                    "1": "Summer",
                                    "2": "Los Angeles",
                                    "3": "1932 Summer"
                                },
                                {
                                    "0": "1932",
                                    "1": "Winter",
                                    "2": "Lake Placid",
                                    "3": "1932 Winter"
                                },
                                {
                                    "0": "1936",
                                    "1": "Summer",
                                    "2": "Berlin",
                                    "3": "1936 Summer"
                                },
                                {
                                    "0": "1936",
                                    "1": "Winter",
                                    "2": "Garmisch-Partenkirchen",
                                    "3": "1936 Winter"
                                },
                                {
                                    "0": "1948",
                                    "1": "Summer",
                                    "2": "London",
                                    "3": "1948 Summer"
                                },
                                {
                                    "0": "1948",
                                    "1": "Winter",
                                    "2": "Sankt Moritz",
                                    "3": "1948 Winter"
                                },
                                {
                                    "0": "1952",
                                    "1": "Summer",
                                    "2": "Helsinki",
                                    "3": "1952 Summer"
                                },
                                {
                                    "0": "1952",
                                    "1": "Winter",
                                    "2": "Oslo",
                                    "3": "1952 Winter"
                                },
                                {
                                    "0": "1956",
                                    "1": "Summer",
                                    "2": "Melbourne",
                                    "3": "1956 Summer"
                                },
                                {
                                    "0": "1956",
                                    "1": "Summer",
                                    "2": "Stockholm",
                                    "3": "1956 Summer"
                                },
                                {
                                    "0": "1956",
                                    "1": "Winter",
                                    "2": "Cortina d'Ampezzo",
                                    "3": "1956 Winter"
                                },
                                {
                                    "0": "1960",
                                    "1": "Summer",
                                    "2": "Roma",
                                    "3": "1960 Summer"
                                },
                                {
                                    "0": "1960",
                                    "1": "Winter",
                                    "2": "Squaw Valley",
                                    "3": "1960 Winter"
                                },
                                {
                                    "0": "1964",
                                    "1": "Summer",
                                    "2": "Tokyo",
                                    "3": "1964 Summer"
                                },
                                {
                                    "0": "1964",
                                    "1": "Winter",
                                    "2": "Innsbruck",
                                    "3": "1964 Winter"
                                },
                                {
                                    "0": "1968",
                                    "1": "Summer",
                                    "2": "Mexico City",
                                    "3": "1968 Summer"
                                },
                                {
                                    "0": "1968",
                                    "1": "Winter",
                                    "2": "Grenoble",
                                    "3": "1968 Winter"
                                },
                                {
                                    "0": "1972",
                                    "1": "Summer",
                                    "2": "Munich",
                                    "3": "1972 Summer"
                                },
                                {
                                    "0": "1972",
                                    "1": "Winter",
                                    "2": "Sapporo",
                                    "3": "1972 Winter"
                                },
                                {
                                    "0": "1976",
                                    "1": "Summer",
                                    "2": "Montreal",
                                    "3": "1976 Summer"
                                },
                                {
                                    "0": "1976",
                                    "1": "Winter",
                                    "2": "Innsbruck",
                                    "3": "1976 Winter"
                                },
                                {
                                    "0": "1980",
                                    "1": "Summer",
                                    "2": "Moskva",
                                    "3": "1980 Summer"
                                },
                                {
                                    "0": "1980",
                                    "1": "Winter",
                                    "2": "Lake Placid",
                                    "3": "1980 Winter"
                                },
                                {
                                    "0": "1984",
                                    "1": "Summer",
                                    "2": "Los Angeles",
                                    "3": "1984 Summer"
                                },
                                {
                                    "0": "1984",
                                    "1": "Winter",
                                    "2": "Sarajevo",
                                    "3": "1984 Winter"
                                },
                                {
                                    "0": "1988",
                                    "1": "Summer",
                                    "2": "Seoul",
                                    "3": "1988 Summer"
                                },
                                {
                                    "0": "1988",
                                    "1": "Winter",
                                    "2": "Calgary",
                                    "3": "1988 Winter"
                                },
                                {
                                    "0": "1992",
                                    "1": "Summer",
                                    "2": "Barcelona",
                                    "3": "1992 Summer"
                                },
                                {
                                    "0": "1992",
                                    "1": "Winter",
                                    "2": "Albertville",
                                    "3": "1992 Winter"
                                },
                                {
                                    "0": "1994",
                                    "1": "Winter",
                                    "2": "Lillehammer",
                                    "3": "1994 Winter"
                                },
                                {
                                    "0": "1996",
                                    "1": "Summer",
                                    "2": "Atlanta",
                                    "3": "1996 Summer"
                                },
                                {
                                    "0": "1998",
                                    "1": "Winter",
                                    "2": "Nagano",
                                    "3": "1998 Winter"
                                },
                                {
                                    "0": "2000",
                                    "1": "Summer",
                                    "2": "Sydney",
                                    "3": "2000 Summer"
                                },
                                {
                                    "0": "2002",
                                    "1": "Winter",
                                    "2": "Salt Lake City",
                                    "3": "2002 Winter"
                                },
                                {
                                    "0": "2004",
                                    "1": "Summer",
                                    "2": "Athina",
                                    "3": "2004 Summer"
                                },
                                {
                                    "0": "2006",
                                    "1": "Winter",
                                    "2": "Torino",
                                    "3": "2006 Winter"
                                },
                                {
                                    "0": "2008",
                                    "1": "Summer",
                                    "2": "Beijing",
                                    "3": "2008 Summer"
                                },
                                {
                                    "0": "2010",
                                    "1": "Winter",
                                    "2": "Vancouver",
                                    "3": "2010 Winter"
                                },
                                {
                                    "0": "2012",
                                    "1": "Summer",
                                    "2": "London",
                                    "3": "2012 Summer"
                                },
                                {
                                    "0": "2014",
                                    "1": "Winter",
                                    "2": "Sochi",
                                    "3": "2014 Winter"
                                },
                                {
                                    "0": "2016",
                                    "1": "Summer",
                                    "2": "Rio de Janeiro",
                                    "3": "2016 Summer"
                                }
                            ]
                        },
                        "text/html": [
                            "<table>",
                            "<tr><th>Year</th><th>Season</th><th>City</th><th>Games</th></tr>",
                            "<tr><td>1896</td><td>Summer</td><td>Athina</td><td>1896 Summer</td></tr>",
                            "<tr><td>1900</td><td>Summer</td><td>Paris</td><td>1900 Summer</td></tr>",
                            "<tr><td>1904</td><td>Summer</td><td>St. Louis</td><td>1904 Summer</td></tr>",
                            "<tr><td>1906</td><td>Summer</td><td>Athina</td><td>1906 Summer</td></tr>",
                            "<tr><td>1908</td><td>Summer</td><td>London</td><td>1908 Summer</td></tr>",
                            "<tr><td>1912</td><td>Summer</td><td>Stockholm</td><td>1912 Summer</td></tr>",
                            "<tr><td>1920</td><td>Summer</td><td>Antwerpen</td><td>1920 Summer</td></tr>",
                            "<tr><td>1924</td><td>Summer</td><td>Paris</td><td>1924 Summer</td></tr>",
                            "<tr><td>1924</td><td>Winter</td><td>Chamonix</td><td>1924 Winter</td></tr>",
                            "<tr><td>1928</td><td>Summer</td><td>Amsterdam</td><td>1928 Summer</td></tr>",
                            "<tr><td>1928</td><td>Winter</td><td>Sankt Moritz</td><td>1928 Winter</td></tr>",
                            "<tr><td>1932</td><td>Summer</td><td>Los Angeles</td><td>1932 Summer</td></tr>",
                            "<tr><td>1932</td><td>Winter</td><td>Lake Placid</td><td>1932 Winter</td></tr>",
                            "<tr><td>1936</td><td>Summer</td><td>Berlin</td><td>1936 Summer</td></tr>",
                            "<tr><td>1936</td><td>Winter</td><td>Garmisch-Partenkirchen</td><td>1936 Winter</td></tr>",
                            "<tr><td>1948</td><td>Summer</td><td>London</td><td>1948 Summer</td></tr>",
                            "<tr><td>1948</td><td>Winter</td><td>Sankt Moritz</td><td>1948 Winter</td></tr>",
                            "<tr><td>1952</td><td>Summer</td><td>Helsinki</td><td>1952 Summer</td></tr>",
                            "<tr><td>1952</td><td>Winter</td><td>Oslo</td><td>1952 Winter</td></tr>",
                            "<tr><td>1956</td><td>Summer</td><td>Melbourne</td><td>1956 Summer</td></tr>",
                            "<tr><td>1956</td><td>Summer</td><td>Stockholm</td><td>1956 Summer</td></tr>",
                            "<tr><td>1956</td><td>Winter</td><td>Cortina d'Ampezzo</td><td>1956 Winter</td></tr>",
                            "<tr><td>1960</td><td>Summer</td><td>Roma</td><td>1960 Summer</td></tr>",
                            "<tr><td>1960</td><td>Winter</td><td>Squaw Valley</td><td>1960 Winter</td></tr>",
                            "<tr><td>1964</td><td>Summer</td><td>Tokyo</td><td>1964 Summer</td></tr>",
                            "<tr><td>1964</td><td>Winter</td><td>Innsbruck</td><td>1964 Winter</td></tr>",
                            "<tr><td>1968</td><td>Summer</td><td>Mexico City</td><td>1968 Summer</td></tr>",
                            "<tr><td>1968</td><td>Winter</td><td>Grenoble</td><td>1968 Winter</td></tr>",
                            "<tr><td>1972</td><td>Summer</td><td>Munich</td><td>1972 Summer</td></tr>",
                            "<tr><td>1972</td><td>Winter</td><td>Sapporo</td><td>1972 Winter</td></tr>",
                            "<tr><td>1976</td><td>Summer</td><td>Montreal</td><td>1976 Summer</td></tr>",
                            "<tr><td>1976</td><td>Winter</td><td>Innsbruck</td><td>1976 Winter</td></tr>",
                            "<tr><td>1980</td><td>Summer</td><td>Moskva</td><td>1980 Summer</td></tr>",
                            "<tr><td>1980</td><td>Winter</td><td>Lake Placid</td><td>1980 Winter</td></tr>",
                            "<tr><td>1984</td><td>Summer</td><td>Los Angeles</td><td>1984 Summer</td></tr>",
                            "<tr><td>1984</td><td>Winter</td><td>Sarajevo</td><td>1984 Winter</td></tr>",
                            "<tr><td>1988</td><td>Summer</td><td>Seoul</td><td>1988 Summer</td></tr>",
                            "<tr><td>1988</td><td>Winter</td><td>Calgary</td><td>1988 Winter</td></tr>",
                            "<tr><td>1992</td><td>Summer</td><td>Barcelona</td><td>1992 Summer</td></tr>",
                            "<tr><td>1992</td><td>Winter</td><td>Albertville</td><td>1992 Winter</td></tr>",
                            "<tr><td>1994</td><td>Winter</td><td>Lillehammer</td><td>1994 Winter</td></tr>",
                            "<tr><td>1996</td><td>Summer</td><td>Atlanta</td><td>1996 Summer</td></tr>",
                            "<tr><td>1998</td><td>Winter</td><td>Nagano</td><td>1998 Winter</td></tr>",
                            "<tr><td>2000</td><td>Summer</td><td>Sydney</td><td>2000 Summer</td></tr>",
                            "<tr><td>2002</td><td>Winter</td><td>Salt Lake City</td><td>2002 Winter</td></tr>",
                            "<tr><td>2004</td><td>Summer</td><td>Athina</td><td>2004 Summer</td></tr>",
                            "<tr><td>2006</td><td>Winter</td><td>Torino</td><td>2006 Winter</td></tr>",
                            "<tr><td>2008</td><td>Summer</td><td>Beijing</td><td>2008 Summer</td></tr>",
                            "<tr><td>2010</td><td>Winter</td><td>Vancouver</td><td>2010 Winter</td></tr>",
                            "<tr><td>2012</td><td>Summer</td><td>London</td><td>2012 Summer</td></tr>",
                            "<tr><td>2014</td><td>Winter</td><td>Sochi</td><td>2014 Winter</td></tr>",
                            "<tr><td>2016</td><td>Summer</td><td>Rio de Janeiro</td><td>2016 Summer</td></tr>",
                            "</table>"
                        ]
                    }
                }
            ],
            "execution_count": 31
        },
        {
            "cell_type": "markdown",
            "source": [
                "*The following query returns the total number of nations participated in each olympic game:*"
            ],
            "metadata": {
                "azdata_cell_guid": "c1c044f4-c2b0-4cd6-9f68-e71d8f0b80a4"
            }
        },
        {
            "cell_type": "code",
            "source": [
                "SELECT\r\n",
                "\tae.Games AS games,\r\n",
                "\tCOUNT(DISTINCT nr.Region) AS 'nations_participated'\r\n",
                "FROM\r\n",
                "\tdbo.AthleteEvents AS ae\r\n",
                "\tINNER JOIN dbo.NOCRegions AS nr ON ae.NOC = nr.NOC\r\n",
                "GROUP BY\r\n",
                "    games\r\n",
                "ORDER BY\r\n",
                "    games"
            ],
            "metadata": {
                "azdata_cell_guid": "eb4966e5-fe15-4524-a140-07db84d6f933"
            },
            "outputs": [
                {
                    "output_type": "display_data",
                    "data": {
                        "text/html": "(51 rows affected)"
                    },
                    "metadata": {}
                },
                {
                    "output_type": "display_data",
                    "data": {
                        "text/html": "Total execution time: 00:00:00.050"
                    },
                    "metadata": {}
                },
                {
                    "output_type": "execute_result",
                    "metadata": {},
                    "execution_count": 32,
                    "data": {
                        "application/vnd.dataresource+json": {
                            "schema": {
                                "fields": [
                                    {
                                        "name": "games"
                                    },
                                    {
                                        "name": "nations_participated"
                                    }
                                ]
                            },
                            "data": [
                                {
                                    "0": "1896 Summer",
                                    "1": "12"
                                },
                                {
                                    "0": "1900 Summer",
                                    "1": "31"
                                },
                                {
                                    "0": "1904 Summer",
                                    "1": "14"
                                },
                                {
                                    "0": "1906 Summer",
                                    "1": "20"
                                },
                                {
                                    "0": "1908 Summer",
                                    "1": "22"
                                },
                                {
                                    "0": "1912 Summer",
                                    "1": "29"
                                },
                                {
                                    "0": "1920 Summer",
                                    "1": "29"
                                },
                                {
                                    "0": "1924 Summer",
                                    "1": "45"
                                },
                                {
                                    "0": "1924 Winter",
                                    "1": "19"
                                },
                                {
                                    "0": "1928 Summer",
                                    "1": "46"
                                },
                                {
                                    "0": "1928 Winter",
                                    "1": "25"
                                },
                                {
                                    "0": "1932 Summer",
                                    "1": "47"
                                },
                                {
                                    "0": "1932 Winter",
                                    "1": "17"
                                },
                                {
                                    "0": "1936 Summer",
                                    "1": "49"
                                },
                                {
                                    "0": "1936 Winter",
                                    "1": "28"
                                },
                                {
                                    "0": "1948 Summer",
                                    "1": "58"
                                },
                                {
                                    "0": "1948 Winter",
                                    "1": "28"
                                },
                                {
                                    "0": "1952 Summer",
                                    "1": "66"
                                },
                                {
                                    "0": "1952 Winter",
                                    "1": "30"
                                },
                                {
                                    "0": "1956 Summer",
                                    "1": "70"
                                },
                                {
                                    "0": "1956 Winter",
                                    "1": "32"
                                },
                                {
                                    "0": "1960 Summer",
                                    "1": "82"
                                },
                                {
                                    "0": "1960 Winter",
                                    "1": "30"
                                },
                                {
                                    "0": "1964 Summer",
                                    "1": "93"
                                },
                                {
                                    "0": "1964 Winter",
                                    "1": "36"
                                },
                                {
                                    "0": "1968 Summer",
                                    "1": "110"
                                },
                                {
                                    "0": "1968 Winter",
                                    "1": "36"
                                },
                                {
                                    "0": "1972 Summer",
                                    "1": "119"
                                },
                                {
                                    "0": "1972 Winter",
                                    "1": "34"
                                },
                                {
                                    "0": "1976 Summer",
                                    "1": "90"
                                },
                                {
                                    "0": "1976 Winter",
                                    "1": "36"
                                },
                                {
                                    "0": "1980 Summer",
                                    "1": "80"
                                },
                                {
                                    "0": "1980 Winter",
                                    "1": "36"
                                },
                                {
                                    "0": "1984 Summer",
                                    "1": "138"
                                },
                                {
                                    "0": "1984 Winter",
                                    "1": "48"
                                },
                                {
                                    "0": "1988 Summer",
                                    "1": "155"
                                },
                                {
                                    "0": "1988 Winter",
                                    "1": "56"
                                },
                                {
                                    "0": "1992 Summer",
                                    "1": "167"
                                },
                                {
                                    "0": "1992 Winter",
                                    "1": "64"
                                },
                                {
                                    "0": "1994 Winter",
                                    "1": "67"
                                },
                                {
                                    "0": "1996 Summer",
                                    "1": "195"
                                },
                                {
                                    "0": "1998 Winter",
                                    "1": "72"
                                },
                                {
                                    "0": "2000 Summer",
                                    "1": "198"
                                },
                                {
                                    "0": "2002 Winter",
                                    "1": "76"
                                },
                                {
                                    "0": "2004 Summer",
                                    "1": "199"
                                },
                                {
                                    "0": "2006 Winter",
                                    "1": "78"
                                },
                                {
                                    "0": "2008 Summer",
                                    "1": "202"
                                },
                                {
                                    "0": "2010 Winter",
                                    "1": "81"
                                },
                                {
                                    "0": "2012 Summer",
                                    "1": "203"
                                },
                                {
                                    "0": "2014 Winter",
                                    "1": "88"
                                },
                                {
                                    "0": "2016 Summer",
                                    "1": "204"
                                }
                            ]
                        },
                        "text/html": [
                            "<table>",
                            "<tr><th>games</th><th>nations_participated</th></tr>",
                            "<tr><td>1896 Summer</td><td>12</td></tr>",
                            "<tr><td>1900 Summer</td><td>31</td></tr>",
                            "<tr><td>1904 Summer</td><td>14</td></tr>",
                            "<tr><td>1906 Summer</td><td>20</td></tr>",
                            "<tr><td>1908 Summer</td><td>22</td></tr>",
                            "<tr><td>1912 Summer</td><td>29</td></tr>",
                            "<tr><td>1920 Summer</td><td>29</td></tr>",
                            "<tr><td>1924 Summer</td><td>45</td></tr>",
                            "<tr><td>1924 Winter</td><td>19</td></tr>",
                            "<tr><td>1928 Summer</td><td>46</td></tr>",
                            "<tr><td>1928 Winter</td><td>25</td></tr>",
                            "<tr><td>1932 Summer</td><td>47</td></tr>",
                            "<tr><td>1932 Winter</td><td>17</td></tr>",
                            "<tr><td>1936 Summer</td><td>49</td></tr>",
                            "<tr><td>1936 Winter</td><td>28</td></tr>",
                            "<tr><td>1948 Summer</td><td>58</td></tr>",
                            "<tr><td>1948 Winter</td><td>28</td></tr>",
                            "<tr><td>1952 Summer</td><td>66</td></tr>",
                            "<tr><td>1952 Winter</td><td>30</td></tr>",
                            "<tr><td>1956 Summer</td><td>70</td></tr>",
                            "<tr><td>1956 Winter</td><td>32</td></tr>",
                            "<tr><td>1960 Summer</td><td>82</td></tr>",
                            "<tr><td>1960 Winter</td><td>30</td></tr>",
                            "<tr><td>1964 Summer</td><td>93</td></tr>",
                            "<tr><td>1964 Winter</td><td>36</td></tr>",
                            "<tr><td>1968 Summer</td><td>110</td></tr>",
                            "<tr><td>1968 Winter</td><td>36</td></tr>",
                            "<tr><td>1972 Summer</td><td>119</td></tr>",
                            "<tr><td>1972 Winter</td><td>34</td></tr>",
                            "<tr><td>1976 Summer</td><td>90</td></tr>",
                            "<tr><td>1976 Winter</td><td>36</td></tr>",
                            "<tr><td>1980 Summer</td><td>80</td></tr>",
                            "<tr><td>1980 Winter</td><td>36</td></tr>",
                            "<tr><td>1984 Summer</td><td>138</td></tr>",
                            "<tr><td>1984 Winter</td><td>48</td></tr>",
                            "<tr><td>1988 Summer</td><td>155</td></tr>",
                            "<tr><td>1988 Winter</td><td>56</td></tr>",
                            "<tr><td>1992 Summer</td><td>167</td></tr>",
                            "<tr><td>1992 Winter</td><td>64</td></tr>",
                            "<tr><td>1994 Winter</td><td>67</td></tr>",
                            "<tr><td>1996 Summer</td><td>195</td></tr>",
                            "<tr><td>1998 Winter</td><td>72</td></tr>",
                            "<tr><td>2000 Summer</td><td>198</td></tr>",
                            "<tr><td>2002 Winter</td><td>76</td></tr>",
                            "<tr><td>2004 Summer</td><td>199</td></tr>",
                            "<tr><td>2006 Winter</td><td>78</td></tr>",
                            "<tr><td>2008 Summer</td><td>202</td></tr>",
                            "<tr><td>2010 Winter</td><td>81</td></tr>",
                            "<tr><td>2012 Summer</td><td>203</td></tr>",
                            "<tr><td>2014 Winter</td><td>88</td></tr>",
                            "<tr><td>2016 Summer</td><td>204</td></tr>",
                            "</table>"
                        ]
                    }
                }
            ],
            "execution_count": 32
        },
        {
            "cell_type": "markdown",
            "source": [
                "*The following query returns the olympic games which had the highest participating countries and the lowest participating countries:*"
            ],
            "metadata": {
                "azdata_cell_guid": "1323652c-130c-4607-a4d3-366e11016256"
            }
        },
        {
            "cell_type": "code",
            "source": [
                "WITH games_nations_count AS\r\n",
                "(\r\n",
                "\tSELECT\r\n",
                "\t\tae.Games AS games,\r\n",
                "\t\tCOUNT(DISTINCT nr.Region) AS 'nations_participated'\r\n",
                "\tFROM\r\n",
                "\t\tdbo.AthleteEvents AS ae\r\n",
                "\t\tINNER JOIN dbo.NOCRegions AS nr ON ae.NOC = nr.NOC\r\n",
                "\tGROUP BY games\r\n",
                ")\r\n",
                "\r\n",
                "SELECT DISTINCT\r\n",
                "\tCONCAT(\r\n",
                "\t\tFIRST_VALUE(games) OVER (ORDER BY nations_participated),\r\n",
                "\t\t' : ' , \r\n",
                "\t\tFIRST_VALUE(nations_participated) OVER (ORDER BY nations_participated)\r\n",
                "\t) AS lowest_nations_participated,\r\n",
                "\tCONCAT(\r\n",
                "\t\tFIRST_VALUE(games) OVER (ORDER BY nations_participated DESC),\r\n",
                "\t\t' : ' , \r\n",
                "\t\tFIRST_VALUE(nations_participated) OVER (ORDER BY nations_participated DESC)\r\n",
                "\t) AS highest_nations_participated\r\n",
                "FROM\r\n",
                "    games_nations_count"
            ],
            "metadata": {
                "azdata_cell_guid": "d4a8a920-8da6-47a5-9ee6-227dc3934c00"
            },
            "outputs": [
                {
                    "output_type": "display_data",
                    "data": {
                        "text/html": "(1 row affected)"
                    },
                    "metadata": {}
                },
                {
                    "output_type": "display_data",
                    "data": {
                        "text/html": "Total execution time: 00:00:00.051"
                    },
                    "metadata": {}
                },
                {
                    "output_type": "execute_result",
                    "metadata": {},
                    "execution_count": 33,
                    "data": {
                        "application/vnd.dataresource+json": {
                            "schema": {
                                "fields": [
                                    {
                                        "name": "lowest_nations_participated"
                                    },
                                    {
                                        "name": "highest_nations_participated"
                                    }
                                ]
                            },
                            "data": [
                                {
                                    "0": "1896 Summer : 12",
                                    "1": "2016 Summer : 204"
                                }
                            ]
                        },
                        "text/html": [
                            "<table>",
                            "<tr><th>lowest_nations_participated</th><th>highest_nations_participated</th></tr>",
                            "<tr><td>1896 Summer : 12</td><td>2016 Summer : 204</td></tr>",
                            "</table>"
                        ]
                    }
                }
            ],
            "execution_count": 33
        },
        {
            "cell_type": "markdown",
            "source": [
                "*The following query returns the list of countries who have been part of every olympics games:*"
            ],
            "metadata": {
                "azdata_cell_guid": "1d811d62-053d-4c0a-b791-11f728c111b4"
            }
        },
        {
            "cell_type": "code",
            "source": [
                "WITH games_and_nations AS\r\n",
                "(\r\n",
                "\tSELECT\r\n",
                "\t\tae.Games AS games,\r\n",
                "\t\tnr.Region AS 'nations_participated'\r\n",
                "\tFROM\r\n",
                "\t\tdbo.AthleteEvents AS ae\r\n",
                "\t\tINNER JOIN dbo.NOCRegions AS nr ON ae.NOC = nr.NOC\r\n",
                ")\r\n",
                "\r\n",
                "\r\n",
                "SELECT \r\n",
                "\tnations_participated,\r\n",
                "\tCOUNT(distinct games) as 'no_of_games_participated'\r\n",
                "FROM\r\n",
                "\tgames_and_nations\r\n",
                "GROUP BY\r\n",
                "    nations_participated\r\n",
                "HAVING\r\n",
                "    COUNT(distinct games) = (SELECT COUNT(DISTINCT games) FROM games_and_nations)"
            ],
            "metadata": {
                "azdata_cell_guid": "73630aaf-388c-44bd-b3d8-175a3beba342"
            },
            "outputs": [
                {
                    "output_type": "display_data",
                    "data": {
                        "text/html": "(4 rows affected)"
                    },
                    "metadata": {}
                },
                {
                    "output_type": "display_data",
                    "data": {
                        "text/html": "Total execution time: 00:00:00.072"
                    },
                    "metadata": {}
                },
                {
                    "output_type": "execute_result",
                    "metadata": {},
                    "execution_count": 8,
                    "data": {
                        "application/vnd.dataresource+json": {
                            "schema": {
                                "fields": [
                                    {
                                        "name": "nations_participated"
                                    },
                                    {
                                        "name": "no_of_games_participated"
                                    }
                                ]
                            },
                            "data": [
                                {
                                    "0": "Switzerland",
                                    "1": "51"
                                },
                                {
                                    "0": "Italy",
                                    "1": "51"
                                },
                                {
                                    "0": "France",
                                    "1": "51"
                                },
                                {
                                    "0": "UK",
                                    "1": "51"
                                }
                            ]
                        },
                        "text/html": [
                            "<table>",
                            "<tr><th>nations_participated</th><th>no_of_games_participated</th></tr>",
                            "<tr><td>Switzerland</td><td>51</td></tr>",
                            "<tr><td>Italy</td><td>51</td></tr>",
                            "<tr><td>France</td><td>51</td></tr>",
                            "<tr><td>UK</td><td>51</td></tr>",
                            "</table>"
                        ]
                    }
                }
            ],
            "execution_count": 8
        },
        {
            "cell_type": "markdown",
            "source": [
                "*The followung query returns the list of all sports which have been part of every summer olympics*"
            ],
            "metadata": {
                "azdata_cell_guid": "7f4cfba4-a28b-41ee-9e64-b7f63dd73eaa"
            }
        },
        {
            "cell_type": "code",
            "source": [
                "WITH t1 AS\r\n",
                "(\r\n",
                "\tSELECT\r\n",
                "\t\tSport,\r\n",
                "\t\tCOUNT(DISTINCT Games) AS 'no_of_summer_games'\r\n",
                "\tFROM\r\n",
                "\t\tdbo.AthleteEvents\r\n",
                "\tWHERE\r\n",
                "\t\tSeason = 'Summer'\r\n",
                "\tGROUP BY\r\n",
                "\t\tSport\r\n",
                "),\r\n",
                "\r\n",
                "t2 AS\r\n",
                "(\r\n",
                "\tSELECT\r\n",
                "\t\tCOUNT(DISTINCT Games) AS 'total_summer_games'\r\n",
                "\tFROM\r\n",
                "\t\tdbo.AthleteEvents \r\n",
                "\tWHERE\r\n",
                "\t\tSeason='Summer'\r\n",
                ")\r\n",
                "\r\n",
                "SELECT\r\n",
                "\t* \r\n",
                "FROM \r\n",
                "\tt1\r\n",
                "    INNER JOIN t2 ON t1.no_of_summer_games = t2.total_summer_games"
            ],
            "metadata": {
                "azdata_cell_guid": "7d01e252-32f5-4f4b-ae3d-81d48a0b2710"
            },
            "outputs": [
                {
                    "output_type": "display_data",
                    "data": {
                        "text/html": "(5 rows affected)"
                    },
                    "metadata": {}
                },
                {
                    "output_type": "display_data",
                    "data": {
                        "text/html": "Total execution time: 00:00:00.108"
                    },
                    "metadata": {}
                },
                {
                    "output_type": "execute_result",
                    "metadata": {},
                    "execution_count": 34,
                    "data": {
                        "application/vnd.dataresource+json": {
                            "schema": {
                                "fields": [
                                    {
                                        "name": "Sport"
                                    },
                                    {
                                        "name": "no_of_summer_games"
                                    },
                                    {
                                        "name": "total_summer_games"
                                    }
                                ]
                            },
                            "data": [
                                {
                                    "0": "Fencing",
                                    "1": "29",
                                    "2": "29"
                                },
                                {
                                    "0": "Athletics",
                                    "1": "29",
                                    "2": "29"
                                },
                                {
                                    "0": "Cycling",
                                    "1": "29",
                                    "2": "29"
                                },
                                {
                                    "0": "Swimming",
                                    "1": "29",
                                    "2": "29"
                                },
                                {
                                    "0": "Gymnastics",
                                    "1": "29",
                                    "2": "29"
                                }
                            ]
                        },
                        "text/html": [
                            "<table>",
                            "<tr><th>Sport</th><th>no_of_summer_games</th><th>total_summer_games</th></tr>",
                            "<tr><td>Fencing</td><td>29</td><td>29</td></tr>",
                            "<tr><td>Athletics</td><td>29</td><td>29</td></tr>",
                            "<tr><td>Cycling</td><td>29</td><td>29</td></tr>",
                            "<tr><td>Swimming</td><td>29</td><td>29</td></tr>",
                            "<tr><td>Gymnastics</td><td>29</td><td>29</td></tr>",
                            "</table>"
                        ]
                    }
                }
            ],
            "execution_count": 34
        },
        {
            "cell_type": "markdown",
            "source": [
                "*The followung query returns the list of all sports which were just played once in all of olympics*"
            ],
            "metadata": {
                "azdata_cell_guid": "4d0821c0-eb91-4eb5-95f5-26091e56ead6"
            }
        },
        {
            "cell_type": "code",
            "source": [
                "WITH t1 AS\r\n",
                "(\r\n",
                "\tSELECT\r\n",
                "\t\tSport,\r\n",
                "\t\tCOUNT(DISTINCT Games) AS 'total_games_played'\r\n",
                "\tFROM\r\n",
                "\t\tdbo.AthleteEvents\r\n",
                "\tGROUP BY\r\n",
                "\t\tSport\r\n",
                "\tHAVING\r\n",
                "\t\tCOUNT(DISTINCT Games) = 1\r\n",
                "),\r\n",
                "\r\n",
                "t2 AS\r\n",
                "(\r\n",
                "\tSELECT DISTINCT\r\n",
                "\t\tSport,\r\n",
                "\t\tGames\r\n",
                "\tFROM\r\n",
                "\t\tdbo.AthleteEvents\r\n",
                ")\r\n",
                "\r\n",
                "SELECT \r\n",
                "\tt1.*, \r\n",
                "    t2.Games\r\n",
                "FROM \r\n",
                "\tt1\r\n",
                "    INNER JOIN t2 ON t1.Sport = t2.Sport\r\n",
                "ORDER BY\r\n",
                "\tt1.Sport"
            ],
            "metadata": {
                "azdata_cell_guid": "59d9acde-05e5-46c9-996b-07885cc23637"
            },
            "outputs": [
                {
                    "output_type": "display_data",
                    "data": {
                        "text/html": "(10 rows affected)"
                    },
                    "metadata": {}
                },
                {
                    "output_type": "display_data",
                    "data": {
                        "text/html": "Total execution time: 00:00:00.053"
                    },
                    "metadata": {}
                },
                {
                    "output_type": "execute_result",
                    "metadata": {},
                    "execution_count": 35,
                    "data": {
                        "application/vnd.dataresource+json": {
                            "schema": {
                                "fields": [
                                    {
                                        "name": "Sport"
                                    },
                                    {
                                        "name": "total_games_played"
                                    },
                                    {
                                        "name": "Games"
                                    }
                                ]
                            },
                            "data": [
                                {
                                    "0": "Aeronautics",
                                    "1": "1",
                                    "2": "1936 Summer"
                                },
                                {
                                    "0": "Basque Pelota",
                                    "1": "1",
                                    "2": "1900 Summer"
                                },
                                {
                                    "0": "Cricket",
                                    "1": "1",
                                    "2": "1900 Summer"
                                },
                                {
                                    "0": "Croquet",
                                    "1": "1",
                                    "2": "1900 Summer"
                                },
                                {
                                    "0": "Jeu De Paume",
                                    "1": "1",
                                    "2": "1908 Summer"
                                },
                                {
                                    "0": "Military Ski Patrol",
                                    "1": "1",
                                    "2": "1924 Winter"
                                },
                                {
                                    "0": "Motorboating",
                                    "1": "1",
                                    "2": "1908 Summer"
                                },
                                {
                                    "0": "Racquets",
                                    "1": "1",
                                    "2": "1908 Summer"
                                },
                                {
                                    "0": "Roque",
                                    "1": "1",
                                    "2": "1904 Summer"
                                },
                                {
                                    "0": "Rugby Sevens",
                                    "1": "1",
                                    "2": "2016 Summer"
                                }
                            ]
                        },
                        "text/html": [
                            "<table>",
                            "<tr><th>Sport</th><th>total_games_played</th><th>Games</th></tr>",
                            "<tr><td>Aeronautics</td><td>1</td><td>1936 Summer</td></tr>",
                            "<tr><td>Basque Pelota</td><td>1</td><td>1900 Summer</td></tr>",
                            "<tr><td>Cricket</td><td>1</td><td>1900 Summer</td></tr>",
                            "<tr><td>Croquet</td><td>1</td><td>1900 Summer</td></tr>",
                            "<tr><td>Jeu De Paume</td><td>1</td><td>1908 Summer</td></tr>",
                            "<tr><td>Military Ski Patrol</td><td>1</td><td>1924 Winter</td></tr>",
                            "<tr><td>Motorboating</td><td>1</td><td>1908 Summer</td></tr>",
                            "<tr><td>Racquets</td><td>1</td><td>1908 Summer</td></tr>",
                            "<tr><td>Roque</td><td>1</td><td>1904 Summer</td></tr>",
                            "<tr><td>Rugby Sevens</td><td>1</td><td>2016 Summer</td></tr>",
                            "</table>"
                        ]
                    }
                }
            ],
            "execution_count": 35
        },
        {
            "cell_type": "markdown",
            "source": [
                "*The followung query returns the total no of sports played in each olympics*"
            ],
            "metadata": {
                "azdata_cell_guid": "32995574-f8aa-4533-8cfc-039fbf009373"
            }
        },
        {
            "cell_type": "code",
            "source": [
                "SELECT\r\n",
                "\tGames,\r\n",
                "\tCOUNT(DISTINCT Sport) AS 'total_sports_played'\r\n",
                "FROM\r\n",
                "\tdbo.AthleteEvents\r\n",
                "GROUP BY\r\n",
                "\tGames\r\n",
                "ORDER BY\r\n",
                "    Games"
            ],
            "metadata": {
                "azdata_cell_guid": "f1ae947d-0903-47ab-bc95-c0e7eb156c89",
                "tags": []
            },
            "outputs": [
                {
                    "output_type": "display_data",
                    "data": {
                        "text/html": "(51 rows affected)"
                    },
                    "metadata": {}
                },
                {
                    "output_type": "display_data",
                    "data": {
                        "text/html": "Total execution time: 00:00:02.228"
                    },
                    "metadata": {}
                },
                {
                    "output_type": "execute_result",
                    "metadata": {},
                    "execution_count": 36,
                    "data": {
                        "application/vnd.dataresource+json": {
                            "schema": {
                                "fields": [
                                    {
                                        "name": "Games"
                                    },
                                    {
                                        "name": "total_sports_played"
                                    }
                                ]
                            },
                            "data": [
                                {
                                    "0": "1896 Summer",
                                    "1": "9"
                                },
                                {
                                    "0": "1900 Summer",
                                    "1": "20"
                                },
                                {
                                    "0": "1904 Summer",
                                    "1": "18"
                                },
                                {
                                    "0": "1906 Summer",
                                    "1": "13"
                                },
                                {
                                    "0": "1908 Summer",
                                    "1": "24"
                                },
                                {
                                    "0": "1912 Summer",
                                    "1": "17"
                                },
                                {
                                    "0": "1920 Summer",
                                    "1": "25"
                                },
                                {
                                    "0": "1924 Summer",
                                    "1": "20"
                                },
                                {
                                    "0": "1924 Winter",
                                    "1": "10"
                                },
                                {
                                    "0": "1928 Summer",
                                    "1": "17"
                                },
                                {
                                    "0": "1928 Winter",
                                    "1": "8"
                                },
                                {
                                    "0": "1932 Summer",
                                    "1": "18"
                                },
                                {
                                    "0": "1932 Winter",
                                    "1": "7"
                                },
                                {
                                    "0": "1936 Summer",
                                    "1": "24"
                                },
                                {
                                    "0": "1936 Winter",
                                    "1": "8"
                                },
                                {
                                    "0": "1948 Summer",
                                    "1": "20"
                                },
                                {
                                    "0": "1948 Winter",
                                    "1": "9"
                                },
                                {
                                    "0": "1952 Summer",
                                    "1": "19"
                                },
                                {
                                    "0": "1952 Winter",
                                    "1": "8"
                                },
                                {
                                    "0": "1956 Summer",
                                    "1": "19"
                                },
                                {
                                    "0": "1956 Winter",
                                    "1": "8"
                                },
                                {
                                    "0": "1960 Summer",
                                    "1": "19"
                                },
                                {
                                    "0": "1960 Winter",
                                    "1": "8"
                                },
                                {
                                    "0": "1964 Summer",
                                    "1": "21"
                                },
                                {
                                    "0": "1964 Winter",
                                    "1": "10"
                                },
                                {
                                    "0": "1968 Summer",
                                    "1": "20"
                                },
                                {
                                    "0": "1968 Winter",
                                    "1": "10"
                                },
                                {
                                    "0": "1972 Summer",
                                    "1": "23"
                                },
                                {
                                    "0": "1972 Winter",
                                    "1": "10"
                                },
                                {
                                    "0": "1976 Summer",
                                    "1": "23"
                                },
                                {
                                    "0": "1976 Winter",
                                    "1": "10"
                                },
                                {
                                    "0": "1980 Summer",
                                    "1": "23"
                                },
                                {
                                    "0": "1980 Winter",
                                    "1": "10"
                                },
                                {
                                    "0": "1984 Summer",
                                    "1": "25"
                                },
                                {
                                    "0": "1984 Winter",
                                    "1": "10"
                                },
                                {
                                    "0": "1988 Summer",
                                    "1": "27"
                                },
                                {
                                    "0": "1988 Winter",
                                    "1": "10"
                                },
                                {
                                    "0": "1992 Summer",
                                    "1": "29"
                                },
                                {
                                    "0": "1992 Winter",
                                    "1": "12"
                                },
                                {
                                    "0": "1994 Winter",
                                    "1": "12"
                                },
                                {
                                    "0": "1996 Summer",
                                    "1": "31"
                                },
                                {
                                    "0": "1998 Winter",
                                    "1": "14"
                                },
                                {
                                    "0": "2000 Summer",
                                    "1": "34"
                                },
                                {
                                    "0": "2002 Winter",
                                    "1": "15"
                                },
                                {
                                    "0": "2004 Summer",
                                    "1": "34"
                                },
                                {
                                    "0": "2006 Winter",
                                    "1": "15"
                                },
                                {
                                    "0": "2008 Summer",
                                    "1": "34"
                                },
                                {
                                    "0": "2010 Winter",
                                    "1": "15"
                                },
                                {
                                    "0": "2012 Summer",
                                    "1": "32"
                                },
                                {
                                    "0": "2014 Winter",
                                    "1": "15"
                                },
                                {
                                    "0": "2016 Summer",
                                    "1": "34"
                                }
                            ]
                        },
                        "text/html": [
                            "<table>",
                            "<tr><th>Games</th><th>total_sports_played</th></tr>",
                            "<tr><td>1896 Summer</td><td>9</td></tr>",
                            "<tr><td>1900 Summer</td><td>20</td></tr>",
                            "<tr><td>1904 Summer</td><td>18</td></tr>",
                            "<tr><td>1906 Summer</td><td>13</td></tr>",
                            "<tr><td>1908 Summer</td><td>24</td></tr>",
                            "<tr><td>1912 Summer</td><td>17</td></tr>",
                            "<tr><td>1920 Summer</td><td>25</td></tr>",
                            "<tr><td>1924 Summer</td><td>20</td></tr>",
                            "<tr><td>1924 Winter</td><td>10</td></tr>",
                            "<tr><td>1928 Summer</td><td>17</td></tr>",
                            "<tr><td>1928 Winter</td><td>8</td></tr>",
                            "<tr><td>1932 Summer</td><td>18</td></tr>",
                            "<tr><td>1932 Winter</td><td>7</td></tr>",
                            "<tr><td>1936 Summer</td><td>24</td></tr>",
                            "<tr><td>1936 Winter</td><td>8</td></tr>",
                            "<tr><td>1948 Summer</td><td>20</td></tr>",
                            "<tr><td>1948 Winter</td><td>9</td></tr>",
                            "<tr><td>1952 Summer</td><td>19</td></tr>",
                            "<tr><td>1952 Winter</td><td>8</td></tr>",
                            "<tr><td>1956 Summer</td><td>19</td></tr>",
                            "<tr><td>1956 Winter</td><td>8</td></tr>",
                            "<tr><td>1960 Summer</td><td>19</td></tr>",
                            "<tr><td>1960 Winter</td><td>8</td></tr>",
                            "<tr><td>1964 Summer</td><td>21</td></tr>",
                            "<tr><td>1964 Winter</td><td>10</td></tr>",
                            "<tr><td>1968 Summer</td><td>20</td></tr>",
                            "<tr><td>1968 Winter</td><td>10</td></tr>",
                            "<tr><td>1972 Summer</td><td>23</td></tr>",
                            "<tr><td>1972 Winter</td><td>10</td></tr>",
                            "<tr><td>1976 Summer</td><td>23</td></tr>",
                            "<tr><td>1976 Winter</td><td>10</td></tr>",
                            "<tr><td>1980 Summer</td><td>23</td></tr>",
                            "<tr><td>1980 Winter</td><td>10</td></tr>",
                            "<tr><td>1984 Summer</td><td>25</td></tr>",
                            "<tr><td>1984 Winter</td><td>10</td></tr>",
                            "<tr><td>1988 Summer</td><td>27</td></tr>",
                            "<tr><td>1988 Winter</td><td>10</td></tr>",
                            "<tr><td>1992 Summer</td><td>29</td></tr>",
                            "<tr><td>1992 Winter</td><td>12</td></tr>",
                            "<tr><td>1994 Winter</td><td>12</td></tr>",
                            "<tr><td>1996 Summer</td><td>31</td></tr>",
                            "<tr><td>1998 Winter</td><td>14</td></tr>",
                            "<tr><td>2000 Summer</td><td>34</td></tr>",
                            "<tr><td>2002 Winter</td><td>15</td></tr>",
                            "<tr><td>2004 Summer</td><td>34</td></tr>",
                            "<tr><td>2006 Winter</td><td>15</td></tr>",
                            "<tr><td>2008 Summer</td><td>34</td></tr>",
                            "<tr><td>2010 Winter</td><td>15</td></tr>",
                            "<tr><td>2012 Summer</td><td>32</td></tr>",
                            "<tr><td>2014 Winter</td><td>15</td></tr>",
                            "<tr><td>2016 Summer</td><td>34</td></tr>",
                            "</table>"
                        ]
                    }
                }
            ],
            "execution_count": 36
        },
        {
            "cell_type": "markdown",
            "source": [
                "*The followung query returns the details of the oldest athletes to win a gold medal at the olympics*"
            ],
            "metadata": {
                "azdata_cell_guid": "6a8cb4ac-0d4a-4541-aac9-46a8d3b967c5"
            }
        },
        {
            "cell_type": "code",
            "source": [
                "SELECT\r\n",
                "\t*\r\n",
                "FROM\r\n",
                "\tdbo.AthleteEvents\r\n",
                "WHERE\r\n",
                "\tMedal = 'Gold' AND\r\n",
                "\tAge = (SELECT MAX(Age) FROM dbo.AthleteEvents WHERE Medal='Gold')"
            ],
            "metadata": {
                "azdata_cell_guid": "90fb825f-33c8-470a-884c-8a43eab6a6ab"
            },
            "outputs": [
                {
                    "output_type": "display_data",
                    "data": {
                        "text/html": "(2 rows affected)"
                    },
                    "metadata": {}
                },
                {
                    "output_type": "display_data",
                    "data": {
                        "text/html": "Total execution time: 00:00:00.034"
                    },
                    "metadata": {}
                },
                {
                    "output_type": "execute_result",
                    "metadata": {},
                    "execution_count": 14,
                    "data": {
                        "application/vnd.dataresource+json": {
                            "schema": {
                                "fields": [
                                    {
                                        "name": "ID"
                                    },
                                    {
                                        "name": "Name"
                                    },
                                    {
                                        "name": "Sex"
                                    },
                                    {
                                        "name": "Age"
                                    },
                                    {
                                        "name": "Height"
                                    },
                                    {
                                        "name": "Weight"
                                    },
                                    {
                                        "name": "Team"
                                    },
                                    {
                                        "name": "NOC"
                                    },
                                    {
                                        "name": "Year"
                                    },
                                    {
                                        "name": "Games"
                                    },
                                    {
                                        "name": "Season"
                                    },
                                    {
                                        "name": "City"
                                    },
                                    {
                                        "name": "Sport"
                                    },
                                    {
                                        "name": "Event"
                                    },
                                    {
                                        "name": "Medal"
                                    }
                                ]
                            },
                            "data": [
                                {
                                    "0": "117046",
                                    "1": "Oscar Gomer Swahn",
                                    "2": "M",
                                    "3": "64",
                                    "4": "NULL",
                                    "5": "NULL",
                                    "6": "Sweden",
                                    "7": "SWE",
                                    "8": "1912",
                                    "9": "1912 Summer",
                                    "10": "Summer",
                                    "11": "Stockholm",
                                    "12": "Shooting",
                                    "13": "Shooting Men's Running Target, Single Shot, Team",
                                    "14": "Gold"
                                },
                                {
                                    "0": "53238",
                                    "1": "Charles Jacobus",
                                    "2": "M",
                                    "3": "64",
                                    "4": "NULL",
                                    "5": "NULL",
                                    "6": "United States",
                                    "7": "USA",
                                    "8": "1904",
                                    "9": "1904 Summer",
                                    "10": "Summer",
                                    "11": "St. Louis",
                                    "12": "Roque",
                                    "13": "Roque Men's Singles",
                                    "14": "Gold"
                                }
                            ]
                        },
                        "text/html": [
                            "<table>",
                            "<tr><th>ID</th><th>Name</th><th>Sex</th><th>Age</th><th>Height</th><th>Weight</th><th>Team</th><th>NOC</th><th>Year</th><th>Games</th><th>Season</th><th>City</th><th>Sport</th><th>Event</th><th>Medal</th></tr>",
                            "<tr><td>117046</td><td>Oscar Gomer Swahn</td><td>M</td><td>64</td><td>NULL</td><td>NULL</td><td>Sweden</td><td>SWE</td><td>1912</td><td>1912 Summer</td><td>Summer</td><td>Stockholm</td><td>Shooting</td><td>Shooting Men's Running Target, Single Shot, Team</td><td>Gold</td></tr>",
                            "<tr><td>53238</td><td>Charles Jacobus</td><td>M</td><td>64</td><td>NULL</td><td>NULL</td><td>United States</td><td>USA</td><td>1904</td><td>1904 Summer</td><td>Summer</td><td>St. Louis</td><td>Roque</td><td>Roque Men's Singles</td><td>Gold</td></tr>",
                            "</table>"
                        ]
                    }
                }
            ],
            "execution_count": 14
        },
        {
            "cell_type": "markdown",
            "source": [
                "*The followung query returns the details of the third oldest athletes to win a gold medal at the olympics*"
            ],
            "metadata": {
                "azdata_cell_guid": "2a0db68d-a1ba-41a1-899d-3ff4b7c1cafe"
            }
        },
        {
            "cell_type": "code",
            "source": [
                "WITH t1 AS\r\n",
                "(\r\n",
                "\tSELECT\r\n",
                "\t\t*, \r\n",
                "\t\tDENSE_RANK() OVER (ORDER BY Age DESC) AS 'age_rank'\r\n",
                "\tFROM\r\n",
                "\t\tdbo.AthleteEvents\r\n",
                "\tWHERE\r\n",
                "\t\tMedal = 'Gold'\r\n",
                ")\r\n",
                "\r\n",
                "SELECT\r\n",
                "    *\r\n",
                "FROM\r\n",
                "    t1\r\n",
                "WHERE\r\n",
                "    age_rank = 3"
            ],
            "metadata": {
                "azdata_cell_guid": "eb4aa857-b829-4cbf-bbc4-5f100f1af72b"
            },
            "outputs": [
                {
                    "output_type": "display_data",
                    "data": {
                        "text/html": "(4 rows affected)"
                    },
                    "metadata": {}
                },
                {
                    "output_type": "display_data",
                    "data": {
                        "text/html": "Total execution time: 00:00:00.087"
                    },
                    "metadata": {}
                },
                {
                    "output_type": "execute_result",
                    "metadata": {},
                    "execution_count": 38,
                    "data": {
                        "application/vnd.dataresource+json": {
                            "schema": {
                                "fields": [
                                    {
                                        "name": "ID"
                                    },
                                    {
                                        "name": "Name"
                                    },
                                    {
                                        "name": "Sex"
                                    },
                                    {
                                        "name": "Age"
                                    },
                                    {
                                        "name": "Height"
                                    },
                                    {
                                        "name": "Weight"
                                    },
                                    {
                                        "name": "Team"
                                    },
                                    {
                                        "name": "NOC"
                                    },
                                    {
                                        "name": "Year"
                                    },
                                    {
                                        "name": "Games"
                                    },
                                    {
                                        "name": "Season"
                                    },
                                    {
                                        "name": "City"
                                    },
                                    {
                                        "name": "Sport"
                                    },
                                    {
                                        "name": "Event"
                                    },
                                    {
                                        "name": "Medal"
                                    },
                                    {
                                        "name": "age_rank"
                                    }
                                ]
                            },
                            "data": [
                                {
                                    "0": "79961",
                                    "1": "Joshua Kearney Millner",
                                    "2": "M",
                                    "3": "60",
                                    "4": "NULL",
                                    "5": "NULL",
                                    "6": "Great Britain",
                                    "7": "GBR",
                                    "8": "1908",
                                    "9": "1908 Summer",
                                    "10": "Summer",
                                    "11": "London",
                                    "12": "Shooting",
                                    "13": "Shooting Men's Free Rifle, 1,000 Yards",
                                    "14": "Gold",
                                    "15": "3"
                                },
                                {
                                    "0": "130936",
                                    "1": "Walter Winans",
                                    "2": "M",
                                    "3": "60",
                                    "4": "NULL",
                                    "5": "NULL",
                                    "6": "United States",
                                    "7": "USA",
                                    "8": "1912",
                                    "9": "1912 Summer",
                                    "10": "Summer",
                                    "11": "Stockholm",
                                    "12": "Art Competitions",
                                    "13": "Art Competitions Mixed Sculpturing",
                                    "14": "Gold",
                                    "15": "3"
                                },
                                {
                                    "0": "117046",
                                    "1": "Oscar Gomer Swahn",
                                    "2": "M",
                                    "3": "60",
                                    "4": "NULL",
                                    "5": "NULL",
                                    "6": "Sweden",
                                    "7": "SWE",
                                    "8": "1908",
                                    "9": "1908 Summer",
                                    "10": "Summer",
                                    "11": "London",
                                    "12": "Shooting",
                                    "13": "Shooting Men's Running Target, Single Shot",
                                    "14": "Gold",
                                    "15": "3"
                                },
                                {
                                    "0": "117046",
                                    "1": "Oscar Gomer Swahn",
                                    "2": "M",
                                    "3": "60",
                                    "4": "NULL",
                                    "5": "NULL",
                                    "6": "Sweden",
                                    "7": "SWE",
                                    "8": "1908",
                                    "9": "1908 Summer",
                                    "10": "Summer",
                                    "11": "London",
                                    "12": "Shooting",
                                    "13": "Shooting Men's Running Target, Single Shot, Team",
                                    "14": "Gold",
                                    "15": "3"
                                }
                            ]
                        },
                        "text/html": [
                            "<table>",
                            "<tr><th>ID</th><th>Name</th><th>Sex</th><th>Age</th><th>Height</th><th>Weight</th><th>Team</th><th>NOC</th><th>Year</th><th>Games</th><th>Season</th><th>City</th><th>Sport</th><th>Event</th><th>Medal</th><th>age_rank</th></tr>",
                            "<tr><td>79961</td><td>Joshua Kearney Millner</td><td>M</td><td>60</td><td>NULL</td><td>NULL</td><td>Great Britain</td><td>GBR</td><td>1908</td><td>1908 Summer</td><td>Summer</td><td>London</td><td>Shooting</td><td>Shooting Men's Free Rifle, 1,000 Yards</td><td>Gold</td><td>3</td></tr>",
                            "<tr><td>130936</td><td>Walter Winans</td><td>M</td><td>60</td><td>NULL</td><td>NULL</td><td>United States</td><td>USA</td><td>1912</td><td>1912 Summer</td><td>Summer</td><td>Stockholm</td><td>Art Competitions</td><td>Art Competitions Mixed Sculpturing</td><td>Gold</td><td>3</td></tr>",
                            "<tr><td>117046</td><td>Oscar Gomer Swahn</td><td>M</td><td>60</td><td>NULL</td><td>NULL</td><td>Sweden</td><td>SWE</td><td>1908</td><td>1908 Summer</td><td>Summer</td><td>London</td><td>Shooting</td><td>Shooting Men's Running Target, Single Shot</td><td>Gold</td><td>3</td></tr>",
                            "<tr><td>117046</td><td>Oscar Gomer Swahn</td><td>M</td><td>60</td><td>NULL</td><td>NULL</td><td>Sweden</td><td>SWE</td><td>1908</td><td>1908 Summer</td><td>Summer</td><td>London</td><td>Shooting</td><td>Shooting Men's Running Target, Single Shot, Team</td><td>Gold</td><td>3</td></tr>",
                            "</table>"
                        ]
                    }
                }
            ],
            "execution_count": 38
        },
        {
            "cell_type": "markdown",
            "source": [
                "*The followung query returns the ratio of male and female participants*"
            ],
            "metadata": {
                "azdata_cell_guid": "f17f97b2-a055-4448-b2ad-6fe6720bb038"
            }
        },
        {
            "cell_type": "code",
            "source": [
                "WITH olympic_players AS\r\n",
                "(\r\n",
                "\tSELECT DISTINCT\r\n",
                "\t\tSex,\r\n",
                "\t\tCOUNT(Sex) OVER ( PARTITION BY Sex) as 'no_of_players'\r\n",
                "\tFROM\r\n",
                "\t\tdbo.AthleteEvents\r\n",
                "),\r\n",
                "\r\n",
                "male_players AS\r\n",
                "(\r\n",
                "\tSELECT \r\n",
                "\t\tno_of_players \r\n",
                "\tFROM\r\n",
                "\t\tolympic_players\r\n",
                "\tWHERE\r\n",
                "\t\tSex='M'\r\n",
                "),\r\n",
                "\r\n",
                "female_players AS\r\n",
                "(\r\n",
                "\tSELECT \r\n",
                "\t\tno_of_players \r\n",
                "\tFROM\r\n",
                "\t\tolympic_players\r\n",
                "\tWHERE\r\n",
                "\t\tSex='F'\r\n",
                ")\r\n",
                "\r\n",
                "SELECT \r\n",
                "\tmp.no_of_players AS no_of_male_players,\r\n",
                "\tfp.no_of_players AS no_of_female_players,\r\n",
                "\t'1 : ' + CAST(ROUND(CAST(mp.no_of_players AS decimal)/fp.no_of_players,2) AS varchar) AS ratio\r\n",
                "FROM \r\n",
                "\tmale_players mp,\r\n",
                "\tfemale_players fp"
            ],
            "metadata": {
                "azdata_cell_guid": "e12e5231-d269-4f6a-b741-e4003a01a0f1"
            },
            "outputs": [
                {
                    "output_type": "display_data",
                    "data": {
                        "text/html": "(1 row affected)"
                    },
                    "metadata": {}
                },
                {
                    "output_type": "display_data",
                    "data": {
                        "text/html": "Total execution time: 00:00:00.259"
                    },
                    "metadata": {}
                },
                {
                    "output_type": "execute_result",
                    "metadata": {},
                    "execution_count": 17,
                    "data": {
                        "application/vnd.dataresource+json": {
                            "schema": {
                                "fields": [
                                    {
                                        "name": "no_of_male_players"
                                    },
                                    {
                                        "name": "no_of_female_players"
                                    },
                                    {
                                        "name": "ratio"
                                    }
                                ]
                            },
                            "data": [
                                {
                                    "0": "196594",
                                    "1": "74522",
                                    "2": "1 : 2.64000000000"
                                }
                            ]
                        },
                        "text/html": [
                            "<table>",
                            "<tr><th>no_of_male_players</th><th>no_of_female_players</th><th>ratio</th></tr>",
                            "<tr><td>196594</td><td>74522</td><td>1 : 2.64000000000</td></tr>",
                            "</table>"
                        ]
                    }
                }
            ],
            "execution_count": 17
        },
        {
            "cell_type": "markdown",
            "source": [
                "*The followung query returns the top 5 athletes who have won the most gold medals:*"
            ],
            "metadata": {
                "azdata_cell_guid": "aedb0ea5-83d9-45f3-81cc-91af6e8bb9b7"
            }
        },
        {
            "cell_type": "code",
            "source": [
                "WITH gold_winners AS\r\n",
                "(\r\n",
                "\tSELECT\r\n",
                "\t\tName,\r\n",
                "\t\tTeam,\r\n",
                "\t\tCOUNT(Medal) AS 'gold_medals_won'\r\n",
                "\tFROM\r\n",
                "\t\tdbo.AthleteEvents\r\n",
                "\tWHERE\r\n",
                "\t\tMedal = 'Gold'\r\n",
                "\tGROUP BY\r\n",
                "\t\tName, Team\r\n",
                ")\r\n",
                "\r\n",
                "SELECT\r\n",
                "\tName,\r\n",
                "    Team,\r\n",
                "    gold_medals_won\r\n",
                "FROM\r\n",
                "\t(\r\n",
                "\t\tSELECT\r\n",
                "\t\t\t*,\r\n",
                "\t\t\tDENSE_RANK() OVER (ORDER BY gold_medals_won DESC) AS 'winner_rank'\r\n",
                "\t\tFROM\r\n",
                "\t\t\tgold_winners\r\n",
                "\t) AS ranking_table\r\n",
                "WHERE\r\n",
                "\tranking_table.winner_rank <= 5\r\n",
                "ORDER BY\r\n",
                "\twinner_rank"
            ],
            "metadata": {
                "azdata_cell_guid": "918b192c-4cbe-43a6-8e81-51afc3851fa7"
            },
            "outputs": [
                {
                    "output_type": "display_data",
                    "data": {
                        "text/html": "(17 rows affected)"
                    },
                    "metadata": {}
                },
                {
                    "output_type": "display_data",
                    "data": {
                        "text/html": "Total execution time: 00:00:00.088"
                    },
                    "metadata": {}
                },
                {
                    "output_type": "execute_result",
                    "metadata": {},
                    "execution_count": 21,
                    "data": {
                        "application/vnd.dataresource+json": {
                            "schema": {
                                "fields": [
                                    {
                                        "name": "Name"
                                    },
                                    {
                                        "name": "Team"
                                    },
                                    {
                                        "name": "gold_medals_won"
                                    }
                                ]
                            },
                            "data": [
                                {
                                    "0": "Michael Fred Phelps, II",
                                    "1": "United States",
                                    "2": "23"
                                },
                                {
                                    "0": "Raymond Clarence \"Ray\" Ewry",
                                    "1": "United States",
                                    "2": "10"
                                },
                                {
                                    "0": "Frederick Carlton \"Carl\" Lewis",
                                    "1": "United States",
                                    "2": "9"
                                },
                                {
                                    "0": "Paavo Johannes Nurmi",
                                    "1": "Finland",
                                    "2": "9"
                                },
                                {
                                    "0": "Larysa Semenivna Latynina (Diriy-)",
                                    "1": "Soviet Union",
                                    "2": "9"
                                },
                                {
                                    "0": "Mark Andrew Spitz",
                                    "1": "United States",
                                    "2": "9"
                                },
                                {
                                    "0": "Sawao Kato",
                                    "1": "Japan",
                                    "2": "8"
                                },
                                {
                                    "0": "Matthew Nicholas \"Matt\" Biondi",
                                    "1": "United States",
                                    "2": "8"
                                },
                                {
                                    "0": "Usain St. Leo Bolt",
                                    "1": "Jamaica",
                                    "2": "8"
                                },
                                {
                                    "0": "Ole Einar Bjrndalen",
                                    "1": "Norway",
                                    "2": "8"
                                },
                                {
                                    "0": "Jennifer Elisabeth \"Jenny\" Thompson (-Cumpelik)",
                                    "1": "United States",
                                    "2": "8"
                                },
                                {
                                    "0": "Aladr Gerevich (-Gerei)",
                                    "1": "Hungary",
                                    "2": "7"
                                },
                                {
                                    "0": "Borys Anfiyanovych Shakhlin",
                                    "1": "Soviet Union",
                                    "2": "7"
                                },
                                {
                                    "0": "Nikolay Yefimovich Andrianov",
                                    "1": "Soviet Union",
                                    "2": "7"
                                },
                                {
                                    "0": "Viktor Ivanovych Chukarin",
                                    "1": "Soviet Union",
                                    "2": "7"
                                },
                                {
                                    "0": "Donald Arthur \"Don\" Schollander",
                                    "1": "United States",
                                    "2": "7"
                                },
                                {
                                    "0": "Vra slavsk (-Odloilov)",
                                    "1": "Czechoslovakia",
                                    "2": "7"
                                }
                            ]
                        },
                        "text/html": [
                            "<table>",
                            "<tr><th>Name</th><th>Team</th><th>gold_medals_won</th></tr>",
                            "<tr><td>Michael Fred Phelps, II</td><td>United States</td><td>23</td></tr>",
                            "<tr><td>Raymond Clarence &quot;Ray&quot; Ewry</td><td>United States</td><td>10</td></tr>",
                            "<tr><td>Frederick Carlton &quot;Carl&quot; Lewis</td><td>United States</td><td>9</td></tr>",
                            "<tr><td>Paavo Johannes Nurmi</td><td>Finland</td><td>9</td></tr>",
                            "<tr><td>Larysa Semenivna Latynina (Diriy-)</td><td>Soviet Union</td><td>9</td></tr>",
                            "<tr><td>Mark Andrew Spitz</td><td>United States</td><td>9</td></tr>",
                            "<tr><td>Sawao Kato</td><td>Japan</td><td>8</td></tr>",
                            "<tr><td>Matthew Nicholas &quot;Matt&quot; Biondi</td><td>United States</td><td>8</td></tr>",
                            "<tr><td>Usain St. Leo Bolt</td><td>Jamaica</td><td>8</td></tr>",
                            "<tr><td>Ole Einar Bjrndalen</td><td>Norway</td><td>8</td></tr>",
                            "<tr><td>Jennifer Elisabeth &quot;Jenny&quot; Thompson (-Cumpelik)</td><td>United States</td><td>8</td></tr>",
                            "<tr><td>Aladr Gerevich (-Gerei)</td><td>Hungary</td><td>7</td></tr>",
                            "<tr><td>Borys Anfiyanovych Shakhlin</td><td>Soviet Union</td><td>7</td></tr>",
                            "<tr><td>Nikolay Yefimovich Andrianov</td><td>Soviet Union</td><td>7</td></tr>",
                            "<tr><td>Viktor Ivanovych Chukarin</td><td>Soviet Union</td><td>7</td></tr>",
                            "<tr><td>Donald Arthur &quot;Don&quot; Schollander</td><td>United States</td><td>7</td></tr>",
                            "<tr><td>Vra slavsk (-Odloilov)</td><td>Czechoslovakia</td><td>7</td></tr>",
                            "</table>"
                        ]
                    }
                }
            ],
            "execution_count": 21
        },
        {
            "cell_type": "markdown",
            "source": [
                "*The followung query returns top 5 countries in olympics to win most number of medals won.:*"
            ],
            "metadata": {
                "azdata_cell_guid": "a2d07d14-7f2f-4385-9d99-c551b7bccdaa"
            }
        },
        {
            "cell_type": "code",
            "source": [
                "WITH medals_by_country AS\r\n",
                "(\r\n",
                "\tSELECT\r\n",
                "\t\tnr.Region,\r\n",
                "\t\tCOUNT(ae.Medal) AS 'total_medals'\r\n",
                "\tFROM\r\n",
                "\t\tdbo.AthleteEvents ae \r\n",
                "\t\tINNER JOIN dbo.NOCRegions nr ON ae.NOC = nr.NOC\r\n",
                "\tWHERE\r\n",
                "\t\tae.Medal <> 'NA'\r\n",
                "\tGROUP BY\r\n",
                "\t\tnr.Region\r\n",
                ")\r\n",
                "\r\n",
                "SELECT\r\n",
                "\tRegion AS country,\r\n",
                "\ttotal_medals\r\n",
                "FROM\r\n",
                "(\r\n",
                "\tSELECT\r\n",
                "\t\t*,\r\n",
                "\t\tDENSE_RANK() OVER (ORDER BY total_medals DESC) AS 'rank'\r\n",
                "\tFROM\r\n",
                "\t\tmedals_by_country\r\n",
                ") AS country_ranking\r\n",
                "\r\n",
                "WHERE\r\n",
                "    country_ranking.rank <= 5\r\n",
                "ORDER BY\r\n",
                "    country_ranking.rank"
            ],
            "metadata": {
                "azdata_cell_guid": "251dde18-a9f6-4dd0-a148-694042c70371"
            },
            "outputs": [
                {
                    "output_type": "display_data",
                    "data": {
                        "text/html": "(5 rows affected)"
                    },
                    "metadata": {}
                },
                {
                    "output_type": "display_data",
                    "data": {
                        "text/html": "Total execution time: 00:00:00.066"
                    },
                    "metadata": {}
                },
                {
                    "output_type": "execute_result",
                    "metadata": {},
                    "execution_count": 39,
                    "data": {
                        "application/vnd.dataresource+json": {
                            "schema": {
                                "fields": [
                                    {
                                        "name": "country"
                                    },
                                    {
                                        "name": "total_medals"
                                    }
                                ]
                            },
                            "data": [
                                {
                                    "0": "USA",
                                    "1": "5637"
                                },
                                {
                                    "0": "Russia",
                                    "1": "3947"
                                },
                                {
                                    "0": "Germany",
                                    "1": "3756"
                                },
                                {
                                    "0": "UK",
                                    "1": "2068"
                                },
                                {
                                    "0": "France",
                                    "1": "1777"
                                }
                            ]
                        },
                        "text/html": [
                            "<table>",
                            "<tr><th>country</th><th>total_medals</th></tr>",
                            "<tr><td>USA</td><td>5637</td></tr>",
                            "<tr><td>Russia</td><td>3947</td></tr>",
                            "<tr><td>Germany</td><td>3756</td></tr>",
                            "<tr><td>UK</td><td>2068</td></tr>",
                            "<tr><td>France</td><td>1777</td></tr>",
                            "</table>"
                        ]
                    }
                }
            ],
            "execution_count": 39
        },
        {
            "cell_type": "markdown",
            "source": [
                "*The followung query returns the total gold, silver and bronze medals won by each country:*"
            ],
            "metadata": {
                "azdata_cell_guid": "b59813b8-dddb-4e2e-be72-6bc3298fb008"
            }
        },
        {
            "cell_type": "code",
            "source": [
                "SELECT\r\n",
                "\t*\r\n",
                "FROM\r\n",
                "(\r\n",
                "\tSELECT\r\n",
                "\t\tnr.Region AS 'Country',\r\n",
                "\t\tae.Medal\r\n",
                "\tFROM\r\n",
                "\t\tdbo.AthleteEvents ae \r\n",
                "\t\tINNER JOIN dbo.NOCRegions nr ON ae.NOC = nr.NOC\r\n",
                "\tWHERE\r\n",
                "\t\tae.Medal <> 'NA'\r\n",
                ") AS country_medals\r\n",
                "\r\n",
                "PIVOT\r\n",
                "(\r\n",
                "\tCOUNT(Medal)\r\n",
                "\tFOR Medal IN ([Gold], [Silver], [Bronze])\r\n",
                ") AS pivot_table\r\n",
                "\r\n",
                "ORDER BY\r\n",
                "    pivot_table.Gold DESC"
            ],
            "metadata": {
                "azdata_cell_guid": "469d362d-bccb-4204-a0c1-d8c7bc243bea"
            },
            "outputs": [
                {
                    "output_type": "display_data",
                    "data": {
                        "text/html": "(136 rows affected)"
                    },
                    "metadata": {}
                },
                {
                    "output_type": "display_data",
                    "data": {
                        "text/html": "Total execution time: 00:00:00.034"
                    },
                    "metadata": {}
                },
                {
                    "output_type": "execute_result",
                    "metadata": {},
                    "execution_count": 40,
                    "data": {
                        "application/vnd.dataresource+json": {
                            "schema": {
                                "fields": [
                                    {
                                        "name": "Country"
                                    },
                                    {
                                        "name": "Gold"
                                    },
                                    {
                                        "name": "Silver"
                                    },
                                    {
                                        "name": "Bronze"
                                    }
                                ]
                            },
                            "data": [
                                {
                                    "0": "USA",
                                    "1": "2638",
                                    "2": "1641",
                                    "3": "1358"
                                },
                                {
                                    "0": "Russia",
                                    "1": "1599",
                                    "2": "1170",
                                    "3": "1178"
                                },
                                {
                                    "0": "Germany",
                                    "1": "1301",
                                    "2": "1195",
                                    "3": "1260"
                                },
                                {
                                    "0": "UK",
                                    "1": "678",
                                    "2": "739",
                                    "3": "651"
                                },
                                {
                                    "0": "Italy",
                                    "1": "575",
                                    "2": "531",
                                    "3": "531"
                                },
                                {
                                    "0": "France",
                                    "1": "501",
                                    "2": "610",
                                    "3": "666"
                                },
                                {
                                    "0": "Sweden",
                                    "1": "479",
                                    "2": "522",
                                    "3": "535"
                                },
                                {
                                    "0": "Canada",
                                    "1": "463",
                                    "2": "438",
                                    "3": "451"
                                },
                                {
                                    "0": "Hungary",
                                    "1": "432",
                                    "2": "332",
                                    "3": "371"
                                },
                                {
                                    "0": "Norway",
                                    "1": "378",
                                    "2": "361",
                                    "3": "294"
                                },
                                {
                                    "0": "Australia",
                                    "1": "368",
                                    "2": "459",
                                    "3": "522"
                                },
                                {
                                    "0": "China",
                                    "1": "351",
                                    "2": "349",
                                    "3": "293"
                                },
                                {
                                    "0": "Netherlands",
                                    "1": "287",
                                    "2": "340",
                                    "3": "413"
                                },
                                {
                                    "0": "Japan",
                                    "1": "247",
                                    "2": "309",
                                    "3": "357"
                                },
                                {
                                    "0": "South Korea",
                                    "1": "221",
                                    "2": "232",
                                    "3": "185"
                                },
                                {
                                    "0": "Finland",
                                    "1": "198",
                                    "2": "270",
                                    "3": "432"
                                },
                                {
                                    "0": "Denmark",
                                    "1": "179",
                                    "2": "241",
                                    "3": "177"
                                },
                                {
                                    "0": "Switzerland",
                                    "1": "175",
                                    "2": "248",
                                    "3": "268"
                                },
                                {
                                    "0": "Cuba",
                                    "1": "164",
                                    "2": "129",
                                    "3": "116"
                                },
                                {
                                    "0": "Romania",
                                    "1": "161",
                                    "2": "200",
                                    "3": "292"
                                },
                                {
                                    "0": "Serbia",
                                    "1": "157",
                                    "2": "222",
                                    "3": "160"
                                },
                                {
                                    "0": "India",
                                    "1": "138",
                                    "2": "19",
                                    "3": "40"
                                },
                                {
                                    "0": "Czech Republic",
                                    "1": "123",
                                    "2": "262",
                                    "3": "259"
                                },
                                {
                                    "0": "Poland",
                                    "1": "117",
                                    "2": "195",
                                    "3": "253"
                                },
                                {
                                    "0": "Spain",
                                    "1": "110",
                                    "2": "243",
                                    "3": "136"
                                },
                                {
                                    "0": "Brazil",
                                    "1": "109",
                                    "2": "175",
                                    "3": "191"
                                },
                                {
                                    "0": "Austria",
                                    "1": "108",
                                    "2": "186",
                                    "3": "156"
                                },
                                {
                                    "0": "Belgium",
                                    "1": "98",
                                    "2": "197",
                                    "3": "173"
                                },
                                {
                                    "0": "Argentina",
                                    "1": "91",
                                    "2": "92",
                                    "3": "91"
                                },
                                {
                                    "0": "New Zealand",
                                    "1": "90",
                                    "2": "56",
                                    "3": "82"
                                },
                                {
                                    "0": "Greece",
                                    "1": "62",
                                    "2": "109",
                                    "3": "84"
                                },
                                {
                                    "0": "Croatia",
                                    "1": "58",
                                    "2": "54",
                                    "3": "37"
                                },
                                {
                                    "0": "Bulgaria",
                                    "1": "54",
                                    "2": "144",
                                    "3": "144"
                                },
                                {
                                    "0": "Ukraine",
                                    "1": "47",
                                    "2": "52",
                                    "3": "100"
                                },
                                {
                                    "0": "Pakistan",
                                    "1": "42",
                                    "2": "45",
                                    "3": "34"
                                },
                                {
                                    "0": "Turkey",
                                    "1": "40",
                                    "2": "27",
                                    "3": "28"
                                },
                                {
                                    "0": "Jamaica",
                                    "1": "38",
                                    "2": "75",
                                    "3": "44"
                                },
                                {
                                    "0": "Kenya",
                                    "1": "34",
                                    "2": "41",
                                    "3": "31"
                                },
                                {
                                    "0": "South Africa",
                                    "1": "32",
                                    "2": "47",
                                    "3": "52"
                                },
                                {
                                    "0": "Uruguay",
                                    "1": "31",
                                    "2": "2",
                                    "3": "30"
                                },
                                {
                                    "0": "Mexico",
                                    "1": "30",
                                    "2": "26",
                                    "3": "54"
                                },
                                {
                                    "0": "Belarus",
                                    "1": "24",
                                    "2": "44",
                                    "3": "71"
                                },
                                {
                                    "0": "Nigeria",
                                    "1": "23",
                                    "2": "30",
                                    "3": "46"
                                },
                                {
                                    "0": "Ethiopia",
                                    "1": "22",
                                    "2": "9",
                                    "3": "22"
                                },
                                {
                                    "0": "Cameroon",
                                    "1": "20",
                                    "2": "1",
                                    "3": "1"
                                },
                                {
                                    "0": "Kazakhstan",
                                    "1": "20",
                                    "2": "25",
                                    "3": "32"
                                },
                                {
                                    "0": "Iran",
                                    "1": "18",
                                    "2": "21",
                                    "3": "29"
                                },
                                {
                                    "0": "Zimbabwe",
                                    "1": "17",
                                    "2": "4",
                                    "3": "1"
                                },
                                {
                                    "0": "North Korea",
                                    "1": "16",
                                    "2": "16",
                                    "3": "35"
                                },
                                {
                                    "0": "Slovakia",
                                    "1": "15",
                                    "2": "19",
                                    "3": "13"
                                },
                                {
                                    "0": "Bahamas",
                                    "1": "14",
                                    "2": "11",
                                    "3": "15"
                                },
                                {
                                    "0": "Fiji",
                                    "1": "13",
                                    "2": "0",
                                    "3": "0"
                                },
                                {
                                    "0": "Estonia",
                                    "1": "13",
                                    "2": "12",
                                    "3": "25"
                                },
                                {
                                    "0": "Indonesia",
                                    "1": "11",
                                    "2": "17",
                                    "3": "13"
                                },
                                {
                                    "0": "Uzbekistan",
                                    "1": "10",
                                    "2": "7",
                                    "3": "17"
                                },
                                {
                                    "0": "Thailand",
                                    "1": "9",
                                    "2": "8",
                                    "3": "13"
                                },
                                {
                                    "0": "Ireland",
                                    "1": "9",
                                    "2": "13",
                                    "3": "13"
                                },
                                {
                                    "0": "Georgia",
                                    "1": "8",
                                    "2": "6",
                                    "3": "18"
                                },
                                {
                                    "0": "Slovenia",
                                    "1": "8",
                                    "2": "13",
                                    "3": "27"
                                },
                                {
                                    "0": "Trinidad",
                                    "1": "7",
                                    "2": "8",
                                    "3": "22"
                                },
                                {
                                    "0": "Egypt",
                                    "1": "7",
                                    "2": "8",
                                    "3": "12"
                                },
                                {
                                    "0": "Azerbaijan",
                                    "1": "7",
                                    "2": "12",
                                    "3": "25"
                                },
                                {
                                    "0": "Lithuania",
                                    "1": "6",
                                    "2": "7",
                                    "3": "48"
                                },
                                {
                                    "0": "Morocco",
                                    "1": "6",
                                    "2": "5",
                                    "3": "12"
                                },
                                {
                                    "0": "Algeria",
                                    "1": "5",
                                    "2": "4",
                                    "3": "8"
                                },
                                {
                                    "0": "Colombia",
                                    "1": "5",
                                    "2": "9",
                                    "3": "14"
                                },
                                {
                                    "0": "Luxembourg",
                                    "1": "4",
                                    "2": "4",
                                    "3": "0"
                                },
                                {
                                    "0": "Portugal",
                                    "1": "4",
                                    "2": "11",
                                    "3": "26"
                                },
                                {
                                    "0": "Tunisia",
                                    "1": "3",
                                    "2": "3",
                                    "3": "7"
                                },
                                {
                                    "0": "Taiwan",
                                    "1": "3",
                                    "2": "28",
                                    "3": "18"
                                },
                                {
                                    "0": "Dominican Republic",
                                    "1": "3",
                                    "2": "2",
                                    "3": "2"
                                },
                                {
                                    "0": "Chile",
                                    "1": "3",
                                    "2": "9",
                                    "3": "20"
                                },
                                {
                                    "0": "Latvia",
                                    "1": "3",
                                    "2": "19",
                                    "3": "13"
                                },
                                {
                                    "0": "Liechtenstein",
                                    "1": "2",
                                    "2": "2",
                                    "3": "5"
                                },
                                {
                                    "0": "Armenia",
                                    "1": "2",
                                    "2": "5",
                                    "3": "9"
                                },
                                {
                                    "0": "Uganda",
                                    "1": "2",
                                    "2": "3",
                                    "3": "2"
                                },
                                {
                                    "0": "Venezuela",
                                    "1": "2",
                                    "2": "3",
                                    "3": "10"
                                },
                                {
                                    "0": "Mongolia",
                                    "1": "2",
                                    "2": "10",
                                    "3": "14"
                                },
                                {
                                    "0": "Mozambique",
                                    "1": "1",
                                    "2": "0",
                                    "3": "1"
                                },
                                {
                                    "0": "Panama",
                                    "1": "1",
                                    "2": "0",
                                    "3": "2"
                                },
                                {
                                    "0": "Puerto Rico",
                                    "1": "1",
                                    "2": "2",
                                    "3": "6"
                                },
                                {
                                    "0": "Peru",
                                    "1": "1",
                                    "2": "14",
                                    "3": "0"
                                },
                                {
                                    "0": "Nepal",
                                    "1": "1",
                                    "2": "0",
                                    "3": "0"
                                },
                                {
                                    "0": "Vietnam",
                                    "1": "1",
                                    "2": "3",
                                    "3": "0"
                                },
                                {
                                    "0": "United Arab Emirates",
                                    "1": "1",
                                    "2": "0",
                                    "3": "1"
                                },
                                {
                                    "0": "Tajikistan",
                                    "1": "1",
                                    "2": "1",
                                    "3": "2"
                                },
                                {
                                    "0": "Syria",
                                    "1": "1",
                                    "2": "2",
                                    "3": "2"
                                },
                                {
                                    "0": "Suriname",
                                    "1": "1",
                                    "2": "0",
                                    "3": "1"
                                },
                                {
                                    "0": "Bahrain",
                                    "1": "1",
                                    "2": "1",
                                    "3": "1"
                                },
                                {
                                    "0": "Burundi",
                                    "1": "1",
                                    "2": "1",
                                    "3": "0"
                                },
                                {
                                    "0": "Ecuador",
                                    "1": "1",
                                    "2": "1",
                                    "3": "0"
                                },
                                {
                                    "0": "Costa Rica",
                                    "1": "1",
                                    "2": "1",
                                    "3": "2"
                                },
                                {
                                    "0": "Kosovo",
                                    "1": "1",
                                    "2": "0",
                                    "3": "0"
                                },
                                {
                                    "0": "Israel",
                                    "1": "1",
                                    "2": "1",
                                    "3": "7"
                                },
                                {
                                    "0": "Ivory Coast",
                                    "1": "1",
                                    "2": "1",
                                    "3": "1"
                                },
                                {
                                    "0": "Jordan",
                                    "1": "1",
                                    "2": "0",
                                    "3": "0"
                                },
                                {
                                    "0": "Haiti",
                                    "1": "1",
                                    "2": "1",
                                    "3": "5"
                                },
                                {
                                    "0": "Individual Olympic Athletes",
                                    "1": "1",
                                    "2": "1",
                                    "3": "3"
                                },
                                {
                                    "0": "Grenada",
                                    "1": "1",
                                    "2": "1",
                                    "3": "0"
                                },
                                {
                                    "0": "Guatemala",
                                    "1": "0",
                                    "2": "1",
                                    "3": "0"
                                },
                                {
                                    "0": "Guyana",
                                    "1": "0",
                                    "2": "0",
                                    "3": "1"
                                },
                                {
                                    "0": "Gabon",
                                    "1": "0",
                                    "2": "1",
                                    "3": "0"
                                },
                                {
                                    "0": "Ghana",
                                    "1": "0",
                                    "2": "1",
                                    "3": "22"
                                },
                                {
                                    "0": "Iraq",
                                    "1": "0",
                                    "2": "0",
                                    "3": "1"
                                },
                                {
                                    "0": "Iceland",
                                    "1": "0",
                                    "2": "15",
                                    "3": "2"
                                },
                                {
                                    "0": "Kuwait",
                                    "1": "0",
                                    "2": "0",
                                    "3": "2"
                                },
                                {
                                    "0": "Kyrgyzstan",
                                    "1": "0",
                                    "2": "1",
                                    "3": "2"
                                },
                                {
                                    "0": "Lebanon",
                                    "1": "0",
                                    "2": "2",
                                    "3": "2"
                                },
                                {
                                    "0": "Curacao",
                                    "1": "0",
                                    "2": "1",
                                    "3": "0"
                                },
                                {
                                    "0": "Cyprus",
                                    "1": "0",
                                    "2": "1",
                                    "3": "0"
                                },
                                {
                                    "0": "Djibouti",
                                    "1": "0",
                                    "2": "0",
                                    "3": "1"
                                },
                                {
                                    "0": "Eritrea",
                                    "1": "0",
                                    "2": "0",
                                    "3": "1"
                                },
                                {
                                    "0": "Bermuda",
                                    "1": "0",
                                    "2": "0",
                                    "3": "1"
                                },
                                {
                                    "0": "Botswana",
                                    "1": "0",
                                    "2": "1",
                                    "3": "0"
                                },
                                {
                                    "0": "Barbados",
                                    "1": "0",
                                    "2": "0",
                                    "3": "1"
                                },
                                {
                                    "0": "Afghanistan",
                                    "1": "0",
                                    "2": "0",
                                    "3": "2"
                                },
                                {
                                    "0": "Tanzania",
                                    "1": "0",
                                    "2": "2",
                                    "3": "0"
                                },
                                {
                                    "0": "Togo",
                                    "1": "0",
                                    "2": "0",
                                    "3": "1"
                                },
                                {
                                    "0": "Tonga",
                                    "1": "0",
                                    "2": "1",
                                    "3": "0"
                                },
                                {
                                    "0": "Virgin Islands, US",
                                    "1": "0",
                                    "2": "1",
                                    "3": "0"
                                },
                                {
                                    "0": "Zambia",
                                    "1": "0",
                                    "2": "1",
                                    "3": "1"
                                },
                                {
                                    "0": "Saudi Arabia",
                                    "1": "0",
                                    "2": "1",
                                    "3": "5"
                                },
                                {
                                    "0": "Senegal",
                                    "1": "0",
                                    "2": "1",
                                    "3": "0"
                                },
                                {
                                    "0": "Sri Lanka",
                                    "1": "0",
                                    "2": "2",
                                    "3": "0"
                                },
                                {
                                    "0": "Sudan",
                                    "1": "0",
                                    "2": "1",
                                    "3": "0"
                                },
                                {
                                    "0": "Philippines",
                                    "1": "0",
                                    "2": "3",
                                    "3": "7"
                                },
                                {
                                    "0": "Qatar",
                                    "1": "0",
                                    "2": "1",
                                    "3": "4"
                                },
                                {
                                    "0": "Paraguay",
                                    "1": "0",
                                    "2": "17",
                                    "3": "0"
                                },
                                {
                                    "0": "Namibia",
                                    "1": "0",
                                    "2": "4",
                                    "3": "0"
                                },
                                {
                                    "0": "Niger",
                                    "1": "0",
                                    "2": "1",
                                    "3": "1"
                                },
                                {
                                    "0": "Montenegro",
                                    "1": "0",
                                    "2": "14",
                                    "3": "0"
                                },
                                {
                                    "0": "Moldova",
                                    "1": "0",
                                    "2": "3",
                                    "3": "5"
                                },
                                {
                                    "0": "Monaco",
                                    "1": "0",
                                    "2": "0",
                                    "3": "1"
                                },
                                {
                                    "0": "Macedonia",
                                    "1": "0",
                                    "2": "0",
                                    "3": "1"
                                },
                                {
                                    "0": "Malaysia",
                                    "1": "0",
                                    "2": "11",
                                    "3": "5"
                                },
                                {
                                    "0": "Mauritius",
                                    "1": "0",
                                    "2": "0",
                                    "3": "1"
                                }
                            ]
                        },
                        "text/html": [
                            "<table>",
                            "<tr><th>Country</th><th>Gold</th><th>Silver</th><th>Bronze</th></tr>",
                            "<tr><td>USA</td><td>2638</td><td>1641</td><td>1358</td></tr>",
                            "<tr><td>Russia</td><td>1599</td><td>1170</td><td>1178</td></tr>",
                            "<tr><td>Germany</td><td>1301</td><td>1195</td><td>1260</td></tr>",
                            "<tr><td>UK</td><td>678</td><td>739</td><td>651</td></tr>",
                            "<tr><td>Italy</td><td>575</td><td>531</td><td>531</td></tr>",
                            "<tr><td>France</td><td>501</td><td>610</td><td>666</td></tr>",
                            "<tr><td>Sweden</td><td>479</td><td>522</td><td>535</td></tr>",
                            "<tr><td>Canada</td><td>463</td><td>438</td><td>451</td></tr>",
                            "<tr><td>Hungary</td><td>432</td><td>332</td><td>371</td></tr>",
                            "<tr><td>Norway</td><td>378</td><td>361</td><td>294</td></tr>",
                            "<tr><td>Australia</td><td>368</td><td>459</td><td>522</td></tr>",
                            "<tr><td>China</td><td>351</td><td>349</td><td>293</td></tr>",
                            "<tr><td>Netherlands</td><td>287</td><td>340</td><td>413</td></tr>",
                            "<tr><td>Japan</td><td>247</td><td>309</td><td>357</td></tr>",
                            "<tr><td>South Korea</td><td>221</td><td>232</td><td>185</td></tr>",
                            "<tr><td>Finland</td><td>198</td><td>270</td><td>432</td></tr>",
                            "<tr><td>Denmark</td><td>179</td><td>241</td><td>177</td></tr>",
                            "<tr><td>Switzerland</td><td>175</td><td>248</td><td>268</td></tr>",
                            "<tr><td>Cuba</td><td>164</td><td>129</td><td>116</td></tr>",
                            "<tr><td>Romania</td><td>161</td><td>200</td><td>292</td></tr>",
                            "<tr><td>Serbia</td><td>157</td><td>222</td><td>160</td></tr>",
                            "<tr><td>India</td><td>138</td><td>19</td><td>40</td></tr>",
                            "<tr><td>Czech Republic</td><td>123</td><td>262</td><td>259</td></tr>",
                            "<tr><td>Poland</td><td>117</td><td>195</td><td>253</td></tr>",
                            "<tr><td>Spain</td><td>110</td><td>243</td><td>136</td></tr>",
                            "<tr><td>Brazil</td><td>109</td><td>175</td><td>191</td></tr>",
                            "<tr><td>Austria</td><td>108</td><td>186</td><td>156</td></tr>",
                            "<tr><td>Belgium</td><td>98</td><td>197</td><td>173</td></tr>",
                            "<tr><td>Argentina</td><td>91</td><td>92</td><td>91</td></tr>",
                            "<tr><td>New Zealand</td><td>90</td><td>56</td><td>82</td></tr>",
                            "<tr><td>Greece</td><td>62</td><td>109</td><td>84</td></tr>",
                            "<tr><td>Croatia</td><td>58</td><td>54</td><td>37</td></tr>",
                            "<tr><td>Bulgaria</td><td>54</td><td>144</td><td>144</td></tr>",
                            "<tr><td>Ukraine</td><td>47</td><td>52</td><td>100</td></tr>",
                            "<tr><td>Pakistan</td><td>42</td><td>45</td><td>34</td></tr>",
                            "<tr><td>Turkey</td><td>40</td><td>27</td><td>28</td></tr>",
                            "<tr><td>Jamaica</td><td>38</td><td>75</td><td>44</td></tr>",
                            "<tr><td>Kenya</td><td>34</td><td>41</td><td>31</td></tr>",
                            "<tr><td>South Africa</td><td>32</td><td>47</td><td>52</td></tr>",
                            "<tr><td>Uruguay</td><td>31</td><td>2</td><td>30</td></tr>",
                            "<tr><td>Mexico</td><td>30</td><td>26</td><td>54</td></tr>",
                            "<tr><td>Belarus</td><td>24</td><td>44</td><td>71</td></tr>",
                            "<tr><td>Nigeria</td><td>23</td><td>30</td><td>46</td></tr>",
                            "<tr><td>Ethiopia</td><td>22</td><td>9</td><td>22</td></tr>",
                            "<tr><td>Cameroon</td><td>20</td><td>1</td><td>1</td></tr>",
                            "<tr><td>Kazakhstan</td><td>20</td><td>25</td><td>32</td></tr>",
                            "<tr><td>Iran</td><td>18</td><td>21</td><td>29</td></tr>",
                            "<tr><td>Zimbabwe</td><td>17</td><td>4</td><td>1</td></tr>",
                            "<tr><td>North Korea</td><td>16</td><td>16</td><td>35</td></tr>",
                            "<tr><td>Slovakia</td><td>15</td><td>19</td><td>13</td></tr>",
                            "<tr><td>Bahamas</td><td>14</td><td>11</td><td>15</td></tr>",
                            "<tr><td>Fiji</td><td>13</td><td>0</td><td>0</td></tr>",
                            "<tr><td>Estonia</td><td>13</td><td>12</td><td>25</td></tr>",
                            "<tr><td>Indonesia</td><td>11</td><td>17</td><td>13</td></tr>",
                            "<tr><td>Uzbekistan</td><td>10</td><td>7</td><td>17</td></tr>",
                            "<tr><td>Thailand</td><td>9</td><td>8</td><td>13</td></tr>",
                            "<tr><td>Ireland</td><td>9</td><td>13</td><td>13</td></tr>",
                            "<tr><td>Georgia</td><td>8</td><td>6</td><td>18</td></tr>",
                            "<tr><td>Slovenia</td><td>8</td><td>13</td><td>27</td></tr>",
                            "<tr><td>Trinidad</td><td>7</td><td>8</td><td>22</td></tr>",
                            "<tr><td>Egypt</td><td>7</td><td>8</td><td>12</td></tr>",
                            "<tr><td>Azerbaijan</td><td>7</td><td>12</td><td>25</td></tr>",
                            "<tr><td>Lithuania</td><td>6</td><td>7</td><td>48</td></tr>",
                            "<tr><td>Morocco</td><td>6</td><td>5</td><td>12</td></tr>",
                            "<tr><td>Algeria</td><td>5</td><td>4</td><td>8</td></tr>",
                            "<tr><td>Colombia</td><td>5</td><td>9</td><td>14</td></tr>",
                            "<tr><td>Luxembourg</td><td>4</td><td>4</td><td>0</td></tr>",
                            "<tr><td>Portugal</td><td>4</td><td>11</td><td>26</td></tr>",
                            "<tr><td>Tunisia</td><td>3</td><td>3</td><td>7</td></tr>",
                            "<tr><td>Taiwan</td><td>3</td><td>28</td><td>18</td></tr>",
                            "<tr><td>Dominican Republic</td><td>3</td><td>2</td><td>2</td></tr>",
                            "<tr><td>Chile</td><td>3</td><td>9</td><td>20</td></tr>",
                            "<tr><td>Latvia</td><td>3</td><td>19</td><td>13</td></tr>",
                            "<tr><td>Liechtenstein</td><td>2</td><td>2</td><td>5</td></tr>",
                            "<tr><td>Armenia</td><td>2</td><td>5</td><td>9</td></tr>",
                            "<tr><td>Uganda</td><td>2</td><td>3</td><td>2</td></tr>",
                            "<tr><td>Venezuela</td><td>2</td><td>3</td><td>10</td></tr>",
                            "<tr><td>Mongolia</td><td>2</td><td>10</td><td>14</td></tr>",
                            "<tr><td>Mozambique</td><td>1</td><td>0</td><td>1</td></tr>",
                            "<tr><td>Panama</td><td>1</td><td>0</td><td>2</td></tr>",
                            "<tr><td>Puerto Rico</td><td>1</td><td>2</td><td>6</td></tr>",
                            "<tr><td>Peru</td><td>1</td><td>14</td><td>0</td></tr>",
                            "<tr><td>Nepal</td><td>1</td><td>0</td><td>0</td></tr>",
                            "<tr><td>Vietnam</td><td>1</td><td>3</td><td>0</td></tr>",
                            "<tr><td>United Arab Emirates</td><td>1</td><td>0</td><td>1</td></tr>",
                            "<tr><td>Tajikistan</td><td>1</td><td>1</td><td>2</td></tr>",
                            "<tr><td>Syria</td><td>1</td><td>2</td><td>2</td></tr>",
                            "<tr><td>Suriname</td><td>1</td><td>0</td><td>1</td></tr>",
                            "<tr><td>Bahrain</td><td>1</td><td>1</td><td>1</td></tr>",
                            "<tr><td>Burundi</td><td>1</td><td>1</td><td>0</td></tr>",
                            "<tr><td>Ecuador</td><td>1</td><td>1</td><td>0</td></tr>",
                            "<tr><td>Costa Rica</td><td>1</td><td>1</td><td>2</td></tr>",
                            "<tr><td>Kosovo</td><td>1</td><td>0</td><td>0</td></tr>",
                            "<tr><td>Israel</td><td>1</td><td>1</td><td>7</td></tr>",
                            "<tr><td>Ivory Coast</td><td>1</td><td>1</td><td>1</td></tr>",
                            "<tr><td>Jordan</td><td>1</td><td>0</td><td>0</td></tr>",
                            "<tr><td>Haiti</td><td>1</td><td>1</td><td>5</td></tr>",
                            "<tr><td>Individual Olympic Athletes</td><td>1</td><td>1</td><td>3</td></tr>",
                            "<tr><td>Grenada</td><td>1</td><td>1</td><td>0</td></tr>",
                            "<tr><td>Guatemala</td><td>0</td><td>1</td><td>0</td></tr>",
                            "<tr><td>Guyana</td><td>0</td><td>0</td><td>1</td></tr>",
                            "<tr><td>Gabon</td><td>0</td><td>1</td><td>0</td></tr>",
                            "<tr><td>Ghana</td><td>0</td><td>1</td><td>22</td></tr>",
                            "<tr><td>Iraq</td><td>0</td><td>0</td><td>1</td></tr>",
                            "<tr><td>Iceland</td><td>0</td><td>15</td><td>2</td></tr>",
                            "<tr><td>Kuwait</td><td>0</td><td>0</td><td>2</td></tr>",
                            "<tr><td>Kyrgyzstan</td><td>0</td><td>1</td><td>2</td></tr>",
                            "<tr><td>Lebanon</td><td>0</td><td>2</td><td>2</td></tr>",
                            "<tr><td>Curacao</td><td>0</td><td>1</td><td>0</td></tr>",
                            "<tr><td>Cyprus</td><td>0</td><td>1</td><td>0</td></tr>",
                            "<tr><td>Djibouti</td><td>0</td><td>0</td><td>1</td></tr>",
                            "<tr><td>Eritrea</td><td>0</td><td>0</td><td>1</td></tr>",
                            "<tr><td>Bermuda</td><td>0</td><td>0</td><td>1</td></tr>",
                            "<tr><td>Botswana</td><td>0</td><td>1</td><td>0</td></tr>",
                            "<tr><td>Barbados</td><td>0</td><td>0</td><td>1</td></tr>",
                            "<tr><td>Afghanistan</td><td>0</td><td>0</td><td>2</td></tr>",
                            "<tr><td>Tanzania</td><td>0</td><td>2</td><td>0</td></tr>",
                            "<tr><td>Togo</td><td>0</td><td>0</td><td>1</td></tr>",
                            "<tr><td>Tonga</td><td>0</td><td>1</td><td>0</td></tr>",
                            "<tr><td>Virgin Islands, US</td><td>0</td><td>1</td><td>0</td></tr>",
                            "<tr><td>Zambia</td><td>0</td><td>1</td><td>1</td></tr>",
                            "<tr><td>Saudi Arabia</td><td>0</td><td>1</td><td>5</td></tr>",
                            "<tr><td>Senegal</td><td>0</td><td>1</td><td>0</td></tr>",
                            "<tr><td>Sri Lanka</td><td>0</td><td>2</td><td>0</td></tr>",
                            "<tr><td>Sudan</td><td>0</td><td>1</td><td>0</td></tr>",
                            "<tr><td>Philippines</td><td>0</td><td>3</td><td>7</td></tr>",
                            "<tr><td>Qatar</td><td>0</td><td>1</td><td>4</td></tr>",
                            "<tr><td>Paraguay</td><td>0</td><td>17</td><td>0</td></tr>",
                            "<tr><td>Namibia</td><td>0</td><td>4</td><td>0</td></tr>",
                            "<tr><td>Niger</td><td>0</td><td>1</td><td>1</td></tr>",
                            "<tr><td>Montenegro</td><td>0</td><td>14</td><td>0</td></tr>",
                            "<tr><td>Moldova</td><td>0</td><td>3</td><td>5</td></tr>",
                            "<tr><td>Monaco</td><td>0</td><td>0</td><td>1</td></tr>",
                            "<tr><td>Macedonia</td><td>0</td><td>0</td><td>1</td></tr>",
                            "<tr><td>Malaysia</td><td>0</td><td>11</td><td>5</td></tr>",
                            "<tr><td>Mauritius</td><td>0</td><td>0</td><td>1</td></tr>",
                            "</table>"
                        ]
                    }
                }
            ],
            "execution_count": 40
        },
        {
            "cell_type": "markdown",
            "source": [
                "*The followung query returns the details of countries which have won silver or bronze medal but never won a gold medal:*"
            ],
            "metadata": {
                "azdata_cell_guid": "108c928f-f638-4ac7-a69a-35a85f96beb3"
            }
        },
        {
            "cell_type": "code",
            "source": [
                "SELECT\r\n",
                "\t*\r\n",
                "FROM\r\n",
                "(\r\n",
                "\tSELECT\r\n",
                "\t\tnr.Region AS 'Country',\r\n",
                "\t\tae.Medal\r\n",
                "\tFROM\r\n",
                "\t\tdbo.AthleteEvents ae \r\n",
                "\t\tINNER JOIN dbo.NOCRegions nr ON ae.NOC = nr.NOC\r\n",
                "\tWHERE\r\n",
                "\t\tae.Medal <> 'NA'\r\n",
                ") AS country_medals\r\n",
                "\r\n",
                "PIVOT\r\n",
                "(\r\n",
                "\tCOUNT(Medal)\r\n",
                "\tFOR Medal IN ([Gold], [Silver], [Bronze])\r\n",
                ") AS pivot_table\r\n",
                "\r\n",
                "WHERE\r\n",
                "    pivot_table.Gold = 0\r\n",
                "ORDER BY\r\n",
                "    pivot_table.Silver DESC"
            ],
            "metadata": {
                "azdata_cell_guid": "7616a278-5dea-4206-a070-30d593327c4b"
            },
            "outputs": [
                {
                    "output_type": "display_data",
                    "data": {
                        "text/html": "(37 rows affected)"
                    },
                    "metadata": {}
                },
                {
                    "output_type": "display_data",
                    "data": {
                        "text/html": "Total execution time: 00:00:00.096"
                    },
                    "metadata": {}
                },
                {
                    "output_type": "execute_result",
                    "metadata": {},
                    "execution_count": 25,
                    "data": {
                        "application/vnd.dataresource+json": {
                            "schema": {
                                "fields": [
                                    {
                                        "name": "Country"
                                    },
                                    {
                                        "name": "Gold"
                                    },
                                    {
                                        "name": "Silver"
                                    },
                                    {
                                        "name": "Bronze"
                                    }
                                ]
                            },
                            "data": [
                                {
                                    "0": "Paraguay",
                                    "1": "0",
                                    "2": "17",
                                    "3": "0"
                                },
                                {
                                    "0": "Iceland",
                                    "1": "0",
                                    "2": "15",
                                    "3": "2"
                                },
                                {
                                    "0": "Montenegro",
                                    "1": "0",
                                    "2": "14",
                                    "3": "0"
                                },
                                {
                                    "0": "Malaysia",
                                    "1": "0",
                                    "2": "11",
                                    "3": "5"
                                },
                                {
                                    "0": "Namibia",
                                    "1": "0",
                                    "2": "4",
                                    "3": "0"
                                },
                                {
                                    "0": "Moldova",
                                    "1": "0",
                                    "2": "3",
                                    "3": "5"
                                },
                                {
                                    "0": "Philippines",
                                    "1": "0",
                                    "2": "3",
                                    "3": "7"
                                },
                                {
                                    "0": "Sri Lanka",
                                    "1": "0",
                                    "2": "2",
                                    "3": "0"
                                },
                                {
                                    "0": "Tanzania",
                                    "1": "0",
                                    "2": "2",
                                    "3": "0"
                                },
                                {
                                    "0": "Lebanon",
                                    "1": "0",
                                    "2": "2",
                                    "3": "2"
                                },
                                {
                                    "0": "Botswana",
                                    "1": "0",
                                    "2": "1",
                                    "3": "0"
                                },
                                {
                                    "0": "Curacao",
                                    "1": "0",
                                    "2": "1",
                                    "3": "0"
                                },
                                {
                                    "0": "Cyprus",
                                    "1": "0",
                                    "2": "1",
                                    "3": "0"
                                },
                                {
                                    "0": "Gabon",
                                    "1": "0",
                                    "2": "1",
                                    "3": "0"
                                },
                                {
                                    "0": "Ghana",
                                    "1": "0",
                                    "2": "1",
                                    "3": "22"
                                },
                                {
                                    "0": "Guatemala",
                                    "1": "0",
                                    "2": "1",
                                    "3": "0"
                                },
                                {
                                    "0": "Sudan",
                                    "1": "0",
                                    "2": "1",
                                    "3": "0"
                                },
                                {
                                    "0": "Tonga",
                                    "1": "0",
                                    "2": "1",
                                    "3": "0"
                                },
                                {
                                    "0": "Virgin Islands, US",
                                    "1": "0",
                                    "2": "1",
                                    "3": "0"
                                },
                                {
                                    "0": "Zambia",
                                    "1": "0",
                                    "2": "1",
                                    "3": "1"
                                },
                                {
                                    "0": "Kyrgyzstan",
                                    "1": "0",
                                    "2": "1",
                                    "3": "2"
                                },
                                {
                                    "0": "Qatar",
                                    "1": "0",
                                    "2": "1",
                                    "3": "4"
                                },
                                {
                                    "0": "Saudi Arabia",
                                    "1": "0",
                                    "2": "1",
                                    "3": "5"
                                },
                                {
                                    "0": "Senegal",
                                    "1": "0",
                                    "2": "1",
                                    "3": "0"
                                },
                                {
                                    "0": "Niger",
                                    "1": "0",
                                    "2": "1",
                                    "3": "1"
                                },
                                {
                                    "0": "Monaco",
                                    "1": "0",
                                    "2": "0",
                                    "3": "1"
                                },
                                {
                                    "0": "Togo",
                                    "1": "0",
                                    "2": "0",
                                    "3": "1"
                                },
                                {
                                    "0": "Guyana",
                                    "1": "0",
                                    "2": "0",
                                    "3": "1"
                                },
                                {
                                    "0": "Djibouti",
                                    "1": "0",
                                    "2": "0",
                                    "3": "1"
                                },
                                {
                                    "0": "Eritrea",
                                    "1": "0",
                                    "2": "0",
                                    "3": "1"
                                },
                                {
                                    "0": "Macedonia",
                                    "1": "0",
                                    "2": "0",
                                    "3": "1"
                                },
                                {
                                    "0": "Mauritius",
                                    "1": "0",
                                    "2": "0",
                                    "3": "1"
                                },
                                {
                                    "0": "Iraq",
                                    "1": "0",
                                    "2": "0",
                                    "3": "1"
                                },
                                {
                                    "0": "Kuwait",
                                    "1": "0",
                                    "2": "0",
                                    "3": "2"
                                },
                                {
                                    "0": "Afghanistan",
                                    "1": "0",
                                    "2": "0",
                                    "3": "2"
                                },
                                {
                                    "0": "Barbados",
                                    "1": "0",
                                    "2": "0",
                                    "3": "1"
                                },
                                {
                                    "0": "Bermuda",
                                    "1": "0",
                                    "2": "0",
                                    "3": "1"
                                }
                            ]
                        },
                        "text/html": [
                            "<table>",
                            "<tr><th>Country</th><th>Gold</th><th>Silver</th><th>Bronze</th></tr>",
                            "<tr><td>Paraguay</td><td>0</td><td>17</td><td>0</td></tr>",
                            "<tr><td>Iceland</td><td>0</td><td>15</td><td>2</td></tr>",
                            "<tr><td>Montenegro</td><td>0</td><td>14</td><td>0</td></tr>",
                            "<tr><td>Malaysia</td><td>0</td><td>11</td><td>5</td></tr>",
                            "<tr><td>Namibia</td><td>0</td><td>4</td><td>0</td></tr>",
                            "<tr><td>Moldova</td><td>0</td><td>3</td><td>5</td></tr>",
                            "<tr><td>Philippines</td><td>0</td><td>3</td><td>7</td></tr>",
                            "<tr><td>Sri Lanka</td><td>0</td><td>2</td><td>0</td></tr>",
                            "<tr><td>Tanzania</td><td>0</td><td>2</td><td>0</td></tr>",
                            "<tr><td>Lebanon</td><td>0</td><td>2</td><td>2</td></tr>",
                            "<tr><td>Botswana</td><td>0</td><td>1</td><td>0</td></tr>",
                            "<tr><td>Curacao</td><td>0</td><td>1</td><td>0</td></tr>",
                            "<tr><td>Cyprus</td><td>0</td><td>1</td><td>0</td></tr>",
                            "<tr><td>Gabon</td><td>0</td><td>1</td><td>0</td></tr>",
                            "<tr><td>Ghana</td><td>0</td><td>1</td><td>22</td></tr>",
                            "<tr><td>Guatemala</td><td>0</td><td>1</td><td>0</td></tr>",
                            "<tr><td>Sudan</td><td>0</td><td>1</td><td>0</td></tr>",
                            "<tr><td>Tonga</td><td>0</td><td>1</td><td>0</td></tr>",
                            "<tr><td>Virgin Islands, US</td><td>0</td><td>1</td><td>0</td></tr>",
                            "<tr><td>Zambia</td><td>0</td><td>1</td><td>1</td></tr>",
                            "<tr><td>Kyrgyzstan</td><td>0</td><td>1</td><td>2</td></tr>",
                            "<tr><td>Qatar</td><td>0</td><td>1</td><td>4</td></tr>",
                            "<tr><td>Saudi Arabia</td><td>0</td><td>1</td><td>5</td></tr>",
                            "<tr><td>Senegal</td><td>0</td><td>1</td><td>0</td></tr>",
                            "<tr><td>Niger</td><td>0</td><td>1</td><td>1</td></tr>",
                            "<tr><td>Monaco</td><td>0</td><td>0</td><td>1</td></tr>",
                            "<tr><td>Togo</td><td>0</td><td>0</td><td>1</td></tr>",
                            "<tr><td>Guyana</td><td>0</td><td>0</td><td>1</td></tr>",
                            "<tr><td>Djibouti</td><td>0</td><td>0</td><td>1</td></tr>",
                            "<tr><td>Eritrea</td><td>0</td><td>0</td><td>1</td></tr>",
                            "<tr><td>Macedonia</td><td>0</td><td>0</td><td>1</td></tr>",
                            "<tr><td>Mauritius</td><td>0</td><td>0</td><td>1</td></tr>",
                            "<tr><td>Iraq</td><td>0</td><td>0</td><td>1</td></tr>",
                            "<tr><td>Kuwait</td><td>0</td><td>0</td><td>2</td></tr>",
                            "<tr><td>Afghanistan</td><td>0</td><td>0</td><td>2</td></tr>",
                            "<tr><td>Barbados</td><td>0</td><td>0</td><td>1</td></tr>",
                            "<tr><td>Bermuda</td><td>0</td><td>0</td><td>1</td></tr>",
                            "</table>"
                        ]
                    }
                }
            ],
            "execution_count": 25
        },
        {
            "cell_type": "markdown",
            "source": [
                "*The followung query returns the total gold, silver and bronze medals won by each country corresponding to each olympic games:*"
            ],
            "metadata": {
                "azdata_cell_guid": "6ca59d8e-b157-4c3e-b51b-0615db220e0f"
            }
        },
        {
            "cell_type": "code",
            "source": [
                "SELECT\r\n",
                "\t*\r\n",
                "FROM\r\n",
                "(\r\n",
                "\tSELECT\r\n",
                "\t\tae.Games,\r\n",
                "\t\tae.Medal,\r\n",
                "\t\tnr.Region AS 'Country'\r\n",
                "\tFROM\r\n",
                "\t\tdbo.AthleteEvents ae \r\n",
                "\t\tINNER JOIN dbo.NOCRegions nr ON ae.NOC = nr.NOC\r\n",
                "\tWHERE\r\n",
                "\t\tae.Medal <> 'NA'\r\n",
                ") AS country_medals\r\n",
                "\r\n",
                "PIVOT\r\n",
                "(\r\n",
                "\tCOUNT(Medal)\r\n",
                "\tFOR Medal IN ([Gold], [Silver], [Bronze])\r\n",
                ") AS pivot_table\r\n",
                "\r\n",
                "ORDER BY \r\n",
                "    pivot_table.Games, pivot_table.Country"
            ],
            "metadata": {
                "azdata_cell_guid": "c498cb57-cc71-4114-a1e9-3dcfa7c44a5e"
            },
            "outputs": [
                {
                    "output_type": "display_data",
                    "data": {
                        "text/html": "(1640 rows affected)"
                    },
                    "metadata": {}
                },
                {
                    "output_type": "display_data",
                    "data": {
                        "text/html": "Total execution time: 00:00:00.084"
                    },
                    "metadata": {}
                },
                {
                    "output_type": "execute_result",
                    "metadata": {},
                    "execution_count": 41,
                    "data": {
                        "application/vnd.dataresource+json": {
                            "schema": {
                                "fields": [
                                    {
                                        "name": "Games"
                                    },
                                    {
                                        "name": "Country"
                                    },
                                    {
                                        "name": "Gold"
                                    },
                                    {
                                        "name": "Silver"
                                    },
                                    {
                                        "name": "Bronze"
                                    }
                                ]
                            },
                            "data": [
                                {
                                    "0": "1896 Summer",
                                    "1": "Australia",
                                    "2": "2",
                                    "3": "0",
                                    "4": "1"
                                },
                                {
                                    "0": "1896 Summer",
                                    "1": "Austria",
                                    "2": "2",
                                    "3": "1",
                                    "4": "2"
                                },
                                {
                                    "0": "1896 Summer",
                                    "1": "Denmark",
                                    "2": "1",
                                    "3": "2",
                                    "4": "3"
                                },
                                {
                                    "0": "1896 Summer",
                                    "1": "France",
                                    "2": "5",
                                    "3": "4",
                                    "4": "2"
                                },
                                {
                                    "0": "1896 Summer",
                                    "1": "Germany",
                                    "2": "25",
                                    "3": "5",
                                    "4": "2"
                                },
                                {
                                    "0": "1896 Summer",
                                    "1": "Greece",
                                    "2": "10",
                                    "3": "18",
                                    "4": "20"
                                },
                                {
                                    "0": "1896 Summer",
                                    "1": "Hungary",
                                    "2": "2",
                                    "3": "1",
                                    "4": "3"
                                },
                                {
                                    "0": "1896 Summer",
                                    "1": "Switzerland",
                                    "2": "1",
                                    "3": "2",
                                    "4": "0"
                                },
                                {
                                    "0": "1896 Summer",
                                    "1": "UK",
                                    "2": "3",
                                    "3": "3",
                                    "4": "3"
                                },
                                {
                                    "0": "1896 Summer",
                                    "1": "USA",
                                    "2": "11",
                                    "3": "7",
                                    "4": "2"
                                },
                                {
                                    "0": "1900 Summer",
                                    "1": "Australia",
                                    "2": "3",
                                    "3": "0",
                                    "4": "3"
                                },
                                {
                                    "0": "1900 Summer",
                                    "1": "Austria",
                                    "2": "0",
                                    "3": "3",
                                    "4": "3"
                                },
                                {
                                    "0": "1900 Summer",
                                    "1": "Belgium",
                                    "2": "6",
                                    "3": "24",
                                    "4": "13"
                                },
                                {
                                    "0": "1900 Summer",
                                    "1": "Canada",
                                    "2": "1",
                                    "3": "0",
                                    "4": "1"
                                },
                                {
                                    "0": "1900 Summer",
                                    "1": "Colombia",
                                    "2": "0",
                                    "3": "1",
                                    "4": "0"
                                },
                                {
                                    "0": "1900 Summer",
                                    "1": "Cuba",
                                    "2": "1",
                                    "3": "1",
                                    "4": "0"
                                },
                                {
                                    "0": "1900 Summer",
                                    "1": "Czech Republic",
                                    "2": "0",
                                    "3": "1",
                                    "4": "2"
                                },
                                {
                                    "0": "1900 Summer",
                                    "1": "Denmark",
                                    "2": "4",
                                    "3": "3",
                                    "4": "2"
                                },
                                {
                                    "0": "1900 Summer",
                                    "1": "France",
                                    "2": "52",
                                    "3": "101",
                                    "4": "82"
                                },
                                {
                                    "0": "1900 Summer",
                                    "1": "Germany",
                                    "2": "14",
                                    "3": "20",
                                    "4": "11"
                                },
                                {
                                    "0": "1900 Summer",
                                    "1": "Haiti",
                                    "2": "1",
                                    "3": "0",
                                    "4": "0"
                                },
                                {
                                    "0": "1900 Summer",
                                    "1": "Hungary",
                                    "2": "1",
                                    "3": "2",
                                    "4": "2"
                                },
                                {
                                    "0": "1900 Summer",
                                    "1": "India",
                                    "2": "0",
                                    "3": "2",
                                    "4": "0"
                                },
                                {
                                    "0": "1900 Summer",
                                    "1": "Italy",
                                    "2": "3",
                                    "3": "2",
                                    "4": "0"
                                },
                                {
                                    "0": "1900 Summer",
                                    "1": "Luxembourg",
                                    "2": "1",
                                    "3": "0",
                                    "4": "0"
                                },
                                {
                                    "0": "1900 Summer",
                                    "1": "Mexico",
                                    "2": "0",
                                    "3": "0",
                                    "4": "3"
                                },
                                {
                                    "0": "1900 Summer",
                                    "1": "Netherlands",
                                    "2": "3",
                                    "3": "8",
                                    "4": "16"
                                },
                                {
                                    "0": "1900 Summer",
                                    "1": "New Zealand",
                                    "2": "1",
                                    "3": "0",
                                    "4": "0"
                                },
                                {
                                    "0": "1900 Summer",
                                    "1": "Norway",
                                    "2": "0",
                                    "3": "6",
                                    "4": "3"
                                },
                                {
                                    "0": "1900 Summer",
                                    "1": "Spain",
                                    "2": "2",
                                    "3": "0",
                                    "4": "0"
                                },
                                {
                                    "0": "1900 Summer",
                                    "1": "Sweden",
                                    "2": "3",
                                    "3": "0",
                                    "4": "1"
                                },
                                {
                                    "0": "1900 Summer",
                                    "1": "Switzerland",
                                    "2": "16",
                                    "3": "4",
                                    "4": "1"
                                },
                                {
                                    "0": "1900 Summer",
                                    "1": "UK",
                                    "2": "59",
                                    "3": "34",
                                    "4": "15"
                                },
                                {
                                    "0": "1900 Summer",
                                    "1": "USA",
                                    "2": "30",
                                    "3": "16",
                                    "4": "17"
                                },
                                {
                                    "0": "1904 Summer",
                                    "1": "Australia",
                                    "2": "0",
                                    "3": "3",
                                    "4": "1"
                                },
                                {
                                    "0": "1904 Summer",
                                    "1": "Austria",
                                    "2": "2",
                                    "3": "1",
                                    "4": "1"
                                },
                                {
                                    "0": "1904 Summer",
                                    "1": "Canada",
                                    "2": "27",
                                    "3": "9",
                                    "4": "12"
                                },
                                {
                                    "0": "1904 Summer",
                                    "1": "Cuba",
                                    "2": "5",
                                    "3": "0",
                                    "4": "0"
                                },
                                {
                                    "0": "1904 Summer",
                                    "1": "France",
                                    "2": "0",
                                    "3": "2",
                                    "4": "0"
                                },
                                {
                                    "0": "1904 Summer",
                                    "1": "Germany",
                                    "2": "4",
                                    "3": "5",
                                    "4": "7"
                                },
                                {
                                    "0": "1904 Summer",
                                    "1": "Greece",
                                    "2": "1",
                                    "3": "0",
                                    "4": "1"
                                },
                                {
                                    "0": "1904 Summer",
                                    "1": "Hungary",
                                    "2": "2",
                                    "3": "1",
                                    "4": "1"
                                },
                                {
                                    "0": "1904 Summer",
                                    "1": "Norway",
                                    "2": "2",
                                    "3": "0",
                                    "4": "0"
                                },
                                {
                                    "0": "1904 Summer",
                                    "1": "Switzerland",
                                    "2": "1",
                                    "3": "0",
                                    "4": "2"
                                },
                                {
                                    "0": "1904 Summer",
                                    "1": "UK",
                                    "2": "1",
                                    "3": "1",
                                    "4": "0"
                                },
                                {
                                    "0": "1904 Summer",
                                    "1": "USA",
                                    "2": "128",
                                    "3": "141",
                                    "4": "125"
                                },
                                {
                                    "0": "1906 Summer",
                                    "1": "Australia",
                                    "2": "0",
                                    "3": "0",
                                    "4": "3"
                                },
                                {
                                    "0": "1906 Summer",
                                    "1": "Austria",
                                    "2": "3",
                                    "3": "3",
                                    "4": "3"
                                },
                                {
                                    "0": "1906 Summer",
                                    "1": "Belgium",
                                    "2": "2",
                                    "3": "3",
                                    "4": "6"
                                },
                                {
                                    "0": "1906 Summer",
                                    "1": "Canada",
                                    "2": "1",
                                    "3": "1",
                                    "4": "0"
                                },
                                {
                                    "0": "1906 Summer",
                                    "1": "Czech Republic",
                                    "2": "0",
                                    "3": "0",
                                    "4": "3"
                                },
                                {
                                    "0": "1906 Summer",
                                    "1": "Denmark",
                                    "2": "14",
                                    "3": "19",
                                    "4": "1"
                                },
                                {
                                    "0": "1906 Summer",
                                    "1": "Finland",
                                    "2": "2",
                                    "3": "1",
                                    "4": "1"
                                },
                                {
                                    "0": "1906 Summer",
                                    "1": "France",
                                    "2": "20",
                                    "3": "16",
                                    "4": "28"
                                },
                                {
                                    "0": "1906 Summer",
                                    "1": "Germany",
                                    "2": "14",
                                    "3": "10",
                                    "4": "6"
                                },
                                {
                                    "0": "1906 Summer",
                                    "1": "Greece",
                                    "2": "24",
                                    "3": "48",
                                    "4": "30"
                                },
                                {
                                    "0": "1906 Summer",
                                    "1": "Hungary",
                                    "2": "5",
                                    "3": "5",
                                    "4": "3"
                                },
                                {
                                    "0": "1906 Summer",
                                    "1": "Italy",
                                    "2": "21",
                                    "3": "8",
                                    "4": "27"
                                },
                                {
                                    "0": "1906 Summer",
                                    "1": "Netherlands",
                                    "2": "0",
                                    "3": "1",
                                    "4": "5"
                                },
                                {
                                    "0": "1906 Summer",
                                    "1": "Norway",
                                    "2": "20",
                                    "3": "5",
                                    "4": "0"
                                },
                                {
                                    "0": "1906 Summer",
                                    "1": "Sweden",
                                    "2": "2",
                                    "3": "5",
                                    "4": "14"
                                },
                                {
                                    "0": "1906 Summer",
                                    "1": "Switzerland",
                                    "2": "8",
                                    "3": "3",
                                    "4": "1"
                                },
                                {
                                    "0": "1906 Summer",
                                    "1": "UK",
                                    "2": "9",
                                    "3": "22",
                                    "4": "8"
                                },
                                {
                                    "0": "1906 Summer",
                                    "1": "USA",
                                    "2": "12",
                                    "3": "6",
                                    "4": "6"
                                },
                                {
                                    "0": "1908 Summer",
                                    "1": "Australia",
                                    "2": "15",
                                    "3": "2",
                                    "4": "2"
                                },
                                {
                                    "0": "1908 Summer",
                                    "1": "Austria",
                                    "2": "0",
                                    "3": "0",
                                    "4": "1"
                                },
                                {
                                    "0": "1908 Summer",
                                    "1": "Belgium",
                                    "2": "1",
                                    "3": "24",
                                    "4": "8"
                                },
                                {
                                    "0": "1908 Summer",
                                    "1": "Canada",
                                    "2": "14",
                                    "3": "8",
                                    "4": "30"
                                },
                                {
                                    "0": "1908 Summer",
                                    "1": "Czech Republic",
                                    "2": "0",
                                    "3": "0",
                                    "4": "6"
                                },
                                {
                                    "0": "1908 Summer",
                                    "1": "Denmark",
                                    "2": "0",
                                    "3": "14",
                                    "4": "3"
                                },
                                {
                                    "0": "1908 Summer",
                                    "1": "Finland",
                                    "2": "1",
                                    "3": "1",
                                    "4": "28"
                                },
                                {
                                    "0": "1908 Summer",
                                    "1": "France",
                                    "2": "12",
                                    "3": "5",
                                    "4": "23"
                                },
                                {
                                    "0": "1908 Summer",
                                    "1": "Germany",
                                    "2": "4",
                                    "3": "11",
                                    "4": "6"
                                },
                                {
                                    "0": "1908 Summer",
                                    "1": "Greece",
                                    "2": "0",
                                    "3": "3",
                                    "4": "1"
                                },
                                {
                                    "0": "1908 Summer",
                                    "1": "Hungary",
                                    "2": "7",
                                    "3": "7",
                                    "4": "6"
                                },
                                {
                                    "0": "1908 Summer",
                                    "1": "Italy",
                                    "2": "2",
                                    "3": "6",
                                    "4": "0"
                                },
                                {
                                    "0": "1908 Summer",
                                    "1": "Netherlands",
                                    "2": "0",
                                    "3": "0",
                                    "4": "16"
                                },
                                {
                                    "0": "1908 Summer",
                                    "1": "Norway",
                                    "2": "7",
                                    "3": "32",
                                    "4": "3"
                                },
                                {
                                    "0": "1908 Summer",
                                    "1": "Russia",
                                    "2": "1",
                                    "3": "2",
                                    "4": "0"
                                },
                                {
                                    "0": "1908 Summer",
                                    "1": "South Africa",
                                    "2": "1",
                                    "3": "1",
                                    "4": "0"
                                },
                                {
                                    "0": "1908 Summer",
                                    "1": "Sweden",
                                    "2": "48",
                                    "3": "18",
                                    "4": "18"
                                },
                                {
                                    "0": "1908 Summer",
                                    "1": "UK",
                                    "2": "147",
                                    "3": "131",
                                    "4": "90"
                                },
                                {
                                    "0": "1908 Summer",
                                    "1": "USA",
                                    "2": "34",
                                    "3": "16",
                                    "4": "15"
                                },
                                {
                                    "0": "1912 Summer",
                                    "1": "Australia",
                                    "2": "5",
                                    "3": "2",
                                    "4": "3"
                                },
                                {
                                    "0": "1912 Summer",
                                    "1": "Austria",
                                    "2": "0",
                                    "3": "9",
                                    "4": "5"
                                },
                                {
                                    "0": "1912 Summer",
                                    "1": "Belgium",
                                    "2": "7",
                                    "3": "1",
                                    "4": "11"
                                },
                                {
                                    "0": "1912 Summer",
                                    "1": "Canada",
                                    "2": "3",
                                    "3": "2",
                                    "4": "3"
                                },
                                {
                                    "0": "1912 Summer",
                                    "1": "Denmark",
                                    "2": "5",
                                    "3": "49",
                                    "4": "33"
                                },
                                {
                                    "0": "1912 Summer",
                                    "1": "Finland",
                                    "2": "9",
                                    "3": "40",
                                    "4": "22"
                                },
                                {
                                    "0": "1912 Summer",
                                    "1": "France",
                                    "2": "10",
                                    "3": "11",
                                    "4": "5"
                                },
                                {
                                    "0": "1912 Summer",
                                    "1": "Germany",
                                    "2": "11",
                                    "3": "19",
                                    "4": "23"
                                },
                                {
                                    "0": "1912 Summer",
                                    "1": "Greece",
                                    "2": "1",
                                    "3": "0",
                                    "4": "1"
                                },
                                {
                                    "0": "1912 Summer",
                                    "1": "Hungary",
                                    "2": "10",
                                    "3": "17",
                                    "4": "3"
                                },
                                {
                                    "0": "1912 Summer",
                                    "1": "Italy",
                                    "2": "22",
                                    "3": "1",
                                    "4": "2"
                                },
                                {
                                    "0": "1912 Summer",
                                    "1": "Netherlands",
                                    "2": "0",
                                    "3": "0",
                                    "4": "26"
                                },
                                {
                                    "0": "1912 Summer",
                                    "1": "Norway",
                                    "2": "40",
                                    "3": "6",
                                    "4": "34"
                                },
                                {
                                    "0": "1912 Summer",
                                    "1": "Russia",
                                    "2": "0",
                                    "3": "5",
                                    "4": "9"
                                },
                                {
                                    "0": "1912 Summer",
                                    "1": "South Africa",
                                    "2": "5",
                                    "3": "2",
                                    "4": "0"
                                },
                                {
                                    "0": "1912 Summer",
                                    "1": "Sweden",
                                    "2": "103",
                                    "3": "62",
                                    "4": "25"
                                },
                                {
                                    "0": "1912 Summer",
                                    "1": "Switzerland",
                                    "2": "2",
                                    "3": "0",
                                    "4": "0"
                                },
                                {
                                    "0": "1912 Summer",
                                    "1": "UK",
                                    "2": "47",
                                    "3": "64",
                                    "4": "59"
                                },
                                {
                                    "0": "1912 Summer",
                                    "1": "USA",
                                    "2": "46",
                                    "3": "25",
                                    "4": "36"
                                },
                                {
                                    "0": "1920 Summer",
                                    "1": "Australia",
                                    "2": "0",
                                    "3": "6",
                                    "4": "1"
                                },
                                {
                                    "0": "1920 Summer",
                                    "1": "Belgium",
                                    "2": "57",
                                    "3": "65",
                                    "4": "66"
                                },
                                {
                                    "0": "1920 Summer",
                                    "1": "Brazil",
                                    "2": "1",
                                    "3": "1",
                                    "4": "5"
                                },
                                {
                                    "0": "1920 Summer",
                                    "1": "Canada",
                                    "2": "10",
                                    "3": "3",
                                    "4": "3"
                                },
                                {
                                    "0": "1920 Summer",
                                    "1": "Czech Republic",
                                    "2": "0",
                                    "3": "0",
                                    "4": "10"
                                },
                                {
                                    "0": "1920 Summer",
                                    "1": "Denmark",
                                    "2": "26",
                                    "3": "44",
                                    "4": "1"
                                },
                                {
                                    "0": "1920 Summer",
                                    "1": "Estonia",
                                    "2": "1",
                                    "3": "2",
                                    "4": "0"
                                },
                                {
                                    "0": "1920 Summer",
                                    "1": "Finland",
                                    "2": "21",
                                    "3": "14",
                                    "4": "17"
                                },
                                {
                                    "0": "1920 Summer",
                                    "1": "France",
                                    "2": "13",
                                    "3": "71",
                                    "4": "57"
                                },
                                {
                                    "0": "1920 Summer",
                                    "1": "Greece",
                                    "2": "0",
                                    "3": "5",
                                    "4": "0"
                                },
                                {
                                    "0": "1920 Summer",
                                    "1": "Italy",
                                    "2": "67",
                                    "3": "9",
                                    "4": "8"
                                },
                                {
                                    "0": "1920 Summer",
                                    "1": "Japan",
                                    "2": "0",
                                    "3": "3",
                                    "4": "0"
                                },
                                {
                                    "0": "1920 Summer",
                                    "1": "Luxembourg",
                                    "2": "0",
                                    "3": "1",
                                    "4": "0"
                                },
                                {
                                    "0": "1920 Summer",
                                    "1": "Netherlands",
                                    "2": "15",
                                    "3": "10",
                                    "4": "25"
                                },
                                {
                                    "0": "1920 Summer",
                                    "1": "New Zealand",
                                    "2": "0",
                                    "3": "0",
                                    "4": "1"
                                },
                                {
                                    "0": "1920 Summer",
                                    "1": "Norway",
                                    "2": "58",
                                    "3": "52",
                                    "4": "27"
                                },
                                {
                                    "0": "1920 Summer",
                                    "1": "South Africa",
                                    "2": "3",
                                    "3": "12",
                                    "4": "6"
                                },
                                {
                                    "0": "1920 Summer",
                                    "1": "Spain",
                                    "2": "0",
                                    "3": "23",
                                    "4": "0"
                                },
                                {
                                    "0": "1920 Summer",
                                    "1": "Sweden",
                                    "2": "52",
                                    "3": "38",
                                    "4": "64"
                                },
                                {
                                    "0": "1920 Summer",
                                    "1": "Switzerland",
                                    "2": "6",
                                    "3": "2",
                                    "4": "21"
                                },
                                {
                                    "0": "1920 Summer",
                                    "1": "UK",
                                    "2": "52",
                                    "3": "42",
                                    "4": "17"
                                },
                                {
                                    "0": "1920 Summer",
                                    "1": "USA",
                                    "2": "111",
                                    "3": "45",
                                    "4": "38"
                                },
                                {
                                    "0": "1924 Summer",
                                    "1": "Argentina",
                                    "2": "5",
                                    "3": "3",
                                    "4": "2"
                                },
                                {
                                    "0": "1924 Summer",
                                    "1": "Australia",
                                    "2": "3",
                                    "3": "5",
                                    "4": "2"
                                },
                                {
                                    "0": "1924 Summer",
                                    "1": "Austria",
                                    "2": "0",
                                    "3": "3",
                                    "4": "1"
                                },
                                {
                                    "0": "1924 Summer",
                                    "1": "Belgium",
                                    "2": "3",
                                    "3": "30",
                                    "4": "6"
                                },
                                {
                                    "0": "1924 Summer",
                                    "1": "Canada",
                                    "2": "0",
                                    "3": "19",
                                    "4": "1"
                                },
                                {
                                    "0": "1924 Summer",
                                    "1": "Czech Republic",
                                    "2": "1",
                                    "3": "4",
                                    "4": "5"
                                },
                                {
                                    "0": "1924 Summer",
                                    "1": "Denmark",
                                    "2": "2",
                                    "3": "9",
                                    "4": "3"
                                },
                                {
                                    "0": "1924 Summer",
                                    "1": "Estonia",
                                    "2": "1",
                                    "3": "1",
                                    "4": "4"
                                },
                                {
                                    "0": "1924 Summer",
                                    "1": "Finland",
                                    "2": "24",
                                    "3": "13",
                                    "4": "15"
                                },
                                {
                                    "0": "1924 Summer",
                                    "1": "France",
                                    "2": "37",
                                    "3": "51",
                                    "4": "22"
                                },
                                {
                                    "0": "1924 Summer",
                                    "1": "Greece",
                                    "2": "1",
                                    "3": "0",
                                    "4": "0"
                                },
                                {
                                    "0": "1924 Summer",
                                    "1": "Haiti",
                                    "2": "0",
                                    "3": "0",
                                    "4": "5"
                                },
                                {
                                    "0": "1924 Summer",
                                    "1": "Hungary",
                                    "2": "2",
                                    "3": "12",
                                    "4": "8"
                                },
                                {
                                    "0": "1924 Summer",
                                    "1": "Ireland",
                                    "2": "0",
                                    "3": "1",
                                    "4": "1"
                                },
                                {
                                    "0": "1924 Summer",
                                    "1": "Italy",
                                    "2": "25",
                                    "3": "5",
                                    "4": "21"
                                },
                                {
                                    "0": "1924 Summer",
                                    "1": "Japan",
                                    "2": "0",
                                    "3": "0",
                                    "4": "1"
                                },
                                {
                                    "0": "1924 Summer",
                                    "1": "Luxembourg",
                                    "2": "1",
                                    "3": "1",
                                    "4": "0"
                                },
                                {
                                    "0": "1924 Summer",
                                    "1": "Monaco",
                                    "2": "0",
                                    "3": "0",
                                    "4": "1"
                                },
                                {
                                    "0": "1924 Summer",
                                    "1": "Netherlands",
                                    "2": "8",
                                    "3": "1",
                                    "4": "18"
                                },
                                {
                                    "0": "1924 Summer",
                                    "1": "New Zealand",
                                    "2": "0",
                                    "3": "0",
                                    "4": "1"
                                },
                                {
                                    "0": "1924 Summer",
                                    "1": "Norway",
                                    "2": "14",
                                    "3": "5",
                                    "4": "3"
                                },
                                {
                                    "0": "1924 Summer",
                                    "1": "Poland",
                                    "2": "0",
                                    "3": "4",
                                    "4": "1"
                                },
                                {
                                    "0": "1924 Summer",
                                    "1": "Portugal",
                                    "2": "0",
                                    "3": "0",
                                    "4": "4"
                                },
                                {
                                    "0": "1924 Summer",
                                    "1": "Romania",
                                    "2": "0",
                                    "3": "0",
                                    "4": "16"
                                },
                                {
                                    "0": "1924 Summer",
                                    "1": "Serbia",
                                    "2": "2",
                                    "3": "0",
                                    "4": "0"
                                },
                                {
                                    "0": "1924 Summer",
                                    "1": "South Africa",
                                    "2": "1",
                                    "3": "1",
                                    "4": "1"
                                },
                                {
                                    "0": "1924 Summer",
                                    "1": "Sweden",
                                    "2": "7",
                                    "3": "22",
                                    "4": "43"
                                },
                                {
                                    "0": "1924 Summer",
                                    "1": "Switzerland",
                                    "2": "14",
                                    "3": "25",
                                    "4": "21"
                                },
                                {
                                    "0": "1924 Summer",
                                    "1": "UK",
                                    "2": "15",
                                    "3": "30",
                                    "4": "19"
                                },
                                {
                                    "0": "1924 Summer",
                                    "1": "Uruguay",
                                    "2": "14",
                                    "3": "0",
                                    "4": "0"
                                },
                                {
                                    "0": "1924 Summer",
                                    "1": "USA",
                                    "2": "97",
                                    "3": "36",
                                    "4": "49"
                                },
                                {
                                    "0": "1924 Winter",
                                    "1": "Australia",
                                    "2": "1",
                                    "3": "0",
                                    "4": "0"
                                },
                                {
                                    "0": "1924 Winter",
                                    "1": "Austria",
                                    "2": "3",
                                    "3": "1",
                                    "4": "0"
                                },
                                {
                                    "0": "1924 Winter",
                                    "1": "Belgium",
                                    "2": "0",
                                    "3": "0",
                                    "4": "5"
                                },
                                {
                                    "0": "1924 Winter",
                                    "1": "Canada",
                                    "2": "9",
                                    "3": "0",
                                    "4": "0"
                                },
                                {
                                    "0": "1924 Winter",
                                    "1": "Finland",
                                    "2": "4",
                                    "3": "8",
                                    "4": "3"
                                },
                                {
                                    "0": "1924 Winter",
                                    "1": "France",
                                    "2": "0",
                                    "3": "0",
                                    "4": "10"
                                },
                                {
                                    "0": "1924 Winter",
                                    "1": "India",
                                    "2": "7",
                                    "3": "0",
                                    "4": "0"
                                },
                                {
                                    "0": "1924 Winter",
                                    "1": "Nepal",
                                    "2": "1",
                                    "3": "0",
                                    "4": "0"
                                },
                                {
                                    "0": "1924 Winter",
                                    "1": "Norway",
                                    "2": "4",
                                    "3": "7",
                                    "4": "6"
                                },
                                {
                                    "0": "1924 Winter",
                                    "1": "Sweden",
                                    "2": "1",
                                    "3": "8",
                                    "4": "0"
                                },
                                {
                                    "0": "1924 Winter",
                                    "1": "Switzerland",
                                    "2": "8",
                                    "3": "0",
                                    "4": "1"
                                },
                                {
                                    "0": "1924 Winter",
                                    "1": "UK",
                                    "2": "16",
                                    "3": "4",
                                    "4": "11"
                                },
                                {
                                    "0": "1924 Winter",
                                    "1": "USA",
                                    "2": "1",
                                    "3": "10",
                                    "4": "1"
                                },
                                {
                                    "0": "1928 Summer",
                                    "1": "Argentina",
                                    "2": "3",
                                    "3": "18",
                                    "4": "5"
                                },
                                {
                                    "0": "1928 Summer",
                                    "1": "Australia",
                                    "2": "1",
                                    "3": "2",
                                    "4": "1"
                                },
                                {
                                    "0": "1928 Summer",
                                    "1": "Austria",
                                    "2": "3",
                                    "3": "0",
                                    "4": "2"
                                },
                                {
                                    "0": "1928 Summer",
                                    "1": "Belgium",
                                    "2": "0",
                                    "3": "1",
                                    "4": "4"
                                },
                                {
                                    "0": "1928 Summer",
                                    "1": "Canada",
                                    "2": "7",
                                    "3": "5",
                                    "4": "21"
                                },
                                {
                                    "0": "1928 Summer",
                                    "1": "Chile",
                                    "2": "0",
                                    "3": "1",
                                    "4": "0"
                                },
                                {
                                    "0": "1928 Summer",
                                    "1": "Czech Republic",
                                    "2": "2",
                                    "3": "12",
                                    "4": "2"
                                },
                                {
                                    "0": "1928 Summer",
                                    "1": "Denmark",
                                    "2": "6",
                                    "3": "5",
                                    "4": "4"
                                },
                                {
                                    "0": "1928 Summer",
                                    "1": "Egypt",
                                    "2": "2",
                                    "3": "1",
                                    "4": "1"
                                },
                                {
                                    "0": "1928 Summer",
                                    "1": "Estonia",
                                    "2": "2",
                                    "3": "1",
                                    "4": "6"
                                },
                                {
                                    "0": "1928 Summer",
                                    "1": "Finland",
                                    "2": "8",
                                    "3": "8",
                                    "4": "9"
                                },
                                {
                                    "0": "1928 Summer",
                                    "1": "France",
                                    "2": "12",
                                    "3": "24",
                                    "4": "14"
                                },
                                {
                                    "0": "1928 Summer",
                                    "1": "Germany",
                                    "2": "21",
                                    "3": "15",
                                    "4": "41"
                                },
                                {
                                    "0": "1928 Summer",
                                    "1": "Haiti",
                                    "2": "0",
                                    "3": "1",
                                    "4": "0"
                                },
                                {
                                    "0": "1928 Summer",
                                    "1": "Hungary",
                                    "2": "10",
                                    "3": "11",
                                    "4": "0"
                                },
                                {
                                    "0": "1928 Summer",
                                    "1": "India",
                                    "2": "14",
                                    "3": "0",
                                    "4": "0"
                                },
                                {
                                    "0": "1928 Summer",
                                    "1": "Ireland",
                                    "2": "1",
                                    "3": "0",
                                    "4": "0"
                                },
                                {
                                    "0": "1928 Summer",
                                    "1": "Italy",
                                    "2": "24",
                                    "3": "22",
                                    "4": "26"
                                },
                                {
                                    "0": "1928 Summer",
                                    "1": "Japan",
                                    "2": "2",
                                    "3": "6",
                                    "4": "1"
                                },
                                {
                                    "0": "1928 Summer",
                                    "1": "Luxembourg",
                                    "2": "1",
                                    "3": "0",
                                    "4": "0"
                                },
                                {
                                    "0": "1928 Summer",
                                    "1": "Netherlands",
                                    "2": "20",
                                    "3": "29",
                                    "4": "8"
                                },
                                {
                                    "0": "1928 Summer",
                                    "1": "New Zealand",
                                    "2": "1",
                                    "3": "0",
                                    "4": "0"
                                },
                                {
                                    "0": "1928 Summer",
                                    "1": "Norway",
                                    "2": "4",
                                    "3": "4",
                                    "4": "1"
                                },
                                {
                                    "0": "1928 Summer",
                                    "1": "Philippines",
                                    "2": "0",
                                    "3": "0",
                                    "4": "1"
                                },
                                {
                                    "0": "1928 Summer",
                                    "1": "Poland",
                                    "2": "2",
                                    "3": "3",
                                    "4": "15"
                                },
                                {
                                    "0": "1928 Summer",
                                    "1": "Portugal",
                                    "2": "0",
                                    "3": "0",
                                    "4": "6"
                                },
                                {
                                    "0": "1928 Summer",
                                    "1": "Serbia",
                                    "2": "1",
                                    "3": "1",
                                    "4": "10"
                                },
                                {
                                    "0": "1928 Summer",
                                    "1": "South Africa",
                                    "2": "1",
                                    "3": "0",
                                    "4": "5"
                                },
                                {
                                    "0": "1928 Summer",
                                    "1": "Spain",
                                    "2": "3",
                                    "3": "0",
                                    "4": "0"
                                },
                                {
                                    "0": "1928 Summer",
                                    "1": "Sweden",
                                    "2": "7",
                                    "3": "8",
                                    "4": "22"
                                },
                                {
                                    "0": "1928 Summer",
                                    "1": "Switzerland",
                                    "2": "16",
                                    "3": "10",
                                    "4": "4"
                                },
                                {
                                    "0": "1928 Summer",
                                    "1": "UK",
                                    "2": "7",
                                    "3": "27",
                                    "4": "24"
                                },
                                {
                                    "0": "1928 Summer",
                                    "1": "Uruguay",
                                    "2": "17",
                                    "3": "0",
                                    "4": "0"
                                },
                                {
                                    "0": "1928 Summer",
                                    "1": "USA",
                                    "2": "47",
                                    "3": "24",
                                    "4": "17"
                                },
                                {
                                    "0": "1928 Winter",
                                    "1": "Austria",
                                    "2": "0",
                                    "3": "4",
                                    "4": "2"
                                },
                                {
                                    "0": "1928 Winter",
                                    "1": "Belgium",
                                    "2": "0",
                                    "3": "0",
                                    "4": "1"
                                },
                                {
                                    "0": "1928 Winter",
                                    "1": "Canada",
                                    "2": "12",
                                    "3": "0",
                                    "4": "0"
                                },
                                {
                                    "0": "1928 Winter",
                                    "1": "Czech Republic",
                                    "2": "0",
                                    "3": "0",
                                    "4": "1"
                                },
                                {
                                    "0": "1928 Winter",
                                    "1": "Finland",
                                    "2": "2",
                                    "3": "1",
                                    "4": "1"
                                },
                                {
                                    "0": "1928 Winter",
                                    "1": "France",
                                    "2": "2",
                                    "3": "0",
                                    "4": "0"
                                },
                                {
                                    "0": "1928 Winter",
                                    "1": "Germany",
                                    "2": "0",
                                    "3": "0",
                                    "4": "5"
                                },
                                {
                                    "0": "1928 Winter",
                                    "1": "Norway",
                                    "2": "6",
                                    "3": "4",
                                    "4": "5"
                                },
                                {
                                    "0": "1928 Winter",
                                    "1": "Sweden",
                                    "2": "2",
                                    "3": "13",
                                    "4": "1"
                                },
                                {
                                    "0": "1928 Winter",
                                    "1": "Switzerland",
                                    "2": "0",
                                    "3": "0",
                                    "4": "12"
                                },
                                {
                                    "0": "1928 Winter",
                                    "1": "UK",
                                    "2": "0",
                                    "3": "0",
                                    "4": "1"
                                },
                                {
                                    "0": "1928 Winter",
                                    "1": "USA",
                                    "2": "6",
                                    "3": "6",
                                    "4": "2"
                                },
                                {
                                    "0": "1932 Summer",
                                    "1": "Argentina",
                                    "2": "3",
                                    "3": "1",
                                    "4": "0"
                                },
                                {
                                    "0": "1932 Summer",
                                    "1": "Australia",
                                    "2": "3",
                                    "3": "1",
                                    "4": "1"
                                },
                                {
                                    "0": "1932 Summer",
                                    "1": "Austria",
                                    "2": "1",
                                    "3": "1",
                                    "4": "3"
                                },
                                {
                                    "0": "1932 Summer",
                                    "1": "Belgium",
                                    "2": "0",
                                    "3": "0",
                                    "4": "1"
                                },
                                {
                                    "0": "1932 Summer",
                                    "1": "Canada",
                                    "2": "2",
                                    "3": "13",
                                    "4": "24"
                                },
                                {
                                    "0": "1932 Summer",
                                    "1": "Czech Republic",
                                    "2": "1",
                                    "3": "3",
                                    "4": "2"
                                },
                                {
                                    "0": "1932 Summer",
                                    "1": "Denmark",
                                    "2": "0",
                                    "3": "7",
                                    "4": "4"
                                },
                                {
                                    "0": "1932 Summer",
                                    "1": "Finland",
                                    "2": "5",
                                    "3": "8",
                                    "4": "16"
                                },
                                {
                                    "0": "1932 Summer",
                                    "1": "France",
                                    "2": "26",
                                    "3": "8",
                                    "4": "6"
                                },
                                {
                                    "0": "1932 Summer",
                                    "1": "Germany",
                                    "2": "10",
                                    "3": "26",
                                    "4": "7"
                                },
                                {
                                    "0": "1932 Summer",
                                    "1": "Hungary",
                                    "2": "20",
                                    "3": "5",
                                    "4": "8"
                                },
                                {
                                    "0": "1932 Summer",
                                    "1": "India",
                                    "2": "15",
                                    "3": "0",
                                    "4": "0"
                                },
                                {
                                    "0": "1932 Summer",
                                    "1": "Ireland",
                                    "2": "2",
                                    "3": "0",
                                    "4": "0"
                                },
                                {
                                    "0": "1932 Summer",
                                    "1": "Italy",
                                    "2": "21",
                                    "3": "38",
                                    "4": "18"
                                },
                                {
                                    "0": "1932 Summer",
                                    "1": "Japan",
                                    "2": "10",
                                    "3": "17",
                                    "4": "4"
                                },
                                {
                                    "0": "1932 Summer",
                                    "1": "Latvia",
                                    "2": "0",
                                    "3": "1",
                                    "4": "0"
                                },
                                {
                                    "0": "1932 Summer",
                                    "1": "Mexico",
                                    "2": "0",
                                    "3": "2",
                                    "4": "0"
                                },
                                {
                                    "0": "1932 Summer",
                                    "1": "Netherlands",
                                    "2": "2",
                                    "3": "10",
                                    "4": "1"
                                },
                                {
                                    "0": "1932 Summer",
                                    "1": "New Zealand",
                                    "2": "0",
                                    "3": "2",
                                    "4": "0"
                                },
                                {
                                    "0": "1932 Summer",
                                    "1": "Philippines",
                                    "2": "0",
                                    "3": "0",
                                    "4": "3"
                                },
                                {
                                    "0": "1932 Summer",
                                    "1": "Poland",
                                    "2": "3",
                                    "3": "4",
                                    "4": "14"
                                },
                                {
                                    "0": "1932 Summer",
                                    "1": "South Africa",
                                    "2": "2",
                                    "3": "0",
                                    "4": "3"
                                },
                                {
                                    "0": "1932 Summer",
                                    "1": "Spain",
                                    "2": "0",
                                    "3": "0",
                                    "4": "1"
                                },
                                {
                                    "0": "1932 Summer",
                                    "1": "Sweden",
                                    "2": "13",
                                    "3": "7",
                                    "4": "12"
                                },
                                {
                                    "0": "1932 Summer",
                                    "1": "Switzerland",
                                    "2": "0",
                                    "3": "1",
                                    "4": "0"
                                },
                                {
                                    "0": "1932 Summer",
                                    "1": "UK",
                                    "2": "9",
                                    "3": "12",
                                    "4": "14"
                                },
                                {
                                    "0": "1932 Summer",
                                    "1": "Uruguay",
                                    "2": "0",
                                    "3": "0",
                                    "4": "1"
                                },
                                {
                                    "0": "1932 Summer",
                                    "1": "USA",
                                    "2": "81",
                                    "3": "47",
                                    "4": "61"
                                },
                                {
                                    "0": "1932 Winter",
                                    "1": "Austria",
                                    "2": "1",
                                    "3": "1",
                                    "4": "0"
                                },
                                {
                                    "0": "1932 Winter",
                                    "1": "Canada",
                                    "2": "14",
                                    "3": "1",
                                    "4": "5"
                                },
                                {
                                    "0": "1932 Winter",
                                    "1": "Finland",
                                    "2": "1",
                                    "3": "1",
                                    "4": "1"
                                },
                                {
                                    "0": "1932 Winter",
                                    "1": "France",
                                    "2": "2",
                                    "3": "0",
                                    "4": "0"
                                },
                                {
                                    "0": "1932 Winter",
                                    "1": "Germany",
                                    "2": "0",
                                    "3": "0",
                                    "4": "14"
                                },
                                {
                                    "0": "1932 Winter",
                                    "1": "Hungary",
                                    "2": "0",
                                    "3": "0",
                                    "4": "2"
                                },
                                {
                                    "0": "1932 Winter",
                                    "1": "Norway",
                                    "2": "3",
                                    "3": "4",
                                    "4": "3"
                                },
                                {
                                    "0": "1932 Winter",
                                    "1": "Sweden",
                                    "2": "1",
                                    "3": "2",
                                    "4": "0"
                                },
                                {
                                    "0": "1932 Winter",
                                    "1": "Switzerland",
                                    "2": "0",
                                    "3": "2",
                                    "4": "0"
                                },
                                {
                                    "0": "1932 Winter",
                                    "1": "USA",
                                    "2": "10",
                                    "3": "21",
                                    "4": "3"
                                },
                                {
                                    "0": "1936 Summer",
                                    "1": "Argentina",
                                    "2": "5",
                                    "3": "2",
                                    "4": "4"
                                },
                                {
                                    "0": "1936 Summer",
                                    "1": "Australia",
                                    "2": "0",
                                    "3": "0",
                                    "4": "1"
                                },
                                {
                                    "0": "1936 Summer",
                                    "1": "Austria",
                                    "2": "6",
                                    "3": "42",
                                    "4": "7"
                                },
                                {
                                    "0": "1936 Summer",
                                    "1": "Belgium",
                                    "2": "0",
                                    "3": "0",
                                    "4": "14"
                                },
                                {
                                    "0": "1936 Summer",
                                    "1": "Canada",
                                    "2": "1",
                                    "3": "12",
                                    "4": "9"
                                },
                                {
                                    "0": "1936 Summer",
                                    "1": "Czech Republic",
                                    "2": "5",
                                    "3": "12",
                                    "4": "1"
                                },
                                {
                                    "0": "1936 Summer",
                                    "1": "Denmark",
                                    "2": "0",
                                    "3": "3",
                                    "4": "3"
                                },
                                {
                                    "0": "1936 Summer",
                                    "1": "Egypt",
                                    "2": "2",
                                    "3": "1",
                                    "4": "2"
                                },
                                {
                                    "0": "1936 Summer",
                                    "1": "Estonia",
                                    "2": "2",
                                    "3": "2",
                                    "4": "3"
                                },
                                {
                                    "0": "1936 Summer",
                                    "1": "Finland",
                                    "2": "8",
                                    "3": "6",
                                    "4": "13"
                                },
                                {
                                    "0": "1936 Summer",
                                    "1": "France",
                                    "2": "13",
                                    "3": "13",
                                    "4": "18"
                                },
                                {
                                    "0": "1936 Summer",
                                    "1": "Germany",
                                    "2": "93",
                                    "3": "70",
                                    "4": "61"
                                },
                                {
                                    "0": "1936 Summer",
                                    "1": "Hungary",
                                    "2": "25",
                                    "3": "1",
                                    "4": "15"
                                },
                                {
                                    "0": "1936 Summer",
                                    "1": "India",
                                    "2": "19",
                                    "3": "0",
                                    "4": "0"
                                },
                                {
                                    "0": "1936 Summer",
                                    "1": "Italy",
                                    "2": "37",
                                    "3": "34",
                                    "4": "5"
                                },
                                {
                                    "0": "1936 Summer",
                                    "1": "Japan",
                                    "2": "9",
                                    "3": "4",
                                    "4": "10"
                                },
                                {
                                    "0": "1936 Summer",
                                    "1": "Latvia",
                                    "2": "0",
                                    "3": "1",
                                    "4": "1"
                                },
                                {
                                    "0": "1936 Summer",
                                    "1": "Mexico",
                                    "2": "0",
                                    "3": "0",
                                    "4": "16"
                                },
                                {
                                    "0": "1936 Summer",
                                    "1": "Netherlands",
                                    "2": "9",
                                    "3": "7",
                                    "4": "21"
                                },
                                {
                                    "0": "1936 Summer",
                                    "1": "New Zealand",
                                    "2": "1",
                                    "3": "0",
                                    "4": "0"
                                },
                                {
                                    "0": "1936 Summer",
                                    "1": "Norway",
                                    "2": "1",
                                    "3": "12",
                                    "4": "15"
                                },
                                {
                                    "0": "1936 Summer",
                                    "1": "Philippines",
                                    "2": "0",
                                    "3": "0",
                                    "4": "1"
                                },
                                {
                                    "0": "1936 Summer",
                                    "1": "Poland",
                                    "2": "0",
                                    "3": "6",
                                    "4": "6"
                                },
                                {
                                    "0": "1936 Summer",
                                    "1": "Portugal",
                                    "2": "0",
                                    "3": "0",
                                    "4": "3"
                                },
                                {
                                    "0": "1936 Summer",
                                    "1": "Romania",
                                    "2": "0",
                                    "3": "1",
                                    "4": "0"
                                },
                                {
                                    "0": "1936 Summer",
                                    "1": "Serbia",
                                    "2": "0",
                                    "3": "1",
                                    "4": "0"
                                },
                                {
                                    "0": "1936 Summer",
                                    "1": "South Africa",
                                    "2": "0",
                                    "3": "1",
                                    "4": "0"
                                },
                                {
                                    "0": "1936 Summer",
                                    "1": "Sweden",
                                    "2": "7",
                                    "3": "11",
                                    "4": "17"
                                },
                                {
                                    "0": "1936 Summer",
                                    "1": "Switzerland",
                                    "2": "5",
                                    "3": "23",
                                    "4": "24"
                                },
                                {
                                    "0": "1936 Summer",
                                    "1": "Turkey",
                                    "2": "1",
                                    "3": "0",
                                    "4": "1"
                                },
                                {
                                    "0": "1936 Summer",
                                    "1": "UK",
                                    "2": "12",
                                    "3": "16",
                                    "4": "8"
                                },
                                {
                                    "0": "1936 Summer",
                                    "1": "USA",
                                    "2": "51",
                                    "3": "29",
                                    "4": "16"
                                },
                                {
                                    "0": "1936 Winter",
                                    "1": "Austria",
                                    "2": "1",
                                    "3": "2",
                                    "4": "2"
                                },
                                {
                                    "0": "1936 Winter",
                                    "1": "Canada",
                                    "2": "0",
                                    "3": "13",
                                    "4": "0"
                                },
                                {
                                    "0": "1936 Winter",
                                    "1": "Finland",
                                    "2": "4",
                                    "3": "2",
                                    "4": "3"
                                },
                                {
                                    "0": "1936 Winter",
                                    "1": "France",
                                    "2": "0",
                                    "3": "0",
                                    "4": "1"
                                },
                                {
                                    "0": "1936 Winter",
                                    "1": "Germany",
                                    "2": "4",
                                    "3": "3",
                                    "4": "0"
                                },
                                {
                                    "0": "1936 Winter",
                                    "1": "Hungary",
                                    "2": "0",
                                    "3": "0",
                                    "4": "2"
                                },
                                {
                                    "0": "1936 Winter",
                                    "1": "Norway",
                                    "2": "7",
                                    "3": "8",
                                    "4": "3"
                                },
                                {
                                    "0": "1936 Winter",
                                    "1": "Sweden",
                                    "2": "2",
                                    "3": "2",
                                    "4": "6"
                                },
                                {
                                    "0": "1936 Winter",
                                    "1": "Switzerland",
                                    "2": "4",
                                    "3": "6",
                                    "4": "0"
                                },
                                {
                                    "0": "1936 Winter",
                                    "1": "UK",
                                    "2": "12",
                                    "3": "1",
                                    "4": "4"
                                },
                                {
                                    "0": "1936 Winter",
                                    "1": "USA",
                                    "2": "2",
                                    "3": "0",
                                    "4": "14"
                                },
                                {
                                    "0": "1948 Summer",
                                    "1": "Argentina",
                                    "2": "3",
                                    "3": "7",
                                    "4": "1"
                                },
                                {
                                    "0": "1948 Summer",
                                    "1": "Australia",
                                    "2": "2",
                                    "3": "9",
                                    "4": "5"
                                },
                                {
                                    "0": "1948 Summer",
                                    "1": "Austria",
                                    "2": "2",
                                    "3": "2",
                                    "4": "4"
                                },
                                {
                                    "0": "1948 Summer",
                                    "1": "Belgium",
                                    "2": "5",
                                    "3": "2",
                                    "4": "8"
                                },
                                {
                                    "0": "1948 Summer",
                                    "1": "Brazil",
                                    "2": "0",
                                    "3": "0",
                                    "4": "10"
                                },
                                {
                                    "0": "1948 Summer",
                                    "1": "Canada",
                                    "2": "0",
                                    "3": "2",
                                    "4": "5"
                                },
                                {
                                    "0": "1948 Summer",
                                    "1": "Cuba",
                                    "2": "0",
                                    "3": "2",
                                    "4": "0"
                                },
                                {
                                    "0": "1948 Summer",
                                    "1": "Czech Republic",
                                    "2": "14",
                                    "3": "3",
                                    "4": "3"
                                },
                                {
                                    "0": "1948 Summer",
                                    "1": "Denmark",
                                    "2": "7",
                                    "3": "17",
                                    "4": "27"
                                },
                                {
                                    "0": "1948 Summer",
                                    "1": "Egypt",
                                    "2": "2",
                                    "3": "2",
                                    "4": "1"
                                },
                                {
                                    "0": "1948 Summer",
                                    "1": "Finland",
                                    "2": "17",
                                    "3": "8",
                                    "4": "8"
                                },
                                {
                                    "0": "1948 Summer",
                                    "1": "France",
                                    "2": "26",
                                    "3": "22",
                                    "4": "24"
                                },
                                {
                                    "0": "1948 Summer",
                                    "1": "Hungary",
                                    "2": "15",
                                    "3": "25",
                                    "4": "22"
                                },
                                {
                                    "0": "1948 Summer",
                                    "1": "India",
                                    "2": "20",
                                    "3": "0",
                                    "4": "0"
                                },
                                {
                                    "0": "1948 Summer",
                                    "1": "Iran",
                                    "2": "0",
                                    "3": "0",
                                    "4": "1"
                                },
                                {
                                    "0": "1948 Summer",
                                    "1": "Ireland",
                                    "2": "0",
                                    "3": "0",
                                    "4": "1"
                                },
                                {
                                    "0": "1948 Summer",
                                    "1": "Italy",
                                    "2": "21",
                                    "3": "32",
                                    "4": "14"
                                },
                                {
                                    "0": "1948 Summer",
                                    "1": "Jamaica",
                                    "2": "1",
                                    "3": "2",
                                    "4": "0"
                                },
                                {
                                    "0": "1948 Summer",
                                    "1": "Mexico",
                                    "2": "4",
                                    "3": "1",
                                    "4": "4"
                                },
                                {
                                    "0": "1948 Summer",
                                    "1": "Netherlands",
                                    "2": "8",
                                    "3": "2",
                                    "4": "32"
                                },
                                {
                                    "0": "1948 Summer",
                                    "1": "Norway",
                                    "2": "3",
                                    "3": "4",
                                    "4": "11"
                                },
                                {
                                    "0": "1948 Summer",
                                    "1": "Panama",
                                    "2": "0",
                                    "3": "0",
                                    "4": "2"
                                },
                                {
                                    "0": "1948 Summer",
                                    "1": "Peru",
                                    "2": "1",
                                    "3": "0",
                                    "4": "0"
                                },
                                {
                                    "0": "1948 Summer",
                                    "1": "Poland",
                                    "2": "1",
                                    "3": "0",
                                    "4": "1"
                                },
                                {
                                    "0": "1948 Summer",
                                    "1": "Portugal",
                                    "2": "0",
                                    "3": "2",
                                    "4": "3"
                                },
                                {
                                    "0": "1948 Summer",
                                    "1": "Puerto Rico",
                                    "2": "0",
                                    "3": "0",
                                    "4": "1"
                                },
                                {
                                    "0": "1948 Summer",
                                    "1": "Serbia",
                                    "2": "0",
                                    "3": "16",
                                    "4": "0"
                                },
                                {
                                    "0": "1948 Summer",
                                    "1": "South Africa",
                                    "2": "2",
                                    "3": "2",
                                    "4": "2"
                                },
                                {
                                    "0": "1948 Summer",
                                    "1": "South Korea",
                                    "2": "0",
                                    "3": "0",
                                    "4": "2"
                                },
                                {
                                    "0": "1948 Summer",
                                    "1": "Spain",
                                    "2": "0",
                                    "3": "3",
                                    "4": "0"
                                },
                                {
                                    "0": "1948 Summer",
                                    "1": "Sri Lanka",
                                    "2": "0",
                                    "3": "1",
                                    "4": "0"
                                },
                                {
                                    "0": "1948 Summer",
                                    "1": "Sweden",
                                    "2": "30",
                                    "3": "15",
                                    "4": "30"
                                },
                                {
                                    "0": "1948 Summer",
                                    "1": "Switzerland",
                                    "2": "5",
                                    "3": "25",
                                    "4": "6"
                                },
                                {
                                    "0": "1948 Summer",
                                    "1": "Trinidad",
                                    "2": "0",
                                    "3": "1",
                                    "4": "0"
                                },
                                {
                                    "0": "1948 Summer",
                                    "1": "Turkey",
                                    "2": "6",
                                    "3": "4",
                                    "4": "2"
                                },
                                {
                                    "0": "1948 Summer",
                                    "1": "UK",
                                    "2": "7",
                                    "3": "42",
                                    "4": "12"
                                },
                                {
                                    "0": "1948 Summer",
                                    "1": "Uruguay",
                                    "2": "0",
                                    "3": "1",
                                    "4": "2"
                                },
                                {
                                    "0": "1948 Summer",
                                    "1": "USA",
                                    "2": "87",
                                    "3": "30",
                                    "4": "35"
                                },
                                {
                                    "0": "1948 Winter",
                                    "1": "Austria",
                                    "2": "1",
                                    "3": "3",
                                    "4": "4"
                                },
                                {
                                    "0": "1948 Winter",
                                    "1": "Belgium",
                                    "2": "2",
                                    "3": "4",
                                    "4": "0"
                                },
                                {
                                    "0": "1948 Winter",
                                    "1": "Canada",
                                    "2": "13",
                                    "3": "0",
                                    "4": "2"
                                },
                                {
                                    "0": "1948 Winter",
                                    "1": "Czech Republic",
                                    "2": "0",
                                    "3": "17",
                                    "4": "0"
                                },
                                {
                                    "0": "1948 Winter",
                                    "1": "Finland",
                                    "2": "1",
                                    "3": "6",
                                    "4": "2"
                                },
                                {
                                    "0": "1948 Winter",
                                    "1": "France",
                                    "2": "2",
                                    "3": "1",
                                    "4": "2"
                                },
                                {
                                    "0": "1948 Winter",
                                    "1": "Hungary",
                                    "2": "0",
                                    "3": "2",
                                    "4": "0"
                                },
                                {
                                    "0": "1948 Winter",
                                    "1": "Italy",
                                    "2": "1",
                                    "3": "0",
                                    "4": "0"
                                },
                                {
                                    "0": "1948 Winter",
                                    "1": "Norway",
                                    "2": "4",
                                    "3": "3",
                                    "4": "6"
                                },
                                {
                                    "0": "1948 Winter",
                                    "1": "Sweden",
                                    "2": "7",
                                    "3": "3",
                                    "4": "3"
                                },
                                {
                                    "0": "1948 Winter",
                                    "1": "Switzerland",
                                    "2": "4",
                                    "3": "5",
                                    "4": "19"
                                },
                                {
                                    "0": "1948 Winter",
                                    "1": "UK",
                                    "2": "0",
                                    "3": "0",
                                    "4": "2"
                                },
                                {
                                    "0": "1948 Winter",
                                    "1": "USA",
                                    "2": "6",
                                    "3": "4",
                                    "4": "6"
                                },
                                {
                                    "0": "1952 Summer",
                                    "1": "Argentina",
                                    "2": "2",
                                    "3": "2",
                                    "4": "2"
                                },
                                {
                                    "0": "1952 Summer",
                                    "1": "Australia",
                                    "2": "7",
                                    "3": "2",
                                    "4": "11"
                                },
                                {
                                    "0": "1952 Summer",
                                    "1": "Austria",
                                    "2": "0",
                                    "3": "1",
                                    "4": "2"
                                },
                                {
                                    "0": "1952 Summer",
                                    "1": "Belgium",
                                    "2": "5",
                                    "3": "3",
                                    "4": "0"
                                },
                                {
                                    "0": "1952 Summer",
                                    "1": "Brazil",
                                    "2": "1",
                                    "3": "0",
                                    "4": "2"
                                },
                                {
                                    "0": "1952 Summer",
                                    "1": "Bulgaria",
                                    "2": "0",
                                    "3": "0",
                                    "4": "1"
                                },
                                {
                                    "0": "1952 Summer",
                                    "1": "Canada",
                                    "2": "1",
                                    "3": "3",
                                    "4": "0"
                                },
                                {
                                    "0": "1952 Summer",
                                    "1": "Chile",
                                    "2": "0",
                                    "3": "4",
                                    "4": "0"
                                },
                                {
                                    "0": "1952 Summer",
                                    "1": "Czech Republic",
                                    "2": "11",
                                    "3": "4",
                                    "4": "10"
                                },
                                {
                                    "0": "1952 Summer",
                                    "1": "Denmark",
                                    "2": "3",
                                    "3": "1",
                                    "4": "5"
                                },
                                {
                                    "0": "1952 Summer",
                                    "1": "Egypt",
                                    "2": "0",
                                    "3": "0",
                                    "4": "1"
                                },
                                {
                                    "0": "1952 Summer",
                                    "1": "Finland",
                                    "2": "8",
                                    "3": "3",
                                    "4": "29"
                                },
                                {
                                    "0": "1952 Summer",
                                    "1": "France",
                                    "2": "14",
                                    "3": "9",
                                    "4": "17"
                                },
                                {
                                    "0": "1952 Summer",
                                    "1": "Germany",
                                    "2": "0",
                                    "3": "14",
                                    "4": "26"
                                },
                                {
                                    "0": "1952 Summer",
                                    "1": "Hungary",
                                    "2": "53",
                                    "3": "17",
                                    "4": "32"
                                },
                                {
                                    "0": "1952 Summer",
                                    "1": "India",
                                    "2": "14",
                                    "3": "0",
                                    "4": "1"
                                },
                                {
                                    "0": "1952 Summer",
                                    "1": "Iran",
                                    "2": "0",
                                    "3": "3",
                                    "4": "4"
                                },
                                {
                                    "0": "1952 Summer",
                                    "1": "Ireland",
                                    "2": "0",
                                    "3": "1",
                                    "4": "0"
                                },
                                {
                                    "0": "1952 Summer",
                                    "1": "Italy",
                                    "2": "17",
                                    "3": "22",
                                    "4": "15"
                                },
                                {
                                    "0": "1952 Summer",
                                    "1": "Jamaica",
                                    "2": "5",
                                    "3": "3",
                                    "4": "0"
                                },
                                {
                                    "0": "1952 Summer",
                                    "1": "Japan",
                                    "2": "1",
                                    "3": "9",
                                    "4": "2"
                                },
                                {
                                    "0": "1952 Summer",
                                    "1": "Lebanon",
                                    "2": "0",
                                    "3": "1",
                                    "4": "1"
                                },
                                {
                                    "0": "1952 Summer",
                                    "1": "Luxembourg",
                                    "2": "1",
                                    "3": "0",
                                    "4": "0"
                                },
                                {
                                    "0": "1952 Summer",
                                    "1": "Mexico",
                                    "2": "0",
                                    "3": "1",
                                    "4": "0"
                                },
                                {
                                    "0": "1952 Summer",
                                    "1": "Netherlands",
                                    "2": "0",
                                    "3": "18",
                                    "4": "0"
                                },
                                {
                                    "0": "1952 Summer",
                                    "1": "New Zealand",
                                    "2": "1",
                                    "3": "0",
                                    "4": "2"
                                },
                                {
                                    "0": "1952 Summer",
                                    "1": "Norway",
                                    "2": "5",
                                    "3": "8",
                                    "4": "0"
                                },
                                {
                                    "0": "1952 Summer",
                                    "1": "Poland",
                                    "2": "1",
                                    "3": "2",
                                    "4": "1"
                                },
                                {
                                    "0": "1952 Summer",
                                    "1": "Portugal",
                                    "2": "0",
                                    "3": "0",
                                    "4": "2"
                                },
                                {
                                    "0": "1952 Summer",
                                    "1": "Romania",
                                    "2": "1",
                                    "3": "1",
                                    "4": "2"
                                },
                                {
                                    "0": "1952 Summer",
                                    "1": "Russia",
                                    "2": "36",
                                    "3": "62",
                                    "4": "19"
                                },
                                {
                                    "0": "1952 Summer",
                                    "1": "Serbia",
                                    "2": "4",
                                    "3": "20",
                                    "4": "0"
                                },
                                {
                                    "0": "1952 Summer",
                                    "1": "South Africa",
                                    "2": "2",
                                    "3": "8",
                                    "4": "4"
                                },
                                {
                                    "0": "1952 Summer",
                                    "1": "South Korea",
                                    "2": "0",
                                    "3": "0",
                                    "4": "2"
                                },
                                {
                                    "0": "1952 Summer",
                                    "1": "Spain",
                                    "2": "0",
                                    "3": "1",
                                    "4": "0"
                                },
                                {
                                    "0": "1952 Summer",
                                    "1": "Sweden",
                                    "2": "23",
                                    "3": "24",
                                    "4": "23"
                                },
                                {
                                    "0": "1952 Summer",
                                    "1": "Switzerland",
                                    "2": "2",
                                    "3": "19",
                                    "4": "12"
                                },
                                {
                                    "0": "1952 Summer",
                                    "1": "Trinidad",
                                    "2": "0",
                                    "3": "0",
                                    "4": "2"
                                },
                                {
                                    "0": "1952 Summer",
                                    "1": "Turkey",
                                    "2": "2",
                                    "3": "0",
                                    "4": "1"
                                },
                                {
                                    "0": "1952 Summer",
                                    "1": "UK",
                                    "2": "3",
                                    "3": "2",
                                    "4": "26"
                                },
                                {
                                    "0": "1952 Summer",
                                    "1": "Uruguay",
                                    "2": "0",
                                    "3": "0",
                                    "4": "14"
                                },
                                {
                                    "0": "1952 Summer",
                                    "1": "USA",
                                    "2": "83",
                                    "3": "23",
                                    "4": "28"
                                },
                                {
                                    "0": "1952 Summer",
                                    "1": "Venezuela",
                                    "2": "0",
                                    "3": "0",
                                    "4": "1"
                                },
                                {
                                    "0": "1952 Winter",
                                    "1": "Austria",
                                    "2": "2",
                                    "3": "4",
                                    "4": "2"
                                },
                                {
                                    "0": "1952 Winter",
                                    "1": "Canada",
                                    "2": "16",
                                    "3": "0",
                                    "4": "1"
                                },
                                {
                                    "0": "1952 Winter",
                                    "1": "Finland",
                                    "2": "6",
                                    "3": "4",
                                    "4": "2"
                                },
                                {
                                    "0": "1952 Winter",
                                    "1": "France",
                                    "2": "0",
                                    "3": "0",
                                    "4": "1"
                                },
                                {
                                    "0": "1952 Winter",
                                    "1": "Germany",
                                    "2": "8",
                                    "3": "2",
                                    "4": "2"
                                },
                                {
                                    "0": "1952 Winter",
                                    "1": "Hungary",
                                    "2": "0",
                                    "3": "0",
                                    "4": "2"
                                },
                                {
                                    "0": "1952 Winter",
                                    "1": "Italy",
                                    "2": "1",
                                    "3": "0",
                                    "4": "1"
                                },
                                {
                                    "0": "1952 Winter",
                                    "1": "Netherlands",
                                    "2": "0",
                                    "3": "3",
                                    "4": "0"
                                },
                                {
                                    "0": "1952 Winter",
                                    "1": "Norway",
                                    "2": "7",
                                    "3": "6",
                                    "4": "6"
                                },
                                {
                                    "0": "1952 Winter",
                                    "1": "Sweden",
                                    "2": "0",
                                    "3": "0",
                                    "4": "23"
                                },
                                {
                                    "0": "1952 Winter",
                                    "1": "Switzerland",
                                    "2": "0",
                                    "3": "0",
                                    "4": "6"
                                },
                                {
                                    "0": "1952 Winter",
                                    "1": "UK",
                                    "2": "1",
                                    "3": "0",
                                    "4": "0"
                                },
                                {
                                    "0": "1952 Winter",
                                    "1": "USA",
                                    "2": "4",
                                    "3": "25",
                                    "4": "1"
                                },
                                {
                                    "0": "1956 Summer",
                                    "1": "Argentina",
                                    "2": "0",
                                    "3": "1",
                                    "4": "1"
                                },
                                {
                                    "0": "1956 Summer",
                                    "1": "Australia",
                                    "2": "28",
                                    "3": "13",
                                    "4": "26"
                                },
                                {
                                    "0": "1956 Summer",
                                    "1": "Austria",
                                    "2": "0",
                                    "3": "0",
                                    "4": "4"
                                },
                                {
                                    "0": "1956 Summer",
                                    "1": "Bahamas",
                                    "2": "0",
                                    "3": "0",
                                    "4": "2"
                                },
                                {
                                    "0": "1956 Summer",
                                    "1": "Belgium",
                                    "2": "0",
                                    "3": "2",
                                    "4": "0"
                                },
                                {
                                    "0": "1956 Summer",
                                    "1": "Brazil",
                                    "2": "1",
                                    "3": "0",
                                    "4": "0"
                                },
                                {
                                    "0": "1956 Summer",
                                    "1": "Bulgaria",
                                    "2": "1",
                                    "3": "3",
                                    "4": "14"
                                },
                                {
                                    "0": "1956 Summer",
                                    "1": "Canada",
                                    "2": "5",
                                    "3": "9",
                                    "4": "5"
                                },
                                {
                                    "0": "1956 Summer",
                                    "1": "Chile",
                                    "2": "0",
                                    "3": "2",
                                    "4": "2"
                                },
                                {
                                    "0": "1956 Summer",
                                    "1": "Czech Republic",
                                    "2": "1",
                                    "3": "5",
                                    "4": "1"
                                },
                                {
                                    "0": "1956 Summer",
                                    "1": "Denmark",
                                    "2": "1",
                                    "3": "4",
                                    "4": "1"
                                },
                                {
                                    "0": "1956 Summer",
                                    "1": "Finland",
                                    "2": "3",
                                    "3": "1",
                                    "4": "22"
                                },
                                {
                                    "0": "1956 Summer",
                                    "1": "France",
                                    "2": "7",
                                    "3": "13",
                                    "4": "13"
                                },
                                {
                                    "0": "1956 Summer",
                                    "1": "Germany",
                                    "2": "9",
                                    "3": "20",
                                    "4": "23"
                                },
                                {
                                    "0": "1956 Summer",
                                    "1": "Greece",
                                    "2": "0",
                                    "3": "0",
                                    "4": "1"
                                },
                                {
                                    "0": "1956 Summer",
                                    "1": "Hungary",
                                    "2": "30",
                                    "3": "20",
                                    "4": "14"
                                },
                                {
                                    "0": "1956 Summer",
                                    "1": "Iceland",
                                    "2": "0",
                                    "3": "1",
                                    "4": "0"
                                },
                                {
                                    "0": "1956 Summer",
                                    "1": "India",
                                    "2": "17",
                                    "3": "0",
                                    "4": "0"
                                },
                                {
                                    "0": "1956 Summer",
                                    "1": "Iran",
                                    "2": "2",
                                    "3": "2",
                                    "4": "1"
                                },
                                {
                                    "0": "1956 Summer",
                                    "1": "Ireland",
                                    "2": "1",
                                    "3": "1",
                                    "4": "3"
                                },
                                {
                                    "0": "1956 Summer",
                                    "1": "Italy",
                                    "2": "26",
                                    "3": "11",
                                    "4": "10"
                                },
                                {
                                    "0": "1956 Summer",
                                    "1": "Japan",
                                    "2": "4",
                                    "3": "15",
                                    "4": "5"
                                },
                                {
                                    "0": "1956 Summer",
                                    "1": "Mexico",
                                    "2": "1",
                                    "3": "0",
                                    "4": "1"
                                },
                                {
                                    "0": "1956 Summer",
                                    "1": "New Zealand",
                                    "2": "3",
                                    "3": "0",
                                    "4": "0"
                                },
                                {
                                    "0": "1956 Summer",
                                    "1": "Norway",
                                    "2": "1",
                                    "3": "0",
                                    "4": "2"
                                },
                                {
                                    "0": "1956 Summer",
                                    "1": "Pakistan",
                                    "2": "0",
                                    "3": "14",
                                    "4": "0"
                                },
                                {
                                    "0": "1956 Summer",
                                    "1": "Poland",
                                    "2": "1",
                                    "3": "9",
                                    "4": "9"
                                },
                                {
                                    "0": "1956 Summer",
                                    "1": "Romania",
                                    "2": "6",
                                    "3": "3",
                                    "4": "10"
                                },
                                {
                                    "0": "1956 Summer",
                                    "1": "Russia",
                                    "2": "68",
                                    "3": "46",
                                    "4": "55"
                                },
                                {
                                    "0": "1956 Summer",
                                    "1": "Serbia",
                                    "2": "0",
                                    "3": "23",
                                    "4": "0"
                                },
                                {
                                    "0": "1956 Summer",
                                    "1": "South Africa",
                                    "2": "0",
                                    "3": "0",
                                    "4": "7"
                                },
                                {
                                    "0": "1956 Summer",
                                    "1": "South Korea",
                                    "2": "0",
                                    "3": "1",
                                    "4": "1"
                                },
                                {
                                    "0": "1956 Summer",
                                    "1": "Sweden",
                                    "2": "14",
                                    "3": "14",
                                    "4": "6"
                                },
                                {
                                    "0": "1956 Summer",
                                    "1": "Switzerland",
                                    "2": "0",
                                    "3": "0",
                                    "4": "3"
                                },
                                {
                                    "0": "1956 Summer",
                                    "1": "Turkey",
                                    "2": "3",
                                    "3": "2",
                                    "4": "2"
                                },
                                {
                                    "0": "1956 Summer",
                                    "1": "UK",
                                    "2": "8",
                                    "3": "16",
                                    "4": "22"
                                },
                                {
                                    "0": "1956 Summer",
                                    "1": "Uruguay",
                                    "2": "0",
                                    "3": "0",
                                    "4": "12"
                                },
                                {
                                    "0": "1956 Summer",
                                    "1": "USA",
                                    "2": "61",
                                    "3": "42",
                                    "4": "20"
                                },
                                {
                                    "0": "1956 Winter",
                                    "1": "Austria",
                                    "2": "5",
                                    "3": "3",
                                    "4": "4"
                                },
                                {
                                    "0": "1956 Winter",
                                    "1": "Canada",
                                    "2": "0",
                                    "3": "2",
                                    "4": "18"
                                },
                                {
                                    "0": "1956 Winter",
                                    "1": "Finland",
                                    "2": "5",
                                    "3": "6",
                                    "4": "1"
                                },
                                {
                                    "0": "1956 Winter",
                                    "1": "Germany",
                                    "2": "1",
                                    "3": "0",
                                    "4": "1"
                                },
                                {
                                    "0": "1956 Winter",
                                    "1": "Hungary",
                                    "2": "0",
                                    "3": "0",
                                    "4": "2"
                                },
                                {
                                    "0": "1956 Winter",
                                    "1": "Italy",
                                    "2": "2",
                                    "3": "6",
                                    "4": "0"
                                },
                                {
                                    "0": "1956 Winter",
                                    "1": "Japan",
                                    "2": "0",
                                    "3": "1",
                                    "4": "0"
                                },
                                {
                                    "0": "1956 Winter",
                                    "1": "Norway",
                                    "2": "2",
                                    "3": "1",
                                    "4": "1"
                                },
                                {
                                    "0": "1956 Winter",
                                    "1": "Poland",
                                    "2": "0",
                                    "3": "0",
                                    "4": "1"
                                },
                                {
                                    "0": "1956 Winter",
                                    "1": "Russia",
                                    "2": "26",
                                    "3": "5",
                                    "4": "6"
                                },
                                {
                                    "0": "1956 Winter",
                                    "1": "Sweden",
                                    "2": "2",
                                    "3": "4",
                                    "4": "9"
                                },
                                {
                                    "0": "1956 Winter",
                                    "1": "Switzerland",
                                    "2": "6",
                                    "3": "2",
                                    "4": "2"
                                },
                                {
                                    "0": "1956 Winter",
                                    "1": "USA",
                                    "2": "2",
                                    "3": "19",
                                    "4": "5"
                                },
                                {
                                    "0": "1960 Summer",
                                    "1": "Argentina",
                                    "2": "0",
                                    "3": "3",
                                    "4": "1"
                                },
                                {
                                    "0": "1960 Summer",
                                    "1": "Australia",
                                    "2": "11",
                                    "3": "24",
                                    "4": "11"
                                },
                                {
                                    "0": "1960 Summer",
                                    "1": "Austria",
                                    "2": "1",
                                    "3": "2",
                                    "4": "0"
                                },
                                {
                                    "0": "1960 Summer",
                                    "1": "Belgium",
                                    "2": "0",
                                    "3": "2",
                                    "4": "2"
                                },
                                {
                                    "0": "1960 Summer",
                                    "1": "Brazil",
                                    "2": "0",
                                    "3": "0",
                                    "4": "13"
                                },
                                {
                                    "0": "1960 Summer",
                                    "1": "Bulgaria",
                                    "2": "1",
                                    "3": "3",
                                    "4": "3"
                                },
                                {
                                    "0": "1960 Summer",
                                    "1": "Canada",
                                    "2": "0",
                                    "3": "9",
                                    "4": "0"
                                },
                                {
                                    "0": "1960 Summer",
                                    "1": "Czech Republic",
                                    "2": "4",
                                    "3": "7",
                                    "4": "11"
                                },
                                {
                                    "0": "1960 Summer",
                                    "1": "Denmark",
                                    "2": "2",
                                    "3": "17",
                                    "4": "4"
                                },
                                {
                                    "0": "1960 Summer",
                                    "1": "Ethiopia",
                                    "2": "1",
                                    "3": "0",
                                    "4": "0"
                                },
                                {
                                    "0": "1960 Summer",
                                    "1": "Finland",
                                    "2": "1",
                                    "3": "1",
                                    "4": "4"
                                },
                                {
                                    "0": "1960 Summer",
                                    "1": "France",
                                    "2": "0",
                                    "3": "6",
                                    "4": "6"
                                },
                                {
                                    "0": "1960 Summer",
                                    "1": "Germany",
                                    "2": "34",
                                    "3": "33",
                                    "4": "22"
                                },
                                {
                                    "0": "1960 Summer",
                                    "1": "Ghana",
                                    "2": "0",
                                    "3": "1",
                                    "4": "0"
                                },
                                {
                                    "0": "1960 Summer",
                                    "1": "Greece",
                                    "2": "3",
                                    "3": "0",
                                    "4": "0"
                                },
                                {
                                    "0": "1960 Summer",
                                    "1": "Hungary",
                                    "2": "13",
                                    "3": "16",
                                    "4": "37"
                                },
                                {
                                    "0": "1960 Summer",
                                    "1": "India",
                                    "2": "0",
                                    "3": "13",
                                    "4": "0"
                                },
                                {
                                    "0": "1960 Summer",
                                    "1": "Iran",
                                    "2": "0",
                                    "3": "1",
                                    "4": "3"
                                },
                                {
                                    "0": "1960 Summer",
                                    "1": "Iraq",
                                    "2": "0",
                                    "3": "0",
                                    "4": "1"
                                },
                                {
                                    "0": "1960 Summer",
                                    "1": "Italy",
                                    "2": "36",
                                    "3": "18",
                                    "4": "34"
                                },
                                {
                                    "0": "1960 Summer",
                                    "1": "Japan",
                                    "2": "9",
                                    "3": "10",
                                    "4": "12"
                                },
                                {
                                    "0": "1960 Summer",
                                    "1": "Mexico",
                                    "2": "0",
                                    "3": "0",
                                    "4": "1"
                                },
                                {
                                    "0": "1960 Summer",
                                    "1": "Morocco",
                                    "2": "0",
                                    "3": "1",
                                    "4": "0"
                                },
                                {
                                    "0": "1960 Summer",
                                    "1": "Netherlands",
                                    "2": "0",
                                    "3": "1",
                                    "4": "2"
                                },
                                {
                                    "0": "1960 Summer",
                                    "1": "New Zealand",
                                    "2": "2",
                                    "3": "0",
                                    "4": "1"
                                },
                                {
                                    "0": "1960 Summer",
                                    "1": "Norway",
                                    "2": "2",
                                    "3": "0",
                                    "4": "0"
                                },
                                {
                                    "0": "1960 Summer",
                                    "1": "Pakistan",
                                    "2": "13",
                                    "3": "0",
                                    "4": "1"
                                },
                                {
                                    "0": "1960 Summer",
                                    "1": "Poland",
                                    "2": "4",
                                    "3": "11",
                                    "4": "15"
                                },
                                {
                                    "0": "1960 Summer",
                                    "1": "Portugal",
                                    "2": "0",
                                    "3": "2",
                                    "4": "0"
                                },
                                {
                                    "0": "1960 Summer",
                                    "1": "Romania",
                                    "2": "3",
                                    "3": "1",
                                    "4": "11"
                                },
                                {
                                    "0": "1960 Summer",
                                    "1": "Russia",
                                    "2": "61",
                                    "3": "63",
                                    "4": "45"
                                },
                                {
                                    "0": "1960 Summer",
                                    "1": "Serbia",
                                    "2": "16",
                                    "3": "1",
                                    "4": "0"
                                },
                                {
                                    "0": "1960 Summer",
                                    "1": "South Africa",
                                    "2": "0",
                                    "3": "1",
                                    "4": "2"
                                },
                                {
                                    "0": "1960 Summer",
                                    "1": "Spain",
                                    "2": "0",
                                    "3": "0",
                                    "4": "14"
                                },
                                {
                                    "0": "1960 Summer",
                                    "1": "Sweden",
                                    "2": "2",
                                    "3": "2",
                                    "4": "3"
                                },
                                {
                                    "0": "1960 Summer",
                                    "1": "Switzerland",
                                    "2": "0",
                                    "3": "6",
                                    "4": "6"
                                },
                                {
                                    "0": "1960 Summer",
                                    "1": "Syria",
                                    "2": "0",
                                    "3": "1",
                                    "4": "1"
                                },
                                {
                                    "0": "1960 Summer",
                                    "1": "Taiwan",
                                    "2": "0",
                                    "3": "1",
                                    "4": "0"
                                },
                                {
                                    "0": "1960 Summer",
                                    "1": "Trinidad",
                                    "2": "0",
                                    "3": "0",
                                    "4": "5"
                                },
                                {
                                    "0": "1960 Summer",
                                    "1": "Turkey",
                                    "2": "7",
                                    "3": "2",
                                    "4": "0"
                                },
                                {
                                    "0": "1960 Summer",
                                    "1": "UK",
                                    "2": "2",
                                    "3": "11",
                                    "4": "15"
                                },
                                {
                                    "0": "1960 Summer",
                                    "1": "USA",
                                    "2": "81",
                                    "3": "23",
                                    "4": "21"
                                },
                                {
                                    "0": "1960 Summer",
                                    "1": "Venezuela",
                                    "2": "0",
                                    "3": "0",
                                    "4": "1"
                                },
                                {
                                    "0": "1960 Winter",
                                    "1": "Austria",
                                    "2": "1",
                                    "3": "2",
                                    "4": "3"
                                },
                                {
                                    "0": "1960 Winter",
                                    "1": "Canada",
                                    "2": "3",
                                    "3": "17",
                                    "4": "1"
                                },
                                {
                                    "0": "1960 Winter",
                                    "1": "Czech Republic",
                                    "2": "0",
                                    "3": "1",
                                    "4": "0"
                                },
                                {
                                    "0": "1960 Winter",
                                    "1": "Finland",
                                    "2": "5",
                                    "3": "3",
                                    "4": "5"
                                },
                                {
                                    "0": "1960 Winter",
                                    "1": "France",
                                    "2": "1",
                                    "3": "0",
                                    "4": "2"
                                },
                                {
                                    "0": "1960 Winter",
                                    "1": "Germany",
                                    "2": "4",
                                    "3": "4",
                                    "4": "1"
                                },
                                {
                                    "0": "1960 Winter",
                                    "1": "Italy",
                                    "2": "0",
                                    "3": "0",
                                    "4": "1"
                                },
                                {
                                    "0": "1960 Winter",
                                    "1": "Netherlands",
                                    "2": "0",
                                    "3": "1",
                                    "4": "1"
                                },
                                {
                                    "0": "1960 Winter",
                                    "1": "Norway",
                                    "2": "3",
                                    "3": "6",
                                    "4": "0"
                                },
                                {
                                    "0": "1960 Winter",
                                    "1": "Poland",
                                    "2": "0",
                                    "3": "1",
                                    "4": "1"
                                },
                                {
                                    "0": "1960 Winter",
                                    "1": "Russia",
                                    "2": "7",
                                    "3": "7",
                                    "4": "28"
                                },
                                {
                                    "0": "1960 Winter",
                                    "1": "Sweden",
                                    "2": "5",
                                    "3": "2",
                                    "4": "2"
                                },
                                {
                                    "0": "1960 Winter",
                                    "1": "Switzerland",
                                    "2": "2",
                                    "3": "0",
                                    "4": "0"
                                },
                                {
                                    "0": "1960 Winter",
                                    "1": "USA",
                                    "2": "19",
                                    "3": "4",
                                    "4": "4"
                                },
                                {
                                    "0": "1964 Summer",
                                    "1": "Argentina",
                                    "2": "0",
                                    "3": "1",
                                    "4": "0"
                                },
                                {
                                    "0": "1964 Summer",
                                    "1": "Australia",
                                    "2": "8",
                                    "3": "6",
                                    "4": "30"
                                },
                                {
                                    "0": "1964 Summer",
                                    "1": "Bahamas",
                                    "2": "2",
                                    "3": "0",
                                    "4": "0"
                                },
                                {
                                    "0": "1964 Summer",
                                    "1": "Belgium",
                                    "2": "2",
                                    "3": "0",
                                    "4": "1"
                                },
                                {
                                    "0": "1964 Summer",
                                    "1": "Brazil",
                                    "2": "0",
                                    "3": "0",
                                    "4": "12"
                                },
                                {
                                    "0": "1964 Summer",
                                    "1": "Bulgaria",
                                    "2": "3",
                                    "3": "5",
                                    "4": "2"
                                },
                                {
                                    "0": "1964 Summer",
                                    "1": "Canada",
                                    "2": "2",
                                    "3": "2",
                                    "4": "1"
                                },
                                {
                                    "0": "1964 Summer",
                                    "1": "Cuba",
                                    "2": "0",
                                    "3": "1",
                                    "4": "0"
                                },
                                {
                                    "0": "1964 Summer",
                                    "1": "Czech Republic",
                                    "2": "5",
                                    "3": "37",
                                    "4": "12"
                                },
                                {
                                    "0": "1964 Summer",
                                    "1": "Denmark",
                                    "2": "7",
                                    "3": "1",
                                    "4": "4"
                                },
                                {
                                    "0": "1964 Summer",
                                    "1": "Ethiopia",
                                    "2": "1",
                                    "3": "0",
                                    "4": "0"
                                },
                                {
                                    "0": "1964 Summer",
                                    "1": "Finland",
                                    "2": "3",
                                    "3": "0",
                                    "4": "2"
                                },
                                {
                                    "0": "1964 Summer",
                                    "1": "France",
                                    "2": "1",
                                    "3": "13",
                                    "4": "17"
                                },
                                {
                                    "0": "1964 Summer",
                                    "1": "Germany",
                                    "2": "22",
                                    "3": "44",
                                    "4": "50"
                                },
                                {
                                    "0": "1964 Summer",
                                    "1": "Ghana",
                                    "2": "0",
                                    "3": "0",
                                    "4": "1"
                                },
                                {
                                    "0": "1964 Summer",
                                    "1": "Hungary",
                                    "2": "42",
                                    "3": "7",
                                    "4": "7"
                                },
                                {
                                    "0": "1964 Summer",
                                    "1": "India",
                                    "2": "15",
                                    "3": "0",
                                    "4": "0"
                                },
                                {
                                    "0": "1964 Summer",
                                    "1": "Iran",
                                    "2": "0",
                                    "3": "0",
                                    "4": "2"
                                },
                                {
                                    "0": "1964 Summer",
                                    "1": "Ireland",
                                    "2": "0",
                                    "3": "0",
                                    "4": "1"
                                },
                                {
                                    "0": "1964 Summer",
                                    "1": "Italy",
                                    "2": "14",
                                    "3": "28",
                                    "4": "9"
                                },
                                {
                                    "0": "1964 Summer",
                                    "1": "Japan",
                                    "2": "32",
                                    "3": "5",
                                    "4": "25"
                                },
                                {
                                    "0": "1964 Summer",
                                    "1": "Kenya",
                                    "2": "0",
                                    "3": "0",
                                    "4": "1"
                                },
                                {
                                    "0": "1964 Summer",
                                    "1": "Mexico",
                                    "2": "0",
                                    "3": "0",
                                    "4": "1"
                                },
                                {
                                    "0": "1964 Summer",
                                    "1": "Netherlands",
                                    "2": "5",
                                    "3": "10",
                                    "4": "16"
                                },
                                {
                                    "0": "1964 Summer",
                                    "1": "New Zealand",
                                    "2": "4",
                                    "3": "0",
                                    "4": "2"
                                },
                                {
                                    "0": "1964 Summer",
                                    "1": "Nigeria",
                                    "2": "0",
                                    "3": "0",
                                    "4": "1"
                                },
                                {
                                    "0": "1964 Summer",
                                    "1": "Pakistan",
                                    "2": "0",
                                    "3": "16",
                                    "4": "0"
                                },
                                {
                                    "0": "1964 Summer",
                                    "1": "Philippines",
                                    "2": "0",
                                    "3": "1",
                                    "4": "0"
                                },
                                {
                                    "0": "1964 Summer",
                                    "1": "Poland",
                                    "2": "10",
                                    "3": "13",
                                    "4": "23"
                                },
                                {
                                    "0": "1964 Summer",
                                    "1": "Romania",
                                    "2": "2",
                                    "3": "4",
                                    "4": "10"
                                },
                                {
                                    "0": "1964 Summer",
                                    "1": "Russia",
                                    "2": "60",
                                    "3": "63",
                                    "4": "51"
                                },
                                {
                                    "0": "1964 Summer",
                                    "1": "Serbia",
                                    "2": "2",
                                    "3": "11",
                                    "4": "2"
                                },
                                {
                                    "0": "1964 Summer",
                                    "1": "South Korea",
                                    "2": "0",
                                    "3": "2",
                                    "4": "1"
                                },
                                {
                                    "0": "1964 Summer",
                                    "1": "Sweden",
                                    "2": "3",
                                    "3": "4",
                                    "4": "8"
                                },
                                {
                                    "0": "1964 Summer",
                                    "1": "Switzerland",
                                    "2": "1",
                                    "3": "4",
                                    "4": "1"
                                },
                                {
                                    "0": "1964 Summer",
                                    "1": "Trinidad",
                                    "2": "0",
                                    "3": "1",
                                    "4": "5"
                                },
                                {
                                    "0": "1964 Summer",
                                    "1": "Tunisia",
                                    "2": "0",
                                    "3": "1",
                                    "4": "1"
                                },
                                {
                                    "0": "1964 Summer",
                                    "1": "Turkey",
                                    "2": "2",
                                    "3": "3",
                                    "4": "1"
                                },
                                {
                                    "0": "1964 Summer",
                                    "1": "UK",
                                    "2": "4",
                                    "3": "19",
                                    "4": "5"
                                },
                                {
                                    "0": "1964 Summer",
                                    "1": "Uruguay",
                                    "2": "0",
                                    "3": "0",
                                    "4": "1"
                                },
                                {
                                    "0": "1964 Summer",
                                    "1": "USA",
                                    "2": "95",
                                    "3": "37",
                                    "4": "37"
                                },
                                {
                                    "0": "1964 Winter",
                                    "1": "Austria",
                                    "2": "5",
                                    "3": "9",
                                    "4": "3"
                                },
                                {
                                    "0": "1964 Winter",
                                    "1": "Canada",
                                    "2": "4",
                                    "3": "2",
                                    "4": "1"
                                },
                                {
                                    "0": "1964 Winter",
                                    "1": "Czech Republic",
                                    "2": "0",
                                    "3": "0",
                                    "4": "17"
                                },
                                {
                                    "0": "1964 Winter",
                                    "1": "Finland",
                                    "2": "3",
                                    "3": "7",
                                    "4": "5"
                                },
                                {
                                    "0": "1964 Winter",
                                    "1": "France",
                                    "2": "3",
                                    "3": "4",
                                    "4": "0"
                                },
                                {
                                    "0": "1964 Winter",
                                    "1": "Germany",
                                    "2": "3",
                                    "3": "4",
                                    "4": "3"
                                },
                                {
                                    "0": "1964 Winter",
                                    "1": "Italy",
                                    "2": "0",
                                    "3": "2",
                                    "4": "8"
                                },
                                {
                                    "0": "1964 Winter",
                                    "1": "Netherlands",
                                    "2": "1",
                                    "3": "1",
                                    "4": "0"
                                },
                                {
                                    "0": "1964 Winter",
                                    "1": "North Korea",
                                    "2": "0",
                                    "3": "1",
                                    "4": "0"
                                },
                                {
                                    "0": "1964 Winter",
                                    "1": "Norway",
                                    "2": "3",
                                    "3": "6",
                                    "4": "6"
                                },
                                {
                                    "0": "1964 Winter",
                                    "1": "Russia",
                                    "2": "30",
                                    "3": "8",
                                    "4": "9"
                                },
                                {
                                    "0": "1964 Winter",
                                    "1": "Sweden",
                                    "2": "6",
                                    "3": "21",
                                    "4": "1"
                                },
                                {
                                    "0": "1964 Winter",
                                    "1": "UK",
                                    "2": "2",
                                    "3": "0",
                                    "4": "0"
                                },
                                {
                                    "0": "1964 Winter",
                                    "1": "USA",
                                    "2": "1",
                                    "3": "2",
                                    "4": "5"
                                },
                                {
                                    "0": "1968 Summer",
                                    "1": "Argentina",
                                    "2": "0",
                                    "3": "0",
                                    "4": "2"
                                },
                                {
                                    "0": "1968 Summer",
                                    "1": "Australia",
                                    "2": "5",
                                    "3": "35",
                                    "4": "11"
                                },
                                {
                                    "0": "1968 Summer",
                                    "1": "Austria",
                                    "2": "0",
                                    "3": "2",
                                    "4": "3"
                                },
                                {
                                    "0": "1968 Summer",
                                    "1": "Belgium",
                                    "2": "0",
                                    "3": "1",
                                    "4": "2"
                                },
                                {
                                    "0": "1968 Summer",
                                    "1": "Brazil",
                                    "2": "0",
                                    "3": "1",
                                    "4": "3"
                                },
                                {
                                    "0": "1968 Summer",
                                    "1": "Bulgaria",
                                    "2": "2",
                                    "3": "21",
                                    "4": "3"
                                },
                                {
                                    "0": "1968 Summer",
                                    "1": "Cameroon",
                                    "2": "0",
                                    "3": "1",
                                    "4": "0"
                                },
                                {
                                    "0": "1968 Summer",
                                    "1": "Canada",
                                    "2": "3",
                                    "3": "3",
                                    "4": "4"
                                },
                                {
                                    "0": "1968 Summer",
                                    "1": "Cuba",
                                    "2": "0",
                                    "3": "10",
                                    "4": "0"
                                },
                                {
                                    "0": "1968 Summer",
                                    "1": "Czech Republic",
                                    "2": "7",
                                    "3": "7",
                                    "4": "15"
                                },
                                {
                                    "0": "1968 Summer",
                                    "1": "Denmark",
                                    "2": "5",
                                    "3": "6",
                                    "4": "6"
                                },
                                {
                                    "0": "1968 Summer",
                                    "1": "Ethiopia",
                                    "2": "1",
                                    "3": "1",
                                    "4": "0"
                                },
                                {
                                    "0": "1968 Summer",
                                    "1": "Finland",
                                    "2": "1",
                                    "3": "2",
                                    "4": "1"
                                },
                                {
                                    "0": "1968 Summer",
                                    "1": "France",
                                    "2": "12",
                                    "3": "5",
                                    "4": "10"
                                },
                                {
                                    "0": "1968 Summer",
                                    "1": "Germany",
                                    "2": "30",
                                    "3": "36",
                                    "4": "37"
                                },
                                {
                                    "0": "1968 Summer",
                                    "1": "Greece",
                                    "2": "0",
                                    "3": "0",
                                    "4": "1"
                                },
                                {
                                    "0": "1968 Summer",
                                    "1": "Hungary",
                                    "2": "32",
                                    "3": "20",
                                    "4": "29"
                                },
                                {
                                    "0": "1968 Summer",
                                    "1": "India",
                                    "2": "0",
                                    "3": "0",
                                    "4": "16"
                                },
                                {
                                    "0": "1968 Summer",
                                    "1": "Iran",
                                    "2": "2",
                                    "3": "1",
                                    "4": "2"
                                },
                                {
                                    "0": "1968 Summer",
                                    "1": "Italy",
                                    "2": "5",
                                    "3": "8",
                                    "4": "20"
                                },
                                {
                                    "0": "1968 Summer",
                                    "1": "Jamaica",
                                    "2": "0",
                                    "3": "1",
                                    "4": "0"
                                },
                                {
                                    "0": "1968 Summer",
                                    "1": "Japan",
                                    "2": "16",
                                    "3": "25",
                                    "4": "22"
                                },
                                {
                                    "0": "1968 Summer",
                                    "1": "Kenya",
                                    "2": "3",
                                    "3": "7",
                                    "4": "2"
                                },
                                {
                                    "0": "1968 Summer",
                                    "1": "Mexico",
                                    "2": "3",
                                    "3": "3",
                                    "4": "3"
                                },
                                {
                                    "0": "1968 Summer",
                                    "1": "Mongolia",
                                    "2": "0",
                                    "3": "1",
                                    "4": "3"
                                },
                                {
                                    "0": "1968 Summer",
                                    "1": "Netherlands",
                                    "2": "6",
                                    "3": "7",
                                    "4": "1"
                                },
                                {
                                    "0": "1968 Summer",
                                    "1": "New Zealand",
                                    "2": "5",
                                    "3": "0",
                                    "4": "2"
                                },
                                {
                                    "0": "1968 Summer",
                                    "1": "Norway",
                                    "2": "4",
                                    "3": "2",
                                    "4": "0"
                                },
                                {
                                    "0": "1968 Summer",
                                    "1": "Pakistan",
                                    "2": "13",
                                    "3": "0",
                                    "4": "0"
                                },
                                {
                                    "0": "1968 Summer",
                                    "1": "Poland",
                                    "2": "5",
                                    "3": "2",
                                    "4": "30"
                                },
                                {
                                    "0": "1968 Summer",
                                    "1": "Romania",
                                    "2": "5",
                                    "3": "9",
                                    "4": "9"
                                },
                                {
                                    "0": "1968 Summer",
                                    "1": "Russia",
                                    "2": "65",
                                    "3": "63",
                                    "4": "64"
                                },
                                {
                                    "0": "1968 Summer",
                                    "1": "Serbia",
                                    "2": "13",
                                    "3": "14",
                                    "4": "2"
                                },
                                {
                                    "0": "1968 Summer",
                                    "1": "South Korea",
                                    "2": "0",
                                    "3": "1",
                                    "4": "1"
                                },
                                {
                                    "0": "1968 Summer",
                                    "1": "Sweden",
                                    "2": "4",
                                    "3": "4",
                                    "4": "1"
                                },
                                {
                                    "0": "1968 Summer",
                                    "1": "Switzerland",
                                    "2": "0",
                                    "3": "3",
                                    "4": "10"
                                },
                                {
                                    "0": "1968 Summer",
                                    "1": "Taiwan",
                                    "2": "0",
                                    "3": "0",
                                    "4": "1"
                                },
                                {
                                    "0": "1968 Summer",
                                    "1": "Tunisia",
                                    "2": "1",
                                    "3": "0",
                                    "4": "1"
                                },
                                {
                                    "0": "1968 Summer",
                                    "1": "Turkey",
                                    "2": "2",
                                    "3": "0",
                                    "4": "0"
                                },
                                {
                                    "0": "1968 Summer",
                                    "1": "Uganda",
                                    "2": "0",
                                    "3": "1",
                                    "4": "1"
                                },
                                {
                                    "0": "1968 Summer",
                                    "1": "UK",
                                    "2": "9",
                                    "3": "5",
                                    "4": "5"
                                },
                                {
                                    "0": "1968 Summer",
                                    "1": "USA",
                                    "2": "99",
                                    "3": "32",
                                    "4": "35"
                                },
                                {
                                    "0": "1968 Summer",
                                    "1": "Venezuela",
                                    "2": "1",
                                    "3": "0",
                                    "4": "0"
                                },
                                {
                                    "0": "1968 Winter",
                                    "1": "Austria",
                                    "2": "3",
                                    "3": "8",
                                    "4": "4"
                                },
                                {
                                    "0": "1968 Winter",
                                    "1": "Canada",
                                    "2": "1",
                                    "3": "1",
                                    "4": "18"
                                },
                                {
                                    "0": "1968 Winter",
                                    "1": "Czech Republic",
                                    "2": "1",
                                    "3": "19",
                                    "4": "1"
                                },
                                {
                                    "0": "1968 Winter",
                                    "1": "Finland",
                                    "2": "1",
                                    "3": "2",
                                    "4": "5"
                                },
                                {
                                    "0": "1968 Winter",
                                    "1": "France",
                                    "2": "4",
                                    "3": "3",
                                    "4": "2"
                                },
                                {
                                    "0": "1968 Winter",
                                    "1": "Germany",
                                    "2": "4",
                                    "3": "5",
                                    "4": "7"
                                },
                                {
                                    "0": "1968 Winter",
                                    "1": "Italy",
                                    "2": "8",
                                    "3": "0",
                                    "4": "0"
                                },
                                {
                                    "0": "1968 Winter",
                                    "1": "Netherlands",
                                    "2": "3",
                                    "3": "3",
                                    "4": "3"
                                },
                                {
                                    "0": "1968 Winter",
                                    "1": "Norway",
                                    "2": "11",
                                    "3": "9",
                                    "4": "2"
                                },
                                {
                                    "0": "1968 Winter",
                                    "1": "Romania",
                                    "2": "0",
                                    "3": "0",
                                    "4": "2"
                                },
                                {
                                    "0": "1968 Winter",
                                    "1": "Russia",
                                    "2": "26",
                                    "3": "6",
                                    "4": "5"
                                },
                                {
                                    "0": "1968 Winter",
                                    "1": "Sweden",
                                    "2": "3",
                                    "3": "7",
                                    "4": "6"
                                },
                                {
                                    "0": "1968 Winter",
                                    "1": "Switzerland",
                                    "2": "0",
                                    "3": "2",
                                    "4": "7"
                                },
                                {
                                    "0": "1968 Winter",
                                    "1": "USA",
                                    "2": "1",
                                    "3": "5",
                                    "4": "1"
                                },
                                {
                                    "0": "1972 Summer",
                                    "1": "Argentina",
                                    "2": "0",
                                    "3": "1",
                                    "4": "0"
                                },
                                {
                                    "0": "1972 Summer",
                                    "1": "Australia",
                                    "2": "11",
                                    "3": "7",
                                    "4": "2"
                                },
                                {
                                    "0": "1972 Summer",
                                    "1": "Austria",
                                    "2": "0",
                                    "3": "1",
                                    "4": "2"
                                },
                                {
                                    "0": "1972 Summer",
                                    "1": "Belgium",
                                    "2": "0",
                                    "3": "2",
                                    "4": "0"
                                },
                                {
                                    "0": "1972 Summer",
                                    "1": "Brazil",
                                    "2": "0",
                                    "3": "0",
                                    "4": "2"
                                },
                                {
                                    "0": "1972 Summer",
                                    "1": "Bulgaria",
                                    "2": "6",
                                    "3": "10",
                                    "4": "6"
                                },
                                {
                                    "0": "1972 Summer",
                                    "1": "Canada",
                                    "2": "0",
                                    "3": "2",
                                    "4": "9"
                                },
                                {
                                    "0": "1972 Summer",
                                    "1": "Colombia",
                                    "2": "0",
                                    "3": "1",
                                    "4": "2"
                                },
                                {
                                    "0": "1972 Summer",
                                    "1": "Cuba",
                                    "2": "3",
                                    "3": "1",
                                    "4": "18"
                                },
                                {
                                    "0": "1972 Summer",
                                    "1": "Czech Republic",
                                    "2": "2",
                                    "3": "21",
                                    "4": "6"
                                },
                                {
                                    "0": "1972 Summer",
                                    "1": "Denmark",
                                    "2": "1",
                                    "3": "0",
                                    "4": "0"
                                },
                                {
                                    "0": "1972 Summer",
                                    "1": "Ethiopia",
                                    "2": "0",
                                    "3": "0",
                                    "4": "2"
                                },
                                {
                                    "0": "1972 Summer",
                                    "1": "Finland",
                                    "2": "3",
                                    "3": "1",
                                    "4": "6"
                                },
                                {
                                    "0": "1972 Summer",
                                    "1": "France",
                                    "2": "2",
                                    "3": "5",
                                    "4": "15"
                                },
                                {
                                    "0": "1972 Summer",
                                    "1": "Germany",
                                    "2": "74",
                                    "3": "83",
                                    "4": "96"
                                },
                                {
                                    "0": "1972 Summer",
                                    "1": "Ghana",
                                    "2": "0",
                                    "3": "0",
                                    "4": "1"
                                },
                                {
                                    "0": "1972 Summer",
                                    "1": "Greece",
                                    "2": "0",
                                    "3": "2",
                                    "4": "0"
                                },
                                {
                                    "0": "1972 Summer",
                                    "1": "Hungary",
                                    "2": "10",
                                    "3": "46",
                                    "4": "25"
                                },
                                {
                                    "0": "1972 Summer",
                                    "1": "India",
                                    "2": "0",
                                    "3": "0",
                                    "4": "14"
                                },
                                {
                                    "0": "1972 Summer",
                                    "1": "Iran",
                                    "2": "0",
                                    "3": "2",
                                    "4": "1"
                                },
                                {
                                    "0": "1972 Summer",
                                    "1": "Italy",
                                    "2": "9",
                                    "3": "3",
                                    "4": "13"
                                },
                                {
                                    "0": "1972 Summer",
                                    "1": "Jamaica",
                                    "2": "0",
                                    "3": "0",
                                    "4": "1"
                                },
                                {
                                    "0": "1972 Summer",
                                    "1": "Japan",
                                    "2": "29",
                                    "3": "19",
                                    "4": "8"
                                },
                                {
                                    "0": "1972 Summer",
                                    "1": "Kenya",
                                    "2": "5",
                                    "3": "3",
                                    "4": "4"
                                },
                                {
                                    "0": "1972 Summer",
                                    "1": "Lebanon",
                                    "2": "0",
                                    "3": "1",
                                    "4": "0"
                                },
                                {
                                    "0": "1972 Summer",
                                    "1": "Mexico",
                                    "2": "0",
                                    "3": "1",
                                    "4": "0"
                                },
                                {
                                    "0": "1972 Summer",
                                    "1": "Mongolia",
                                    "2": "0",
                                    "3": "1",
                                    "4": "0"
                                },
                                {
                                    "0": "1972 Summer",
                                    "1": "Netherlands",
                                    "2": "3",
                                    "3": "1",
                                    "4": "2"
                                },
                                {
                                    "0": "1972 Summer",
                                    "1": "New Zealand",
                                    "2": "9",
                                    "3": "4",
                                    "4": "1"
                                },
                                {
                                    "0": "1972 Summer",
                                    "1": "Niger",
                                    "2": "0",
                                    "3": "0",
                                    "4": "1"
                                },
                                {
                                    "0": "1972 Summer",
                                    "1": "Nigeria",
                                    "2": "0",
                                    "3": "0",
                                    "4": "1"
                                },
                                {
                                    "0": "1972 Summer",
                                    "1": "North Korea",
                                    "2": "1",
                                    "3": "1",
                                    "4": "13"
                                },
                                {
                                    "0": "1972 Summer",
                                    "1": "Norway",
                                    "2": "2",
                                    "3": "2",
                                    "4": "4"
                                },
                                {
                                    "0": "1972 Summer",
                                    "1": "Pakistan",
                                    "2": "0",
                                    "3": "15",
                                    "4": "0"
                                },
                                {
                                    "0": "1972 Summer",
                                    "1": "Poland",
                                    "2": "27",
                                    "3": "8",
                                    "4": "11"
                                },
                                {
                                    "0": "1972 Summer",
                                    "1": "Romania",
                                    "2": "3",
                                    "3": "10",
                                    "4": "27"
                                },
                                {
                                    "0": "1972 Summer",
                                    "1": "Russia",
                                    "2": "107",
                                    "3": "47",
                                    "4": "60"
                                },
                                {
                                    "0": "1972 Summer",
                                    "1": "Serbia",
                                    "2": "15",
                                    "3": "1",
                                    "4": "2"
                                },
                                {
                                    "0": "1972 Summer",
                                    "1": "South Korea",
                                    "2": "0",
                                    "3": "1",
                                    "4": "0"
                                },
                                {
                                    "0": "1972 Summer",
                                    "1": "Spain",
                                    "2": "0",
                                    "3": "0",
                                    "4": "1"
                                },
                                {
                                    "0": "1972 Summer",
                                    "1": "Sweden",
                                    "2": "4",
                                    "3": "10",
                                    "4": "8"
                                },
                                {
                                    "0": "1972 Summer",
                                    "1": "Switzerland",
                                    "2": "0",
                                    "3": "8",
                                    "4": "0"
                                },
                                {
                                    "0": "1972 Summer",
                                    "1": "Tunisia",
                                    "2": "0",
                                    "3": "1",
                                    "4": "0"
                                },
                                {
                                    "0": "1972 Summer",
                                    "1": "Turkey",
                                    "2": "0",
                                    "3": "1",
                                    "4": "0"
                                },
                                {
                                    "0": "1972 Summer",
                                    "1": "Uganda",
                                    "2": "1",
                                    "3": "1",
                                    "4": "0"
                                },
                                {
                                    "0": "1972 Summer",
                                    "1": "UK",
                                    "2": "8",
                                    "3": "9",
                                    "4": "12"
                                },
                                {
                                    "0": "1972 Summer",
                                    "1": "USA",
                                    "2": "69",
                                    "3": "59",
                                    "4": "43"
                                },
                                {
                                    "0": "1972 Winter",
                                    "1": "Austria",
                                    "2": "1",
                                    "3": "2",
                                    "4": "2"
                                },
                                {
                                    "0": "1972 Winter",
                                    "1": "Canada",
                                    "2": "0",
                                    "3": "1",
                                    "4": "0"
                                },
                                {
                                    "0": "1972 Winter",
                                    "1": "Czech Republic",
                                    "2": "1",
                                    "3": "0",
                                    "4": "19"
                                },
                                {
                                    "0": "1972 Winter",
                                    "1": "Finland",
                                    "2": "0",
                                    "3": "9",
                                    "4": "1"
                                },
                                {
                                    "0": "1972 Winter",
                                    "1": "France",
                                    "2": "0",
                                    "3": "1",
                                    "4": "2"
                                },
                                {
                                    "0": "1972 Winter",
                                    "1": "Germany",
                                    "2": "9",
                                    "3": "5",
                                    "4": "16"
                                },
                                {
                                    "0": "1972 Winter",
                                    "1": "Italy",
                                    "2": "3",
                                    "3": "5",
                                    "4": "1"
                                },
                                {
                                    "0": "1972 Winter",
                                    "1": "Japan",
                                    "2": "1",
                                    "3": "1",
                                    "4": "1"
                                },
                                {
                                    "0": "1972 Winter",
                                    "1": "Netherlands",
                                    "2": "4",
                                    "3": "3",
                                    "4": "2"
                                },
                                {
                                    "0": "1972 Winter",
                                    "1": "Norway",
                                    "2": "2",
                                    "3": "8",
                                    "4": "7"
                                },
                                {
                                    "0": "1972 Winter",
                                    "1": "Poland",
                                    "2": "1",
                                    "3": "0",
                                    "4": "0"
                                },
                                {
                                    "0": "1972 Winter",
                                    "1": "Russia",
                                    "2": "36",
                                    "3": "6",
                                    "4": "3"
                                },
                                {
                                    "0": "1972 Winter",
                                    "1": "Spain",
                                    "2": "1",
                                    "3": "0",
                                    "4": "0"
                                },
                                {
                                    "0": "1972 Winter",
                                    "1": "Sweden",
                                    "2": "1",
                                    "3": "1",
                                    "4": "2"
                                },
                                {
                                    "0": "1972 Winter",
                                    "1": "Switzerland",
                                    "2": "7",
                                    "3": "3",
                                    "4": "7"
                                },
                                {
                                    "0": "1972 Winter",
                                    "1": "USA",
                                    "2": "3",
                                    "3": "18",
                                    "4": "3"
                                },
                                {
                                    "0": "1976 Summer",
                                    "1": "Australia",
                                    "2": "0",
                                    "3": "15",
                                    "4": "8"
                                },
                                {
                                    "0": "1976 Summer",
                                    "1": "Austria",
                                    "2": "0",
                                    "3": "0",
                                    "4": "1"
                                },
                                {
                                    "0": "1976 Summer",
                                    "1": "Belgium",
                                    "2": "0",
                                    "3": "3",
                                    "4": "6"
                                },
                                {
                                    "0": "1976 Summer",
                                    "1": "Bermuda",
                                    "2": "0",
                                    "3": "0",
                                    "4": "1"
                                },
                                {
                                    "0": "1976 Summer",
                                    "1": "Brazil",
                                    "2": "0",
                                    "3": "0",
                                    "4": "3"
                                },
                                {
                                    "0": "1976 Summer",
                                    "1": "Bulgaria",
                                    "2": "8",
                                    "3": "13",
                                    "4": "18"
                                },
                                {
                                    "0": "1976 Summer",
                                    "1": "Canada",
                                    "2": "0",
                                    "3": "9",
                                    "4": "14"
                                },
                                {
                                    "0": "1976 Summer",
                                    "1": "Cuba",
                                    "2": "6",
                                    "3": "4",
                                    "4": "14"
                                },
                                {
                                    "0": "1976 Summer",
                                    "1": "Czech Republic",
                                    "2": "2",
                                    "3": "4",
                                    "4": "9"
                                },
                                {
                                    "0": "1976 Summer",
                                    "1": "Denmark",
                                    "2": "3",
                                    "3": "0",
                                    "4": "5"
                                },
                                {
                                    "0": "1976 Summer",
                                    "1": "Finland",
                                    "2": "4",
                                    "3": "2",
                                    "4": "0"
                                },
                                {
                                    "0": "1976 Summer",
                                    "1": "France",
                                    "2": "5",
                                    "3": "7",
                                    "4": "8"
                                },
                                {
                                    "0": "1976 Summer",
                                    "1": "Germany",
                                    "2": "123",
                                    "3": "76",
                                    "4": "74"
                                },
                                {
                                    "0": "1976 Summer",
                                    "1": "Hungary",
                                    "2": "14",
                                    "3": "6",
                                    "4": "35"
                                },
                                {
                                    "0": "1976 Summer",
                                    "1": "Iran",
                                    "2": "0",
                                    "3": "1",
                                    "4": "1"
                                },
                                {
                                    "0": "1976 Summer",
                                    "1": "Italy",
                                    "2": "2",
                                    "3": "25",
                                    "4": "4"
                                },
                                {
                                    "0": "1976 Summer",
                                    "1": "Jamaica",
                                    "2": "1",
                                    "3": "1",
                                    "4": "0"
                                },
                                {
                                    "0": "1976 Summer",
                                    "1": "Japan",
                                    "2": "25",
                                    "3": "6",
                                    "4": "10"
                                },
                                {
                                    "0": "1976 Summer",
                                    "1": "Mexico",
                                    "2": "1",
                                    "3": "0",
                                    "4": "1"
                                },
                                {
                                    "0": "1976 Summer",
                                    "1": "Mongolia",
                                    "2": "0",
                                    "3": "1",
                                    "4": "0"
                                },
                                {
                                    "0": "1976 Summer",
                                    "1": "Netherlands",
                                    "2": "0",
                                    "3": "2",
                                    "4": "12"
                                },
                                {
                                    "0": "1976 Summer",
                                    "1": "New Zealand",
                                    "2": "15",
                                    "3": "1",
                                    "4": "9"
                                },
                                {
                                    "0": "1976 Summer",
                                    "1": "North Korea",
                                    "2": "1",
                                    "3": "1",
                                    "4": "0"
                                },
                                {
                                    "0": "1976 Summer",
                                    "1": "Norway",
                                    "2": "2",
                                    "3": "4",
                                    "4": "0"
                                },
                                {
                                    "0": "1976 Summer",
                                    "1": "Pakistan",
                                    "2": "0",
                                    "3": "0",
                                    "4": "16"
                                },
                                {
                                    "0": "1976 Summer",
                                    "1": "Poland",
                                    "2": "18",
                                    "3": "29",
                                    "4": "26"
                                },
                                {
                                    "0": "1976 Summer",
                                    "1": "Portugal",
                                    "2": "0",
                                    "3": "2",
                                    "4": "0"
                                },
                                {
                                    "0": "1976 Summer",
                                    "1": "Puerto Rico",
                                    "2": "0",
                                    "3": "0",
                                    "4": "1"
                                },
                                {
                                    "0": "1976 Summer",
                                    "1": "Romania",
                                    "2": "4",
                                    "3": "28",
                                    "4": "23"
                                },
                                {
                                    "0": "1976 Summer",
                                    "1": "Russia",
                                    "2": "114",
                                    "3": "95",
                                    "4": "77"
                                },
                                {
                                    "0": "1976 Summer",
                                    "1": "Serbia",
                                    "2": "2",
                                    "3": "14",
                                    "4": "3"
                                },
                                {
                                    "0": "1976 Summer",
                                    "1": "South Korea",
                                    "2": "1",
                                    "3": "1",
                                    "4": "15"
                                },
                                {
                                    "0": "1976 Summer",
                                    "1": "Spain",
                                    "2": "0",
                                    "3": "6",
                                    "4": "0"
                                },
                                {
                                    "0": "1976 Summer",
                                    "1": "Sweden",
                                    "2": "9",
                                    "3": "1",
                                    "4": "0"
                                },
                                {
                                    "0": "1976 Summer",
                                    "1": "Switzerland",
                                    "2": "1",
                                    "3": "3",
                                    "4": "6"
                                },
                                {
                                    "0": "1976 Summer",
                                    "1": "Thailand",
                                    "2": "0",
                                    "3": "0",
                                    "4": "1"
                                },
                                {
                                    "0": "1976 Summer",
                                    "1": "Trinidad",
                                    "2": "1",
                                    "3": "0",
                                    "4": "0"
                                },
                                {
                                    "0": "1976 Summer",
                                    "1": "UK",
                                    "2": "6",
                                    "3": "15",
                                    "4": "11"
                                },
                                {
                                    "0": "1976 Summer",
                                    "1": "USA",
                                    "2": "70",
                                    "3": "58",
                                    "4": "36"
                                },
                                {
                                    "0": "1976 Summer",
                                    "1": "Venezuela",
                                    "2": "0",
                                    "3": "1",
                                    "4": "0"
                                },
                                {
                                    "0": "1976 Winter",
                                    "1": "Austria",
                                    "2": "2",
                                    "3": "2",
                                    "4": "3"
                                },
                                {
                                    "0": "1976 Winter",
                                    "1": "Canada",
                                    "2": "1",
                                    "3": "1",
                                    "4": "1"
                                },
                                {
                                    "0": "1976 Winter",
                                    "1": "Czech Republic",
                                    "2": "0",
                                    "3": "19",
                                    "4": "0"
                                },
                                {
                                    "0": "1976 Winter",
                                    "1": "Finland",
                                    "2": "5",
                                    "3": "10",
                                    "4": "1"
                                },
                                {
                                    "0": "1976 Winter",
                                    "1": "France",
                                    "2": "0",
                                    "3": "0",
                                    "4": "1"
                                },
                                {
                                    "0": "1976 Winter",
                                    "1": "Germany",
                                    "2": "14",
                                    "3": "13",
                                    "4": "37"
                                },
                                {
                                    "0": "1976 Winter",
                                    "1": "Italy",
                                    "2": "1",
                                    "3": "2",
                                    "4": "1"
                                },
                                {
                                    "0": "1976 Winter",
                                    "1": "Liechtenstein",
                                    "2": "0",
                                    "3": "0",
                                    "4": "2"
                                },
                                {
                                    "0": "1976 Winter",
                                    "1": "Netherlands",
                                    "2": "1",
                                    "3": "2",
                                    "4": "3"
                                },
                                {
                                    "0": "1976 Winter",
                                    "1": "Norway",
                                    "2": "3",
                                    "3": "6",
                                    "4": "1"
                                },
                                {
                                    "0": "1976 Winter",
                                    "1": "Russia",
                                    "2": "38",
                                    "3": "7",
                                    "4": "11"
                                },
                                {
                                    "0": "1976 Winter",
                                    "1": "Sweden",
                                    "2": "0",
                                    "3": "0",
                                    "4": "2"
                                },
                                {
                                    "0": "1976 Winter",
                                    "1": "Switzerland",
                                    "2": "1",
                                    "3": "6",
                                    "4": "2"
                                },
                                {
                                    "0": "1976 Winter",
                                    "1": "UK",
                                    "2": "1",
                                    "3": "0",
                                    "4": "0"
                                },
                                {
                                    "0": "1976 Winter",
                                    "1": "USA",
                                    "2": "3",
                                    "3": "3",
                                    "4": "5"
                                },
                                {
                                    "0": "1980 Summer",
                                    "1": "Australia",
                                    "2": "6",
                                    "3": "2",
                                    "4": "5"
                                },
                                {
                                    "0": "1980 Summer",
                                    "1": "Austria",
                                    "2": "1",
                                    "3": "3",
                                    "4": "1"
                                },
                                {
                                    "0": "1980 Summer",
                                    "1": "Belgium",
                                    "2": "1",
                                    "3": "0",
                                    "4": "0"
                                },
                                {
                                    "0": "1980 Summer",
                                    "1": "Brazil",
                                    "2": "4",
                                    "3": "0",
                                    "4": "5"
                                },
                                {
                                    "0": "1980 Summer",
                                    "1": "Bulgaria",
                                    "2": "8",
                                    "3": "44",
                                    "4": "38"
                                },
                                {
                                    "0": "1980 Summer",
                                    "1": "Cuba",
                                    "2": "8",
                                    "3": "7",
                                    "4": "5"
                                },
                                {
                                    "0": "1980 Summer",
                                    "1": "Czech Republic",
                                    "2": "17",
                                    "3": "18",
                                    "4": "16"
                                },
                                {
                                    "0": "1980 Summer",
                                    "1": "Denmark",
                                    "2": "4",
                                    "3": "2",
                                    "4": "2"
                                },
                                {
                                    "0": "1980 Summer",
                                    "1": "Ethiopia",
                                    "2": "2",
                                    "3": "0",
                                    "4": "2"
                                },
                                {
                                    "0": "1980 Summer",
                                    "1": "Finland",
                                    "2": "3",
                                    "3": "1",
                                    "4": "5"
                                },
                                {
                                    "0": "1980 Summer",
                                    "1": "France",
                                    "2": "18",
                                    "3": "5",
                                    "4": "6"
                                },
                                {
                                    "0": "1980 Summer",
                                    "1": "Germany",
                                    "2": "115",
                                    "3": "88",
                                    "4": "61"
                                },
                                {
                                    "0": "1980 Summer",
                                    "1": "Greece",
                                    "2": "1",
                                    "3": "0",
                                    "4": "4"
                                },
                                {
                                    "0": "1980 Summer",
                                    "1": "Guyana",
                                    "2": "0",
                                    "3": "0",
                                    "4": "1"
                                },
                                {
                                    "0": "1980 Summer",
                                    "1": "Hungary",
                                    "2": "8",
                                    "3": "13",
                                    "4": "40"
                                },
                                {
                                    "0": "1980 Summer",
                                    "1": "India",
                                    "2": "16",
                                    "3": "0",
                                    "4": "0"
                                },
                                {
                                    "0": "1980 Summer",
                                    "1": "Ireland",
                                    "2": "0",
                                    "3": "2",
                                    "4": "1"
                                },
                                {
                                    "0": "1980 Summer",
                                    "1": "Italy",
                                    "2": "8",
                                    "3": "21",
                                    "4": "8"
                                },
                                {
                                    "0": "1980 Summer",
                                    "1": "Jamaica",
                                    "2": "0",
                                    "3": "0",
                                    "4": "3"
                                },
                                {
                                    "0": "1980 Summer",
                                    "1": "Lebanon",
                                    "2": "0",
                                    "3": "0",
                                    "4": "1"
                                },
                                {
                                    "0": "1980 Summer",
                                    "1": "Mexico",
                                    "2": "0",
                                    "3": "1",
                                    "4": "9"
                                },
                                {
                                    "0": "1980 Summer",
                                    "1": "Mongolia",
                                    "2": "0",
                                    "3": "2",
                                    "4": "2"
                                },
                                {
                                    "0": "1980 Summer",
                                    "1": "Netherlands",
                                    "2": "0",
                                    "3": "1",
                                    "4": "5"
                                },
                                {
                                    "0": "1980 Summer",
                                    "1": "North Korea",
                                    "2": "0",
                                    "3": "3",
                                    "4": "2"
                                },
                                {
                                    "0": "1980 Summer",
                                    "1": "Poland",
                                    "2": "3",
                                    "3": "25",
                                    "4": "22"
                                },
                                {
                                    "0": "1980 Summer",
                                    "1": "Romania",
                                    "2": "7",
                                    "3": "15",
                                    "4": "46"
                                },
                                {
                                    "0": "1980 Summer",
                                    "1": "Russia",
                                    "2": "187",
                                    "3": "129",
                                    "4": "126"
                                },
                                {
                                    "0": "1980 Summer",
                                    "1": "Serbia",
                                    "2": "13",
                                    "3": "27",
                                    "4": "17"
                                },
                                {
                                    "0": "1980 Summer",
                                    "1": "Spain",
                                    "2": "2",
                                    "3": "19",
                                    "4": "3"
                                },
                                {
                                    "0": "1980 Summer",
                                    "1": "Sweden",
                                    "2": "3",
                                    "3": "8",
                                    "4": "9"
                                },
                                {
                                    "0": "1980 Summer",
                                    "1": "Switzerland",
                                    "2": "2",
                                    "3": "0",
                                    "4": "0"
                                },
                                {
                                    "0": "1980 Summer",
                                    "1": "Tanzania",
                                    "2": "0",
                                    "3": "2",
                                    "4": "0"
                                },
                                {
                                    "0": "1980 Summer",
                                    "1": "Uganda",
                                    "2": "0",
                                    "3": "1",
                                    "4": "0"
                                },
                                {
                                    "0": "1980 Summer",
                                    "1": "UK",
                                    "2": "5",
                                    "3": "18",
                                    "4": "24"
                                },
                                {
                                    "0": "1980 Summer",
                                    "1": "Venezuela",
                                    "2": "0",
                                    "3": "1",
                                    "4": "0"
                                },
                                {
                                    "0": "1980 Summer",
                                    "1": "Zimbabwe",
                                    "2": "15",
                                    "3": "0",
                                    "4": "0"
                                },
                                {
                                    "0": "1980 Winter",
                                    "1": "Austria",
                                    "2": "3",
                                    "3": "2",
                                    "4": "3"
                                },
                                {
                                    "0": "1980 Winter",
                                    "1": "Bulgaria",
                                    "2": "0",
                                    "3": "0",
                                    "4": "1"
                                },
                                {
                                    "0": "1980 Winter",
                                    "1": "Canada",
                                    "2": "0",
                                    "3": "1",
                                    "4": "1"
                                },
                                {
                                    "0": "1980 Winter",
                                    "1": "Czech Republic",
                                    "2": "0",
                                    "3": "0",
                                    "4": "1"
                                },
                                {
                                    "0": "1980 Winter",
                                    "1": "Finland",
                                    "2": "1",
                                    "3": "5",
                                    "4": "6"
                                },
                                {
                                    "0": "1980 Winter",
                                    "1": "France",
                                    "2": "0",
                                    "3": "0",
                                    "4": "1"
                                },
                                {
                                    "0": "1980 Winter",
                                    "1": "Germany",
                                    "2": "16",
                                    "3": "13",
                                    "4": "18"
                                },
                                {
                                    "0": "1980 Winter",
                                    "1": "Hungary",
                                    "2": "0",
                                    "3": "2",
                                    "4": "0"
                                },
                                {
                                    "0": "1980 Winter",
                                    "1": "Italy",
                                    "2": "0",
                                    "3": "3",
                                    "4": "0"
                                },
                                {
                                    "0": "1980 Winter",
                                    "1": "Japan",
                                    "2": "0",
                                    "3": "1",
                                    "4": "0"
                                },
                                {
                                    "0": "1980 Winter",
                                    "1": "Liechtenstein",
                                    "2": "2",
                                    "3": "2",
                                    "4": "0"
                                },
                                {
                                    "0": "1980 Winter",
                                    "1": "Netherlands",
                                    "2": "1",
                                    "3": "2",
                                    "4": "1"
                                },
                                {
                                    "0": "1980 Winter",
                                    "1": "Norway",
                                    "2": "1",
                                    "3": "5",
                                    "4": "9"
                                },
                                {
                                    "0": "1980 Winter",
                                    "1": "Russia",
                                    "2": "18",
                                    "3": "29",
                                    "4": "7"
                                },
                                {
                                    "0": "1980 Winter",
                                    "1": "Sweden",
                                    "2": "3",
                                    "3": "0",
                                    "4": "20"
                                },
                                {
                                    "0": "1980 Winter",
                                    "1": "Switzerland",
                                    "2": "2",
                                    "3": "4",
                                    "4": "3"
                                },
                                {
                                    "0": "1980 Winter",
                                    "1": "UK",
                                    "2": "1",
                                    "3": "0",
                                    "4": "0"
                                },
                                {
                                    "0": "1980 Winter",
                                    "1": "USA",
                                    "2": "24",
                                    "3": "4",
                                    "4": "2"
                                },
                                {
                                    "0": "1984 Summer",
                                    "1": "Algeria",
                                    "2": "0",
                                    "3": "0",
                                    "4": "2"
                                },
                                {
                                    "0": "1984 Summer",
                                    "1": "Australia",
                                    "2": "7",
                                    "3": "14",
                                    "4": "31"
                                },
                                {
                                    "0": "1984 Summer",
                                    "1": "Austria",
                                    "2": "1",
                                    "3": "1",
                                    "4": "1"
                                },
                                {
                                    "0": "1984 Summer",
                                    "1": "Belgium",
                                    "2": "1",
                                    "3": "2",
                                    "4": "2"
                                },
                                {
                                    "0": "1984 Summer",
                                    "1": "Brazil",
                                    "2": "1",
                                    "3": "33",
                                    "4": "2"
                                },
                                {
                                    "0": "1984 Summer",
                                    "1": "Cameroon",
                                    "2": "0",
                                    "3": "0",
                                    "4": "1"
                                },
                                {
                                    "0": "1984 Summer",
                                    "1": "Canada",
                                    "2": "19",
                                    "3": "36",
                                    "4": "32"
                                },
                                {
                                    "0": "1984 Summer",
                                    "1": "China",
                                    "2": "24",
                                    "3": "13",
                                    "4": "37"
                                },
                                {
                                    "0": "1984 Summer",
                                    "1": "Colombia",
                                    "2": "0",
                                    "3": "1",
                                    "4": "0"
                                },
                                {
                                    "0": "1984 Summer",
                                    "1": "Denmark",
                                    "2": "0",
                                    "3": "3",
                                    "4": "10"
                                },
                                {
                                    "0": "1984 Summer",
                                    "1": "Dominican Republic",
                                    "2": "0",
                                    "3": "0",
                                    "4": "1"
                                },
                                {
                                    "0": "1984 Summer",
                                    "1": "Egypt",
                                    "2": "0",
                                    "3": "1",
                                    "4": "0"
                                },
                                {
                                    "0": "1984 Summer",
                                    "1": "Finland",
                                    "2": "4",
                                    "3": "2",
                                    "4": "6"
                                },
                                {
                                    "0": "1984 Summer",
                                    "1": "France",
                                    "2": "20",
                                    "3": "16",
                                    "4": "31"
                                },
                                {
                                    "0": "1984 Summer",
                                    "1": "Germany",
                                    "2": "30",
                                    "3": "75",
                                    "4": "53"
                                },
                                {
                                    "0": "1984 Summer",
                                    "1": "Greece",
                                    "2": "0",
                                    "3": "1",
                                    "4": "1"
                                },
                                {
                                    "0": "1984 Summer",
                                    "1": "Iceland",
                                    "2": "0",
                                    "3": "0",
                                    "4": "1"
                                },
                                {
                                    "0": "1984 Summer",
                                    "1": "Ireland",
                                    "2": "0",
                                    "3": "1",
                                    "4": "0"
                                },
                                {
                                    "0": "1984 Summer",
                                    "1": "Italy",
                                    "2": "29",
                                    "3": "6",
                                    "4": "28"
                                },
                                {
                                    "0": "1984 Summer",
                                    "1": "Ivory Coast",
                                    "2": "0",
                                    "3": "1",
                                    "4": "0"
                                },
                                {
                                    "0": "1984 Summer",
                                    "1": "Jamaica",
                                    "2": "0",
                                    "3": "5",
                                    "4": "2"
                                },
                                {
                                    "0": "1984 Summer",
                                    "1": "Japan",
                                    "2": "10",
                                    "3": "8",
                                    "4": "31"
                                },
                                {
                                    "0": "1984 Summer",
                                    "1": "Kenya",
                                    "2": "1",
                                    "3": "0",
                                    "4": "2"
                                },
                                {
                                    "0": "1984 Summer",
                                    "1": "Mexico",
                                    "2": "2",
                                    "3": "3",
                                    "4": "1"
                                },
                                {
                                    "0": "1984 Summer",
                                    "1": "Morocco",
                                    "2": "2",
                                    "3": "0",
                                    "4": "0"
                                },
                                {
                                    "0": "1984 Summer",
                                    "1": "Netherlands",
                                    "2": "20",
                                    "3": "7",
                                    "4": "14"
                                },
                                {
                                    "0": "1984 Summer",
                                    "1": "New Zealand",
                                    "2": "16",
                                    "3": "1",
                                    "4": "6"
                                },
                                {
                                    "0": "1984 Summer",
                                    "1": "Nigeria",
                                    "2": "0",
                                    "3": "1",
                                    "4": "4"
                                },
                                {
                                    "0": "1984 Summer",
                                    "1": "Norway",
                                    "2": "0",
                                    "3": "1",
                                    "4": "3"
                                },
                                {
                                    "0": "1984 Summer",
                                    "1": "Pakistan",
                                    "2": "16",
                                    "3": "0",
                                    "4": "0"
                                },
                                {
                                    "0": "1984 Summer",
                                    "1": "Peru",
                                    "2": "0",
                                    "3": "1",
                                    "4": "0"
                                },
                                {
                                    "0": "1984 Summer",
                                    "1": "Portugal",
                                    "2": "1",
                                    "3": "0",
                                    "4": "2"
                                },
                                {
                                    "0": "1984 Summer",
                                    "1": "Puerto Rico",
                                    "2": "0",
                                    "3": "1",
                                    "4": "1"
                                },
                                {
                                    "0": "1984 Summer",
                                    "1": "Romania",
                                    "2": "40",
                                    "3": "31",
                                    "4": "35"
                                },
                                {
                                    "0": "1984 Summer",
                                    "1": "Serbia",
                                    "2": "47",
                                    "3": "5",
                                    "4": "35"
                                },
                                {
                                    "0": "1984 Summer",
                                    "1": "South Korea",
                                    "2": "6",
                                    "3": "28",
                                    "4": "7"
                                },
                                {
                                    "0": "1984 Summer",
                                    "1": "Spain",
                                    "2": "2",
                                    "3": "14",
                                    "4": "3"
                                },
                                {
                                    "0": "1984 Summer",
                                    "1": "Sweden",
                                    "2": "3",
                                    "3": "18",
                                    "4": "13"
                                },
                                {
                                    "0": "1984 Summer",
                                    "1": "Switzerland",
                                    "2": "0",
                                    "3": "9",
                                    "4": "4"
                                },
                                {
                                    "0": "1984 Summer",
                                    "1": "Syria",
                                    "2": "0",
                                    "3": "1",
                                    "4": "0"
                                },
                                {
                                    "0": "1984 Summer",
                                    "1": "Taiwan",
                                    "2": "0",
                                    "3": "0",
                                    "4": "1"
                                },
                                {
                                    "0": "1984 Summer",
                                    "1": "Thailand",
                                    "2": "0",
                                    "3": "1",
                                    "4": "0"
                                },
                                {
                                    "0": "1984 Summer",
                                    "1": "Turkey",
                                    "2": "0",
                                    "3": "0",
                                    "4": "3"
                                },
                                {
                                    "0": "1984 Summer",
                                    "1": "UK",
                                    "2": "9",
                                    "3": "20",
                                    "4": "42"
                                },
                                {
                                    "0": "1984 Summer",
                                    "1": "USA",
                                    "2": "186",
                                    "3": "116",
                                    "4": "50"
                                },
                                {
                                    "0": "1984 Summer",
                                    "1": "Venezuela",
                                    "2": "0",
                                    "3": "0",
                                    "4": "3"
                                },
                                {
                                    "0": "1984 Summer",
                                    "1": "Zambia",
                                    "2": "0",
                                    "3": "0",
                                    "4": "1"
                                },
                                {
                                    "0": "1984 Winter",
                                    "1": "Austria",
                                    "2": "0",
                                    "3": "0",
                                    "4": "1"
                                },
                                {
                                    "0": "1984 Winter",
                                    "1": "Canada",
                                    "2": "2",
                                    "3": "1",
                                    "4": "1"
                                },
                                {
                                    "0": "1984 Winter",
                                    "1": "Czech Republic",
                                    "2": "0",
                                    "3": "24",
                                    "4": "4"
                                },
                                {
                                    "0": "1984 Winter",
                                    "1": "Finland",
                                    "2": "4",
                                    "3": "3",
                                    "4": "12"
                                },
                                {
                                    "0": "1984 Winter",
                                    "1": "France",
                                    "2": "0",
                                    "3": "1",
                                    "4": "2"
                                },
                                {
                                    "0": "1984 Winter",
                                    "1": "Germany",
                                    "2": "16",
                                    "3": "14",
                                    "4": "11"
                                },
                                {
                                    "0": "1984 Winter",
                                    "1": "Italy",
                                    "2": "2",
                                    "3": "0",
                                    "4": "0"
                                },
                                {
                                    "0": "1984 Winter",
                                    "1": "Japan",
                                    "2": "0",
                                    "3": "1",
                                    "4": "0"
                                },
                                {
                                    "0": "1984 Winter",
                                    "1": "Liechtenstein",
                                    "2": "0",
                                    "3": "0",
                                    "4": "2"
                                },
                                {
                                    "0": "1984 Winter",
                                    "1": "Norway",
                                    "2": "6",
                                    "3": "5",
                                    "4": "4"
                                },
                                {
                                    "0": "1984 Winter",
                                    "1": "Russia",
                                    "2": "29",
                                    "3": "15",
                                    "4": "12"
                                },
                                {
                                    "0": "1984 Winter",
                                    "1": "Serbia",
                                    "2": "0",
                                    "3": "1",
                                    "4": "0"
                                },
                                {
                                    "0": "1984 Winter",
                                    "1": "Sweden",
                                    "2": "7",
                                    "3": "2",
                                    "4": "21"
                                },
                                {
                                    "0": "1984 Winter",
                                    "1": "Switzerland",
                                    "2": "2",
                                    "3": "2",
                                    "4": "4"
                                },
                                {
                                    "0": "1984 Winter",
                                    "1": "UK",
                                    "2": "2",
                                    "3": "0",
                                    "4": "0"
                                },
                                {
                                    "0": "1984 Winter",
                                    "1": "USA",
                                    "2": "4",
                                    "3": "5",
                                    "4": "0"
                                },
                                {
                                    "0": "1988 Summer",
                                    "1": "Argentina",
                                    "2": "0",
                                    "3": "1",
                                    "4": "12"
                                },
                                {
                                    "0": "1988 Summer",
                                    "1": "Australia",
                                    "2": "18",
                                    "3": "6",
                                    "4": "11"
                                },
                                {
                                    "0": "1988 Summer",
                                    "1": "Austria",
                                    "2": "1",
                                    "3": "0",
                                    "4": "0"
                                },
                                {
                                    "0": "1988 Summer",
                                    "1": "Belgium",
                                    "2": "0",
                                    "3": "0",
                                    "4": "2"
                                },
                                {
                                    "0": "1988 Summer",
                                    "1": "Brazil",
                                    "2": "1",
                                    "3": "17",
                                    "4": "5"
                                },
                                {
                                    "0": "1988 Summer",
                                    "1": "Bulgaria",
                                    "2": "10",
                                    "3": "14",
                                    "4": "17"
                                },
                                {
                                    "0": "1988 Summer",
                                    "1": "Canada",
                                    "2": "4",
                                    "3": "5",
                                    "4": "14"
                                },
                                {
                                    "0": "1988 Summer",
                                    "1": "Chile",
                                    "2": "0",
                                    "3": "1",
                                    "4": "0"
                                },
                                {
                                    "0": "1988 Summer",
                                    "1": "China",
                                    "2": "6",
                                    "3": "16",
                                    "4": "30"
                                },
                                {
                                    "0": "1988 Summer",
                                    "1": "Colombia",
                                    "2": "0",
                                    "3": "0",
                                    "4": "1"
                                },
                                {
                                    "0": "1988 Summer",
                                    "1": "Costa Rica",
                                    "2": "0",
                                    "3": "1",
                                    "4": "0"
                                },
                                {
                                    "0": "1988 Summer",
                                    "1": "Curacao",
                                    "2": "0",
                                    "3": "1",
                                    "4": "0"
                                },
                                {
                                    "0": "1988 Summer",
                                    "1": "Czech Republic",
                                    "2": "3",
                                    "3": "4",
                                    "4": "3"
                                },
                                {
                                    "0": "1988 Summer",
                                    "1": "Denmark",
                                    "2": "3",
                                    "3": "1",
                                    "4": "3"
                                },
                                {
                                    "0": "1988 Summer",
                                    "1": "Djibouti",
                                    "2": "0",
                                    "3": "0",
                                    "4": "1"
                                },
                                {
                                    "0": "1988 Summer",
                                    "1": "Finland",
                                    "2": "1",
                                    "3": "1",
                                    "4": "2"
                                },
                                {
                                    "0": "1988 Summer",
                                    "1": "France",
                                    "2": "12",
                                    "3": "4",
                                    "4": "13"
                                },
                                {
                                    "0": "1988 Summer",
                                    "1": "Germany",
                                    "2": "111",
                                    "3": "91",
                                    "4": "94"
                                },
                                {
                                    "0": "1988 Summer",
                                    "1": "Greece",
                                    "2": "0",
                                    "3": "0",
                                    "4": "1"
                                },
                                {
                                    "0": "1988 Summer",
                                    "1": "Hungary",
                                    "2": "20",
                                    "3": "9",
                                    "4": "15"
                                },
                                {
                                    "0": "1988 Summer",
                                    "1": "Indonesia",
                                    "2": "0",
                                    "3": "3",
                                    "4": "0"
                                },
                                {
                                    "0": "1988 Summer",
                                    "1": "Iran",
                                    "2": "0",
                                    "3": "1",
                                    "4": "0"
                                },
                                {
                                    "0": "1988 Summer",
                                    "1": "Italy",
                                    "2": "11",
                                    "3": "10",
                                    "4": "8"
                                },
                                {
                                    "0": "1988 Summer",
                                    "1": "Jamaica",
                                    "2": "0",
                                    "3": "7",
                                    "4": "0"
                                },
                                {
                                    "0": "1988 Summer",
                                    "1": "Japan",
                                    "2": "4",
                                    "3": "3",
                                    "4": "13"
                                },
                                {
                                    "0": "1988 Summer",
                                    "1": "Kenya",
                                    "2": "5",
                                    "3": "2",
                                    "4": "2"
                                },
                                {
                                    "0": "1988 Summer",
                                    "1": "Mexico",
                                    "2": "0",
                                    "3": "0",
                                    "4": "2"
                                },
                                {
                                    "0": "1988 Summer",
                                    "1": "Mongolia",
                                    "2": "0",
                                    "3": "0",
                                    "4": "1"
                                },
                                {
                                    "0": "1988 Summer",
                                    "1": "Morocco",
                                    "2": "1",
                                    "3": "0",
                                    "4": "2"
                                },
                                {
                                    "0": "1988 Summer",
                                    "1": "Netherlands",
                                    "2": "3",
                                    "3": "6",
                                    "4": "36"
                                },
                                {
                                    "0": "1988 Summer",
                                    "1": "New Zealand",
                                    "2": "4",
                                    "3": "4",
                                    "4": "16"
                                },
                                {
                                    "0": "1988 Summer",
                                    "1": "Norway",
                                    "2": "2",
                                    "3": "20",
                                    "4": "0"
                                },
                                {
                                    "0": "1988 Summer",
                                    "1": "Pakistan",
                                    "2": "0",
                                    "3": "0",
                                    "4": "1"
                                },
                                {
                                    "0": "1988 Summer",
                                    "1": "Peru",
                                    "2": "0",
                                    "3": "12",
                                    "4": "0"
                                },
                                {
                                    "0": "1988 Summer",
                                    "1": "Philippines",
                                    "2": "0",
                                    "3": "0",
                                    "4": "1"
                                },
                                {
                                    "0": "1988 Summer",
                                    "1": "Poland",
                                    "2": "2",
                                    "3": "9",
                                    "4": "10"
                                },
                                {
                                    "0": "1988 Summer",
                                    "1": "Portugal",
                                    "2": "1",
                                    "3": "0",
                                    "4": "0"
                                },
                                {
                                    "0": "1988 Summer",
                                    "1": "Romania",
                                    "2": "8",
                                    "3": "34",
                                    "4": "16"
                                },
                                {
                                    "0": "1988 Summer",
                                    "1": "Russia",
                                    "2": "134",
                                    "3": "67",
                                    "4": "99"
                                },
                                {
                                    "0": "1988 Summer",
                                    "1": "Senegal",
                                    "2": "0",
                                    "3": "1",
                                    "4": "0"
                                },
                                {
                                    "0": "1988 Summer",
                                    "1": "Serbia",
                                    "2": "15",
                                    "3": "27",
                                    "4": "21"
                                },
                                {
                                    "0": "1988 Summer",
                                    "1": "South Korea",
                                    "2": "28",
                                    "3": "37",
                                    "4": "12"
                                },
                                {
                                    "0": "1988 Summer",
                                    "1": "Spain",
                                    "2": "1",
                                    "3": "2",
                                    "4": "2"
                                },
                                {
                                    "0": "1988 Summer",
                                    "1": "Suriname",
                                    "2": "1",
                                    "3": "0",
                                    "4": "0"
                                },
                                {
                                    "0": "1988 Summer",
                                    "1": "Sweden",
                                    "2": "0",
                                    "3": "5",
                                    "4": "11"
                                },
                                {
                                    "0": "1988 Summer",
                                    "1": "Switzerland",
                                    "2": "0",
                                    "3": "6",
                                    "4": "2"
                                },
                                {
                                    "0": "1988 Summer",
                                    "1": "Thailand",
                                    "2": "0",
                                    "3": "0",
                                    "4": "1"
                                },
                                {
                                    "0": "1988 Summer",
                                    "1": "Turkey",
                                    "2": "1",
                                    "3": "1",
                                    "4": "0"
                                },
                                {
                                    "0": "1988 Summer",
                                    "1": "UK",
                                    "2": "22",
                                    "3": "17",
                                    "4": "15"
                                },
                                {
                                    "0": "1988 Summer",
                                    "1": "USA",
                                    "2": "87",
                                    "3": "66",
                                    "4": "54"
                                },
                                {
                                    "0": "1988 Summer",
                                    "1": "Virgin Islands, US",
                                    "2": "0",
                                    "3": "1",
                                    "4": "0"
                                },
                                {
                                    "0": "1988 Winter",
                                    "1": "Austria",
                                    "2": "3",
                                    "3": "5",
                                    "4": "4"
                                },
                                {
                                    "0": "1988 Winter",
                                    "1": "Canada",
                                    "2": "0",
                                    "3": "2",
                                    "4": "4"
                                },
                                {
                                    "0": "1988 Winter",
                                    "1": "Czech Republic",
                                    "2": "0",
                                    "3": "1",
                                    "4": "5"
                                },
                                {
                                    "0": "1988 Winter",
                                    "1": "Finland",
                                    "2": "7",
                                    "3": "22",
                                    "4": "5"
                                },
                                {
                                    "0": "1988 Winter",
                                    "1": "France",
                                    "2": "1",
                                    "3": "0",
                                    "4": "1"
                                },
                                {
                                    "0": "1988 Winter",
                                    "1": "Germany",
                                    "2": "14",
                                    "3": "22",
                                    "4": "10"
                                },
                                {
                                    "0": "1988 Winter",
                                    "1": "Italy",
                                    "2": "2",
                                    "3": "1",
                                    "4": "5"
                                },
                                {
                                    "0": "1988 Winter",
                                    "1": "Japan",
                                    "2": "0",
                                    "3": "0",
                                    "4": "1"
                                },
                                {
                                    "0": "1988 Winter",
                                    "1": "Liechtenstein",
                                    "2": "0",
                                    "3": "0",
                                    "4": "1"
                                },
                                {
                                    "0": "1988 Winter",
                                    "1": "Netherlands",
                                    "2": "3",
                                    "3": "2",
                                    "4": "2"
                                },
                                {
                                    "0": "1988 Winter",
                                    "1": "Norway",
                                    "2": "0",
                                    "3": "6",
                                    "4": "5"
                                },
                                {
                                    "0": "1988 Winter",
                                    "1": "Russia",
                                    "2": "40",
                                    "3": "14",
                                    "4": "12"
                                },
                                {
                                    "0": "1988 Winter",
                                    "1": "Serbia",
                                    "2": "0",
                                    "3": "5",
                                    "4": "1"
                                },
                                {
                                    "0": "1988 Winter",
                                    "1": "Sweden",
                                    "2": "7",
                                    "3": "0",
                                    "4": "23"
                                },
                                {
                                    "0": "1988 Winter",
                                    "1": "Switzerland",
                                    "2": "8",
                                    "3": "7",
                                    "4": "5"
                                },
                                {
                                    "0": "1988 Winter",
                                    "1": "USA",
                                    "2": "2",
                                    "3": "1",
                                    "4": "4"
                                },
                                {
                                    "0": "1992 Summer",
                                    "1": "Algeria",
                                    "2": "1",
                                    "3": "0",
                                    "4": "1"
                                },
                                {
                                    "0": "1992 Summer",
                                    "1": "Argentina",
                                    "2": "0",
                                    "3": "0",
                                    "4": "2"
                                },
                                {
                                    "0": "1992 Summer",
                                    "1": "Australia",
                                    "2": "14",
                                    "3": "27",
                                    "4": "16"
                                },
                                {
                                    "0": "1992 Summer",
                                    "1": "Austria",
                                    "2": "0",
                                    "3": "6",
                                    "4": "0"
                                },
                                {
                                    "0": "1992 Summer",
                                    "1": "Bahamas",
                                    "2": "0",
                                    "3": "0",
                                    "4": "1"
                                },
                                {
                                    "0": "1992 Summer",
                                    "1": "Belgium",
                                    "2": "0",
                                    "3": "1",
                                    "4": "2"
                                },
                                {
                                    "0": "1992 Summer",
                                    "1": "Brazil",
                                    "2": "13",
                                    "3": "1",
                                    "4": "0"
                                },
                                {
                                    "0": "1992 Summer",
                                    "1": "Bulgaria",
                                    "2": "3",
                                    "3": "7",
                                    "4": "7"
                                },
                                {
                                    "0": "1992 Summer",
                                    "1": "Canada",
                                    "2": "27",
                                    "3": "5",
                                    "4": "12"
                                },
                                {
                                    "0": "1992 Summer",
                                    "1": "China",
                                    "2": "18",
                                    "3": "45",
                                    "4": "19"
                                },
                                {
                                    "0": "1992 Summer",
                                    "1": "Colombia",
                                    "2": "0",
                                    "3": "0",
                                    "4": "1"
                                },
                                {
                                    "0": "1992 Summer",
                                    "1": "Croatia",
                                    "2": "0",
                                    "3": "12",
                                    "4": "3"
                                },
                                {
                                    "0": "1992 Summer",
                                    "1": "Cuba",
                                    "2": "42",
                                    "3": "13",
                                    "4": "14"
                                },
                                {
                                    "0": "1992 Summer",
                                    "1": "Czech Republic",
                                    "2": "4",
                                    "3": "3",
                                    "4": "1"
                                },
                                {
                                    "0": "1992 Summer",
                                    "1": "Denmark",
                                    "2": "3",
                                    "3": "2",
                                    "4": "9"
                                },
                                {
                                    "0": "1992 Summer",
                                    "1": "Estonia",
                                    "2": "1",
                                    "3": "0",
                                    "4": "2"
                                },
                                {
                                    "0": "1992 Summer",
                                    "1": "Ethiopia",
                                    "2": "1",
                                    "3": "0",
                                    "4": "2"
                                },
                                {
                                    "0": "1992 Summer",
                                    "1": "Finland",
                                    "2": "1",
                                    "3": "4",
                                    "4": "2"
                                },
                                {
                                    "0": "1992 Summer",
                                    "1": "France",
                                    "2": "9",
                                    "3": "5",
                                    "4": "43"
                                },
                                {
                                    "0": "1992 Summer",
                                    "1": "Germany",
                                    "2": "81",
                                    "3": "57",
                                    "4": "60"
                                },
                                {
                                    "0": "1992 Summer",
                                    "1": "Ghana",
                                    "2": "0",
                                    "3": "0",
                                    "4": "20"
                                },
                                {
                                    "0": "1992 Summer",
                                    "1": "Greece",
                                    "2": "2",
                                    "3": "0",
                                    "4": "0"
                                },
                                {
                                    "0": "1992 Summer",
                                    "1": "Hungary",
                                    "2": "14",
                                    "3": "23",
                                    "4": "8"
                                },
                                {
                                    "0": "1992 Summer",
                                    "1": "Individual Olympic Athletes",
                                    "2": "0",
                                    "3": "1",
                                    "4": "2"
                                },
                                {
                                    "0": "1992 Summer",
                                    "1": "Indonesia",
                                    "2": "2",
                                    "3": "3",
                                    "4": "1"
                                },
                                {
                                    "0": "1992 Summer",
                                    "1": "Iran",
                                    "2": "0",
                                    "3": "1",
                                    "4": "2"
                                },
                                {
                                    "0": "1992 Summer",
                                    "1": "Ireland",
                                    "2": "1",
                                    "3": "1",
                                    "4": "0"
                                },
                                {
                                    "0": "1992 Summer",
                                    "1": "Israel",
                                    "2": "0",
                                    "3": "1",
                                    "4": "1"
                                },
                                {
                                    "0": "1992 Summer",
                                    "1": "Italy",
                                    "2": "21",
                                    "3": "10",
                                    "4": "14"
                                },
                                {
                                    "0": "1992 Summer",
                                    "1": "Jamaica",
                                    "2": "0",
                                    "3": "3",
                                    "4": "1"
                                },
                                {
                                    "0": "1992 Summer",
                                    "1": "Japan",
                                    "2": "3",
                                    "3": "8",
                                    "4": "36"
                                },
                                {
                                    "0": "1992 Summer",
                                    "1": "Kenya",
                                    "2": "2",
                                    "3": "4",
                                    "4": "2"
                                },
                                {
                                    "0": "1992 Summer",
                                    "1": "Latvia",
                                    "2": "0",
                                    "3": "2",
                                    "4": "1"
                                },
                                {
                                    "0": "1992 Summer",
                                    "1": "Lithuania",
                                    "2": "1",
                                    "3": "0",
                                    "4": "12"
                                },
                                {
                                    "0": "1992 Summer",
                                    "1": "Malaysia",
                                    "2": "0",
                                    "3": "0",
                                    "4": "2"
                                },
                                {
                                    "0": "1992 Summer",
                                    "1": "Mexico",
                                    "2": "0",
                                    "3": "1",
                                    "4": "0"
                                },
                                {
                                    "0": "1992 Summer",
                                    "1": "Mongolia",
                                    "2": "0",
                                    "3": "0",
                                    "4": "2"
                                },
                                {
                                    "0": "1992 Summer",
                                    "1": "Morocco",
                                    "2": "1",
                                    "3": "1",
                                    "4": "1"
                                },
                                {
                                    "0": "1992 Summer",
                                    "1": "Namibia",
                                    "2": "0",
                                    "3": "2",
                                    "4": "0"
                                },
                                {
                                    "0": "1992 Summer",
                                    "1": "Netherlands",
                                    "2": "5",
                                    "3": "20",
                                    "4": "8"
                                },
                                {
                                    "0": "1992 Summer",
                                    "1": "New Zealand",
                                    "2": "1",
                                    "3": "9",
                                    "4": "5"
                                },
                                {
                                    "0": "1992 Summer",
                                    "1": "Nigeria",
                                    "2": "0",
                                    "3": "7",
                                    "4": "4"
                                },
                                {
                                    "0": "1992 Summer",
                                    "1": "North Korea",
                                    "2": "4",
                                    "3": "0",
                                    "4": "6"
                                },
                                {
                                    "0": "1992 Summer",
                                    "1": "Norway",
                                    "2": "2",
                                    "3": "20",
                                    "4": "1"
                                },
                                {
                                    "0": "1992 Summer",
                                    "1": "Pakistan",
                                    "2": "0",
                                    "3": "0",
                                    "4": "16"
                                },
                                {
                                    "0": "1992 Summer",
                                    "1": "Peru",
                                    "2": "0",
                                    "3": "1",
                                    "4": "0"
                                },
                                {
                                    "0": "1992 Summer",
                                    "1": "Philippines",
                                    "2": "0",
                                    "3": "0",
                                    "4": "1"
                                },
                                {
                                    "0": "1992 Summer",
                                    "1": "Poland",
                                    "2": "5",
                                    "3": "22",
                                    "4": "19"
                                },
                                {
                                    "0": "1992 Summer",
                                    "1": "Puerto Rico",
                                    "2": "0",
                                    "3": "0",
                                    "4": "1"
                                },
                                {
                                    "0": "1992 Summer",
                                    "1": "Qatar",
                                    "2": "0",
                                    "3": "0",
                                    "4": "1"
                                },
                                {
                                    "0": "1992 Summer",
                                    "1": "Romania",
                                    "2": "8",
                                    "3": "31",
                                    "4": "14"
                                },
                                {
                                    "0": "1992 Summer",
                                    "1": "Russia",
                                    "2": "92",
                                    "3": "61",
                                    "4": "67"
                                },
                                {
                                    "0": "1992 Summer",
                                    "1": "Slovenia",
                                    "2": "0",
                                    "3": "0",
                                    "4": "6"
                                },
                                {
                                    "0": "1992 Summer",
                                    "1": "South Africa",
                                    "2": "0",
                                    "3": "3",
                                    "4": "0"
                                },
                                {
                                    "0": "1992 Summer",
                                    "1": "South Korea",
                                    "2": "28",
                                    "3": "5",
                                    "4": "16"
                                },
                                {
                                    "0": "1992 Summer",
                                    "1": "Spain",
                                    "2": "48",
                                    "3": "19",
                                    "4": "2"
                                },
                                {
                                    "0": "1992 Summer",
                                    "1": "Suriname",
                                    "2": "0",
                                    "3": "0",
                                    "4": "1"
                                },
                                {
                                    "0": "1992 Summer",
                                    "1": "Sweden",
                                    "2": "1",
                                    "3": "27",
                                    "4": "7"
                                },
                                {
                                    "0": "1992 Summer",
                                    "1": "Switzerland",
                                    "2": "1",
                                    "3": "0",
                                    "4": "0"
                                },
                                {
                                    "0": "1992 Summer",
                                    "1": "Taiwan",
                                    "2": "0",
                                    "3": "20",
                                    "4": "0"
                                },
                                {
                                    "0": "1992 Summer",
                                    "1": "Thailand",
                                    "2": "0",
                                    "3": "0",
                                    "4": "1"
                                },
                                {
                                    "0": "1992 Summer",
                                    "1": "Turkey",
                                    "2": "2",
                                    "3": "2",
                                    "4": "2"
                                },
                                {
                                    "0": "1992 Summer",
                                    "1": "UK",
                                    "2": "8",
                                    "3": "3",
                                    "4": "39"
                                },
                                {
                                    "0": "1992 Summer",
                                    "1": "USA",
                                    "2": "89",
                                    "3": "50",
                                    "4": "85"
                                },
                                {
                                    "0": "1992 Winter",
                                    "1": "Austria",
                                    "2": "9",
                                    "3": "10",
                                    "4": "10"
                                },
                                {
                                    "0": "1992 Winter",
                                    "1": "Canada",
                                    "2": "5",
                                    "3": "28",
                                    "4": "3"
                                },
                                {
                                    "0": "1992 Winter",
                                    "1": "China",
                                    "2": "0",
                                    "3": "3",
                                    "4": "0"
                                },
                                {
                                    "0": "1992 Winter",
                                    "1": "Czech Republic",
                                    "2": "0",
                                    "3": "0",
                                    "4": "27"
                                },
                                {
                                    "0": "1992 Winter",
                                    "1": "Finland",
                                    "2": "6",
                                    "3": "1",
                                    "4": "6"
                                },
                                {
                                    "0": "1992 Winter",
                                    "1": "France",
                                    "2": "5",
                                    "3": "6",
                                    "4": "1"
                                },
                                {
                                    "0": "1992 Winter",
                                    "1": "Germany",
                                    "2": "14",
                                    "3": "17",
                                    "4": "7"
                                },
                                {
                                    "0": "1992 Winter",
                                    "1": "Italy",
                                    "2": "4",
                                    "3": "9",
                                    "4": "8"
                                },
                                {
                                    "0": "1992 Winter",
                                    "1": "Japan",
                                    "2": "3",
                                    "3": "2",
                                    "4": "7"
                                },
                                {
                                    "0": "1992 Winter",
                                    "1": "Luxembourg",
                                    "2": "0",
                                    "3": "2",
                                    "4": "0"
                                },
                                {
                                    "0": "1992 Winter",
                                    "1": "Netherlands",
                                    "2": "1",
                                    "3": "1",
                                    "4": "2"
                                },
                                {
                                    "0": "1992 Winter",
                                    "1": "New Zealand",
                                    "2": "0",
                                    "3": "1",
                                    "4": "0"
                                },
                                {
                                    "0": "1992 Winter",
                                    "1": "North Korea",
                                    "2": "0",
                                    "3": "0",
                                    "4": "1"
                                },
                                {
                                    "0": "1992 Winter",
                                    "1": "Norway",
                                    "2": "9",
                                    "3": "10",
                                    "4": "5"
                                },
                                {
                                    "0": "1992 Winter",
                                    "1": "Russia",
                                    "2": "35",
                                    "3": "10",
                                    "4": "14"
                                },
                                {
                                    "0": "1992 Winter",
                                    "1": "South Korea",
                                    "2": "5",
                                    "3": "1",
                                    "4": "1"
                                },
                                {
                                    "0": "1992 Winter",
                                    "1": "Spain",
                                    "2": "0",
                                    "3": "0",
                                    "4": "1"
                                },
                                {
                                    "0": "1992 Winter",
                                    "1": "Sweden",
                                    "2": "1",
                                    "3": "0",
                                    "4": "6"
                                },
                                {
                                    "0": "1992 Winter",
                                    "1": "Switzerland",
                                    "2": "2",
                                    "3": "0",
                                    "4": "5"
                                },
                                {
                                    "0": "1992 Winter",
                                    "1": "USA",
                                    "2": "5",
                                    "3": "7",
                                    "4": "2"
                                },
                                {
                                    "0": "1994 Winter",
                                    "1": "Australia",
                                    "2": "0",
                                    "3": "0",
                                    "4": "4"
                                },
                                {
                                    "0": "1994 Winter",
                                    "1": "Austria",
                                    "2": "2",
                                    "3": "3",
                                    "4": "7"
                                },
                                {
                                    "0": "1994 Winter",
                                    "1": "Belarus",
                                    "2": "0",
                                    "3": "2",
                                    "4": "0"
                                },
                                {
                                    "0": "1994 Winter",
                                    "1": "Canada",
                                    "2": "3",
                                    "3": "29",
                                    "4": "5"
                                },
                                {
                                    "0": "1994 Winter",
                                    "1": "China",
                                    "2": "0",
                                    "3": "1",
                                    "4": "2"
                                },
                                {
                                    "0": "1994 Winter",
                                    "1": "Finland",
                                    "2": "0",
                                    "3": "1",
                                    "4": "29"
                                },
                                {
                                    "0": "1994 Winter",
                                    "1": "France",
                                    "2": "0",
                                    "3": "1",
                                    "4": "10"
                                },
                                {
                                    "0": "1994 Winter",
                                    "1": "Germany",
                                    "2": "18",
                                    "3": "10",
                                    "4": "12"
                                },
                                {
                                    "0": "1994 Winter",
                                    "1": "Italy",
                                    "2": "14",
                                    "3": "6",
                                    "4": "12"
                                },
                                {
                                    "0": "1994 Winter",
                                    "1": "Japan",
                                    "2": "3",
                                    "3": "5",
                                    "4": "2"
                                },
                                {
                                    "0": "1994 Winter",
                                    "1": "Kazakhstan",
                                    "2": "1",
                                    "3": "2",
                                    "4": "0"
                                },
                                {
                                    "0": "1994 Winter",
                                    "1": "Netherlands",
                                    "2": "0",
                                    "3": "1",
                                    "4": "3"
                                },
                                {
                                    "0": "1994 Winter",
                                    "1": "Norway",
                                    "2": "8",
                                    "3": "17",
                                    "4": "5"
                                },
                                {
                                    "0": "1994 Winter",
                                    "1": "Russia",
                                    "2": "19",
                                    "3": "13",
                                    "4": "4"
                                },
                                {
                                    "0": "1994 Winter",
                                    "1": "Slovenia",
                                    "2": "0",
                                    "3": "0",
                                    "4": "3"
                                },
                                {
                                    "0": "1994 Winter",
                                    "1": "South Korea",
                                    "2": "7",
                                    "3": "1",
                                    "4": "1"
                                },
                                {
                                    "0": "1994 Winter",
                                    "1": "Sweden",
                                    "2": "23",
                                    "3": "1",
                                    "4": "0"
                                },
                                {
                                    "0": "1994 Winter",
                                    "1": "Switzerland",
                                    "2": "4",
                                    "3": "8",
                                    "4": "4"
                                },
                                {
                                    "0": "1994 Winter",
                                    "1": "UK",
                                    "2": "0",
                                    "3": "0",
                                    "4": "3"
                                },
                                {
                                    "0": "1994 Winter",
                                    "1": "Ukraine",
                                    "2": "1",
                                    "3": "0",
                                    "4": "1"
                                },
                                {
                                    "0": "1994 Winter",
                                    "1": "USA",
                                    "2": "6",
                                    "3": "8",
                                    "4": "5"
                                },
                                {
                                    "0": "1994 Winter",
                                    "1": "Uzbekistan",
                                    "2": "1",
                                    "3": "0",
                                    "4": "0"
                                },
                                {
                                    "0": "1996 Summer",
                                    "1": "Algeria",
                                    "2": "2",
                                    "3": "0",
                                    "4": "1"
                                },
                                {
                                    "0": "1996 Summer",
                                    "1": "Argentina",
                                    "2": "0",
                                    "3": "19",
                                    "4": "1"
                                },
                                {
                                    "0": "1996 Summer",
                                    "1": "Armenia",
                                    "2": "1",
                                    "3": "1",
                                    "4": "0"
                                },
                                {
                                    "0": "1996 Summer",
                                    "1": "Australia",
                                    "2": "32",
                                    "3": "16",
                                    "4": "84"
                                },
                                {
                                    "0": "1996 Summer",
                                    "1": "Austria",
                                    "2": "0",
                                    "3": "1",
                                    "4": "2"
                                },
                                {
                                    "0": "1996 Summer",
                                    "1": "Azerbaijan",
                                    "2": "0",
                                    "3": "1",
                                    "4": "0"
                                },
                                {
                                    "0": "1996 Summer",
                                    "1": "Bahamas",
                                    "2": "0",
                                    "3": "5",
                                    "4": "0"
                                },
                                {
                                    "0": "1996 Summer",
                                    "1": "Belarus",
                                    "2": "1",
                                    "3": "6",
                                    "4": "16"
                                },
                                {
                                    "0": "1996 Summer",
                                    "1": "Belgium",
                                    "2": "2",
                                    "3": "2",
                                    "4": "2"
                                },
                                {
                                    "0": "1996 Summer",
                                    "1": "Brazil",
                                    "2": "5",
                                    "3": "15",
                                    "4": "43"
                                },
                                {
                                    "0": "1996 Summer",
                                    "1": "Bulgaria",
                                    "2": "3",
                                    "3": "12",
                                    "4": "6"
                                },
                                {
                                    "0": "1996 Summer",
                                    "1": "Burundi",
                                    "2": "1",
                                    "3": "0",
                                    "4": "0"
                                },
                                {
                                    "0": "1996 Summer",
                                    "1": "Canada",
                                    "2": "8",
                                    "3": "30",
                                    "4": "12"
                                },
                                {
                                    "0": "1996 Summer",
                                    "1": "China",
                                    "2": "20",
                                    "3": "70",
                                    "4": "17"
                                },
                                {
                                    "0": "1996 Summer",
                                    "1": "Costa Rica",
                                    "2": "1",
                                    "3": "0",
                                    "4": "0"
                                },
                                {
                                    "0": "1996 Summer",
                                    "1": "Croatia",
                                    "2": "16",
                                    "3": "12",
                                    "4": "0"
                                },
                                {
                                    "0": "1996 Summer",
                                    "1": "Cuba",
                                    "2": "37",
                                    "3": "8",
                                    "4": "10"
                                },
                                {
                                    "0": "1996 Summer",
                                    "1": "Czech Republic",
                                    "2": "4",
                                    "3": "5",
                                    "4": "4"
                                },
                                {
                                    "0": "1996 Summer",
                                    "1": "Denmark",
                                    "2": "21",
                                    "3": "1",
                                    "4": "1"
                                },
                                {
                                    "0": "1996 Summer",
                                    "1": "Ecuador",
                                    "2": "1",
                                    "3": "0",
                                    "4": "0"
                                },
                                {
                                    "0": "1996 Summer",
                                    "1": "Ethiopia",
                                    "2": "2",
                                    "3": "0",
                                    "4": "1"
                                },
                                {
                                    "0": "1996 Summer",
                                    "1": "Finland",
                                    "2": "1",
                                    "3": "2",
                                    "4": "1"
                                },
                                {
                                    "0": "1996 Summer",
                                    "1": "France",
                                    "2": "21",
                                    "3": "10",
                                    "4": "20"
                                },
                                {
                                    "0": "1996 Summer",
                                    "1": "Georgia",
                                    "2": "0",
                                    "3": "0",
                                    "4": "2"
                                },
                                {
                                    "0": "1996 Summer",
                                    "1": "Germany",
                                    "2": "42",
                                    "3": "35",
                                    "4": "47"
                                },
                                {
                                    "0": "1996 Summer",
                                    "1": "Greece",
                                    "2": "4",
                                    "3": "4",
                                    "4": "0"
                                },
                                {
                                    "0": "1996 Summer",
                                    "1": "Hungary",
                                    "2": "8",
                                    "3": "9",
                                    "4": "26"
                                },
                                {
                                    "0": "1996 Summer",
                                    "1": "India",
                                    "2": "0",
                                    "3": "0",
                                    "4": "1"
                                },
                                {
                                    "0": "1996 Summer",
                                    "1": "Indonesia",
                                    "2": "2",
                                    "3": "1",
                                    "4": "3"
                                },
                                {
                                    "0": "1996 Summer",
                                    "1": "Iran",
                                    "2": "1",
                                    "3": "1",
                                    "4": "1"
                                },
                                {
                                    "0": "1996 Summer",
                                    "1": "Ireland",
                                    "2": "3",
                                    "3": "0",
                                    "4": "1"
                                },
                                {
                                    "0": "1996 Summer",
                                    "1": "Israel",
                                    "2": "0",
                                    "3": "0",
                                    "4": "1"
                                },
                                {
                                    "0": "1996 Summer",
                                    "1": "Italy",
                                    "2": "19",
                                    "3": "24",
                                    "4": "28"
                                },
                                {
                                    "0": "1996 Summer",
                                    "1": "Jamaica",
                                    "2": "1",
                                    "3": "3",
                                    "4": "12"
                                },
                                {
                                    "0": "1996 Summer",
                                    "1": "Japan",
                                    "2": "3",
                                    "3": "26",
                                    "4": "13"
                                },
                                {
                                    "0": "1996 Summer",
                                    "1": "Kazakhstan",
                                    "2": "3",
                                    "3": "4",
                                    "4": "4"
                                },
                                {
                                    "0": "1996 Summer",
                                    "1": "Kenya",
                                    "2": "1",
                                    "3": "4",
                                    "4": "3"
                                },
                                {
                                    "0": "1996 Summer",
                                    "1": "Latvia",
                                    "2": "0",
                                    "3": "1",
                                    "4": "0"
                                },
                                {
                                    "0": "1996 Summer",
                                    "1": "Lithuania",
                                    "2": "0",
                                    "3": "0",
                                    "4": "11"
                                },
                                {
                                    "0": "1996 Summer",
                                    "1": "Malaysia",
                                    "2": "0",
                                    "3": "2",
                                    "4": "1"
                                },
                                {
                                    "0": "1996 Summer",
                                    "1": "Mexico",
                                    "2": "0",
                                    "3": "0",
                                    "4": "1"
                                },
                                {
                                    "0": "1996 Summer",
                                    "1": "Moldova",
                                    "2": "0",
                                    "3": "2",
                                    "4": "1"
                                },
                                {
                                    "0": "1996 Summer",
                                    "1": "Mongolia",
                                    "2": "0",
                                    "3": "0",
                                    "4": "1"
                                },
                                {
                                    "0": "1996 Summer",
                                    "1": "Morocco",
                                    "2": "0",
                                    "3": "0",
                                    "4": "2"
                                },
                                {
                                    "0": "1996 Summer",
                                    "1": "Mozambique",
                                    "2": "0",
                                    "3": "0",
                                    "4": "1"
                                },
                                {
                                    "0": "1996 Summer",
                                    "1": "Namibia",
                                    "2": "0",
                                    "3": "2",
                                    "4": "0"
                                },
                                {
                                    "0": "1996 Summer",
                                    "1": "Netherlands",
                                    "2": "38",
                                    "3": "9",
                                    "4": "26"
                                },
                                {
                                    "0": "1996 Summer",
                                    "1": "New Zealand",
                                    "2": "3",
                                    "3": "2",
                                    "4": "4"
                                },
                                {
                                    "0": "1996 Summer",
                                    "1": "Nigeria",
                                    "2": "17",
                                    "3": "4",
                                    "4": "3"
                                },
                                {
                                    "0": "1996 Summer",
                                    "1": "North Korea",
                                    "2": "2",
                                    "3": "1",
                                    "4": "2"
                                },
                                {
                                    "0": "1996 Summer",
                                    "1": "Norway",
                                    "2": "2",
                                    "3": "3",
                                    "4": "18"
                                },
                                {
                                    "0": "1996 Summer",
                                    "1": "Philippines",
                                    "2": "0",
                                    "3": "1",
                                    "4": "0"
                                },
                                {
                                    "0": "1996 Summer",
                                    "1": "Poland",
                                    "2": "7",
                                    "3": "8",
                                    "4": "7"
                                },
                                {
                                    "0": "1996 Summer",
                                    "1": "Portugal",
                                    "2": "1",
                                    "3": "0",
                                    "4": "2"
                                },
                                {
                                    "0": "1996 Summer",
                                    "1": "Puerto Rico",
                                    "2": "0",
                                    "3": "0",
                                    "4": "1"
                                },
                                {
                                    "0": "1996 Summer",
                                    "1": "Romania",
                                    "2": "13",
                                    "3": "10",
                                    "4": "15"
                                },
                                {
                                    "0": "1996 Summer",
                                    "1": "Russia",
                                    "2": "36",
                                    "3": "45",
                                    "4": "34"
                                },
                                {
                                    "0": "1996 Summer",
                                    "1": "Serbia",
                                    "2": "1",
                                    "3": "12",
                                    "4": "13"
                                },
                                {
                                    "0": "1996 Summer",
                                    "1": "Slovakia",
                                    "2": "1",
                                    "3": "1",
                                    "4": "1"
                                },
                                {
                                    "0": "1996 Summer",
                                    "1": "Slovenia",
                                    "2": "0",
                                    "3": "2",
                                    "4": "0"
                                },
                                {
                                    "0": "1996 Summer",
                                    "1": "South Africa",
                                    "2": "3",
                                    "3": "1",
                                    "4": "1"
                                },
                                {
                                    "0": "1996 Summer",
                                    "1": "South Korea",
                                    "2": "10",
                                    "3": "49",
                                    "4": "7"
                                },
                                {
                                    "0": "1996 Summer",
                                    "1": "Spain",
                                    "2": "23",
                                    "3": "21",
                                    "4": "22"
                                },
                                {
                                    "0": "1996 Summer",
                                    "1": "Sweden",
                                    "2": "3",
                                    "3": "23",
                                    "4": "5"
                                },
                                {
                                    "0": "1996 Summer",
                                    "1": "Switzerland",
                                    "2": "5",
                                    "3": "6",
                                    "4": "0"
                                },
                                {
                                    "0": "1996 Summer",
                                    "1": "Syria",
                                    "2": "1",
                                    "3": "0",
                                    "4": "0"
                                },
                                {
                                    "0": "1996 Summer",
                                    "1": "Taiwan",
                                    "2": "0",
                                    "3": "1",
                                    "4": "0"
                                },
                                {
                                    "0": "1996 Summer",
                                    "1": "Thailand",
                                    "2": "1",
                                    "3": "0",
                                    "4": "1"
                                },
                                {
                                    "0": "1996 Summer",
                                    "1": "Tonga",
                                    "2": "0",
                                    "3": "1",
                                    "4": "0"
                                },
                                {
                                    "0": "1996 Summer",
                                    "1": "Trinidad",
                                    "2": "0",
                                    "3": "0",
                                    "4": "2"
                                },
                                {
                                    "0": "1996 Summer",
                                    "1": "Tunisia",
                                    "2": "0",
                                    "3": "0",
                                    "4": "1"
                                },
                                {
                                    "0": "1996 Summer",
                                    "1": "Turkey",
                                    "2": "4",
                                    "3": "1",
                                    "4": "1"
                                },
                                {
                                    "0": "1996 Summer",
                                    "1": "Uganda",
                                    "2": "0",
                                    "3": "0",
                                    "4": "1"
                                },
                                {
                                    "0": "1996 Summer",
                                    "1": "UK",
                                    "2": "2",
                                    "3": "15",
                                    "4": "9"
                                },
                                {
                                    "0": "1996 Summer",
                                    "1": "Ukraine",
                                    "2": "10",
                                    "3": "5",
                                    "4": "19"
                                },
                                {
                                    "0": "1996 Summer",
                                    "1": "USA",
                                    "2": "159",
                                    "3": "48",
                                    "4": "52"
                                },
                                {
                                    "0": "1996 Summer",
                                    "1": "Uzbekistan",
                                    "2": "0",
                                    "3": "1",
                                    "4": "1"
                                },
                                {
                                    "0": "1996 Summer",
                                    "1": "Zambia",
                                    "2": "0",
                                    "3": "1",
                                    "4": "0"
                                },
                                {
                                    "0": "1998 Winter",
                                    "1": "Australia",
                                    "2": "0",
                                    "3": "0",
                                    "4": "1"
                                },
                                {
                                    "0": "1998 Winter",
                                    "1": "Austria",
                                    "2": "3",
                                    "3": "5",
                                    "4": "12"
                                },
                                {
                                    "0": "1998 Winter",
                                    "1": "Belarus",
                                    "2": "0",
                                    "3": "0",
                                    "4": "2"
                                },
                                {
                                    "0": "1998 Winter",
                                    "1": "Belgium",
                                    "2": "0",
                                    "3": "0",
                                    "4": "1"
                                },
                                {
                                    "0": "1998 Winter",
                                    "1": "Bulgaria",
                                    "2": "1",
                                    "3": "0",
                                    "4": "0"
                                },
                                {
                                    "0": "1998 Winter",
                                    "1": "Canada",
                                    "2": "14",
                                    "3": "28",
                                    "4": "7"
                                },
                                {
                                    "0": "1998 Winter",
                                    "1": "China",
                                    "2": "0",
                                    "3": "9",
                                    "4": "5"
                                },
                                {
                                    "0": "1998 Winter",
                                    "1": "Czech Republic",
                                    "2": "21",
                                    "3": "1",
                                    "4": "1"
                                },
                                {
                                    "0": "1998 Winter",
                                    "1": "Denmark",
                                    "2": "0",
                                    "3": "5",
                                    "4": "0"
                                },
                                {
                                    "0": "1998 Winter",
                                    "1": "Finland",
                                    "2": "2",
                                    "3": "7",
                                    "4": "49"
                                },
                                {
                                    "0": "1998 Winter",
                                    "1": "France",
                                    "2": "2",
                                    "3": "1",
                                    "4": "12"
                                },
                                {
                                    "0": "1998 Winter",
                                    "1": "Germany",
                                    "2": "22",
                                    "3": "12",
                                    "4": "10"
                                },
                                {
                                    "0": "1998 Winter",
                                    "1": "Italy",
                                    "2": "3",
                                    "3": "9",
                                    "4": "5"
                                },
                                {
                                    "0": "1998 Winter",
                                    "1": "Japan",
                                    "2": "8",
                                    "3": "1",
                                    "4": "4"
                                },
                                {
                                    "0": "1998 Winter",
                                    "1": "Kazakhstan",
                                    "2": "0",
                                    "3": "0",
                                    "4": "2"
                                },
                                {
                                    "0": "1998 Winter",
                                    "1": "Netherlands",
                                    "2": "5",
                                    "3": "4",
                                    "4": "2"
                                },
                                {
                                    "0": "1998 Winter",
                                    "1": "Norway",
                                    "2": "13",
                                    "3": "15",
                                    "4": "12"
                                },
                                {
                                    "0": "1998 Winter",
                                    "1": "Russia",
                                    "2": "14",
                                    "3": "32",
                                    "4": "6"
                                },
                                {
                                    "0": "1998 Winter",
                                    "1": "South Korea",
                                    "2": "6",
                                    "3": "4",
                                    "4": "2"
                                },
                                {
                                    "0": "1998 Winter",
                                    "1": "Sweden",
                                    "2": "0",
                                    "3": "2",
                                    "4": "5"
                                },
                                {
                                    "0": "1998 Winter",
                                    "1": "Switzerland",
                                    "2": "6",
                                    "3": "5",
                                    "4": "3"
                                },
                                {
                                    "0": "1998 Winter",
                                    "1": "UK",
                                    "2": "0",
                                    "3": "0",
                                    "4": "4"
                                },
                                {
                                    "0": "1998 Winter",
                                    "1": "Ukraine",
                                    "2": "0",
                                    "3": "1",
                                    "4": "0"
                                },
                                {
                                    "0": "1998 Winter",
                                    "1": "USA",
                                    "2": "25",
                                    "3": "4",
                                    "4": "5"
                                },
                                {
                                    "0": "2000 Summer",
                                    "1": "Algeria",
                                    "2": "1",
                                    "3": "1",
                                    "4": "3"
                                },
                                {
                                    "0": "2000 Summer",
                                    "1": "Argentina",
                                    "2": "0",
                                    "3": "17",
                                    "4": "3"
                                },
                                {
                                    "0": "2000 Summer",
                                    "1": "Armenia",
                                    "2": "0",
                                    "3": "0",
                                    "4": "1"
                                },
                                {
                                    "0": "2000 Summer",
                                    "1": "Australia",
                                    "2": "60",
                                    "3": "69",
                                    "4": "54"
                                },
                                {
                                    "0": "2000 Summer",
                                    "1": "Austria",
                                    "2": "3",
                                    "3": "1",
                                    "4": "0"
                                },
                                {
                                    "0": "2000 Summer",
                                    "1": "Azerbaijan",
                                    "2": "2",
                                    "3": "0",
                                    "4": "1"
                                },
                                {
                                    "0": "2000 Summer",
                                    "1": "Bahamas",
                                    "2": "6",
                                    "3": "0",
                                    "4": "5"
                                },
                                {
                                    "0": "2000 Summer",
                                    "1": "Barbados",
                                    "2": "0",
                                    "3": "0",
                                    "4": "1"
                                },
                                {
                                    "0": "2000 Summer",
                                    "1": "Belarus",
                                    "2": "3",
                                    "3": "8",
                                    "4": "11"
                                },
                                {
                                    "0": "2000 Summer",
                                    "1": "Belgium",
                                    "2": "0",
                                    "3": "3",
                                    "4": "4"
                                },
                                {
                                    "0": "2000 Summer",
                                    "1": "Brazil",
                                    "2": "0",
                                    "3": "12",
                                    "4": "36"
                                },
                                {
                                    "0": "2000 Summer",
                                    "1": "Bulgaria",
                                    "2": "5",
                                    "3": "6",
                                    "4": "2"
                                },
                                {
                                    "0": "2000 Summer",
                                    "1": "Cameroon",
                                    "2": "18",
                                    "3": "0",
                                    "4": "0"
                                },
                                {
                                    "0": "2000 Summer",
                                    "1": "Canada",
                                    "2": "4",
                                    "3": "4",
                                    "4": "23"
                                },
                                {
                                    "0": "2000 Summer",
                                    "1": "Chile",
                                    "2": "0",
                                    "3": "0",
                                    "4": "17"
                                },
                                {
                                    "0": "2000 Summer",
                                    "1": "China",
                                    "2": "39",
                                    "3": "23",
                                    "4": "17"
                                },
                                {
                                    "0": "2000 Summer",
                                    "1": "Colombia",
                                    "2": "1",
                                    "3": "0",
                                    "4": "0"
                                },
                                {
                                    "0": "2000 Summer",
                                    "1": "Costa Rica",
                                    "2": "0",
                                    "3": "0",
                                    "4": "2"
                                },
                                {
                                    "0": "2000 Summer",
                                    "1": "Croatia",
                                    "2": "1",
                                    "3": "0",
                                    "4": "9"
                                },
                                {
                                    "0": "2000 Summer",
                                    "1": "Cuba",
                                    "2": "18",
                                    "3": "35",
                                    "4": "12"
                                },
                                {
                                    "0": "2000 Summer",
                                    "1": "Czech Republic",
                                    "2": "2",
                                    "3": "3",
                                    "4": "4"
                                },
                                {
                                    "0": "2000 Summer",
                                    "1": "Denmark",
                                    "2": "18",
                                    "3": "3",
                                    "4": "4"
                                },
                                {
                                    "0": "2000 Summer",
                                    "1": "Estonia",
                                    "2": "1",
                                    "3": "0",
                                    "4": "2"
                                },
                                {
                                    "0": "2000 Summer",
                                    "1": "Ethiopia",
                                    "2": "4",
                                    "3": "1",
                                    "4": "3"
                                },
                                {
                                    "0": "2000 Summer",
                                    "1": "Finland",
                                    "2": "3",
                                    "3": "1",
                                    "4": "1"
                                },
                                {
                                    "0": "2000 Summer",
                                    "1": "France",
                                    "2": "22",
                                    "3": "30",
                                    "4": "14"
                                },
                                {
                                    "0": "2000 Summer",
                                    "1": "Georgia",
                                    "2": "0",
                                    "3": "0",
                                    "4": "6"
                                },
                                {
                                    "0": "2000 Summer",
                                    "1": "Germany",
                                    "2": "31",
                                    "3": "23",
                                    "4": "64"
                                },
                                {
                                    "0": "2000 Summer",
                                    "1": "Greece",
                                    "2": "4",
                                    "3": "6",
                                    "4": "8"
                                },
                                {
                                    "0": "2000 Summer",
                                    "1": "Hungary",
                                    "2": "25",
                                    "3": "24",
                                    "4": "4"
                                },
                                {
                                    "0": "2000 Summer",
                                    "1": "Iceland",
                                    "2": "0",
                                    "3": "0",
                                    "4": "1"
                                },
                                {
                                    "0": "2000 Summer",
                                    "1": "India",
                                    "2": "0",
                                    "3": "0",
                                    "4": "1"
                                },
                                {
                                    "0": "2000 Summer",
                                    "1": "Indonesia",
                                    "2": "2",
                                    "3": "4",
                                    "4": "2"
                                },
                                {
                                    "0": "2000 Summer",
                                    "1": "Iran",
                                    "2": "3",
                                    "3": "0",
                                    "4": "1"
                                },
                                {
                                    "0": "2000 Summer",
                                    "1": "Ireland",
                                    "2": "0",
                                    "3": "1",
                                    "4": "0"
                                },
                                {
                                    "0": "2000 Summer",
                                    "1": "Israel",
                                    "2": "0",
                                    "3": "0",
                                    "4": "1"
                                },
                                {
                                    "0": "2000 Summer",
                                    "1": "Italy",
                                    "2": "22",
                                    "3": "14",
                                    "4": "29"
                                },
                                {
                                    "0": "2000 Summer",
                                    "1": "Jamaica",
                                    "2": "0",
                                    "3": "20",
                                    "4": "3"
                                },
                                {
                                    "0": "2000 Summer",
                                    "1": "Japan",
                                    "2": "5",
                                    "3": "31",
                                    "4": "8"
                                },
                                {
                                    "0": "2000 Summer",
                                    "1": "Kazakhstan",
                                    "2": "3",
                                    "3": "4",
                                    "4": "0"
                                },
                                {
                                    "0": "2000 Summer",
                                    "1": "Kenya",
                                    "2": "2",
                                    "3": "3",
                                    "4": "2"
                                },
                                {
                                    "0": "2000 Summer",
                                    "1": "Kuwait",
                                    "2": "0",
                                    "3": "0",
                                    "4": "1"
                                },
                                {
                                    "0": "2000 Summer",
                                    "1": "Kyrgyzstan",
                                    "2": "0",
                                    "3": "0",
                                    "4": "1"
                                },
                                {
                                    "0": "2000 Summer",
                                    "1": "Latvia",
                                    "2": "1",
                                    "3": "1",
                                    "4": "1"
                                },
                                {
                                    "0": "2000 Summer",
                                    "1": "Lithuania",
                                    "2": "2",
                                    "3": "0",
                                    "4": "15"
                                },
                                {
                                    "0": "2000 Summer",
                                    "1": "Macedonia",
                                    "2": "0",
                                    "3": "0",
                                    "4": "1"
                                },
                                {
                                    "0": "2000 Summer",
                                    "1": "Mexico",
                                    "2": "1",
                                    "3": "2",
                                    "4": "3"
                                },
                                {
                                    "0": "2000 Summer",
                                    "1": "Moldova",
                                    "2": "0",
                                    "3": "1",
                                    "4": "1"
                                },
                                {
                                    "0": "2000 Summer",
                                    "1": "Morocco",
                                    "2": "0",
                                    "3": "1",
                                    "4": "4"
                                },
                                {
                                    "0": "2000 Summer",
                                    "1": "Mozambique",
                                    "2": "1",
                                    "3": "0",
                                    "4": "0"
                                },
                                {
                                    "0": "2000 Summer",
                                    "1": "Netherlands",
                                    "2": "27",
                                    "3": "29",
                                    "4": "23"
                                },
                                {
                                    "0": "2000 Summer",
                                    "1": "New Zealand",
                                    "2": "1",
                                    "3": "0",
                                    "4": "3"
                                },
                                {
                                    "0": "2000 Summer",
                                    "1": "Nigeria",
                                    "2": "6",
                                    "3": "2",
                                    "4": "0"
                                },
                                {
                                    "0": "2000 Summer",
                                    "1": "North Korea",
                                    "2": "0",
                                    "3": "1",
                                    "4": "3"
                                },
                                {
                                    "0": "2000 Summer",
                                    "1": "Norway",
                                    "2": "20",
                                    "3": "4",
                                    "4": "19"
                                },
                                {
                                    "0": "2000 Summer",
                                    "1": "Poland",
                                    "2": "7",
                                    "3": "10",
                                    "4": "7"
                                },
                                {
                                    "0": "2000 Summer",
                                    "1": "Portugal",
                                    "2": "0",
                                    "3": "0",
                                    "4": "2"
                                },
                                {
                                    "0": "2000 Summer",
                                    "1": "Qatar",
                                    "2": "0",
                                    "3": "0",
                                    "4": "1"
                                },
                                {
                                    "0": "2000 Summer",
                                    "1": "Romania",
                                    "2": "27",
                                    "3": "6",
                                    "4": "13"
                                },
                                {
                                    "0": "2000 Summer",
                                    "1": "Russia",
                                    "2": "66",
                                    "3": "67",
                                    "4": "54"
                                },
                                {
                                    "0": "2000 Summer",
                                    "1": "Saudi Arabia",
                                    "2": "0",
                                    "3": "1",
                                    "4": "1"
                                },
                                {
                                    "0": "2000 Summer",
                                    "1": "Serbia",
                                    "2": "11",
                                    "3": "1",
                                    "4": "13"
                                },
                                {
                                    "0": "2000 Summer",
                                    "1": "Slovakia",
                                    "2": "2",
                                    "3": "3",
                                    "4": "1"
                                },
                                {
                                    "0": "2000 Summer",
                                    "1": "Slovenia",
                                    "2": "3",
                                    "3": "0",
                                    "4": "0"
                                },
                                {
                                    "0": "2000 Summer",
                                    "1": "South Africa",
                                    "2": "0",
                                    "3": "2",
                                    "4": "3"
                                },
                                {
                                    "0": "2000 Summer",
                                    "1": "South Korea",
                                    "2": "12",
                                    "3": "26",
                                    "4": "35"
                                },
                                {
                                    "0": "2000 Summer",
                                    "1": "Spain",
                                    "2": "3",
                                    "3": "19",
                                    "4": "20"
                                },
                                {
                                    "0": "2000 Summer",
                                    "1": "Sri Lanka",
                                    "2": "0",
                                    "3": "1",
                                    "4": "0"
                                },
                                {
                                    "0": "2000 Summer",
                                    "1": "Sweden",
                                    "2": "4",
                                    "3": "20",
                                    "4": "8"
                                },
                                {
                                    "0": "2000 Summer",
                                    "1": "Switzerland",
                                    "2": "1",
                                    "3": "11",
                                    "4": "2"
                                },
                                {
                                    "0": "2000 Summer",
                                    "1": "Taiwan",
                                    "2": "0",
                                    "3": "1",
                                    "4": "4"
                                },
                                {
                                    "0": "2000 Summer",
                                    "1": "Thailand",
                                    "2": "1",
                                    "3": "0",
                                    "4": "2"
                                },
                                {
                                    "0": "2000 Summer",
                                    "1": "Trinidad",
                                    "2": "0",
                                    "3": "1",
                                    "4": "1"
                                },
                                {
                                    "0": "2000 Summer",
                                    "1": "Turkey",
                                    "2": "3",
                                    "3": "0",
                                    "4": "2"
                                },
                                {
                                    "0": "2000 Summer",
                                    "1": "UK",
                                    "2": "22",
                                    "3": "20",
                                    "4": "12"
                                },
                                {
                                    "0": "2000 Summer",
                                    "1": "Ukraine",
                                    "2": "3",
                                    "3": "20",
                                    "4": "12"
                                },
                                {
                                    "0": "2000 Summer",
                                    "1": "Uruguay",
                                    "2": "0",
                                    "3": "1",
                                    "4": "0"
                                },
                                {
                                    "0": "2000 Summer",
                                    "1": "USA",
                                    "2": "130",
                                    "3": "61",
                                    "4": "51"
                                },
                                {
                                    "0": "2000 Summer",
                                    "1": "Uzbekistan",
                                    "2": "1",
                                    "3": "1",
                                    "4": "2"
                                },
                                {
                                    "0": "2000 Summer",
                                    "1": "Vietnam",
                                    "2": "0",
                                    "3": "1",
                                    "4": "0"
                                },
                                {
                                    "0": "2002 Winter",
                                    "1": "Australia",
                                    "2": "2",
                                    "3": "0",
                                    "4": "0"
                                },
                                {
                                    "0": "2002 Winter",
                                    "1": "Austria",
                                    "2": "3",
                                    "3": "4",
                                    "4": "13"
                                },
                                {
                                    "0": "2002 Winter",
                                    "1": "Belarus",
                                    "2": "0",
                                    "3": "0",
                                    "4": "1"
                                },
                                {
                                    "0": "2002 Winter",
                                    "1": "Bulgaria",
                                    "2": "0",
                                    "3": "1",
                                    "4": "2"
                                },
                                {
                                    "0": "2002 Winter",
                                    "1": "Canada",
                                    "2": "52",
                                    "3": "7",
                                    "4": "15"
                                },
                                {
                                    "0": "2002 Winter",
                                    "1": "China",
                                    "2": "2",
                                    "3": "5",
                                    "4": "9"
                                },
                                {
                                    "0": "2002 Winter",
                                    "1": "Croatia",
                                    "2": "3",
                                    "3": "1",
                                    "4": "0"
                                },
                                {
                                    "0": "2002 Winter",
                                    "1": "Czech Republic",
                                    "2": "1",
                                    "3": "2",
                                    "4": "0"
                                },
                                {
                                    "0": "2002 Winter",
                                    "1": "Estonia",
                                    "2": "1",
                                    "3": "1",
                                    "4": "1"
                                },
                                {
                                    "0": "2002 Winter",
                                    "1": "Finland",
                                    "2": "7",
                                    "3": "5",
                                    "4": "1"
                                },
                                {
                                    "0": "2002 Winter",
                                    "1": "France",
                                    "2": "5",
                                    "3": "5",
                                    "4": "5"
                                },
                                {
                                    "0": "2002 Winter",
                                    "1": "Germany",
                                    "2": "26",
                                    "3": "23",
                                    "4": "12"
                                },
                                {
                                    "0": "2002 Winter",
                                    "1": "Italy",
                                    "2": "4",
                                    "3": "11",
                                    "4": "6"
                                },
                                {
                                    "0": "2002 Winter",
                                    "1": "Japan",
                                    "2": "0",
                                    "3": "1",
                                    "4": "1"
                                },
                                {
                                    "0": "2002 Winter",
                                    "1": "Netherlands",
                                    "2": "3",
                                    "3": "5",
                                    "4": "0"
                                },
                                {
                                    "0": "2002 Winter",
                                    "1": "Norway",
                                    "2": "23",
                                    "3": "11",
                                    "4": "7"
                                },
                                {
                                    "0": "2002 Winter",
                                    "1": "Poland",
                                    "2": "0",
                                    "3": "1",
                                    "4": "1"
                                },
                                {
                                    "0": "2002 Winter",
                                    "1": "Russia",
                                    "2": "6",
                                    "3": "5",
                                    "4": "27"
                                },
                                {
                                    "0": "2002 Winter",
                                    "1": "Slovenia",
                                    "2": "0",
                                    "3": "0",
                                    "4": "4"
                                },
                                {
                                    "0": "2002 Winter",
                                    "1": "South Korea",
                                    "2": "5",
                                    "3": "2",
                                    "4": "0"
                                },
                                {
                                    "0": "2002 Winter",
                                    "1": "Sweden",
                                    "2": "0",
                                    "3": "2",
                                    "4": "24"
                                },
                                {
                                    "0": "2002 Winter",
                                    "1": "Switzerland",
                                    "2": "3",
                                    "3": "7",
                                    "4": "14"
                                },
                                {
                                    "0": "2002 Winter",
                                    "1": "UK",
                                    "2": "5",
                                    "3": "0",
                                    "4": "1"
                                },
                                {
                                    "0": "2002 Winter",
                                    "1": "USA",
                                    "2": "11",
                                    "3": "58",
                                    "4": "15"
                                },
                                {
                                    "0": "2004 Summer",
                                    "1": "Argentina",
                                    "2": "28",
                                    "3": "0",
                                    "4": "21"
                                },
                                {
                                    "0": "2004 Summer",
                                    "1": "Australia",
                                    "2": "49",
                                    "3": "77",
                                    "4": "31"
                                },
                                {
                                    "0": "2004 Summer",
                                    "1": "Austria",
                                    "2": "3",
                                    "3": "4",
                                    "4": "1"
                                },
                                {
                                    "0": "2004 Summer",
                                    "1": "Azerbaijan",
                                    "2": "1",
                                    "3": "0",
                                    "4": "4"
                                },
                                {
                                    "0": "2004 Summer",
                                    "1": "Bahamas",
                                    "2": "1",
                                    "3": "0",
                                    "4": "1"
                                },
                                {
                                    "0": "2004 Summer",
                                    "1": "Belarus",
                                    "2": "2",
                                    "3": "5",
                                    "4": "8"
                                },
                                {
                                    "0": "2004 Summer",
                                    "1": "Belgium",
                                    "2": "1",
                                    "3": "0",
                                    "4": "2"
                                },
                                {
                                    "0": "2004 Summer",
                                    "1": "Brazil",
                                    "2": "18",
                                    "3": "19",
                                    "4": "3"
                                },
                                {
                                    "0": "2004 Summer",
                                    "1": "Bulgaria",
                                    "2": "2",
                                    "3": "1",
                                    "4": "14"
                                },
                                {
                                    "0": "2004 Summer",
                                    "1": "Cameroon",
                                    "2": "1",
                                    "3": "0",
                                    "4": "0"
                                },
                                {
                                    "0": "2004 Summer",
                                    "1": "Canada",
                                    "2": "3",
                                    "3": "10",
                                    "4": "4"
                                },
                                {
                                    "0": "2004 Summer",
                                    "1": "Chile",
                                    "2": "3",
                                    "3": "0",
                                    "4": "1"
                                },
                                {
                                    "0": "2004 Summer",
                                    "1": "China",
                                    "2": "52",
                                    "3": "29",
                                    "4": "15"
                                },
                                {
                                    "0": "2004 Summer",
                                    "1": "Colombia",
                                    "2": "0",
                                    "3": "0",
                                    "4": "2"
                                },
                                {
                                    "0": "2004 Summer",
                                    "1": "Croatia",
                                    "2": "15",
                                    "3": "3",
                                    "4": "3"
                                },
                                {
                                    "0": "2004 Summer",
                                    "1": "Cuba",
                                    "2": "32",
                                    "3": "8",
                                    "4": "22"
                                },
                                {
                                    "0": "2004 Summer",
                                    "1": "Czech Republic",
                                    "2": "1",
                                    "3": "6",
                                    "4": "6"
                                },
                                {
                                    "0": "2004 Summer",
                                    "1": "Denmark",
                                    "2": "19",
                                    "3": "1",
                                    "4": "9"
                                },
                                {
                                    "0": "2004 Summer",
                                    "1": "Dominican Republic",
                                    "2": "1",
                                    "3": "0",
                                    "4": "0"
                                },
                                {
                                    "0": "2004 Summer",
                                    "1": "Egypt",
                                    "2": "1",
                                    "3": "1",
                                    "4": "3"
                                },
                                {
                                    "0": "2004 Summer",
                                    "1": "Eritrea",
                                    "2": "0",
                                    "3": "0",
                                    "4": "1"
                                },
                                {
                                    "0": "2004 Summer",
                                    "1": "Estonia",
                                    "2": "0",
                                    "3": "1",
                                    "4": "2"
                                },
                                {
                                    "0": "2004 Summer",
                                    "1": "Ethiopia",
                                    "2": "2",
                                    "3": "3",
                                    "4": "2"
                                },
                                {
                                    "0": "2004 Summer",
                                    "1": "Finland",
                                    "2": "0",
                                    "3": "2",
                                    "4": "0"
                                },
                                {
                                    "0": "2004 Summer",
                                    "1": "France",
                                    "2": "21",
                                    "3": "10",
                                    "4": "22"
                                },
                                {
                                    "0": "2004 Summer",
                                    "1": "Georgia",
                                    "2": "2",
                                    "3": "2",
                                    "4": "0"
                                },
                                {
                                    "0": "2004 Summer",
                                    "1": "Germany",
                                    "2": "41",
                                    "3": "45",
                                    "4": "63"
                                },
                                {
                                    "0": "2004 Summer",
                                    "1": "Greece",
                                    "2": "8",
                                    "3": "18",
                                    "4": "5"
                                },
                                {
                                    "0": "2004 Summer",
                                    "1": "Hungary",
                                    "2": "24",
                                    "3": "12",
                                    "4": "4"
                                },
                                {
                                    "0": "2004 Summer",
                                    "1": "India",
                                    "2": "0",
                                    "3": "1",
                                    "4": "0"
                                },
                                {
                                    "0": "2004 Summer",
                                    "1": "Indonesia",
                                    "2": "1",
                                    "3": "1",
                                    "4": "3"
                                },
                                {
                                    "0": "2004 Summer",
                                    "1": "Iran",
                                    "2": "2",
                                    "3": "2",
                                    "4": "2"
                                },
                                {
                                    "0": "2004 Summer",
                                    "1": "Israel",
                                    "2": "1",
                                    "3": "0",
                                    "4": "1"
                                },
                                {
                                    "0": "2004 Summer",
                                    "1": "Italy",
                                    "2": "24",
                                    "3": "41",
                                    "4": "39"
                                },
                                {
                                    "0": "2004 Summer",
                                    "1": "Jamaica",
                                    "2": "6",
                                    "3": "1",
                                    "4": "6"
                                },
                                {
                                    "0": "2004 Summer",
                                    "1": "Japan",
                                    "2": "21",
                                    "3": "20",
                                    "4": "52"
                                },
                                {
                                    "0": "2004 Summer",
                                    "1": "Kazakhstan",
                                    "2": "1",
                                    "3": "4",
                                    "4": "3"
                                },
                                {
                                    "0": "2004 Summer",
                                    "1": "Kenya",
                                    "2": "1",
                                    "3": "4",
                                    "4": "2"
                                },
                                {
                                    "0": "2004 Summer",
                                    "1": "Latvia",
                                    "2": "0",
                                    "3": "4",
                                    "4": "0"
                                },
                                {
                                    "0": "2004 Summer",
                                    "1": "Lithuania",
                                    "2": "1",
                                    "3": "2",
                                    "4": "0"
                                },
                                {
                                    "0": "2004 Summer",
                                    "1": "Mexico",
                                    "2": "0",
                                    "3": "3",
                                    "4": "1"
                                },
                                {
                                    "0": "2004 Summer",
                                    "1": "Mongolia",
                                    "2": "0",
                                    "3": "0",
                                    "4": "1"
                                },
                                {
                                    "0": "2004 Summer",
                                    "1": "Morocco",
                                    "2": "2",
                                    "3": "1",
                                    "4": "0"
                                },
                                {
                                    "0": "2004 Summer",
                                    "1": "Netherlands",
                                    "2": "4",
                                    "3": "51",
                                    "4": "22"
                                },
                                {
                                    "0": "2004 Summer",
                                    "1": "New Zealand",
                                    "2": "4",
                                    "3": "2",
                                    "4": "0"
                                },
                                {
                                    "0": "2004 Summer",
                                    "1": "Nigeria",
                                    "2": "0",
                                    "3": "0",
                                    "4": "8"
                                },
                                {
                                    "0": "2004 Summer",
                                    "1": "North Korea",
                                    "2": "0",
                                    "3": "4",
                                    "4": "1"
                                },
                                {
                                    "0": "2004 Summer",
                                    "1": "Norway",
                                    "2": "5",
                                    "3": "0",
                                    "4": "2"
                                },
                                {
                                    "0": "2004 Summer",
                                    "1": "Paraguay",
                                    "2": "0",
                                    "3": "17",
                                    "4": "0"
                                },
                                {
                                    "0": "2004 Summer",
                                    "1": "Poland",
                                    "2": "4",
                                    "3": "2",
                                    "4": "6"
                                },
                                {
                                    "0": "2004 Summer",
                                    "1": "Portugal",
                                    "2": "0",
                                    "3": "2",
                                    "4": "1"
                                },
                                {
                                    "0": "2004 Summer",
                                    "1": "Romania",
                                    "2": "23",
                                    "3": "5",
                                    "4": "11"
                                },
                                {
                                    "0": "2004 Summer",
                                    "1": "Russia",
                                    "2": "48",
                                    "3": "46",
                                    "4": "95"
                                },
                                {
                                    "0": "2004 Summer",
                                    "1": "Serbia",
                                    "2": "0",
                                    "3": "13",
                                    "4": "0"
                                },
                                {
                                    "0": "2004 Summer",
                                    "1": "Slovakia",
                                    "2": "3",
                                    "3": "2",
                                    "4": "5"
                                },
                                {
                                    "0": "2004 Summer",
                                    "1": "Slovenia",
                                    "2": "0",
                                    "3": "2",
                                    "4": "3"
                                },
                                {
                                    "0": "2004 Summer",
                                    "1": "South Africa",
                                    "2": "4",
                                    "3": "3",
                                    "4": "3"
                                },
                                {
                                    "0": "2004 Summer",
                                    "1": "South Korea",
                                    "2": "14",
                                    "3": "28",
                                    "4": "10"
                                },
                                {
                                    "0": "2004 Summer",
                                    "1": "Spain",
                                    "2": "4",
                                    "3": "17",
                                    "4": "9"
                                },
                                {
                                    "0": "2004 Summer",
                                    "1": "Sweden",
                                    "2": "5",
                                    "3": "5",
                                    "4": "2"
                                },
                                {
                                    "0": "2004 Summer",
                                    "1": "Switzerland",
                                    "2": "1",
                                    "3": "2",
                                    "4": "4"
                                },
                                {
                                    "0": "2004 Summer",
                                    "1": "Syria",
                                    "2": "0",
                                    "3": "0",
                                    "4": "1"
                                },
                                {
                                    "0": "2004 Summer",
                                    "1": "Taiwan",
                                    "2": "2",
                                    "3": "4",
                                    "4": "3"
                                },
                                {
                                    "0": "2004 Summer",
                                    "1": "Thailand",
                                    "2": "3",
                                    "3": "1",
                                    "4": "4"
                                },
                                {
                                    "0": "2004 Summer",
                                    "1": "Trinidad",
                                    "2": "0",
                                    "3": "0",
                                    "4": "1"
                                },
                                {
                                    "0": "2004 Summer",
                                    "1": "Turkey",
                                    "2": "3",
                                    "3": "3",
                                    "4": "5"
                                },
                                {
                                    "0": "2004 Summer",
                                    "1": "UK",
                                    "2": "17",
                                    "3": "25",
                                    "4": "15"
                                },
                                {
                                    "0": "2004 Summer",
                                    "1": "Ukraine",
                                    "2": "8",
                                    "3": "8",
                                    "4": "31"
                                },
                                {
                                    "0": "2004 Summer",
                                    "1": "United Arab Emirates",
                                    "2": "1",
                                    "3": "0",
                                    "4": "0"
                                },
                                {
                                    "0": "2004 Summer",
                                    "1": "USA",
                                    "2": "117",
                                    "3": "75",
                                    "4": "71"
                                },
                                {
                                    "0": "2004 Summer",
                                    "1": "Uzbekistan",
                                    "2": "2",
                                    "3": "1",
                                    "4": "2"
                                },
                                {
                                    "0": "2004 Summer",
                                    "1": "Venezuela",
                                    "2": "0",
                                    "3": "0",
                                    "4": "2"
                                },
                                {
                                    "0": "2004 Summer",
                                    "1": "Zimbabwe",
                                    "2": "1",
                                    "3": "1",
                                    "4": "1"
                                },
                                {
                                    "0": "2006 Winter",
                                    "1": "Australia",
                                    "2": "1",
                                    "3": "0",
                                    "4": "1"
                                },
                                {
                                    "0": "2006 Winter",
                                    "1": "Austria",
                                    "2": "16",
                                    "3": "7",
                                    "4": "7"
                                },
                                {
                                    "0": "2006 Winter",
                                    "1": "Belarus",
                                    "2": "0",
                                    "3": "1",
                                    "4": "0"
                                },
                                {
                                    "0": "2006 Winter",
                                    "1": "Bulgaria",
                                    "2": "0",
                                    "3": "1",
                                    "4": "0"
                                },
                                {
                                    "0": "2006 Winter",
                                    "1": "Canada",
                                    "2": "30",
                                    "3": "28",
                                    "4": "11"
                                },
                                {
                                    "0": "2006 Winter",
                                    "1": "China",
                                    "2": "2",
                                    "3": "5",
                                    "4": "6"
                                },
                                {
                                    "0": "2006 Winter",
                                    "1": "Croatia",
                                    "2": "1",
                                    "3": "2",
                                    "4": "0"
                                },
                                {
                                    "0": "2006 Winter",
                                    "1": "Czech Republic",
                                    "2": "1",
                                    "3": "2",
                                    "4": "24"
                                },
                                {
                                    "0": "2006 Winter",
                                    "1": "Estonia",
                                    "2": "3",
                                    "3": "0",
                                    "4": "0"
                                },
                                {
                                    "0": "2006 Winter",
                                    "1": "Finland",
                                    "2": "0",
                                    "3": "34",
                                    "4": "7"
                                },
                                {
                                    "0": "2006 Winter",
                                    "1": "France",
                                    "2": "3",
                                    "3": "2",
                                    "4": "10"
                                },
                                {
                                    "0": "2006 Winter",
                                    "1": "Germany",
                                    "2": "23",
                                    "3": "25",
                                    "4": "6"
                                },
                                {
                                    "0": "2006 Winter",
                                    "1": "Italy",
                                    "2": "11",
                                    "3": "0",
                                    "4": "14"
                                },
                                {
                                    "0": "2006 Winter",
                                    "1": "Japan",
                                    "2": "1",
                                    "3": "0",
                                    "4": "0"
                                },
                                {
                                    "0": "2006 Winter",
                                    "1": "Latvia",
                                    "2": "0",
                                    "3": "0",
                                    "4": "1"
                                },
                                {
                                    "0": "2006 Winter",
                                    "1": "Netherlands",
                                    "2": "3",
                                    "3": "2",
                                    "4": "8"
                                },
                                {
                                    "0": "2006 Winter",
                                    "1": "Norway",
                                    "2": "2",
                                    "3": "9",
                                    "4": "12"
                                },
                                {
                                    "0": "2006 Winter",
                                    "1": "Poland",
                                    "2": "0",
                                    "3": "1",
                                    "4": "1"
                                },
                                {
                                    "0": "2006 Winter",
                                    "1": "Russia",
                                    "2": "16",
                                    "3": "12",
                                    "4": "13"
                                },
                                {
                                    "0": "2006 Winter",
                                    "1": "Slovakia",
                                    "2": "0",
                                    "3": "1",
                                    "4": "0"
                                },
                                {
                                    "0": "2006 Winter",
                                    "1": "South Korea",
                                    "2": "14",
                                    "3": "3",
                                    "4": "2"
                                },
                                {
                                    "0": "2006 Winter",
                                    "1": "Sweden",
                                    "2": "35",
                                    "3": "21",
                                    "4": "8"
                                },
                                {
                                    "0": "2006 Winter",
                                    "1": "Switzerland",
                                    "2": "5",
                                    "3": "7",
                                    "4": "9"
                                },
                                {
                                    "0": "2006 Winter",
                                    "1": "UK",
                                    "2": "0",
                                    "3": "1",
                                    "4": "0"
                                },
                                {
                                    "0": "2006 Winter",
                                    "1": "Ukraine",
                                    "2": "0",
                                    "3": "0",
                                    "4": "3"
                                },
                                {
                                    "0": "2006 Winter",
                                    "1": "USA",
                                    "2": "9",
                                    "3": "11",
                                    "4": "32"
                                },
                                {
                                    "0": "2008 Summer",
                                    "1": "Afghanistan",
                                    "2": "0",
                                    "3": "0",
                                    "4": "1"
                                },
                                {
                                    "0": "2008 Summer",
                                    "1": "Algeria",
                                    "2": "0",
                                    "3": "1",
                                    "4": "1"
                                },
                                {
                                    "0": "2008 Summer",
                                    "1": "Argentina",
                                    "2": "20",
                                    "3": "0",
                                    "4": "31"
                                },
                                {
                                    "0": "2008 Summer",
                                    "1": "Armenia",
                                    "2": "0",
                                    "3": "0",
                                    "4": "6"
                                },
                                {
                                    "0": "2008 Summer",
                                    "1": "Australia",
                                    "2": "31",
                                    "3": "42",
                                    "4": "76"
                                },
                                {
                                    "0": "2008 Summer",
                                    "1": "Austria",
                                    "2": "0",
                                    "3": "1",
                                    "4": "2"
                                },
                                {
                                    "0": "2008 Summer",
                                    "1": "Azerbaijan",
                                    "2": "1",
                                    "3": "2",
                                    "4": "4"
                                },
                                {
                                    "0": "2008 Summer",
                                    "1": "Bahamas",
                                    "2": "0",
                                    "3": "6",
                                    "4": "1"
                                },
                                {
                                    "0": "2008 Summer",
                                    "1": "Belarus",
                                    "2": "8",
                                    "3": "5",
                                    "4": "16"
                                },
                                {
                                    "0": "2008 Summer",
                                    "1": "Belgium",
                                    "2": "1",
                                    "3": "4",
                                    "4": "0"
                                },
                                {
                                    "0": "2008 Summer",
                                    "1": "Brazil",
                                    "2": "14",
                                    "3": "34",
                                    "4": "30"
                                },
                                {
                                    "0": "2008 Summer",
                                    "1": "Bulgaria",
                                    "2": "1",
                                    "3": "1",
                                    "4": "3"
                                },
                                {
                                    "0": "2008 Summer",
                                    "1": "Cameroon",
                                    "2": "1",
                                    "3": "0",
                                    "4": "0"
                                },
                                {
                                    "0": "2008 Summer",
                                    "1": "Canada",
                                    "2": "11",
                                    "3": "13",
                                    "4": "11"
                                },
                                {
                                    "0": "2008 Summer",
                                    "1": "Chile",
                                    "2": "0",
                                    "3": "1",
                                    "4": "0"
                                },
                                {
                                    "0": "2008 Summer",
                                    "1": "China",
                                    "2": "74",
                                    "3": "53",
                                    "4": "57"
                                },
                                {
                                    "0": "2008 Summer",
                                    "1": "Colombia",
                                    "2": "0",
                                    "3": "1",
                                    "4": "1"
                                },
                                {
                                    "0": "2008 Summer",
                                    "1": "Croatia",
                                    "2": "0",
                                    "3": "2",
                                    "4": "3"
                                },
                                {
                                    "0": "2008 Summer",
                                    "1": "Cuba",
                                    "2": "2",
                                    "3": "34",
                                    "4": "11"
                                },
                                {
                                    "0": "2008 Summer",
                                    "1": "Czech Republic",
                                    "2": "3",
                                    "3": "4",
                                    "4": "0"
                                },
                                {
                                    "0": "2008 Summer",
                                    "1": "Denmark",
                                    "2": "6",
                                    "3": "7",
                                    "4": "6"
                                },
                                {
                                    "0": "2008 Summer",
                                    "1": "Dominican Republic",
                                    "2": "1",
                                    "3": "1",
                                    "4": "0"
                                },
                                {
                                    "0": "2008 Summer",
                                    "1": "Ecuador",
                                    "2": "0",
                                    "3": "1",
                                    "4": "0"
                                },
                                {
                                    "0": "2008 Summer",
                                    "1": "Egypt",
                                    "2": "0",
                                    "3": "0",
                                    "4": "1"
                                },
                                {
                                    "0": "2008 Summer",
                                    "1": "Estonia",
                                    "2": "1",
                                    "3": "2",
                                    "4": "0"
                                },
                                {
                                    "0": "2008 Summer",
                                    "1": "Ethiopia",
                                    "2": "4",
                                    "3": "1",
                                    "4": "2"
                                },
                                {
                                    "0": "2008 Summer",
                                    "1": "Finland",
                                    "2": "1",
                                    "3": "2",
                                    "4": "2"
                                },
                                {
                                    "0": "2008 Summer",
                                    "1": "France",
                                    "2": "25",
                                    "3": "24",
                                    "4": "28"
                                },
                                {
                                    "0": "2008 Summer",
                                    "1": "Georgia",
                                    "2": "3",
                                    "3": "0",
                                    "4": "3"
                                },
                                {
                                    "0": "2008 Summer",
                                    "1": "Germany",
                                    "2": "42",
                                    "3": "16",
                                    "4": "41"
                                },
                                {
                                    "0": "2008 Summer",
                                    "1": "Greece",
                                    "2": "0",
                                    "3": "3",
                                    "4": "4"
                                },
                                {
                                    "0": "2008 Summer",
                                    "1": "Hungary",
                                    "2": "16",
                                    "3": "8",
                                    "4": "3"
                                },
                                {
                                    "0": "2008 Summer",
                                    "1": "Iceland",
                                    "2": "0",
                                    "3": "14",
                                    "4": "0"
                                },
                                {
                                    "0": "2008 Summer",
                                    "1": "India",
                                    "2": "1",
                                    "3": "0",
                                    "4": "2"
                                },
                                {
                                    "0": "2008 Summer",
                                    "1": "Indonesia",
                                    "2": "2",
                                    "3": "2",
                                    "4": "3"
                                },
                                {
                                    "0": "2008 Summer",
                                    "1": "Iran",
                                    "2": "1",
                                    "3": "0",
                                    "4": "1"
                                },
                                {
                                    "0": "2008 Summer",
                                    "1": "Ireland",
                                    "2": "0",
                                    "3": "1",
                                    "4": "2"
                                },
                                {
                                    "0": "2008 Summer",
                                    "1": "Israel",
                                    "2": "0",
                                    "3": "0",
                                    "4": "1"
                                },
                                {
                                    "0": "2008 Summer",
                                    "1": "Italy",
                                    "2": "8",
                                    "3": "14",
                                    "4": "20"
                                },
                                {
                                    "0": "2008 Summer",
                                    "1": "Jamaica",
                                    "2": "5",
                                    "3": "3",
                                    "4": "6"
                                },
                                {
                                    "0": "2008 Summer",
                                    "1": "Japan",
                                    "2": "23",
                                    "3": "15",
                                    "4": "13"
                                },
                                {
                                    "0": "2008 Summer",
                                    "1": "Kazakhstan",
                                    "2": "2",
                                    "3": "4",
                                    "4": "7"
                                },
                                {
                                    "0": "2008 Summer",
                                    "1": "Kenya",
                                    "2": "6",
                                    "3": "4",
                                    "4": "5"
                                },
                                {
                                    "0": "2008 Summer",
                                    "1": "Kyrgyzstan",
                                    "2": "0",
                                    "3": "1",
                                    "4": "1"
                                },
                                {
                                    "0": "2008 Summer",
                                    "1": "Latvia",
                                    "2": "1",
                                    "3": "1",
                                    "4": "1"
                                },
                                {
                                    "0": "2008 Summer",
                                    "1": "Lithuania",
                                    "2": "0",
                                    "3": "2",
                                    "4": "3"
                                },
                                {
                                    "0": "2008 Summer",
                                    "1": "Malaysia",
                                    "2": "0",
                                    "3": "1",
                                    "4": "0"
                                },
                                {
                                    "0": "2008 Summer",
                                    "1": "Mauritius",
                                    "2": "0",
                                    "3": "0",
                                    "4": "1"
                                },
                                {
                                    "0": "2008 Summer",
                                    "1": "Mexico",
                                    "2": "2",
                                    "3": "0",
                                    "4": "2"
                                },
                                {
                                    "0": "2008 Summer",
                                    "1": "Moldova",
                                    "2": "0",
                                    "3": "0",
                                    "4": "1"
                                },
                                {
                                    "0": "2008 Summer",
                                    "1": "Mongolia",
                                    "2": "2",
                                    "3": "2",
                                    "4": "0"
                                },
                                {
                                    "0": "2008 Summer",
                                    "1": "Morocco",
                                    "2": "0",
                                    "3": "1",
                                    "4": "1"
                                },
                                {
                                    "0": "2008 Summer",
                                    "1": "Netherlands",
                                    "2": "39",
                                    "3": "18",
                                    "4": "4"
                                },
                                {
                                    "0": "2008 Summer",
                                    "1": "New Zealand",
                                    "2": "4",
                                    "3": "2",
                                    "4": "9"
                                },
                                {
                                    "0": "2008 Summer",
                                    "1": "Nigeria",
                                    "2": "0",
                                    "3": "16",
                                    "4": "7"
                                },
                                {
                                    "0": "2008 Summer",
                                    "1": "North Korea",
                                    "2": "2",
                                    "3": "1",
                                    "4": "3"
                                },
                                {
                                    "0": "2008 Summer",
                                    "1": "Norway",
                                    "2": "16",
                                    "3": "5",
                                    "4": "1"
                                },
                                {
                                    "0": "2008 Summer",
                                    "1": "Panama",
                                    "2": "1",
                                    "3": "0",
                                    "4": "0"
                                },
                                {
                                    "0": "2008 Summer",
                                    "1": "Poland",
                                    "2": "6",
                                    "3": "13",
                                    "4": "1"
                                },
                                {
                                    "0": "2008 Summer",
                                    "1": "Portugal",
                                    "2": "1",
                                    "3": "1",
                                    "4": "0"
                                },
                                {
                                    "0": "2008 Summer",
                                    "1": "Romania",
                                    "2": "5",
                                    "3": "1",
                                    "4": "16"
                                },
                                {
                                    "0": "2008 Summer",
                                    "1": "Russia",
                                    "2": "43",
                                    "3": "46",
                                    "4": "53"
                                },
                                {
                                    "0": "2008 Summer",
                                    "1": "Serbia",
                                    "2": "0",
                                    "3": "1",
                                    "4": "14"
                                },
                                {
                                    "0": "2008 Summer",
                                    "1": "Slovakia",
                                    "2": "4",
                                    "3": "5",
                                    "4": "1"
                                },
                                {
                                    "0": "2008 Summer",
                                    "1": "Slovenia",
                                    "2": "1",
                                    "3": "2",
                                    "4": "2"
                                },
                                {
                                    "0": "2008 Summer",
                                    "1": "South Africa",
                                    "2": "0",
                                    "3": "1",
                                    "4": "0"
                                },
                                {
                                    "0": "2008 Summer",
                                    "1": "South Korea",
                                    "2": "41",
                                    "3": "11",
                                    "4": "26"
                                },
                                {
                                    "0": "2008 Summer",
                                    "1": "Spain",
                                    "2": "7",
                                    "3": "47",
                                    "4": "16"
                                },
                                {
                                    "0": "2008 Summer",
                                    "1": "Sudan",
                                    "2": "0",
                                    "3": "1",
                                    "4": "0"
                                },
                                {
                                    "0": "2008 Summer",
                                    "1": "Sweden",
                                    "2": "0",
                                    "3": "5",
                                    "4": "2"
                                },
                                {
                                    "0": "2008 Summer",
                                    "1": "Switzerland",
                                    "2": "3",
                                    "3": "1",
                                    "4": "7"
                                },
                                {
                                    "0": "2008 Summer",
                                    "1": "Taiwan",
                                    "2": "0",
                                    "3": "0",
                                    "4": "4"
                                },
                                {
                                    "0": "2008 Summer",
                                    "1": "Tajikistan",
                                    "2": "0",
                                    "3": "1",
                                    "4": "1"
                                },
                                {
                                    "0": "2008 Summer",
                                    "1": "Thailand",
                                    "2": "2",
                                    "3": "2",
                                    "4": "0"
                                },
                                {
                                    "0": "2008 Summer",
                                    "1": "Togo",
                                    "2": "0",
                                    "3": "0",
                                    "4": "1"
                                },
                                {
                                    "0": "2008 Summer",
                                    "1": "Trinidad",
                                    "2": "5",
                                    "3": "1",
                                    "4": "0"
                                },
                                {
                                    "0": "2008 Summer",
                                    "1": "Tunisia",
                                    "2": "1",
                                    "3": "0",
                                    "4": "0"
                                },
                                {
                                    "0": "2008 Summer",
                                    "1": "Turkey",
                                    "2": "1",
                                    "3": "3",
                                    "4": "3"
                                },
                                {
                                    "0": "2008 Summer",
                                    "1": "UK",
                                    "2": "31",
                                    "3": "25",
                                    "4": "25"
                                },
                                {
                                    "0": "2008 Summer",
                                    "1": "Ukraine",
                                    "2": "10",
                                    "3": "5",
                                    "4": "16"
                                },
                                {
                                    "0": "2008 Summer",
                                    "1": "USA",
                                    "2": "127",
                                    "3": "110",
                                    "4": "80"
                                },
                                {
                                    "0": "2008 Summer",
                                    "1": "Uzbekistan",
                                    "2": "1",
                                    "3": "2",
                                    "4": "3"
                                },
                                {
                                    "0": "2008 Summer",
                                    "1": "Venezuela",
                                    "2": "0",
                                    "3": "0",
                                    "4": "1"
                                },
                                {
                                    "0": "2008 Summer",
                                    "1": "Vietnam",
                                    "2": "0",
                                    "3": "1",
                                    "4": "0"
                                },
                                {
                                    "0": "2008 Summer",
                                    "1": "Zimbabwe",
                                    "2": "1",
                                    "3": "3",
                                    "4": "0"
                                },
                                {
                                    "0": "2010 Winter",
                                    "1": "Australia",
                                    "2": "2",
                                    "3": "1",
                                    "4": "0"
                                },
                                {
                                    "0": "2010 Winter",
                                    "1": "Austria",
                                    "2": "11",
                                    "3": "9",
                                    "4": "6"
                                },
                                {
                                    "0": "2010 Winter",
                                    "1": "Belarus",
                                    "2": "1",
                                    "3": "1",
                                    "4": "1"
                                },
                                {
                                    "0": "2010 Winter",
                                    "1": "Canada",
                                    "2": "67",
                                    "3": "15",
                                    "4": "8"
                                },
                                {
                                    "0": "2010 Winter",
                                    "1": "China",
                                    "2": "9",
                                    "3": "3",
                                    "4": "7"
                                },
                                {
                                    "0": "2010 Winter",
                                    "1": "Croatia",
                                    "2": "0",
                                    "3": "2",
                                    "4": "1"
                                },
                                {
                                    "0": "2010 Winter",
                                    "1": "Czech Republic",
                                    "2": "2",
                                    "3": "0",
                                    "4": "7"
                                },
                                {
                                    "0": "2010 Winter",
                                    "1": "Estonia",
                                    "2": "0",
                                    "3": "1",
                                    "4": "0"
                                },
                                {
                                    "0": "2010 Winter",
                                    "1": "Finland",
                                    "2": "0",
                                    "3": "1",
                                    "4": "46"
                                },
                                {
                                    "0": "2010 Winter",
                                    "1": "France",
                                    "2": "2",
                                    "3": "6",
                                    "4": "6"
                                },
                                {
                                    "0": "2010 Winter",
                                    "1": "Germany",
                                    "2": "15",
                                    "3": "24",
                                    "4": "15"
                                },
                                {
                                    "0": "2010 Winter",
                                    "1": "Italy",
                                    "2": "1",
                                    "3": "1",
                                    "4": "3"
                                },
                                {
                                    "0": "2010 Winter",
                                    "1": "Japan",
                                    "2": "0",
                                    "3": "5",
                                    "4": "2"
                                },
                                {
                                    "0": "2010 Winter",
                                    "1": "Kazakhstan",
                                    "2": "0",
                                    "3": "1",
                                    "4": "0"
                                },
                                {
                                    "0": "2010 Winter",
                                    "1": "Latvia",
                                    "2": "0",
                                    "3": "3",
                                    "4": "0"
                                },
                                {
                                    "0": "2010 Winter",
                                    "1": "Netherlands",
                                    "2": "4",
                                    "3": "1",
                                    "4": "6"
                                },
                                {
                                    "0": "2010 Winter",
                                    "1": "Norway",
                                    "2": "16",
                                    "3": "14",
                                    "4": "9"
                                },
                                {
                                    "0": "2010 Winter",
                                    "1": "Poland",
                                    "2": "1",
                                    "3": "3",
                                    "4": "4"
                                },
                                {
                                    "0": "2010 Winter",
                                    "1": "Russia",
                                    "2": "6",
                                    "3": "5",
                                    "4": "14"
                                },
                                {
                                    "0": "2010 Winter",
                                    "1": "Slovakia",
                                    "2": "1",
                                    "3": "1",
                                    "4": "1"
                                },
                                {
                                    "0": "2010 Winter",
                                    "1": "Slovenia",
                                    "2": "0",
                                    "3": "2",
                                    "4": "1"
                                },
                                {
                                    "0": "2010 Winter",
                                    "1": "South Korea",
                                    "2": "6",
                                    "3": "10",
                                    "4": "2"
                                },
                                {
                                    "0": "2010 Winter",
                                    "1": "Sweden",
                                    "2": "11",
                                    "3": "3",
                                    "4": "4"
                                },
                                {
                                    "0": "2010 Winter",
                                    "1": "Switzerland",
                                    "2": "6",
                                    "3": "0",
                                    "4": "6"
                                },
                                {
                                    "0": "2010 Winter",
                                    "1": "UK",
                                    "2": "1",
                                    "3": "0",
                                    "4": "0"
                                },
                                {
                                    "0": "2010 Winter",
                                    "1": "USA",
                                    "2": "12",
                                    "3": "63",
                                    "4": "22"
                                },
                                {
                                    "0": "2012 Summer",
                                    "1": "Afghanistan",
                                    "2": "0",
                                    "3": "0",
                                    "4": "1"
                                },
                                {
                                    "0": "2012 Summer",
                                    "1": "Algeria",
                                    "2": "1",
                                    "3": "0",
                                    "4": "0"
                                },
                                {
                                    "0": "2012 Summer",
                                    "1": "Argentina",
                                    "2": "1",
                                    "3": "15",
                                    "4": "3"
                                },
                                {
                                    "0": "2012 Summer",
                                    "1": "Armenia",
                                    "2": "0",
                                    "3": "1",
                                    "4": "2"
                                },
                                {
                                    "0": "2012 Summer",
                                    "1": "Australia",
                                    "2": "18",
                                    "3": "37",
                                    "4": "59"
                                },
                                {
                                    "0": "2012 Summer",
                                    "1": "Azerbaijan",
                                    "2": "2",
                                    "3": "2",
                                    "4": "6"
                                },
                                {
                                    "0": "2012 Summer",
                                    "1": "Bahamas",
                                    "2": "4",
                                    "3": "0",
                                    "4": "0"
                                },
                                {
                                    "0": "2012 Summer",
                                    "1": "Bahrain",
                                    "2": "0",
                                    "3": "0",
                                    "4": "1"
                                },
                                {
                                    "0": "2012 Summer",
                                    "1": "Belarus",
                                    "2": "3",
                                    "3": "12",
                                    "4": "8"
                                },
                                {
                                    "0": "2012 Summer",
                                    "1": "Belgium",
                                    "2": "0",
                                    "3": "1",
                                    "4": "2"
                                },
                                {
                                    "0": "2012 Summer",
                                    "1": "Botswana",
                                    "2": "0",
                                    "3": "1",
                                    "4": "0"
                                },
                                {
                                    "0": "2012 Summer",
                                    "1": "Brazil",
                                    "2": "14",
                                    "3": "34",
                                    "4": "11"
                                },
                                {
                                    "0": "2012 Summer",
                                    "1": "Bulgaria",
                                    "2": "0",
                                    "3": "1",
                                    "4": "1"
                                },
                                {
                                    "0": "2012 Summer",
                                    "1": "Canada",
                                    "2": "1",
                                    "3": "21",
                                    "4": "33"
                                },
                                {
                                    "0": "2012 Summer",
                                    "1": "China",
                                    "2": "56",
                                    "3": "40",
                                    "4": "30"
                                },
                                {
                                    "0": "2012 Summer",
                                    "1": "Colombia",
                                    "2": "1",
                                    "3": "3",
                                    "4": "4"
                                },
                                {
                                    "0": "2012 Summer",
                                    "1": "Croatia",
                                    "2": "15",
                                    "3": "4",
                                    "4": "16"
                                },
                                {
                                    "0": "2012 Summer",
                                    "1": "Cuba",
                                    "2": "5",
                                    "3": "3",
                                    "4": "6"
                                },
                                {
                                    "0": "2012 Summer",
                                    "1": "Cyprus",
                                    "2": "0",
                                    "3": "1",
                                    "4": "0"
                                },
                                {
                                    "0": "2012 Summer",
                                    "1": "Czech Republic",
                                    "2": "4",
                                    "3": "4",
                                    "4": "6"
                                },
                                {
                                    "0": "2012 Summer",
                                    "1": "Denmark",
                                    "2": "3",
                                    "3": "5",
                                    "4": "8"
                                },
                                {
                                    "0": "2012 Summer",
                                    "1": "Dominican Republic",
                                    "2": "1",
                                    "3": "1",
                                    "4": "0"
                                },
                                {
                                    "0": "2012 Summer",
                                    "1": "Egypt",
                                    "2": "0",
                                    "3": "2",
                                    "4": "0"
                                },
                                {
                                    "0": "2012 Summer",
                                    "1": "Estonia",
                                    "2": "0",
                                    "3": "1",
                                    "4": "1"
                                },
                                {
                                    "0": "2012 Summer",
                                    "1": "Ethiopia",
                                    "2": "3",
                                    "3": "1",
                                    "4": "3"
                                },
                                {
                                    "0": "2012 Summer",
                                    "1": "Finland",
                                    "2": "0",
                                    "3": "1",
                                    "4": "4"
                                },
                                {
                                    "0": "2012 Summer",
                                    "1": "France",
                                    "2": "30",
                                    "3": "30",
                                    "4": "22"
                                },
                                {
                                    "0": "2012 Summer",
                                    "1": "Gabon",
                                    "2": "0",
                                    "3": "1",
                                    "4": "0"
                                },
                                {
                                    "0": "2012 Summer",
                                    "1": "Georgia",
                                    "2": "1",
                                    "3": "3",
                                    "4": "3"
                                },
                                {
                                    "0": "2012 Summer",
                                    "1": "Germany",
                                    "2": "45",
                                    "3": "27",
                                    "4": "22"
                                },
                                {
                                    "0": "2012 Summer",
                                    "1": "Greece",
                                    "2": "0",
                                    "3": "0",
                                    "4": "3"
                                },
                                {
                                    "0": "2012 Summer",
                                    "1": "Grenada",
                                    "2": "1",
                                    "3": "0",
                                    "4": "0"
                                },
                                {
                                    "0": "2012 Summer",
                                    "1": "Guatemala",
                                    "2": "0",
                                    "3": "1",
                                    "4": "0"
                                },
                                {
                                    "0": "2012 Summer",
                                    "1": "Hungary",
                                    "2": "12",
                                    "3": "8",
                                    "4": "6"
                                },
                                {
                                    "0": "2012 Summer",
                                    "1": "India",
                                    "2": "0",
                                    "3": "2",
                                    "4": "4"
                                },
                                {
                                    "0": "2012 Summer",
                                    "1": "Indonesia",
                                    "2": "0",
                                    "3": "1",
                                    "4": "1"
                                },
                                {
                                    "0": "2012 Summer",
                                    "1": "Iran",
                                    "2": "4",
                                    "3": "5",
                                    "4": "3"
                                },
                                {
                                    "0": "2012 Summer",
                                    "1": "Ireland",
                                    "2": "1",
                                    "3": "1",
                                    "4": "3"
                                },
                                {
                                    "0": "2012 Summer",
                                    "1": "Italy",
                                    "2": "16",
                                    "3": "22",
                                    "4": "30"
                                },
                                {
                                    "0": "2012 Summer",
                                    "1": "Jamaica",
                                    "2": "8",
                                    "3": "9",
                                    "4": "8"
                                },
                                {
                                    "0": "2012 Summer",
                                    "1": "Japan",
                                    "2": "7",
                                    "3": "44",
                                    "4": "33"
                                },
                                {
                                    "0": "2012 Summer",
                                    "1": "Kazakhstan",
                                    "2": "7",
                                    "3": "1",
                                    "4": "5"
                                },
                                {
                                    "0": "2012 Summer",
                                    "1": "Kenya",
                                    "2": "2",
                                    "3": "4",
                                    "4": "5"
                                },
                                {
                                    "0": "2012 Summer",
                                    "1": "Kuwait",
                                    "2": "0",
                                    "3": "0",
                                    "4": "1"
                                },
                                {
                                    "0": "2012 Summer",
                                    "1": "Latvia",
                                    "2": "1",
                                    "3": "0",
                                    "4": "2"
                                },
                                {
                                    "0": "2012 Summer",
                                    "1": "Lithuania",
                                    "2": "2",
                                    "3": "1",
                                    "4": "2"
                                },
                                {
                                    "0": "2012 Summer",
                                    "1": "Malaysia",
                                    "2": "0",
                                    "3": "1",
                                    "4": "1"
                                },
                                {
                                    "0": "2012 Summer",
                                    "1": "Mexico",
                                    "2": "16",
                                    "3": "5",
                                    "4": "3"
                                },
                                {
                                    "0": "2012 Summer",
                                    "1": "Moldova",
                                    "2": "0",
                                    "3": "0",
                                    "4": "2"
                                },
                                {
                                    "0": "2012 Summer",
                                    "1": "Mongolia",
                                    "2": "0",
                                    "3": "2",
                                    "4": "3"
                                },
                                {
                                    "0": "2012 Summer",
                                    "1": "Montenegro",
                                    "2": "0",
                                    "3": "14",
                                    "4": "0"
                                },
                                {
                                    "0": "2012 Summer",
                                    "1": "Morocco",
                                    "2": "0",
                                    "3": "0",
                                    "4": "1"
                                },
                                {
                                    "0": "2012 Summer",
                                    "1": "Netherlands",
                                    "2": "21",
                                    "3": "29",
                                    "4": "19"
                                },
                                {
                                    "0": "2012 Summer",
                                    "1": "New Zealand",
                                    "2": "9",
                                    "3": "3",
                                    "4": "15"
                                },
                                {
                                    "0": "2012 Summer",
                                    "1": "North Korea",
                                    "2": "4",
                                    "3": "0",
                                    "4": "2"
                                },
                                {
                                    "0": "2012 Summer",
                                    "1": "Norway",
                                    "2": "15",
                                    "3": "1",
                                    "4": "1"
                                },
                                {
                                    "0": "2012 Summer",
                                    "1": "Poland",
                                    "2": "2",
                                    "3": "2",
                                    "4": "8"
                                },
                                {
                                    "0": "2012 Summer",
                                    "1": "Portugal",
                                    "2": "0",
                                    "3": "2",
                                    "4": "0"
                                },
                                {
                                    "0": "2012 Summer",
                                    "1": "Puerto Rico",
                                    "2": "0",
                                    "3": "1",
                                    "4": "1"
                                },
                                {
                                    "0": "2012 Summer",
                                    "1": "Qatar",
                                    "2": "0",
                                    "3": "0",
                                    "4": "2"
                                },
                                {
                                    "0": "2012 Summer",
                                    "1": "Romania",
                                    "2": "2",
                                    "3": "8",
                                    "4": "6"
                                },
                                {
                                    "0": "2012 Summer",
                                    "1": "Russia",
                                    "2": "50",
                                    "3": "39",
                                    "4": "51"
                                },
                                {
                                    "0": "2012 Summer",
                                    "1": "Saudi Arabia",
                                    "2": "0",
                                    "3": "0",
                                    "4": "4"
                                },
                                {
                                    "0": "2012 Summer",
                                    "1": "Serbia",
                                    "2": "1",
                                    "3": "1",
                                    "4": "14"
                                },
                                {
                                    "0": "2012 Summer",
                                    "1": "Slovakia",
                                    "2": "0",
                                    "3": "1",
                                    "4": "4"
                                },
                                {
                                    "0": "2012 Summer",
                                    "1": "Slovenia",
                                    "2": "1",
                                    "3": "1",
                                    "4": "3"
                                },
                                {
                                    "0": "2012 Summer",
                                    "1": "South Africa",
                                    "2": "6",
                                    "3": "2",
                                    "4": "1"
                                },
                                {
                                    "0": "2012 Summer",
                                    "1": "South Korea",
                                    "2": "18",
                                    "3": "13",
                                    "4": "30"
                                },
                                {
                                    "0": "2012 Summer",
                                    "1": "Spain",
                                    "2": "5",
                                    "3": "33",
                                    "4": "25"
                                },
                                {
                                    "0": "2012 Summer",
                                    "1": "Sweden",
                                    "2": "2",
                                    "3": "17",
                                    "4": "3"
                                },
                                {
                                    "0": "2012 Summer",
                                    "1": "Switzerland",
                                    "2": "2",
                                    "3": "2",
                                    "4": "0"
                                },
                                {
                                    "0": "2012 Summer",
                                    "1": "Taiwan",
                                    "2": "0",
                                    "3": "1",
                                    "4": "1"
                                },
                                {
                                    "0": "2012 Summer",
                                    "1": "Tajikistan",
                                    "2": "0",
                                    "3": "0",
                                    "4": "1"
                                },
                                {
                                    "0": "2012 Summer",
                                    "1": "Thailand",
                                    "2": "0",
                                    "3": "2",
                                    "4": "1"
                                },
                                {
                                    "0": "2012 Summer",
                                    "1": "Trinidad",
                                    "2": "1",
                                    "3": "4",
                                    "4": "5"
                                },
                                {
                                    "0": "2012 Summer",
                                    "1": "Tunisia",
                                    "2": "1",
                                    "3": "1",
                                    "4": "1"
                                },
                                {
                                    "0": "2012 Summer",
                                    "1": "Turkey",
                                    "2": "2",
                                    "3": "2",
                                    "4": "1"
                                },
                                {
                                    "0": "2012 Summer",
                                    "1": "Uganda",
                                    "2": "1",
                                    "3": "0",
                                    "4": "0"
                                },
                                {
                                    "0": "2012 Summer",
                                    "1": "UK",
                                    "2": "48",
                                    "3": "30",
                                    "4": "48"
                                },
                                {
                                    "0": "2012 Summer",
                                    "1": "Ukraine",
                                    "2": "9",
                                    "3": "5",
                                    "4": "12"
                                },
                                {
                                    "0": "2012 Summer",
                                    "1": "USA",
                                    "2": "145",
                                    "3": "57",
                                    "4": "46"
                                },
                                {
                                    "0": "2012 Summer",
                                    "1": "Uzbekistan",
                                    "2": "1",
                                    "3": "0",
                                    "4": "2"
                                },
                                {
                                    "0": "2012 Summer",
                                    "1": "Venezuela",
                                    "2": "1",
                                    "3": "0",
                                    "4": "0"
                                },
                                {
                                    "0": "2014 Winter",
                                    "1": "Australia",
                                    "2": "0",
                                    "3": "2",
                                    "4": "1"
                                },
                                {
                                    "0": "2014 Winter",
                                    "1": "Austria",
                                    "2": "4",
                                    "3": "12",
                                    "4": "11"
                                },
                                {
                                    "0": "2014 Winter",
                                    "1": "Belarus",
                                    "2": "5",
                                    "3": "0",
                                    "4": "1"
                                },
                                {
                                    "0": "2014 Winter",
                                    "1": "Canada",
                                    "2": "59",
                                    "3": "22",
                                    "4": "5"
                                },
                                {
                                    "0": "2014 Winter",
                                    "1": "China",
                                    "2": "3",
                                    "3": "4",
                                    "4": "5"
                                },
                                {
                                    "0": "2014 Winter",
                                    "1": "Croatia",
                                    "2": "0",
                                    "3": "1",
                                    "4": "0"
                                },
                                {
                                    "0": "2014 Winter",
                                    "1": "Czech Republic",
                                    "2": "2",
                                    "3": "7",
                                    "4": "2"
                                },
                                {
                                    "0": "2014 Winter",
                                    "1": "Finland",
                                    "2": "2",
                                    "3": "7",
                                    "4": "24"
                                },
                                {
                                    "0": "2014 Winter",
                                    "1": "France",
                                    "2": "4",
                                    "3": "4",
                                    "4": "10"
                                },
                                {
                                    "0": "2014 Winter",
                                    "1": "Germany",
                                    "2": "15",
                                    "3": "12",
                                    "4": "9"
                                },
                                {
                                    "0": "2014 Winter",
                                    "1": "Italy",
                                    "2": "0",
                                    "3": "2",
                                    "4": "12"
                                },
                                {
                                    "0": "2014 Winter",
                                    "1": "Japan",
                                    "2": "1",
                                    "3": "4",
                                    "4": "6"
                                },
                                {
                                    "0": "2014 Winter",
                                    "1": "Kazakhstan",
                                    "2": "0",
                                    "3": "0",
                                    "4": "1"
                                },
                                {
                                    "0": "2014 Winter",
                                    "1": "Latvia",
                                    "2": "0",
                                    "3": "5",
                                    "4": "6"
                                },
                                {
                                    "0": "2014 Winter",
                                    "1": "Netherlands",
                                    "2": "13",
                                    "3": "7",
                                    "4": "9"
                                },
                                {
                                    "0": "2014 Winter",
                                    "1": "Norway",
                                    "2": "18",
                                    "3": "5",
                                    "4": "13"
                                },
                                {
                                    "0": "2014 Winter",
                                    "1": "Poland",
                                    "2": "4",
                                    "3": "4",
                                    "4": "3"
                                },
                                {
                                    "0": "2014 Winter",
                                    "1": "Russia",
                                    "2": "33",
                                    "3": "22",
                                    "4": "13"
                                },
                                {
                                    "0": "2014 Winter",
                                    "1": "Slovakia",
                                    "2": "1",
                                    "3": "0",
                                    "4": "0"
                                },
                                {
                                    "0": "2014 Winter",
                                    "1": "Slovenia",
                                    "2": "2",
                                    "3": "2",
                                    "4": "4"
                                },
                                {
                                    "0": "2014 Winter",
                                    "1": "South Korea",
                                    "2": "7",
                                    "3": "5",
                                    "4": "2"
                                },
                                {
                                    "0": "2014 Winter",
                                    "1": "Sweden",
                                    "2": "8",
                                    "3": "32",
                                    "4": "11"
                                },
                                {
                                    "0": "2014 Winter",
                                    "1": "Switzerland",
                                    "2": "6",
                                    "3": "4",
                                    "4": "20"
                                },
                                {
                                    "0": "2014 Winter",
                                    "1": "UK",
                                    "2": "1",
                                    "3": "4",
                                    "4": "5"
                                },
                                {
                                    "0": "2014 Winter",
                                    "1": "Ukraine",
                                    "2": "4",
                                    "3": "0",
                                    "4": "1"
                                },
                                {
                                    "0": "2014 Winter",
                                    "1": "USA",
                                    "2": "10",
                                    "3": "30",
                                    "4": "24"
                                },
                                {
                                    "0": "2016 Summer",
                                    "1": "Algeria",
                                    "2": "0",
                                    "3": "2",
                                    "4": "0"
                                },
                                {
                                    "0": "2016 Summer",
                                    "1": "Argentina",
                                    "2": "21",
                                    "3": "1",
                                    "4": "0"
                                },
                                {
                                    "0": "2016 Summer",
                                    "1": "Armenia",
                                    "2": "1",
                                    "3": "3",
                                    "4": "0"
                                },
                                {
                                    "0": "2016 Summer",
                                    "1": "Australia",
                                    "2": "23",
                                    "3": "34",
                                    "4": "25"
                                },
                                {
                                    "0": "2016 Summer",
                                    "1": "Austria",
                                    "2": "0",
                                    "3": "0",
                                    "4": "2"
                                },
                                {
                                    "0": "2016 Summer",
                                    "1": "Azerbaijan",
                                    "2": "1",
                                    "3": "7",
                                    "4": "10"
                                },
                                {
                                    "0": "2016 Summer",
                                    "1": "Bahamas",
                                    "2": "1",
                                    "3": "0",
                                    "4": "5"
                                },
                                {
                                    "0": "2016 Summer",
                                    "1": "Bahrain",
                                    "2": "1",
                                    "3": "1",
                                    "4": "0"
                                },
                                {
                                    "0": "2016 Summer",
                                    "1": "Belarus",
                                    "2": "1",
                                    "3": "4",
                                    "4": "7"
                                },
                                {
                                    "0": "2016 Summer",
                                    "1": "Belgium",
                                    "2": "2",
                                    "3": "17",
                                    "4": "2"
                                },
                                {
                                    "0": "2016 Summer",
                                    "1": "Brazil",
                                    "2": "36",
                                    "3": "8",
                                    "4": "6"
                                },
                                {
                                    "0": "2016 Summer",
                                    "1": "Bulgaria",
                                    "2": "0",
                                    "3": "1",
                                    "4": "6"
                                },
                                {
                                    "0": "2016 Summer",
                                    "1": "Burundi",
                                    "2": "0",
                                    "3": "1",
                                    "4": "0"
                                },
                                {
                                    "0": "2016 Summer",
                                    "1": "Canada",
                                    "2": "4",
                                    "3": "4",
                                    "4": "61"
                                },
                                {
                                    "0": "2016 Summer",
                                    "1": "China",
                                    "2": "46",
                                    "3": "30",
                                    "4": "37"
                                },
                                {
                                    "0": "2016 Summer",
                                    "1": "Colombia",
                                    "2": "3",
                                    "3": "2",
                                    "4": "3"
                                },
                                {
                                    "0": "2016 Summer",
                                    "1": "Croatia",
                                    "2": "7",
                                    "3": "15",
                                    "4": "2"
                                },
                                {
                                    "0": "2016 Summer",
                                    "1": "Cuba",
                                    "2": "5",
                                    "3": "2",
                                    "4": "4"
                                },
                                {
                                    "0": "2016 Summer",
                                    "1": "Czech Republic",
                                    "2": "1",
                                    "3": "2",
                                    "4": "12"
                                },
                                {
                                    "0": "2016 Summer",
                                    "1": "Denmark",
                                    "2": "15",
                                    "3": "10",
                                    "4": "16"
                                },
                                {
                                    "0": "2016 Summer",
                                    "1": "Dominican Republic",
                                    "2": "0",
                                    "3": "0",
                                    "4": "1"
                                },
                                {
                                    "0": "2016 Summer",
                                    "1": "Egypt",
                                    "2": "0",
                                    "3": "0",
                                    "4": "3"
                                },
                                {
                                    "0": "2016 Summer",
                                    "1": "Estonia",
                                    "2": "0",
                                    "3": "0",
                                    "4": "4"
                                },
                                {
                                    "0": "2016 Summer",
                                    "1": "Ethiopia",
                                    "2": "1",
                                    "3": "2",
                                    "4": "5"
                                },
                                {
                                    "0": "2016 Summer",
                                    "1": "Fiji",
                                    "2": "13",
                                    "3": "0",
                                    "4": "0"
                                },
                                {
                                    "0": "2016 Summer",
                                    "1": "Finland",
                                    "2": "0",
                                    "3": "0",
                                    "4": "1"
                                },
                                {
                                    "0": "2016 Summer",
                                    "1": "France",
                                    "2": "20",
                                    "3": "55",
                                    "4": "21"
                                },
                                {
                                    "0": "2016 Summer",
                                    "1": "Georgia",
                                    "2": "2",
                                    "3": "1",
                                    "4": "4"
                                },
                                {
                                    "0": "2016 Summer",
                                    "1": "Germany",
                                    "2": "49",
                                    "3": "43",
                                    "4": "67"
                                },
                                {
                                    "0": "2016 Summer",
                                    "1": "Greece",
                                    "2": "3",
                                    "3": "1",
                                    "4": "3"
                                },
                                {
                                    "0": "2016 Summer",
                                    "1": "Grenada",
                                    "2": "0",
                                    "3": "1",
                                    "4": "0"
                                },
                                {
                                    "0": "2016 Summer",
                                    "1": "Hungary",
                                    "2": "12",
                                    "3": "3",
                                    "4": "7"
                                },
                                {
                                    "0": "2016 Summer",
                                    "1": "India",
                                    "2": "0",
                                    "3": "1",
                                    "4": "1"
                                },
                                {
                                    "0": "2016 Summer",
                                    "1": "Individual Olympic Athletes",
                                    "2": "1",
                                    "3": "0",
                                    "4": "1"
                                },
                                {
                                    "0": "2016 Summer",
                                    "1": "Indonesia",
                                    "2": "2",
                                    "3": "2",
                                    "4": "0"
                                },
                                {
                                    "0": "2016 Summer",
                                    "1": "Iran",
                                    "2": "3",
                                    "3": "1",
                                    "4": "4"
                                },
                                {
                                    "0": "2016 Summer",
                                    "1": "Ireland",
                                    "2": "0",
                                    "3": "3",
                                    "4": "0"
                                },
                                {
                                    "0": "2016 Summer",
                                    "1": "Israel",
                                    "2": "0",
                                    "3": "0",
                                    "4": "2"
                                },
                                {
                                    "0": "2016 Summer",
                                    "1": "Italy",
                                    "2": "8",
                                    "3": "40",
                                    "4": "24"
                                },
                                {
                                    "0": "2016 Summer",
                                    "1": "Ivory Coast",
                                    "2": "1",
                                    "3": "0",
                                    "4": "1"
                                },
                                {
                                    "0": "2016 Summer",
                                    "1": "Jamaica",
                                    "2": "11",
                                    "3": "17",
                                    "4": "2"
                                },
                                {
                                    "0": "2016 Summer",
                                    "1": "Japan",
                                    "2": "17",
                                    "3": "13",
                                    "4": "34"
                                },
                                {
                                    "0": "2016 Summer",
                                    "1": "Jordan",
                                    "2": "1",
                                    "3": "0",
                                    "4": "0"
                                },
                                {
                                    "0": "2016 Summer",
                                    "1": "Kazakhstan",
                                    "2": "3",
                                    "3": "5",
                                    "4": "10"
                                },
                                {
                                    "0": "2016 Summer",
                                    "1": "Kenya",
                                    "2": "6",
                                    "3": "6",
                                    "4": "1"
                                },
                                {
                                    "0": "2016 Summer",
                                    "1": "Kosovo",
                                    "2": "1",
                                    "3": "0",
                                    "4": "0"
                                },
                                {
                                    "0": "2016 Summer",
                                    "1": "Lithuania",
                                    "2": "0",
                                    "3": "2",
                                    "4": "5"
                                },
                                {
                                    "0": "2016 Summer",
                                    "1": "Malaysia",
                                    "2": "0",
                                    "3": "7",
                                    "4": "1"
                                },
                                {
                                    "0": "2016 Summer",
                                    "1": "Mexico",
                                    "2": "0",
                                    "3": "3",
                                    "4": "2"
                                },
                                {
                                    "0": "2016 Summer",
                                    "1": "Mongolia",
                                    "2": "0",
                                    "3": "1",
                                    "4": "1"
                                },
                                {
                                    "0": "2016 Summer",
                                    "1": "Morocco",
                                    "2": "0",
                                    "3": "0",
                                    "4": "1"
                                },
                                {
                                    "0": "2016 Summer",
                                    "1": "Netherlands",
                                    "2": "9",
                                    "3": "25",
                                    "4": "13"
                                },
                                {
                                    "0": "2016 Summer",
                                    "1": "New Zealand",
                                    "2": "6",
                                    "3": "25",
                                    "4": "5"
                                },
                                {
                                    "0": "2016 Summer",
                                    "1": "Niger",
                                    "2": "0",
                                    "3": "1",
                                    "4": "0"
                                },
                                {
                                    "0": "2016 Summer",
                                    "1": "Nigeria",
                                    "2": "0",
                                    "3": "0",
                                    "4": "18"
                                },
                                {
                                    "0": "2016 Summer",
                                    "1": "North Korea",
                                    "2": "2",
                                    "3": "3",
                                    "4": "2"
                                },
                                {
                                    "0": "2016 Summer",
                                    "1": "Norway",
                                    "2": "0",
                                    "3": "0",
                                    "4": "19"
                                },
                                {
                                    "0": "2016 Summer",
                                    "1": "Philippines",
                                    "2": "0",
                                    "3": "1",
                                    "4": "0"
                                },
                                {
                                    "0": "2016 Summer",
                                    "1": "Poland",
                                    "2": "3",
                                    "3": "3",
                                    "4": "10"
                                },
                                {
                                    "0": "2016 Summer",
                                    "1": "Portugal",
                                    "2": "0",
                                    "3": "0",
                                    "4": "1"
                                },
                                {
                                    "0": "2016 Summer",
                                    "1": "Puerto Rico",
                                    "2": "1",
                                    "3": "0",
                                    "4": "0"
                                },
                                {
                                    "0": "2016 Summer",
                                    "1": "Qatar",
                                    "2": "0",
                                    "3": "1",
                                    "4": "0"
                                },
                                {
                                    "0": "2016 Summer",
                                    "1": "Romania",
                                    "2": "4",
                                    "3": "2",
                                    "4": "10"
                                },
                                {
                                    "0": "2016 Summer",
                                    "1": "Russia",
                                    "2": "52",
                                    "3": "28",
                                    "4": "35"
                                },
                                {
                                    "0": "2016 Summer",
                                    "1": "Serbia",
                                    "2": "14",
                                    "3": "27",
                                    "4": "13"
                                },
                                {
                                    "0": "2016 Summer",
                                    "1": "Slovakia",
                                    "2": "3",
                                    "3": "5",
                                    "4": "0"
                                },
                                {
                                    "0": "2016 Summer",
                                    "1": "Slovenia",
                                    "2": "1",
                                    "3": "2",
                                    "4": "1"
                                },
                                {
                                    "0": "2016 Summer",
                                    "1": "South Africa",
                                    "2": "2",
                                    "3": "7",
                                    "4": "14"
                                },
                                {
                                    "0": "2016 Summer",
                                    "1": "South Korea",
                                    "2": "13",
                                    "3": "3",
                                    "4": "10"
                                },
                                {
                                    "0": "2016 Summer",
                                    "1": "Spain",
                                    "2": "9",
                                    "3": "19",
                                    "4": "17"
                                },
                                {
                                    "0": "2016 Summer",
                                    "1": "Sweden",
                                    "2": "2",
                                    "3": "23",
                                    "4": "3"
                                },
                                {
                                    "0": "2016 Summer",
                                    "1": "Switzerland",
                                    "2": "6",
                                    "3": "3",
                                    "4": "2"
                                },
                                {
                                    "0": "2016 Summer",
                                    "1": "Taiwan",
                                    "2": "1",
                                    "3": "0",
                                    "4": "4"
                                },
                                {
                                    "0": "2016 Summer",
                                    "1": "Tajikistan",
                                    "2": "1",
                                    "3": "0",
                                    "4": "0"
                                },
                                {
                                    "0": "2016 Summer",
                                    "1": "Thailand",
                                    "2": "2",
                                    "3": "2",
                                    "4": "2"
                                },
                                {
                                    "0": "2016 Summer",
                                    "1": "Trinidad",
                                    "2": "0",
                                    "3": "0",
                                    "4": "1"
                                },
                                {
                                    "0": "2016 Summer",
                                    "1": "Tunisia",
                                    "2": "0",
                                    "3": "0",
                                    "4": "3"
                                },
                                {
                                    "0": "2016 Summer",
                                    "1": "Turkey",
                                    "2": "1",
                                    "3": "3",
                                    "4": "4"
                                },
                                {
                                    "0": "2016 Summer",
                                    "1": "UK",
                                    "2": "64",
                                    "3": "55",
                                    "4": "26"
                                },
                                {
                                    "0": "2016 Summer",
                                    "1": "Ukraine",
                                    "2": "2",
                                    "3": "8",
                                    "4": "5"
                                },
                                {
                                    "0": "2016 Summer",
                                    "1": "United Arab Emirates",
                                    "2": "0",
                                    "3": "0",
                                    "4": "1"
                                },
                                {
                                    "0": "2016 Summer",
                                    "1": "USA",
                                    "2": "139",
                                    "3": "54",
                                    "4": "71"
                                },
                                {
                                    "0": "2016 Summer",
                                    "1": "Uzbekistan",
                                    "2": "4",
                                    "3": "2",
                                    "4": "7"
                                },
                                {
                                    "0": "2016 Summer",
                                    "1": "Venezuela",
                                    "2": "0",
                                    "3": "1",
                                    "4": "2"
                                },
                                {
                                    "0": "2016 Summer",
                                    "1": "Vietnam",
                                    "2": "1",
                                    "3": "1",
                                    "4": "0"
                                }
                            ]
                        },
                        "text/html": [
                            "<table>",
                            "<tr><th>Games</th><th>Country</th><th>Gold</th><th>Silver</th><th>Bronze</th></tr>",
                            "<tr><td>1896 Summer</td><td>Australia</td><td>2</td><td>0</td><td>1</td></tr>",
                            "<tr><td>1896 Summer</td><td>Austria</td><td>2</td><td>1</td><td>2</td></tr>",
                            "<tr><td>1896 Summer</td><td>Denmark</td><td>1</td><td>2</td><td>3</td></tr>",
                            "<tr><td>1896 Summer</td><td>France</td><td>5</td><td>4</td><td>2</td></tr>",
                            "<tr><td>1896 Summer</td><td>Germany</td><td>25</td><td>5</td><td>2</td></tr>",
                            "<tr><td>1896 Summer</td><td>Greece</td><td>10</td><td>18</td><td>20</td></tr>",
                            "<tr><td>1896 Summer</td><td>Hungary</td><td>2</td><td>1</td><td>3</td></tr>",
                            "<tr><td>1896 Summer</td><td>Switzerland</td><td>1</td><td>2</td><td>0</td></tr>",
                            "<tr><td>1896 Summer</td><td>UK</td><td>3</td><td>3</td><td>3</td></tr>",
                            "<tr><td>1896 Summer</td><td>USA</td><td>11</td><td>7</td><td>2</td></tr>",
                            "<tr><td>1900 Summer</td><td>Australia</td><td>3</td><td>0</td><td>3</td></tr>",
                            "<tr><td>1900 Summer</td><td>Austria</td><td>0</td><td>3</td><td>3</td></tr>",
                            "<tr><td>1900 Summer</td><td>Belgium</td><td>6</td><td>24</td><td>13</td></tr>",
                            "<tr><td>1900 Summer</td><td>Canada</td><td>1</td><td>0</td><td>1</td></tr>",
                            "<tr><td>1900 Summer</td><td>Colombia</td><td>0</td><td>1</td><td>0</td></tr>",
                            "<tr><td>1900 Summer</td><td>Cuba</td><td>1</td><td>1</td><td>0</td></tr>",
                            "<tr><td>1900 Summer</td><td>Czech Republic</td><td>0</td><td>1</td><td>2</td></tr>",
                            "<tr><td>1900 Summer</td><td>Denmark</td><td>4</td><td>3</td><td>2</td></tr>",
                            "<tr><td>1900 Summer</td><td>France</td><td>52</td><td>101</td><td>82</td></tr>",
                            "<tr><td>1900 Summer</td><td>Germany</td><td>14</td><td>20</td><td>11</td></tr>",
                            "<tr><td>1900 Summer</td><td>Haiti</td><td>1</td><td>0</td><td>0</td></tr>",
                            "<tr><td>1900 Summer</td><td>Hungary</td><td>1</td><td>2</td><td>2</td></tr>",
                            "<tr><td>1900 Summer</td><td>India</td><td>0</td><td>2</td><td>0</td></tr>",
                            "<tr><td>1900 Summer</td><td>Italy</td><td>3</td><td>2</td><td>0</td></tr>",
                            "<tr><td>1900 Summer</td><td>Luxembourg</td><td>1</td><td>0</td><td>0</td></tr>",
                            "<tr><td>1900 Summer</td><td>Mexico</td><td>0</td><td>0</td><td>3</td></tr>",
                            "<tr><td>1900 Summer</td><td>Netherlands</td><td>3</td><td>8</td><td>16</td></tr>",
                            "<tr><td>1900 Summer</td><td>New Zealand</td><td>1</td><td>0</td><td>0</td></tr>",
                            "<tr><td>1900 Summer</td><td>Norway</td><td>0</td><td>6</td><td>3</td></tr>",
                            "<tr><td>1900 Summer</td><td>Spain</td><td>2</td><td>0</td><td>0</td></tr>",
                            "<tr><td>1900 Summer</td><td>Sweden</td><td>3</td><td>0</td><td>1</td></tr>",
                            "<tr><td>1900 Summer</td><td>Switzerland</td><td>16</td><td>4</td><td>1</td></tr>",
                            "<tr><td>1900 Summer</td><td>UK</td><td>59</td><td>34</td><td>15</td></tr>",
                            "<tr><td>1900 Summer</td><td>USA</td><td>30</td><td>16</td><td>17</td></tr>",
                            "<tr><td>1904 Summer</td><td>Australia</td><td>0</td><td>3</td><td>1</td></tr>",
                            "<tr><td>1904 Summer</td><td>Austria</td><td>2</td><td>1</td><td>1</td></tr>",
                            "<tr><td>1904 Summer</td><td>Canada</td><td>27</td><td>9</td><td>12</td></tr>",
                            "<tr><td>1904 Summer</td><td>Cuba</td><td>5</td><td>0</td><td>0</td></tr>",
                            "<tr><td>1904 Summer</td><td>France</td><td>0</td><td>2</td><td>0</td></tr>",
                            "<tr><td>1904 Summer</td><td>Germany</td><td>4</td><td>5</td><td>7</td></tr>",
                            "<tr><td>1904 Summer</td><td>Greece</td><td>1</td><td>0</td><td>1</td></tr>",
                            "<tr><td>1904 Summer</td><td>Hungary</td><td>2</td><td>1</td><td>1</td></tr>",
                            "<tr><td>1904 Summer</td><td>Norway</td><td>2</td><td>0</td><td>0</td></tr>",
                            "<tr><td>1904 Summer</td><td>Switzerland</td><td>1</td><td>0</td><td>2</td></tr>",
                            "<tr><td>1904 Summer</td><td>UK</td><td>1</td><td>1</td><td>0</td></tr>",
                            "<tr><td>1904 Summer</td><td>USA</td><td>128</td><td>141</td><td>125</td></tr>",
                            "<tr><td>1906 Summer</td><td>Australia</td><td>0</td><td>0</td><td>3</td></tr>",
                            "<tr><td>1906 Summer</td><td>Austria</td><td>3</td><td>3</td><td>3</td></tr>",
                            "<tr><td>1906 Summer</td><td>Belgium</td><td>2</td><td>3</td><td>6</td></tr>",
                            "<tr><td>1906 Summer</td><td>Canada</td><td>1</td><td>1</td><td>0</td></tr>",
                            "<tr><td>1906 Summer</td><td>Czech Republic</td><td>0</td><td>0</td><td>3</td></tr>",
                            "<tr><td>1906 Summer</td><td>Denmark</td><td>14</td><td>19</td><td>1</td></tr>",
                            "<tr><td>1906 Summer</td><td>Finland</td><td>2</td><td>1</td><td>1</td></tr>",
                            "<tr><td>1906 Summer</td><td>France</td><td>20</td><td>16</td><td>28</td></tr>",
                            "<tr><td>1906 Summer</td><td>Germany</td><td>14</td><td>10</td><td>6</td></tr>",
                            "<tr><td>1906 Summer</td><td>Greece</td><td>24</td><td>48</td><td>30</td></tr>",
                            "<tr><td>1906 Summer</td><td>Hungary</td><td>5</td><td>5</td><td>3</td></tr>",
                            "<tr><td>1906 Summer</td><td>Italy</td><td>21</td><td>8</td><td>27</td></tr>",
                            "<tr><td>1906 Summer</td><td>Netherlands</td><td>0</td><td>1</td><td>5</td></tr>",
                            "<tr><td>1906 Summer</td><td>Norway</td><td>20</td><td>5</td><td>0</td></tr>",
                            "<tr><td>1906 Summer</td><td>Sweden</td><td>2</td><td>5</td><td>14</td></tr>",
                            "<tr><td>1906 Summer</td><td>Switzerland</td><td>8</td><td>3</td><td>1</td></tr>",
                            "<tr><td>1906 Summer</td><td>UK</td><td>9</td><td>22</td><td>8</td></tr>",
                            "<tr><td>1906 Summer</td><td>USA</td><td>12</td><td>6</td><td>6</td></tr>",
                            "<tr><td>1908 Summer</td><td>Australia</td><td>15</td><td>2</td><td>2</td></tr>",
                            "<tr><td>1908 Summer</td><td>Austria</td><td>0</td><td>0</td><td>1</td></tr>",
                            "<tr><td>1908 Summer</td><td>Belgium</td><td>1</td><td>24</td><td>8</td></tr>",
                            "<tr><td>1908 Summer</td><td>Canada</td><td>14</td><td>8</td><td>30</td></tr>",
                            "<tr><td>1908 Summer</td><td>Czech Republic</td><td>0</td><td>0</td><td>6</td></tr>",
                            "<tr><td>1908 Summer</td><td>Denmark</td><td>0</td><td>14</td><td>3</td></tr>",
                            "<tr><td>1908 Summer</td><td>Finland</td><td>1</td><td>1</td><td>28</td></tr>",
                            "<tr><td>1908 Summer</td><td>France</td><td>12</td><td>5</td><td>23</td></tr>",
                            "<tr><td>1908 Summer</td><td>Germany</td><td>4</td><td>11</td><td>6</td></tr>",
                            "<tr><td>1908 Summer</td><td>Greece</td><td>0</td><td>3</td><td>1</td></tr>",
                            "<tr><td>1908 Summer</td><td>Hungary</td><td>7</td><td>7</td><td>6</td></tr>",
                            "<tr><td>1908 Summer</td><td>Italy</td><td>2</td><td>6</td><td>0</td></tr>",
                            "<tr><td>1908 Summer</td><td>Netherlands</td><td>0</td><td>0</td><td>16</td></tr>",
                            "<tr><td>1908 Summer</td><td>Norway</td><td>7</td><td>32</td><td>3</td></tr>",
                            "<tr><td>1908 Summer</td><td>Russia</td><td>1</td><td>2</td><td>0</td></tr>",
                            "<tr><td>1908 Summer</td><td>South Africa</td><td>1</td><td>1</td><td>0</td></tr>",
                            "<tr><td>1908 Summer</td><td>Sweden</td><td>48</td><td>18</td><td>18</td></tr>",
                            "<tr><td>1908 Summer</td><td>UK</td><td>147</td><td>131</td><td>90</td></tr>",
                            "<tr><td>1908 Summer</td><td>USA</td><td>34</td><td>16</td><td>15</td></tr>",
                            "<tr><td>1912 Summer</td><td>Australia</td><td>5</td><td>2</td><td>3</td></tr>",
                            "<tr><td>1912 Summer</td><td>Austria</td><td>0</td><td>9</td><td>5</td></tr>",
                            "<tr><td>1912 Summer</td><td>Belgium</td><td>7</td><td>1</td><td>11</td></tr>",
                            "<tr><td>1912 Summer</td><td>Canada</td><td>3</td><td>2</td><td>3</td></tr>",
                            "<tr><td>1912 Summer</td><td>Denmark</td><td>5</td><td>49</td><td>33</td></tr>",
                            "<tr><td>1912 Summer</td><td>Finland</td><td>9</td><td>40</td><td>22</td></tr>",
                            "<tr><td>1912 Summer</td><td>France</td><td>10</td><td>11</td><td>5</td></tr>",
                            "<tr><td>1912 Summer</td><td>Germany</td><td>11</td><td>19</td><td>23</td></tr>",
                            "<tr><td>1912 Summer</td><td>Greece</td><td>1</td><td>0</td><td>1</td></tr>",
                            "<tr><td>1912 Summer</td><td>Hungary</td><td>10</td><td>17</td><td>3</td></tr>",
                            "<tr><td>1912 Summer</td><td>Italy</td><td>22</td><td>1</td><td>2</td></tr>",
                            "<tr><td>1912 Summer</td><td>Netherlands</td><td>0</td><td>0</td><td>26</td></tr>",
                            "<tr><td>1912 Summer</td><td>Norway</td><td>40</td><td>6</td><td>34</td></tr>",
                            "<tr><td>1912 Summer</td><td>Russia</td><td>0</td><td>5</td><td>9</td></tr>",
                            "<tr><td>1912 Summer</td><td>South Africa</td><td>5</td><td>2</td><td>0</td></tr>",
                            "<tr><td>1912 Summer</td><td>Sweden</td><td>103</td><td>62</td><td>25</td></tr>",
                            "<tr><td>1912 Summer</td><td>Switzerland</td><td>2</td><td>0</td><td>0</td></tr>",
                            "<tr><td>1912 Summer</td><td>UK</td><td>47</td><td>64</td><td>59</td></tr>",
                            "<tr><td>1912 Summer</td><td>USA</td><td>46</td><td>25</td><td>36</td></tr>",
                            "<tr><td>1920 Summer</td><td>Australia</td><td>0</td><td>6</td><td>1</td></tr>",
                            "<tr><td>1920 Summer</td><td>Belgium</td><td>57</td><td>65</td><td>66</td></tr>",
                            "<tr><td>1920 Summer</td><td>Brazil</td><td>1</td><td>1</td><td>5</td></tr>",
                            "<tr><td>1920 Summer</td><td>Canada</td><td>10</td><td>3</td><td>3</td></tr>",
                            "<tr><td>1920 Summer</td><td>Czech Republic</td><td>0</td><td>0</td><td>10</td></tr>",
                            "<tr><td>1920 Summer</td><td>Denmark</td><td>26</td><td>44</td><td>1</td></tr>",
                            "<tr><td>1920 Summer</td><td>Estonia</td><td>1</td><td>2</td><td>0</td></tr>",
                            "<tr><td>1920 Summer</td><td>Finland</td><td>21</td><td>14</td><td>17</td></tr>",
                            "<tr><td>1920 Summer</td><td>France</td><td>13</td><td>71</td><td>57</td></tr>",
                            "<tr><td>1920 Summer</td><td>Greece</td><td>0</td><td>5</td><td>0</td></tr>",
                            "<tr><td>1920 Summer</td><td>Italy</td><td>67</td><td>9</td><td>8</td></tr>",
                            "<tr><td>1920 Summer</td><td>Japan</td><td>0</td><td>3</td><td>0</td></tr>",
                            "<tr><td>1920 Summer</td><td>Luxembourg</td><td>0</td><td>1</td><td>0</td></tr>",
                            "<tr><td>1920 Summer</td><td>Netherlands</td><td>15</td><td>10</td><td>25</td></tr>",
                            "<tr><td>1920 Summer</td><td>New Zealand</td><td>0</td><td>0</td><td>1</td></tr>",
                            "<tr><td>1920 Summer</td><td>Norway</td><td>58</td><td>52</td><td>27</td></tr>",
                            "<tr><td>1920 Summer</td><td>South Africa</td><td>3</td><td>12</td><td>6</td></tr>",
                            "<tr><td>1920 Summer</td><td>Spain</td><td>0</td><td>23</td><td>0</td></tr>",
                            "<tr><td>1920 Summer</td><td>Sweden</td><td>52</td><td>38</td><td>64</td></tr>",
                            "<tr><td>1920 Summer</td><td>Switzerland</td><td>6</td><td>2</td><td>21</td></tr>",
                            "<tr><td>1920 Summer</td><td>UK</td><td>52</td><td>42</td><td>17</td></tr>",
                            "<tr><td>1920 Summer</td><td>USA</td><td>111</td><td>45</td><td>38</td></tr>",
                            "<tr><td>1924 Summer</td><td>Argentina</td><td>5</td><td>3</td><td>2</td></tr>",
                            "<tr><td>1924 Summer</td><td>Australia</td><td>3</td><td>5</td><td>2</td></tr>",
                            "<tr><td>1924 Summer</td><td>Austria</td><td>0</td><td>3</td><td>1</td></tr>",
                            "<tr><td>1924 Summer</td><td>Belgium</td><td>3</td><td>30</td><td>6</td></tr>",
                            "<tr><td>1924 Summer</td><td>Canada</td><td>0</td><td>19</td><td>1</td></tr>",
                            "<tr><td>1924 Summer</td><td>Czech Republic</td><td>1</td><td>4</td><td>5</td></tr>",
                            "<tr><td>1924 Summer</td><td>Denmark</td><td>2</td><td>9</td><td>3</td></tr>",
                            "<tr><td>1924 Summer</td><td>Estonia</td><td>1</td><td>1</td><td>4</td></tr>",
                            "<tr><td>1924 Summer</td><td>Finland</td><td>24</td><td>13</td><td>15</td></tr>",
                            "<tr><td>1924 Summer</td><td>France</td><td>37</td><td>51</td><td>22</td></tr>",
                            "<tr><td>1924 Summer</td><td>Greece</td><td>1</td><td>0</td><td>0</td></tr>",
                            "<tr><td>1924 Summer</td><td>Haiti</td><td>0</td><td>0</td><td>5</td></tr>",
                            "<tr><td>1924 Summer</td><td>Hungary</td><td>2</td><td>12</td><td>8</td></tr>",
                            "<tr><td>1924 Summer</td><td>Ireland</td><td>0</td><td>1</td><td>1</td></tr>",
                            "<tr><td>1924 Summer</td><td>Italy</td><td>25</td><td>5</td><td>21</td></tr>",
                            "<tr><td>1924 Summer</td><td>Japan</td><td>0</td><td>0</td><td>1</td></tr>",
                            "<tr><td>1924 Summer</td><td>Luxembourg</td><td>1</td><td>1</td><td>0</td></tr>",
                            "<tr><td>1924 Summer</td><td>Monaco</td><td>0</td><td>0</td><td>1</td></tr>",
                            "<tr><td>1924 Summer</td><td>Netherlands</td><td>8</td><td>1</td><td>18</td></tr>",
                            "<tr><td>1924 Summer</td><td>New Zealand</td><td>0</td><td>0</td><td>1</td></tr>",
                            "<tr><td>1924 Summer</td><td>Norway</td><td>14</td><td>5</td><td>3</td></tr>",
                            "<tr><td>1924 Summer</td><td>Poland</td><td>0</td><td>4</td><td>1</td></tr>",
                            "<tr><td>1924 Summer</td><td>Portugal</td><td>0</td><td>0</td><td>4</td></tr>",
                            "<tr><td>1924 Summer</td><td>Romania</td><td>0</td><td>0</td><td>16</td></tr>",
                            "<tr><td>1924 Summer</td><td>Serbia</td><td>2</td><td>0</td><td>0</td></tr>",
                            "<tr><td>1924 Summer</td><td>South Africa</td><td>1</td><td>1</td><td>1</td></tr>",
                            "<tr><td>1924 Summer</td><td>Sweden</td><td>7</td><td>22</td><td>43</td></tr>",
                            "<tr><td>1924 Summer</td><td>Switzerland</td><td>14</td><td>25</td><td>21</td></tr>",
                            "<tr><td>1924 Summer</td><td>UK</td><td>15</td><td>30</td><td>19</td></tr>",
                            "<tr><td>1924 Summer</td><td>Uruguay</td><td>14</td><td>0</td><td>0</td></tr>",
                            "<tr><td>1924 Summer</td><td>USA</td><td>97</td><td>36</td><td>49</td></tr>",
                            "<tr><td>1924 Winter</td><td>Australia</td><td>1</td><td>0</td><td>0</td></tr>",
                            "<tr><td>1924 Winter</td><td>Austria</td><td>3</td><td>1</td><td>0</td></tr>",
                            "<tr><td>1924 Winter</td><td>Belgium</td><td>0</td><td>0</td><td>5</td></tr>",
                            "<tr><td>1924 Winter</td><td>Canada</td><td>9</td><td>0</td><td>0</td></tr>",
                            "<tr><td>1924 Winter</td><td>Finland</td><td>4</td><td>8</td><td>3</td></tr>",
                            "<tr><td>1924 Winter</td><td>France</td><td>0</td><td>0</td><td>10</td></tr>",
                            "<tr><td>1924 Winter</td><td>India</td><td>7</td><td>0</td><td>0</td></tr>",
                            "<tr><td>1924 Winter</td><td>Nepal</td><td>1</td><td>0</td><td>0</td></tr>",
                            "<tr><td>1924 Winter</td><td>Norway</td><td>4</td><td>7</td><td>6</td></tr>",
                            "<tr><td>1924 Winter</td><td>Sweden</td><td>1</td><td>8</td><td>0</td></tr>",
                            "<tr><td>1924 Winter</td><td>Switzerland</td><td>8</td><td>0</td><td>1</td></tr>",
                            "<tr><td>1924 Winter</td><td>UK</td><td>16</td><td>4</td><td>11</td></tr>",
                            "<tr><td>1924 Winter</td><td>USA</td><td>1</td><td>10</td><td>1</td></tr>",
                            "<tr><td>1928 Summer</td><td>Argentina</td><td>3</td><td>18</td><td>5</td></tr>",
                            "<tr><td>1928 Summer</td><td>Australia</td><td>1</td><td>2</td><td>1</td></tr>",
                            "<tr><td>1928 Summer</td><td>Austria</td><td>3</td><td>0</td><td>2</td></tr>",
                            "<tr><td>1928 Summer</td><td>Belgium</td><td>0</td><td>1</td><td>4</td></tr>",
                            "<tr><td>1928 Summer</td><td>Canada</td><td>7</td><td>5</td><td>21</td></tr>",
                            "<tr><td>1928 Summer</td><td>Chile</td><td>0</td><td>1</td><td>0</td></tr>",
                            "<tr><td>1928 Summer</td><td>Czech Republic</td><td>2</td><td>12</td><td>2</td></tr>",
                            "<tr><td>1928 Summer</td><td>Denmark</td><td>6</td><td>5</td><td>4</td></tr>",
                            "<tr><td>1928 Summer</td><td>Egypt</td><td>2</td><td>1</td><td>1</td></tr>",
                            "<tr><td>1928 Summer</td><td>Estonia</td><td>2</td><td>1</td><td>6</td></tr>",
                            "<tr><td>1928 Summer</td><td>Finland</td><td>8</td><td>8</td><td>9</td></tr>",
                            "<tr><td>1928 Summer</td><td>France</td><td>12</td><td>24</td><td>14</td></tr>",
                            "<tr><td>1928 Summer</td><td>Germany</td><td>21</td><td>15</td><td>41</td></tr>",
                            "<tr><td>1928 Summer</td><td>Haiti</td><td>0</td><td>1</td><td>0</td></tr>",
                            "<tr><td>1928 Summer</td><td>Hungary</td><td>10</td><td>11</td><td>0</td></tr>",
                            "<tr><td>1928 Summer</td><td>India</td><td>14</td><td>0</td><td>0</td></tr>",
                            "<tr><td>1928 Summer</td><td>Ireland</td><td>1</td><td>0</td><td>0</td></tr>",
                            "<tr><td>1928 Summer</td><td>Italy</td><td>24</td><td>22</td><td>26</td></tr>",
                            "<tr><td>1928 Summer</td><td>Japan</td><td>2</td><td>6</td><td>1</td></tr>",
                            "<tr><td>1928 Summer</td><td>Luxembourg</td><td>1</td><td>0</td><td>0</td></tr>",
                            "<tr><td>1928 Summer</td><td>Netherlands</td><td>20</td><td>29</td><td>8</td></tr>",
                            "<tr><td>1928 Summer</td><td>New Zealand</td><td>1</td><td>0</td><td>0</td></tr>",
                            "<tr><td>1928 Summer</td><td>Norway</td><td>4</td><td>4</td><td>1</td></tr>",
                            "<tr><td>1928 Summer</td><td>Philippines</td><td>0</td><td>0</td><td>1</td></tr>",
                            "<tr><td>1928 Summer</td><td>Poland</td><td>2</td><td>3</td><td>15</td></tr>",
                            "<tr><td>1928 Summer</td><td>Portugal</td><td>0</td><td>0</td><td>6</td></tr>",
                            "<tr><td>1928 Summer</td><td>Serbia</td><td>1</td><td>1</td><td>10</td></tr>",
                            "<tr><td>1928 Summer</td><td>South Africa</td><td>1</td><td>0</td><td>5</td></tr>",
                            "<tr><td>1928 Summer</td><td>Spain</td><td>3</td><td>0</td><td>0</td></tr>",
                            "<tr><td>1928 Summer</td><td>Sweden</td><td>7</td><td>8</td><td>22</td></tr>",
                            "<tr><td>1928 Summer</td><td>Switzerland</td><td>16</td><td>10</td><td>4</td></tr>",
                            "<tr><td>1928 Summer</td><td>UK</td><td>7</td><td>27</td><td>24</td></tr>",
                            "<tr><td>1928 Summer</td><td>Uruguay</td><td>17</td><td>0</td><td>0</td></tr>",
                            "<tr><td>1928 Summer</td><td>USA</td><td>47</td><td>24</td><td>17</td></tr>",
                            "<tr><td>1928 Winter</td><td>Austria</td><td>0</td><td>4</td><td>2</td></tr>",
                            "<tr><td>1928 Winter</td><td>Belgium</td><td>0</td><td>0</td><td>1</td></tr>",
                            "<tr><td>1928 Winter</td><td>Canada</td><td>12</td><td>0</td><td>0</td></tr>",
                            "<tr><td>1928 Winter</td><td>Czech Republic</td><td>0</td><td>0</td><td>1</td></tr>",
                            "<tr><td>1928 Winter</td><td>Finland</td><td>2</td><td>1</td><td>1</td></tr>",
                            "<tr><td>1928 Winter</td><td>France</td><td>2</td><td>0</td><td>0</td></tr>",
                            "<tr><td>1928 Winter</td><td>Germany</td><td>0</td><td>0</td><td>5</td></tr>",
                            "<tr><td>1928 Winter</td><td>Norway</td><td>6</td><td>4</td><td>5</td></tr>",
                            "<tr><td>1928 Winter</td><td>Sweden</td><td>2</td><td>13</td><td>1</td></tr>",
                            "<tr><td>1928 Winter</td><td>Switzerland</td><td>0</td><td>0</td><td>12</td></tr>",
                            "<tr><td>1928 Winter</td><td>UK</td><td>0</td><td>0</td><td>1</td></tr>",
                            "<tr><td>1928 Winter</td><td>USA</td><td>6</td><td>6</td><td>2</td></tr>",
                            "<tr><td>1932 Summer</td><td>Argentina</td><td>3</td><td>1</td><td>0</td></tr>",
                            "<tr><td>1932 Summer</td><td>Australia</td><td>3</td><td>1</td><td>1</td></tr>",
                            "<tr><td>1932 Summer</td><td>Austria</td><td>1</td><td>1</td><td>3</td></tr>",
                            "<tr><td>1932 Summer</td><td>Belgium</td><td>0</td><td>0</td><td>1</td></tr>",
                            "<tr><td>1932 Summer</td><td>Canada</td><td>2</td><td>13</td><td>24</td></tr>",
                            "<tr><td>1932 Summer</td><td>Czech Republic</td><td>1</td><td>3</td><td>2</td></tr>",
                            "<tr><td>1932 Summer</td><td>Denmark</td><td>0</td><td>7</td><td>4</td></tr>",
                            "<tr><td>1932 Summer</td><td>Finland</td><td>5</td><td>8</td><td>16</td></tr>",
                            "<tr><td>1932 Summer</td><td>France</td><td>26</td><td>8</td><td>6</td></tr>",
                            "<tr><td>1932 Summer</td><td>Germany</td><td>10</td><td>26</td><td>7</td></tr>",
                            "<tr><td>1932 Summer</td><td>Hungary</td><td>20</td><td>5</td><td>8</td></tr>",
                            "<tr><td>1932 Summer</td><td>India</td><td>15</td><td>0</td><td>0</td></tr>",
                            "<tr><td>1932 Summer</td><td>Ireland</td><td>2</td><td>0</td><td>0</td></tr>",
                            "<tr><td>1932 Summer</td><td>Italy</td><td>21</td><td>38</td><td>18</td></tr>",
                            "<tr><td>1932 Summer</td><td>Japan</td><td>10</td><td>17</td><td>4</td></tr>",
                            "<tr><td>1932 Summer</td><td>Latvia</td><td>0</td><td>1</td><td>0</td></tr>",
                            "<tr><td>1932 Summer</td><td>Mexico</td><td>0</td><td>2</td><td>0</td></tr>",
                            "<tr><td>1932 Summer</td><td>Netherlands</td><td>2</td><td>10</td><td>1</td></tr>",
                            "<tr><td>1932 Summer</td><td>New Zealand</td><td>0</td><td>2</td><td>0</td></tr>",
                            "<tr><td>1932 Summer</td><td>Philippines</td><td>0</td><td>0</td><td>3</td></tr>",
                            "<tr><td>1932 Summer</td><td>Poland</td><td>3</td><td>4</td><td>14</td></tr>",
                            "<tr><td>1932 Summer</td><td>South Africa</td><td>2</td><td>0</td><td>3</td></tr>",
                            "<tr><td>1932 Summer</td><td>Spain</td><td>0</td><td>0</td><td>1</td></tr>",
                            "<tr><td>1932 Summer</td><td>Sweden</td><td>13</td><td>7</td><td>12</td></tr>",
                            "<tr><td>1932 Summer</td><td>Switzerland</td><td>0</td><td>1</td><td>0</td></tr>",
                            "<tr><td>1932 Summer</td><td>UK</td><td>9</td><td>12</td><td>14</td></tr>",
                            "<tr><td>1932 Summer</td><td>Uruguay</td><td>0</td><td>0</td><td>1</td></tr>",
                            "<tr><td>1932 Summer</td><td>USA</td><td>81</td><td>47</td><td>61</td></tr>",
                            "<tr><td>1932 Winter</td><td>Austria</td><td>1</td><td>1</td><td>0</td></tr>",
                            "<tr><td>1932 Winter</td><td>Canada</td><td>14</td><td>1</td><td>5</td></tr>",
                            "<tr><td>1932 Winter</td><td>Finland</td><td>1</td><td>1</td><td>1</td></tr>",
                            "<tr><td>1932 Winter</td><td>France</td><td>2</td><td>0</td><td>0</td></tr>",
                            "<tr><td>1932 Winter</td><td>Germany</td><td>0</td><td>0</td><td>14</td></tr>",
                            "<tr><td>1932 Winter</td><td>Hungary</td><td>0</td><td>0</td><td>2</td></tr>",
                            "<tr><td>1932 Winter</td><td>Norway</td><td>3</td><td>4</td><td>3</td></tr>",
                            "<tr><td>1932 Winter</td><td>Sweden</td><td>1</td><td>2</td><td>0</td></tr>",
                            "<tr><td>1932 Winter</td><td>Switzerland</td><td>0</td><td>2</td><td>0</td></tr>",
                            "<tr><td>1932 Winter</td><td>USA</td><td>10</td><td>21</td><td>3</td></tr>",
                            "<tr><td>1936 Summer</td><td>Argentina</td><td>5</td><td>2</td><td>4</td></tr>",
                            "<tr><td>1936 Summer</td><td>Australia</td><td>0</td><td>0</td><td>1</td></tr>",
                            "<tr><td>1936 Summer</td><td>Austria</td><td>6</td><td>42</td><td>7</td></tr>",
                            "<tr><td>1936 Summer</td><td>Belgium</td><td>0</td><td>0</td><td>14</td></tr>",
                            "<tr><td>1936 Summer</td><td>Canada</td><td>1</td><td>12</td><td>9</td></tr>",
                            "<tr><td>1936 Summer</td><td>Czech Republic</td><td>5</td><td>12</td><td>1</td></tr>",
                            "<tr><td>1936 Summer</td><td>Denmark</td><td>0</td><td>3</td><td>3</td></tr>",
                            "<tr><td>1936 Summer</td><td>Egypt</td><td>2</td><td>1</td><td>2</td></tr>",
                            "<tr><td>1936 Summer</td><td>Estonia</td><td>2</td><td>2</td><td>3</td></tr>",
                            "<tr><td>1936 Summer</td><td>Finland</td><td>8</td><td>6</td><td>13</td></tr>",
                            "<tr><td>1936 Summer</td><td>France</td><td>13</td><td>13</td><td>18</td></tr>",
                            "<tr><td>1936 Summer</td><td>Germany</td><td>93</td><td>70</td><td>61</td></tr>",
                            "<tr><td>1936 Summer</td><td>Hungary</td><td>25</td><td>1</td><td>15</td></tr>",
                            "<tr><td>1936 Summer</td><td>India</td><td>19</td><td>0</td><td>0</td></tr>",
                            "<tr><td>1936 Summer</td><td>Italy</td><td>37</td><td>34</td><td>5</td></tr>",
                            "<tr><td>1936 Summer</td><td>Japan</td><td>9</td><td>4</td><td>10</td></tr>",
                            "<tr><td>1936 Summer</td><td>Latvia</td><td>0</td><td>1</td><td>1</td></tr>",
                            "<tr><td>1936 Summer</td><td>Mexico</td><td>0</td><td>0</td><td>16</td></tr>",
                            "<tr><td>1936 Summer</td><td>Netherlands</td><td>9</td><td>7</td><td>21</td></tr>",
                            "<tr><td>1936 Summer</td><td>New Zealand</td><td>1</td><td>0</td><td>0</td></tr>",
                            "<tr><td>1936 Summer</td><td>Norway</td><td>1</td><td>12</td><td>15</td></tr>",
                            "<tr><td>1936 Summer</td><td>Philippines</td><td>0</td><td>0</td><td>1</td></tr>",
                            "<tr><td>1936 Summer</td><td>Poland</td><td>0</td><td>6</td><td>6</td></tr>",
                            "<tr><td>1936 Summer</td><td>Portugal</td><td>0</td><td>0</td><td>3</td></tr>",
                            "<tr><td>1936 Summer</td><td>Romania</td><td>0</td><td>1</td><td>0</td></tr>",
                            "<tr><td>1936 Summer</td><td>Serbia</td><td>0</td><td>1</td><td>0</td></tr>",
                            "<tr><td>1936 Summer</td><td>South Africa</td><td>0</td><td>1</td><td>0</td></tr>",
                            "<tr><td>1936 Summer</td><td>Sweden</td><td>7</td><td>11</td><td>17</td></tr>",
                            "<tr><td>1936 Summer</td><td>Switzerland</td><td>5</td><td>23</td><td>24</td></tr>",
                            "<tr><td>1936 Summer</td><td>Turkey</td><td>1</td><td>0</td><td>1</td></tr>",
                            "<tr><td>1936 Summer</td><td>UK</td><td>12</td><td>16</td><td>8</td></tr>",
                            "<tr><td>1936 Summer</td><td>USA</td><td>51</td><td>29</td><td>16</td></tr>",
                            "<tr><td>1936 Winter</td><td>Austria</td><td>1</td><td>2</td><td>2</td></tr>",
                            "<tr><td>1936 Winter</td><td>Canada</td><td>0</td><td>13</td><td>0</td></tr>",
                            "<tr><td>1936 Winter</td><td>Finland</td><td>4</td><td>2</td><td>3</td></tr>",
                            "<tr><td>1936 Winter</td><td>France</td><td>0</td><td>0</td><td>1</td></tr>",
                            "<tr><td>1936 Winter</td><td>Germany</td><td>4</td><td>3</td><td>0</td></tr>",
                            "<tr><td>1936 Winter</td><td>Hungary</td><td>0</td><td>0</td><td>2</td></tr>",
                            "<tr><td>1936 Winter</td><td>Norway</td><td>7</td><td>8</td><td>3</td></tr>",
                            "<tr><td>1936 Winter</td><td>Sweden</td><td>2</td><td>2</td><td>6</td></tr>",
                            "<tr><td>1936 Winter</td><td>Switzerland</td><td>4</td><td>6</td><td>0</td></tr>",
                            "<tr><td>1936 Winter</td><td>UK</td><td>12</td><td>1</td><td>4</td></tr>",
                            "<tr><td>1936 Winter</td><td>USA</td><td>2</td><td>0</td><td>14</td></tr>",
                            "<tr><td>1948 Summer</td><td>Argentina</td><td>3</td><td>7</td><td>1</td></tr>",
                            "<tr><td>1948 Summer</td><td>Australia</td><td>2</td><td>9</td><td>5</td></tr>",
                            "<tr><td>1948 Summer</td><td>Austria</td><td>2</td><td>2</td><td>4</td></tr>",
                            "<tr><td>1948 Summer</td><td>Belgium</td><td>5</td><td>2</td><td>8</td></tr>",
                            "<tr><td>1948 Summer</td><td>Brazil</td><td>0</td><td>0</td><td>10</td></tr>",
                            "<tr><td>1948 Summer</td><td>Canada</td><td>0</td><td>2</td><td>5</td></tr>",
                            "<tr><td>1948 Summer</td><td>Cuba</td><td>0</td><td>2</td><td>0</td></tr>",
                            "<tr><td>1948 Summer</td><td>Czech Republic</td><td>14</td><td>3</td><td>3</td></tr>",
                            "<tr><td>1948 Summer</td><td>Denmark</td><td>7</td><td>17</td><td>27</td></tr>",
                            "<tr><td>1948 Summer</td><td>Egypt</td><td>2</td><td>2</td><td>1</td></tr>",
                            "<tr><td>1948 Summer</td><td>Finland</td><td>17</td><td>8</td><td>8</td></tr>",
                            "<tr><td>1948 Summer</td><td>France</td><td>26</td><td>22</td><td>24</td></tr>",
                            "<tr><td>1948 Summer</td><td>Hungary</td><td>15</td><td>25</td><td>22</td></tr>",
                            "<tr><td>1948 Summer</td><td>India</td><td>20</td><td>0</td><td>0</td></tr>",
                            "<tr><td>1948 Summer</td><td>Iran</td><td>0</td><td>0</td><td>1</td></tr>",
                            "<tr><td>1948 Summer</td><td>Ireland</td><td>0</td><td>0</td><td>1</td></tr>",
                            "<tr><td>1948 Summer</td><td>Italy</td><td>21</td><td>32</td><td>14</td></tr>",
                            "<tr><td>1948 Summer</td><td>Jamaica</td><td>1</td><td>2</td><td>0</td></tr>",
                            "<tr><td>1948 Summer</td><td>Mexico</td><td>4</td><td>1</td><td>4</td></tr>",
                            "<tr><td>1948 Summer</td><td>Netherlands</td><td>8</td><td>2</td><td>32</td></tr>",
                            "<tr><td>1948 Summer</td><td>Norway</td><td>3</td><td>4</td><td>11</td></tr>",
                            "<tr><td>1948 Summer</td><td>Panama</td><td>0</td><td>0</td><td>2</td></tr>",
                            "<tr><td>1948 Summer</td><td>Peru</td><td>1</td><td>0</td><td>0</td></tr>",
                            "<tr><td>1948 Summer</td><td>Poland</td><td>1</td><td>0</td><td>1</td></tr>",
                            "<tr><td>1948 Summer</td><td>Portugal</td><td>0</td><td>2</td><td>3</td></tr>",
                            "<tr><td>1948 Summer</td><td>Puerto Rico</td><td>0</td><td>0</td><td>1</td></tr>",
                            "<tr><td>1948 Summer</td><td>Serbia</td><td>0</td><td>16</td><td>0</td></tr>",
                            "<tr><td>1948 Summer</td><td>South Africa</td><td>2</td><td>2</td><td>2</td></tr>",
                            "<tr><td>1948 Summer</td><td>South Korea</td><td>0</td><td>0</td><td>2</td></tr>",
                            "<tr><td>1948 Summer</td><td>Spain</td><td>0</td><td>3</td><td>0</td></tr>",
                            "<tr><td>1948 Summer</td><td>Sri Lanka</td><td>0</td><td>1</td><td>0</td></tr>",
                            "<tr><td>1948 Summer</td><td>Sweden</td><td>30</td><td>15</td><td>30</td></tr>",
                            "<tr><td>1948 Summer</td><td>Switzerland</td><td>5</td><td>25</td><td>6</td></tr>",
                            "<tr><td>1948 Summer</td><td>Trinidad</td><td>0</td><td>1</td><td>0</td></tr>",
                            "<tr><td>1948 Summer</td><td>Turkey</td><td>6</td><td>4</td><td>2</td></tr>",
                            "<tr><td>1948 Summer</td><td>UK</td><td>7</td><td>42</td><td>12</td></tr>",
                            "<tr><td>1948 Summer</td><td>Uruguay</td><td>0</td><td>1</td><td>2</td></tr>",
                            "<tr><td>1948 Summer</td><td>USA</td><td>87</td><td>30</td><td>35</td></tr>",
                            "<tr><td>1948 Winter</td><td>Austria</td><td>1</td><td>3</td><td>4</td></tr>",
                            "<tr><td>1948 Winter</td><td>Belgium</td><td>2</td><td>4</td><td>0</td></tr>",
                            "<tr><td>1948 Winter</td><td>Canada</td><td>13</td><td>0</td><td>2</td></tr>",
                            "<tr><td>1948 Winter</td><td>Czech Republic</td><td>0</td><td>17</td><td>0</td></tr>",
                            "<tr><td>1948 Winter</td><td>Finland</td><td>1</td><td>6</td><td>2</td></tr>",
                            "<tr><td>1948 Winter</td><td>France</td><td>2</td><td>1</td><td>2</td></tr>",
                            "<tr><td>1948 Winter</td><td>Hungary</td><td>0</td><td>2</td><td>0</td></tr>",
                            "<tr><td>1948 Winter</td><td>Italy</td><td>1</td><td>0</td><td>0</td></tr>",
                            "<tr><td>1948 Winter</td><td>Norway</td><td>4</td><td>3</td><td>6</td></tr>",
                            "<tr><td>1948 Winter</td><td>Sweden</td><td>7</td><td>3</td><td>3</td></tr>",
                            "<tr><td>1948 Winter</td><td>Switzerland</td><td>4</td><td>5</td><td>19</td></tr>",
                            "<tr><td>1948 Winter</td><td>UK</td><td>0</td><td>0</td><td>2</td></tr>",
                            "<tr><td>1948 Winter</td><td>USA</td><td>6</td><td>4</td><td>6</td></tr>",
                            "<tr><td>1952 Summer</td><td>Argentina</td><td>2</td><td>2</td><td>2</td></tr>",
                            "<tr><td>1952 Summer</td><td>Australia</td><td>7</td><td>2</td><td>11</td></tr>",
                            "<tr><td>1952 Summer</td><td>Austria</td><td>0</td><td>1</td><td>2</td></tr>",
                            "<tr><td>1952 Summer</td><td>Belgium</td><td>5</td><td>3</td><td>0</td></tr>",
                            "<tr><td>1952 Summer</td><td>Brazil</td><td>1</td><td>0</td><td>2</td></tr>",
                            "<tr><td>1952 Summer</td><td>Bulgaria</td><td>0</td><td>0</td><td>1</td></tr>",
                            "<tr><td>1952 Summer</td><td>Canada</td><td>1</td><td>3</td><td>0</td></tr>",
                            "<tr><td>1952 Summer</td><td>Chile</td><td>0</td><td>4</td><td>0</td></tr>",
                            "<tr><td>1952 Summer</td><td>Czech Republic</td><td>11</td><td>4</td><td>10</td></tr>",
                            "<tr><td>1952 Summer</td><td>Denmark</td><td>3</td><td>1</td><td>5</td></tr>",
                            "<tr><td>1952 Summer</td><td>Egypt</td><td>0</td><td>0</td><td>1</td></tr>",
                            "<tr><td>1952 Summer</td><td>Finland</td><td>8</td><td>3</td><td>29</td></tr>",
                            "<tr><td>1952 Summer</td><td>France</td><td>14</td><td>9</td><td>17</td></tr>",
                            "<tr><td>1952 Summer</td><td>Germany</td><td>0</td><td>14</td><td>26</td></tr>",
                            "<tr><td>1952 Summer</td><td>Hungary</td><td>53</td><td>17</td><td>32</td></tr>",
                            "<tr><td>1952 Summer</td><td>India</td><td>14</td><td>0</td><td>1</td></tr>",
                            "<tr><td>1952 Summer</td><td>Iran</td><td>0</td><td>3</td><td>4</td></tr>",
                            "<tr><td>1952 Summer</td><td>Ireland</td><td>0</td><td>1</td><td>0</td></tr>",
                            "<tr><td>1952 Summer</td><td>Italy</td><td>17</td><td>22</td><td>15</td></tr>",
                            "<tr><td>1952 Summer</td><td>Jamaica</td><td>5</td><td>3</td><td>0</td></tr>",
                            "<tr><td>1952 Summer</td><td>Japan</td><td>1</td><td>9</td><td>2</td></tr>",
                            "<tr><td>1952 Summer</td><td>Lebanon</td><td>0</td><td>1</td><td>1</td></tr>",
                            "<tr><td>1952 Summer</td><td>Luxembourg</td><td>1</td><td>0</td><td>0</td></tr>",
                            "<tr><td>1952 Summer</td><td>Mexico</td><td>0</td><td>1</td><td>0</td></tr>",
                            "<tr><td>1952 Summer</td><td>Netherlands</td><td>0</td><td>18</td><td>0</td></tr>",
                            "<tr><td>1952 Summer</td><td>New Zealand</td><td>1</td><td>0</td><td>2</td></tr>",
                            "<tr><td>1952 Summer</td><td>Norway</td><td>5</td><td>8</td><td>0</td></tr>",
                            "<tr><td>1952 Summer</td><td>Poland</td><td>1</td><td>2</td><td>1</td></tr>",
                            "<tr><td>1952 Summer</td><td>Portugal</td><td>0</td><td>0</td><td>2</td></tr>",
                            "<tr><td>1952 Summer</td><td>Romania</td><td>1</td><td>1</td><td>2</td></tr>",
                            "<tr><td>1952 Summer</td><td>Russia</td><td>36</td><td>62</td><td>19</td></tr>",
                            "<tr><td>1952 Summer</td><td>Serbia</td><td>4</td><td>20</td><td>0</td></tr>",
                            "<tr><td>1952 Summer</td><td>South Africa</td><td>2</td><td>8</td><td>4</td></tr>",
                            "<tr><td>1952 Summer</td><td>South Korea</td><td>0</td><td>0</td><td>2</td></tr>",
                            "<tr><td>1952 Summer</td><td>Spain</td><td>0</td><td>1</td><td>0</td></tr>",
                            "<tr><td>1952 Summer</td><td>Sweden</td><td>23</td><td>24</td><td>23</td></tr>",
                            "<tr><td>1952 Summer</td><td>Switzerland</td><td>2</td><td>19</td><td>12</td></tr>",
                            "<tr><td>1952 Summer</td><td>Trinidad</td><td>0</td><td>0</td><td>2</td></tr>",
                            "<tr><td>1952 Summer</td><td>Turkey</td><td>2</td><td>0</td><td>1</td></tr>",
                            "<tr><td>1952 Summer</td><td>UK</td><td>3</td><td>2</td><td>26</td></tr>",
                            "<tr><td>1952 Summer</td><td>Uruguay</td><td>0</td><td>0</td><td>14</td></tr>",
                            "<tr><td>1952 Summer</td><td>USA</td><td>83</td><td>23</td><td>28</td></tr>",
                            "<tr><td>1952 Summer</td><td>Venezuela</td><td>0</td><td>0</td><td>1</td></tr>",
                            "<tr><td>1952 Winter</td><td>Austria</td><td>2</td><td>4</td><td>2</td></tr>",
                            "<tr><td>1952 Winter</td><td>Canada</td><td>16</td><td>0</td><td>1</td></tr>",
                            "<tr><td>1952 Winter</td><td>Finland</td><td>6</td><td>4</td><td>2</td></tr>",
                            "<tr><td>1952 Winter</td><td>France</td><td>0</td><td>0</td><td>1</td></tr>",
                            "<tr><td>1952 Winter</td><td>Germany</td><td>8</td><td>2</td><td>2</td></tr>",
                            "<tr><td>1952 Winter</td><td>Hungary</td><td>0</td><td>0</td><td>2</td></tr>",
                            "<tr><td>1952 Winter</td><td>Italy</td><td>1</td><td>0</td><td>1</td></tr>",
                            "<tr><td>1952 Winter</td><td>Netherlands</td><td>0</td><td>3</td><td>0</td></tr>",
                            "<tr><td>1952 Winter</td><td>Norway</td><td>7</td><td>6</td><td>6</td></tr>",
                            "<tr><td>1952 Winter</td><td>Sweden</td><td>0</td><td>0</td><td>23</td></tr>",
                            "<tr><td>1952 Winter</td><td>Switzerland</td><td>0</td><td>0</td><td>6</td></tr>",
                            "<tr><td>1952 Winter</td><td>UK</td><td>1</td><td>0</td><td>0</td></tr>",
                            "<tr><td>1952 Winter</td><td>USA</td><td>4</td><td>25</td><td>1</td></tr>",
                            "<tr><td>1956 Summer</td><td>Argentina</td><td>0</td><td>1</td><td>1</td></tr>",
                            "<tr><td>1956 Summer</td><td>Australia</td><td>28</td><td>13</td><td>26</td></tr>",
                            "<tr><td>1956 Summer</td><td>Austria</td><td>0</td><td>0</td><td>4</td></tr>",
                            "<tr><td>1956 Summer</td><td>Bahamas</td><td>0</td><td>0</td><td>2</td></tr>",
                            "<tr><td>1956 Summer</td><td>Belgium</td><td>0</td><td>2</td><td>0</td></tr>",
                            "<tr><td>1956 Summer</td><td>Brazil</td><td>1</td><td>0</td><td>0</td></tr>",
                            "<tr><td>1956 Summer</td><td>Bulgaria</td><td>1</td><td>3</td><td>14</td></tr>",
                            "<tr><td>1956 Summer</td><td>Canada</td><td>5</td><td>9</td><td>5</td></tr>",
                            "<tr><td>1956 Summer</td><td>Chile</td><td>0</td><td>2</td><td>2</td></tr>",
                            "<tr><td>1956 Summer</td><td>Czech Republic</td><td>1</td><td>5</td><td>1</td></tr>",
                            "<tr><td>1956 Summer</td><td>Denmark</td><td>1</td><td>4</td><td>1</td></tr>",
                            "<tr><td>1956 Summer</td><td>Finland</td><td>3</td><td>1</td><td>22</td></tr>",
                            "<tr><td>1956 Summer</td><td>France</td><td>7</td><td>13</td><td>13</td></tr>",
                            "<tr><td>1956 Summer</td><td>Germany</td><td>9</td><td>20</td><td>23</td></tr>",
                            "<tr><td>1956 Summer</td><td>Greece</td><td>0</td><td>0</td><td>1</td></tr>",
                            "<tr><td>1956 Summer</td><td>Hungary</td><td>30</td><td>20</td><td>14</td></tr>",
                            "<tr><td>1956 Summer</td><td>Iceland</td><td>0</td><td>1</td><td>0</td></tr>",
                            "<tr><td>1956 Summer</td><td>India</td><td>17</td><td>0</td><td>0</td></tr>",
                            "<tr><td>1956 Summer</td><td>Iran</td><td>2</td><td>2</td><td>1</td></tr>",
                            "<tr><td>1956 Summer</td><td>Ireland</td><td>1</td><td>1</td><td>3</td></tr>",
                            "<tr><td>1956 Summer</td><td>Italy</td><td>26</td><td>11</td><td>10</td></tr>",
                            "<tr><td>1956 Summer</td><td>Japan</td><td>4</td><td>15</td><td>5</td></tr>",
                            "<tr><td>1956 Summer</td><td>Mexico</td><td>1</td><td>0</td><td>1</td></tr>",
                            "<tr><td>1956 Summer</td><td>New Zealand</td><td>3</td><td>0</td><td>0</td></tr>",
                            "<tr><td>1956 Summer</td><td>Norway</td><td>1</td><td>0</td><td>2</td></tr>",
                            "<tr><td>1956 Summer</td><td>Pakistan</td><td>0</td><td>14</td><td>0</td></tr>",
                            "<tr><td>1956 Summer</td><td>Poland</td><td>1</td><td>9</td><td>9</td></tr>",
                            "<tr><td>1956 Summer</td><td>Romania</td><td>6</td><td>3</td><td>10</td></tr>",
                            "<tr><td>1956 Summer</td><td>Russia</td><td>68</td><td>46</td><td>55</td></tr>",
                            "<tr><td>1956 Summer</td><td>Serbia</td><td>0</td><td>23</td><td>0</td></tr>",
                            "<tr><td>1956 Summer</td><td>South Africa</td><td>0</td><td>0</td><td>7</td></tr>",
                            "<tr><td>1956 Summer</td><td>South Korea</td><td>0</td><td>1</td><td>1</td></tr>",
                            "<tr><td>1956 Summer</td><td>Sweden</td><td>14</td><td>14</td><td>6</td></tr>",
                            "<tr><td>1956 Summer</td><td>Switzerland</td><td>0</td><td>0</td><td>3</td></tr>",
                            "<tr><td>1956 Summer</td><td>Turkey</td><td>3</td><td>2</td><td>2</td></tr>",
                            "<tr><td>1956 Summer</td><td>UK</td><td>8</td><td>16</td><td>22</td></tr>",
                            "<tr><td>1956 Summer</td><td>Uruguay</td><td>0</td><td>0</td><td>12</td></tr>",
                            "<tr><td>1956 Summer</td><td>USA</td><td>61</td><td>42</td><td>20</td></tr>",
                            "<tr><td>1956 Winter</td><td>Austria</td><td>5</td><td>3</td><td>4</td></tr>",
                            "<tr><td>1956 Winter</td><td>Canada</td><td>0</td><td>2</td><td>18</td></tr>",
                            "<tr><td>1956 Winter</td><td>Finland</td><td>5</td><td>6</td><td>1</td></tr>",
                            "<tr><td>1956 Winter</td><td>Germany</td><td>1</td><td>0</td><td>1</td></tr>",
                            "<tr><td>1956 Winter</td><td>Hungary</td><td>0</td><td>0</td><td>2</td></tr>",
                            "<tr><td>1956 Winter</td><td>Italy</td><td>2</td><td>6</td><td>0</td></tr>",
                            "<tr><td>1956 Winter</td><td>Japan</td><td>0</td><td>1</td><td>0</td></tr>",
                            "<tr><td>1956 Winter</td><td>Norway</td><td>2</td><td>1</td><td>1</td></tr>",
                            "<tr><td>1956 Winter</td><td>Poland</td><td>0</td><td>0</td><td>1</td></tr>",
                            "<tr><td>1956 Winter</td><td>Russia</td><td>26</td><td>5</td><td>6</td></tr>",
                            "<tr><td>1956 Winter</td><td>Sweden</td><td>2</td><td>4</td><td>9</td></tr>",
                            "<tr><td>1956 Winter</td><td>Switzerland</td><td>6</td><td>2</td><td>2</td></tr>",
                            "<tr><td>1956 Winter</td><td>USA</td><td>2</td><td>19</td><td>5</td></tr>",
                            "<tr><td>1960 Summer</td><td>Argentina</td><td>0</td><td>3</td><td>1</td></tr>",
                            "<tr><td>1960 Summer</td><td>Australia</td><td>11</td><td>24</td><td>11</td></tr>",
                            "<tr><td>1960 Summer</td><td>Austria</td><td>1</td><td>2</td><td>0</td></tr>",
                            "<tr><td>1960 Summer</td><td>Belgium</td><td>0</td><td>2</td><td>2</td></tr>",
                            "<tr><td>1960 Summer</td><td>Brazil</td><td>0</td><td>0</td><td>13</td></tr>",
                            "<tr><td>1960 Summer</td><td>Bulgaria</td><td>1</td><td>3</td><td>3</td></tr>",
                            "<tr><td>1960 Summer</td><td>Canada</td><td>0</td><td>9</td><td>0</td></tr>",
                            "<tr><td>1960 Summer</td><td>Czech Republic</td><td>4</td><td>7</td><td>11</td></tr>",
                            "<tr><td>1960 Summer</td><td>Denmark</td><td>2</td><td>17</td><td>4</td></tr>",
                            "<tr><td>1960 Summer</td><td>Ethiopia</td><td>1</td><td>0</td><td>0</td></tr>",
                            "<tr><td>1960 Summer</td><td>Finland</td><td>1</td><td>1</td><td>4</td></tr>",
                            "<tr><td>1960 Summer</td><td>France</td><td>0</td><td>6</td><td>6</td></tr>",
                            "<tr><td>1960 Summer</td><td>Germany</td><td>34</td><td>33</td><td>22</td></tr>",
                            "<tr><td>1960 Summer</td><td>Ghana</td><td>0</td><td>1</td><td>0</td></tr>",
                            "<tr><td>1960 Summer</td><td>Greece</td><td>3</td><td>0</td><td>0</td></tr>",
                            "<tr><td>1960 Summer</td><td>Hungary</td><td>13</td><td>16</td><td>37</td></tr>",
                            "<tr><td>1960 Summer</td><td>India</td><td>0</td><td>13</td><td>0</td></tr>",
                            "<tr><td>1960 Summer</td><td>Iran</td><td>0</td><td>1</td><td>3</td></tr>",
                            "<tr><td>1960 Summer</td><td>Iraq</td><td>0</td><td>0</td><td>1</td></tr>",
                            "<tr><td>1960 Summer</td><td>Italy</td><td>36</td><td>18</td><td>34</td></tr>",
                            "<tr><td>1960 Summer</td><td>Japan</td><td>9</td><td>10</td><td>12</td></tr>",
                            "<tr><td>1960 Summer</td><td>Mexico</td><td>0</td><td>0</td><td>1</td></tr>",
                            "<tr><td>1960 Summer</td><td>Morocco</td><td>0</td><td>1</td><td>0</td></tr>",
                            "<tr><td>1960 Summer</td><td>Netherlands</td><td>0</td><td>1</td><td>2</td></tr>",
                            "<tr><td>1960 Summer</td><td>New Zealand</td><td>2</td><td>0</td><td>1</td></tr>",
                            "<tr><td>1960 Summer</td><td>Norway</td><td>2</td><td>0</td><td>0</td></tr>",
                            "<tr><td>1960 Summer</td><td>Pakistan</td><td>13</td><td>0</td><td>1</td></tr>",
                            "<tr><td>1960 Summer</td><td>Poland</td><td>4</td><td>11</td><td>15</td></tr>",
                            "<tr><td>1960 Summer</td><td>Portugal</td><td>0</td><td>2</td><td>0</td></tr>",
                            "<tr><td>1960 Summer</td><td>Romania</td><td>3</td><td>1</td><td>11</td></tr>",
                            "<tr><td>1960 Summer</td><td>Russia</td><td>61</td><td>63</td><td>45</td></tr>",
                            "<tr><td>1960 Summer</td><td>Serbia</td><td>16</td><td>1</td><td>0</td></tr>",
                            "<tr><td>1960 Summer</td><td>South Africa</td><td>0</td><td>1</td><td>2</td></tr>",
                            "<tr><td>1960 Summer</td><td>Spain</td><td>0</td><td>0</td><td>14</td></tr>",
                            "<tr><td>1960 Summer</td><td>Sweden</td><td>2</td><td>2</td><td>3</td></tr>",
                            "<tr><td>1960 Summer</td><td>Switzerland</td><td>0</td><td>6</td><td>6</td></tr>",
                            "<tr><td>1960 Summer</td><td>Syria</td><td>0</td><td>1</td><td>1</td></tr>",
                            "<tr><td>1960 Summer</td><td>Taiwan</td><td>0</td><td>1</td><td>0</td></tr>",
                            "<tr><td>1960 Summer</td><td>Trinidad</td><td>0</td><td>0</td><td>5</td></tr>",
                            "<tr><td>1960 Summer</td><td>Turkey</td><td>7</td><td>2</td><td>0</td></tr>",
                            "<tr><td>1960 Summer</td><td>UK</td><td>2</td><td>11</td><td>15</td></tr>",
                            "<tr><td>1960 Summer</td><td>USA</td><td>81</td><td>23</td><td>21</td></tr>",
                            "<tr><td>1960 Summer</td><td>Venezuela</td><td>0</td><td>0</td><td>1</td></tr>",
                            "<tr><td>1960 Winter</td><td>Austria</td><td>1</td><td>2</td><td>3</td></tr>",
                            "<tr><td>1960 Winter</td><td>Canada</td><td>3</td><td>17</td><td>1</td></tr>",
                            "<tr><td>1960 Winter</td><td>Czech Republic</td><td>0</td><td>1</td><td>0</td></tr>",
                            "<tr><td>1960 Winter</td><td>Finland</td><td>5</td><td>3</td><td>5</td></tr>",
                            "<tr><td>1960 Winter</td><td>France</td><td>1</td><td>0</td><td>2</td></tr>",
                            "<tr><td>1960 Winter</td><td>Germany</td><td>4</td><td>4</td><td>1</td></tr>",
                            "<tr><td>1960 Winter</td><td>Italy</td><td>0</td><td>0</td><td>1</td></tr>",
                            "<tr><td>1960 Winter</td><td>Netherlands</td><td>0</td><td>1</td><td>1</td></tr>",
                            "<tr><td>1960 Winter</td><td>Norway</td><td>3</td><td>6</td><td>0</td></tr>",
                            "<tr><td>1960 Winter</td><td>Poland</td><td>0</td><td>1</td><td>1</td></tr>",
                            "<tr><td>1960 Winter</td><td>Russia</td><td>7</td><td>7</td><td>28</td></tr>",
                            "<tr><td>1960 Winter</td><td>Sweden</td><td>5</td><td>2</td><td>2</td></tr>",
                            "<tr><td>1960 Winter</td><td>Switzerland</td><td>2</td><td>0</td><td>0</td></tr>",
                            "<tr><td>1960 Winter</td><td>USA</td><td>19</td><td>4</td><td>4</td></tr>",
                            "<tr><td>1964 Summer</td><td>Argentina</td><td>0</td><td>1</td><td>0</td></tr>",
                            "<tr><td>1964 Summer</td><td>Australia</td><td>8</td><td>6</td><td>30</td></tr>",
                            "<tr><td>1964 Summer</td><td>Bahamas</td><td>2</td><td>0</td><td>0</td></tr>",
                            "<tr><td>1964 Summer</td><td>Belgium</td><td>2</td><td>0</td><td>1</td></tr>",
                            "<tr><td>1964 Summer</td><td>Brazil</td><td>0</td><td>0</td><td>12</td></tr>",
                            "<tr><td>1964 Summer</td><td>Bulgaria</td><td>3</td><td>5</td><td>2</td></tr>",
                            "<tr><td>1964 Summer</td><td>Canada</td><td>2</td><td>2</td><td>1</td></tr>",
                            "<tr><td>1964 Summer</td><td>Cuba</td><td>0</td><td>1</td><td>0</td></tr>",
                            "<tr><td>1964 Summer</td><td>Czech Republic</td><td>5</td><td>37</td><td>12</td></tr>",
                            "<tr><td>1964 Summer</td><td>Denmark</td><td>7</td><td>1</td><td>4</td></tr>",
                            "<tr><td>1964 Summer</td><td>Ethiopia</td><td>1</td><td>0</td><td>0</td></tr>",
                            "<tr><td>1964 Summer</td><td>Finland</td><td>3</td><td>0</td><td>2</td></tr>",
                            "<tr><td>1964 Summer</td><td>France</td><td>1</td><td>13</td><td>17</td></tr>",
                            "<tr><td>1964 Summer</td><td>Germany</td><td>22</td><td>44</td><td>50</td></tr>",
                            "<tr><td>1964 Summer</td><td>Ghana</td><td>0</td><td>0</td><td>1</td></tr>",
                            "<tr><td>1964 Summer</td><td>Hungary</td><td>42</td><td>7</td><td>7</td></tr>",
                            "<tr><td>1964 Summer</td><td>India</td><td>15</td><td>0</td><td>0</td></tr>",
                            "<tr><td>1964 Summer</td><td>Iran</td><td>0</td><td>0</td><td>2</td></tr>",
                            "<tr><td>1964 Summer</td><td>Ireland</td><td>0</td><td>0</td><td>1</td></tr>",
                            "<tr><td>1964 Summer</td><td>Italy</td><td>14</td><td>28</td><td>9</td></tr>",
                            "<tr><td>1964 Summer</td><td>Japan</td><td>32</td><td>5</td><td>25</td></tr>",
                            "<tr><td>1964 Summer</td><td>Kenya</td><td>0</td><td>0</td><td>1</td></tr>",
                            "<tr><td>1964 Summer</td><td>Mexico</td><td>0</td><td>0</td><td>1</td></tr>",
                            "<tr><td>1964 Summer</td><td>Netherlands</td><td>5</td><td>10</td><td>16</td></tr>",
                            "<tr><td>1964 Summer</td><td>New Zealand</td><td>4</td><td>0</td><td>2</td></tr>",
                            "<tr><td>1964 Summer</td><td>Nigeria</td><td>0</td><td>0</td><td>1</td></tr>",
                            "<tr><td>1964 Summer</td><td>Pakistan</td><td>0</td><td>16</td><td>0</td></tr>",
                            "<tr><td>1964 Summer</td><td>Philippines</td><td>0</td><td>1</td><td>0</td></tr>",
                            "<tr><td>1964 Summer</td><td>Poland</td><td>10</td><td>13</td><td>23</td></tr>",
                            "<tr><td>1964 Summer</td><td>Romania</td><td>2</td><td>4</td><td>10</td></tr>",
                            "<tr><td>1964 Summer</td><td>Russia</td><td>60</td><td>63</td><td>51</td></tr>",
                            "<tr><td>1964 Summer</td><td>Serbia</td><td>2</td><td>11</td><td>2</td></tr>",
                            "<tr><td>1964 Summer</td><td>South Korea</td><td>0</td><td>2</td><td>1</td></tr>",
                            "<tr><td>1964 Summer</td><td>Sweden</td><td>3</td><td>4</td><td>8</td></tr>",
                            "<tr><td>1964 Summer</td><td>Switzerland</td><td>1</td><td>4</td><td>1</td></tr>",
                            "<tr><td>1964 Summer</td><td>Trinidad</td><td>0</td><td>1</td><td>5</td></tr>",
                            "<tr><td>1964 Summer</td><td>Tunisia</td><td>0</td><td>1</td><td>1</td></tr>",
                            "<tr><td>1964 Summer</td><td>Turkey</td><td>2</td><td>3</td><td>1</td></tr>",
                            "<tr><td>1964 Summer</td><td>UK</td><td>4</td><td>19</td><td>5</td></tr>",
                            "<tr><td>1964 Summer</td><td>Uruguay</td><td>0</td><td>0</td><td>1</td></tr>",
                            "<tr><td>1964 Summer</td><td>USA</td><td>95</td><td>37</td><td>37</td></tr>",
                            "<tr><td>1964 Winter</td><td>Austria</td><td>5</td><td>9</td><td>3</td></tr>",
                            "<tr><td>1964 Winter</td><td>Canada</td><td>4</td><td>2</td><td>1</td></tr>",
                            "<tr><td>1964 Winter</td><td>Czech Republic</td><td>0</td><td>0</td><td>17</td></tr>",
                            "<tr><td>1964 Winter</td><td>Finland</td><td>3</td><td>7</td><td>5</td></tr>",
                            "<tr><td>1964 Winter</td><td>France</td><td>3</td><td>4</td><td>0</td></tr>",
                            "<tr><td>1964 Winter</td><td>Germany</td><td>3</td><td>4</td><td>3</td></tr>",
                            "<tr><td>1964 Winter</td><td>Italy</td><td>0</td><td>2</td><td>8</td></tr>",
                            "<tr><td>1964 Winter</td><td>Netherlands</td><td>1</td><td>1</td><td>0</td></tr>",
                            "<tr><td>1964 Winter</td><td>North Korea</td><td>0</td><td>1</td><td>0</td></tr>",
                            "<tr><td>1964 Winter</td><td>Norway</td><td>3</td><td>6</td><td>6</td></tr>",
                            "<tr><td>1964 Winter</td><td>Russia</td><td>30</td><td>8</td><td>9</td></tr>",
                            "<tr><td>1964 Winter</td><td>Sweden</td><td>6</td><td>21</td><td>1</td></tr>",
                            "<tr><td>1964 Winter</td><td>UK</td><td>2</td><td>0</td><td>0</td></tr>",
                            "<tr><td>1964 Winter</td><td>USA</td><td>1</td><td>2</td><td>5</td></tr>",
                            "<tr><td>1968 Summer</td><td>Argentina</td><td>0</td><td>0</td><td>2</td></tr>",
                            "<tr><td>1968 Summer</td><td>Australia</td><td>5</td><td>35</td><td>11</td></tr>",
                            "<tr><td>1968 Summer</td><td>Austria</td><td>0</td><td>2</td><td>3</td></tr>",
                            "<tr><td>1968 Summer</td><td>Belgium</td><td>0</td><td>1</td><td>2</td></tr>",
                            "<tr><td>1968 Summer</td><td>Brazil</td><td>0</td><td>1</td><td>3</td></tr>",
                            "<tr><td>1968 Summer</td><td>Bulgaria</td><td>2</td><td>21</td><td>3</td></tr>",
                            "<tr><td>1968 Summer</td><td>Cameroon</td><td>0</td><td>1</td><td>0</td></tr>",
                            "<tr><td>1968 Summer</td><td>Canada</td><td>3</td><td>3</td><td>4</td></tr>",
                            "<tr><td>1968 Summer</td><td>Cuba</td><td>0</td><td>10</td><td>0</td></tr>",
                            "<tr><td>1968 Summer</td><td>Czech Republic</td><td>7</td><td>7</td><td>15</td></tr>",
                            "<tr><td>1968 Summer</td><td>Denmark</td><td>5</td><td>6</td><td>6</td></tr>",
                            "<tr><td>1968 Summer</td><td>Ethiopia</td><td>1</td><td>1</td><td>0</td></tr>",
                            "<tr><td>1968 Summer</td><td>Finland</td><td>1</td><td>2</td><td>1</td></tr>",
                            "<tr><td>1968 Summer</td><td>France</td><td>12</td><td>5</td><td>10</td></tr>",
                            "<tr><td>1968 Summer</td><td>Germany</td><td>30</td><td>36</td><td>37</td></tr>",
                            "<tr><td>1968 Summer</td><td>Greece</td><td>0</td><td>0</td><td>1</td></tr>",
                            "<tr><td>1968 Summer</td><td>Hungary</td><td>32</td><td>20</td><td>29</td></tr>",
                            "<tr><td>1968 Summer</td><td>India</td><td>0</td><td>0</td><td>16</td></tr>",
                            "<tr><td>1968 Summer</td><td>Iran</td><td>2</td><td>1</td><td>2</td></tr>",
                            "<tr><td>1968 Summer</td><td>Italy</td><td>5</td><td>8</td><td>20</td></tr>",
                            "<tr><td>1968 Summer</td><td>Jamaica</td><td>0</td><td>1</td><td>0</td></tr>",
                            "<tr><td>1968 Summer</td><td>Japan</td><td>16</td><td>25</td><td>22</td></tr>",
                            "<tr><td>1968 Summer</td><td>Kenya</td><td>3</td><td>7</td><td>2</td></tr>",
                            "<tr><td>1968 Summer</td><td>Mexico</td><td>3</td><td>3</td><td>3</td></tr>",
                            "<tr><td>1968 Summer</td><td>Mongolia</td><td>0</td><td>1</td><td>3</td></tr>",
                            "<tr><td>1968 Summer</td><td>Netherlands</td><td>6</td><td>7</td><td>1</td></tr>",
                            "<tr><td>1968 Summer</td><td>New Zealand</td><td>5</td><td>0</td><td>2</td></tr>",
                            "<tr><td>1968 Summer</td><td>Norway</td><td>4</td><td>2</td><td>0</td></tr>",
                            "<tr><td>1968 Summer</td><td>Pakistan</td><td>13</td><td>0</td><td>0</td></tr>",
                            "<tr><td>1968 Summer</td><td>Poland</td><td>5</td><td>2</td><td>30</td></tr>",
                            "<tr><td>1968 Summer</td><td>Romania</td><td>5</td><td>9</td><td>9</td></tr>",
                            "<tr><td>1968 Summer</td><td>Russia</td><td>65</td><td>63</td><td>64</td></tr>",
                            "<tr><td>1968 Summer</td><td>Serbia</td><td>13</td><td>14</td><td>2</td></tr>",
                            "<tr><td>1968 Summer</td><td>South Korea</td><td>0</td><td>1</td><td>1</td></tr>",
                            "<tr><td>1968 Summer</td><td>Sweden</td><td>4</td><td>4</td><td>1</td></tr>",
                            "<tr><td>1968 Summer</td><td>Switzerland</td><td>0</td><td>3</td><td>10</td></tr>",
                            "<tr><td>1968 Summer</td><td>Taiwan</td><td>0</td><td>0</td><td>1</td></tr>",
                            "<tr><td>1968 Summer</td><td>Tunisia</td><td>1</td><td>0</td><td>1</td></tr>",
                            "<tr><td>1968 Summer</td><td>Turkey</td><td>2</td><td>0</td><td>0</td></tr>",
                            "<tr><td>1968 Summer</td><td>Uganda</td><td>0</td><td>1</td><td>1</td></tr>",
                            "<tr><td>1968 Summer</td><td>UK</td><td>9</td><td>5</td><td>5</td></tr>",
                            "<tr><td>1968 Summer</td><td>USA</td><td>99</td><td>32</td><td>35</td></tr>",
                            "<tr><td>1968 Summer</td><td>Venezuela</td><td>1</td><td>0</td><td>0</td></tr>",
                            "<tr><td>1968 Winter</td><td>Austria</td><td>3</td><td>8</td><td>4</td></tr>",
                            "<tr><td>1968 Winter</td><td>Canada</td><td>1</td><td>1</td><td>18</td></tr>",
                            "<tr><td>1968 Winter</td><td>Czech Republic</td><td>1</td><td>19</td><td>1</td></tr>",
                            "<tr><td>1968 Winter</td><td>Finland</td><td>1</td><td>2</td><td>5</td></tr>",
                            "<tr><td>1968 Winter</td><td>France</td><td>4</td><td>3</td><td>2</td></tr>",
                            "<tr><td>1968 Winter</td><td>Germany</td><td>4</td><td>5</td><td>7</td></tr>",
                            "<tr><td>1968 Winter</td><td>Italy</td><td>8</td><td>0</td><td>0</td></tr>",
                            "<tr><td>1968 Winter</td><td>Netherlands</td><td>3</td><td>3</td><td>3</td></tr>",
                            "<tr><td>1968 Winter</td><td>Norway</td><td>11</td><td>9</td><td>2</td></tr>",
                            "<tr><td>1968 Winter</td><td>Romania</td><td>0</td><td>0</td><td>2</td></tr>",
                            "<tr><td>1968 Winter</td><td>Russia</td><td>26</td><td>6</td><td>5</td></tr>",
                            "<tr><td>1968 Winter</td><td>Sweden</td><td>3</td><td>7</td><td>6</td></tr>",
                            "<tr><td>1968 Winter</td><td>Switzerland</td><td>0</td><td>2</td><td>7</td></tr>",
                            "<tr><td>1968 Winter</td><td>USA</td><td>1</td><td>5</td><td>1</td></tr>",
                            "<tr><td>1972 Summer</td><td>Argentina</td><td>0</td><td>1</td><td>0</td></tr>",
                            "<tr><td>1972 Summer</td><td>Australia</td><td>11</td><td>7</td><td>2</td></tr>",
                            "<tr><td>1972 Summer</td><td>Austria</td><td>0</td><td>1</td><td>2</td></tr>",
                            "<tr><td>1972 Summer</td><td>Belgium</td><td>0</td><td>2</td><td>0</td></tr>",
                            "<tr><td>1972 Summer</td><td>Brazil</td><td>0</td><td>0</td><td>2</td></tr>",
                            "<tr><td>1972 Summer</td><td>Bulgaria</td><td>6</td><td>10</td><td>6</td></tr>",
                            "<tr><td>1972 Summer</td><td>Canada</td><td>0</td><td>2</td><td>9</td></tr>",
                            "<tr><td>1972 Summer</td><td>Colombia</td><td>0</td><td>1</td><td>2</td></tr>",
                            "<tr><td>1972 Summer</td><td>Cuba</td><td>3</td><td>1</td><td>18</td></tr>",
                            "<tr><td>1972 Summer</td><td>Czech Republic</td><td>2</td><td>21</td><td>6</td></tr>",
                            "<tr><td>1972 Summer</td><td>Denmark</td><td>1</td><td>0</td><td>0</td></tr>",
                            "<tr><td>1972 Summer</td><td>Ethiopia</td><td>0</td><td>0</td><td>2</td></tr>",
                            "<tr><td>1972 Summer</td><td>Finland</td><td>3</td><td>1</td><td>6</td></tr>",
                            "<tr><td>1972 Summer</td><td>France</td><td>2</td><td>5</td><td>15</td></tr>",
                            "<tr><td>1972 Summer</td><td>Germany</td><td>74</td><td>83</td><td>96</td></tr>",
                            "<tr><td>1972 Summer</td><td>Ghana</td><td>0</td><td>0</td><td>1</td></tr>",
                            "<tr><td>1972 Summer</td><td>Greece</td><td>0</td><td>2</td><td>0</td></tr>",
                            "<tr><td>1972 Summer</td><td>Hungary</td><td>10</td><td>46</td><td>25</td></tr>",
                            "<tr><td>1972 Summer</td><td>India</td><td>0</td><td>0</td><td>14</td></tr>",
                            "<tr><td>1972 Summer</td><td>Iran</td><td>0</td><td>2</td><td>1</td></tr>",
                            "<tr><td>1972 Summer</td><td>Italy</td><td>9</td><td>3</td><td>13</td></tr>",
                            "<tr><td>1972 Summer</td><td>Jamaica</td><td>0</td><td>0</td><td>1</td></tr>",
                            "<tr><td>1972 Summer</td><td>Japan</td><td>29</td><td>19</td><td>8</td></tr>",
                            "<tr><td>1972 Summer</td><td>Kenya</td><td>5</td><td>3</td><td>4</td></tr>",
                            "<tr><td>1972 Summer</td><td>Lebanon</td><td>0</td><td>1</td><td>0</td></tr>",
                            "<tr><td>1972 Summer</td><td>Mexico</td><td>0</td><td>1</td><td>0</td></tr>",
                            "<tr><td>1972 Summer</td><td>Mongolia</td><td>0</td><td>1</td><td>0</td></tr>",
                            "<tr><td>1972 Summer</td><td>Netherlands</td><td>3</td><td>1</td><td>2</td></tr>",
                            "<tr><td>1972 Summer</td><td>New Zealand</td><td>9</td><td>4</td><td>1</td></tr>",
                            "<tr><td>1972 Summer</td><td>Niger</td><td>0</td><td>0</td><td>1</td></tr>",
                            "<tr><td>1972 Summer</td><td>Nigeria</td><td>0</td><td>0</td><td>1</td></tr>",
                            "<tr><td>1972 Summer</td><td>North Korea</td><td>1</td><td>1</td><td>13</td></tr>",
                            "<tr><td>1972 Summer</td><td>Norway</td><td>2</td><td>2</td><td>4</td></tr>",
                            "<tr><td>1972 Summer</td><td>Pakistan</td><td>0</td><td>15</td><td>0</td></tr>",
                            "<tr><td>1972 Summer</td><td>Poland</td><td>27</td><td>8</td><td>11</td></tr>",
                            "<tr><td>1972 Summer</td><td>Romania</td><td>3</td><td>10</td><td>27</td></tr>",
                            "<tr><td>1972 Summer</td><td>Russia</td><td>107</td><td>47</td><td>60</td></tr>",
                            "<tr><td>1972 Summer</td><td>Serbia</td><td>15</td><td>1</td><td>2</td></tr>",
                            "<tr><td>1972 Summer</td><td>South Korea</td><td>0</td><td>1</td><td>0</td></tr>",
                            "<tr><td>1972 Summer</td><td>Spain</td><td>0</td><td>0</td><td>1</td></tr>",
                            "<tr><td>1972 Summer</td><td>Sweden</td><td>4</td><td>10</td><td>8</td></tr>",
                            "<tr><td>1972 Summer</td><td>Switzerland</td><td>0</td><td>8</td><td>0</td></tr>",
                            "<tr><td>1972 Summer</td><td>Tunisia</td><td>0</td><td>1</td><td>0</td></tr>",
                            "<tr><td>1972 Summer</td><td>Turkey</td><td>0</td><td>1</td><td>0</td></tr>",
                            "<tr><td>1972 Summer</td><td>Uganda</td><td>1</td><td>1</td><td>0</td></tr>",
                            "<tr><td>1972 Summer</td><td>UK</td><td>8</td><td>9</td><td>12</td></tr>",
                            "<tr><td>1972 Summer</td><td>USA</td><td>69</td><td>59</td><td>43</td></tr>",
                            "<tr><td>1972 Winter</td><td>Austria</td><td>1</td><td>2</td><td>2</td></tr>",
                            "<tr><td>1972 Winter</td><td>Canada</td><td>0</td><td>1</td><td>0</td></tr>",
                            "<tr><td>1972 Winter</td><td>Czech Republic</td><td>1</td><td>0</td><td>19</td></tr>",
                            "<tr><td>1972 Winter</td><td>Finland</td><td>0</td><td>9</td><td>1</td></tr>",
                            "<tr><td>1972 Winter</td><td>France</td><td>0</td><td>1</td><td>2</td></tr>",
                            "<tr><td>1972 Winter</td><td>Germany</td><td>9</td><td>5</td><td>16</td></tr>",
                            "<tr><td>1972 Winter</td><td>Italy</td><td>3</td><td>5</td><td>1</td></tr>",
                            "<tr><td>1972 Winter</td><td>Japan</td><td>1</td><td>1</td><td>1</td></tr>",
                            "<tr><td>1972 Winter</td><td>Netherlands</td><td>4</td><td>3</td><td>2</td></tr>",
                            "<tr><td>1972 Winter</td><td>Norway</td><td>2</td><td>8</td><td>7</td></tr>",
                            "<tr><td>1972 Winter</td><td>Poland</td><td>1</td><td>0</td><td>0</td></tr>",
                            "<tr><td>1972 Winter</td><td>Russia</td><td>36</td><td>6</td><td>3</td></tr>",
                            "<tr><td>1972 Winter</td><td>Spain</td><td>1</td><td>0</td><td>0</td></tr>",
                            "<tr><td>1972 Winter</td><td>Sweden</td><td>1</td><td>1</td><td>2</td></tr>",
                            "<tr><td>1972 Winter</td><td>Switzerland</td><td>7</td><td>3</td><td>7</td></tr>",
                            "<tr><td>1972 Winter</td><td>USA</td><td>3</td><td>18</td><td>3</td></tr>",
                            "<tr><td>1976 Summer</td><td>Australia</td><td>0</td><td>15</td><td>8</td></tr>",
                            "<tr><td>1976 Summer</td><td>Austria</td><td>0</td><td>0</td><td>1</td></tr>",
                            "<tr><td>1976 Summer</td><td>Belgium</td><td>0</td><td>3</td><td>6</td></tr>",
                            "<tr><td>1976 Summer</td><td>Bermuda</td><td>0</td><td>0</td><td>1</td></tr>",
                            "<tr><td>1976 Summer</td><td>Brazil</td><td>0</td><td>0</td><td>3</td></tr>",
                            "<tr><td>1976 Summer</td><td>Bulgaria</td><td>8</td><td>13</td><td>18</td></tr>",
                            "<tr><td>1976 Summer</td><td>Canada</td><td>0</td><td>9</td><td>14</td></tr>",
                            "<tr><td>1976 Summer</td><td>Cuba</td><td>6</td><td>4</td><td>14</td></tr>",
                            "<tr><td>1976 Summer</td><td>Czech Republic</td><td>2</td><td>4</td><td>9</td></tr>",
                            "<tr><td>1976 Summer</td><td>Denmark</td><td>3</td><td>0</td><td>5</td></tr>",
                            "<tr><td>1976 Summer</td><td>Finland</td><td>4</td><td>2</td><td>0</td></tr>",
                            "<tr><td>1976 Summer</td><td>France</td><td>5</td><td>7</td><td>8</td></tr>",
                            "<tr><td>1976 Summer</td><td>Germany</td><td>123</td><td>76</td><td>74</td></tr>",
                            "<tr><td>1976 Summer</td><td>Hungary</td><td>14</td><td>6</td><td>35</td></tr>",
                            "<tr><td>1976 Summer</td><td>Iran</td><td>0</td><td>1</td><td>1</td></tr>",
                            "<tr><td>1976 Summer</td><td>Italy</td><td>2</td><td>25</td><td>4</td></tr>",
                            "<tr><td>1976 Summer</td><td>Jamaica</td><td>1</td><td>1</td><td>0</td></tr>",
                            "<tr><td>1976 Summer</td><td>Japan</td><td>25</td><td>6</td><td>10</td></tr>",
                            "<tr><td>1976 Summer</td><td>Mexico</td><td>1</td><td>0</td><td>1</td></tr>",
                            "<tr><td>1976 Summer</td><td>Mongolia</td><td>0</td><td>1</td><td>0</td></tr>",
                            "<tr><td>1976 Summer</td><td>Netherlands</td><td>0</td><td>2</td><td>12</td></tr>",
                            "<tr><td>1976 Summer</td><td>New Zealand</td><td>15</td><td>1</td><td>9</td></tr>",
                            "<tr><td>1976 Summer</td><td>North Korea</td><td>1</td><td>1</td><td>0</td></tr>",
                            "<tr><td>1976 Summer</td><td>Norway</td><td>2</td><td>4</td><td>0</td></tr>",
                            "<tr><td>1976 Summer</td><td>Pakistan</td><td>0</td><td>0</td><td>16</td></tr>",
                            "<tr><td>1976 Summer</td><td>Poland</td><td>18</td><td>29</td><td>26</td></tr>",
                            "<tr><td>1976 Summer</td><td>Portugal</td><td>0</td><td>2</td><td>0</td></tr>",
                            "<tr><td>1976 Summer</td><td>Puerto Rico</td><td>0</td><td>0</td><td>1</td></tr>",
                            "<tr><td>1976 Summer</td><td>Romania</td><td>4</td><td>28</td><td>23</td></tr>",
                            "<tr><td>1976 Summer</td><td>Russia</td><td>114</td><td>95</td><td>77</td></tr>",
                            "<tr><td>1976 Summer</td><td>Serbia</td><td>2</td><td>14</td><td>3</td></tr>",
                            "<tr><td>1976 Summer</td><td>South Korea</td><td>1</td><td>1</td><td>15</td></tr>",
                            "<tr><td>1976 Summer</td><td>Spain</td><td>0</td><td>6</td><td>0</td></tr>",
                            "<tr><td>1976 Summer</td><td>Sweden</td><td>9</td><td>1</td><td>0</td></tr>",
                            "<tr><td>1976 Summer</td><td>Switzerland</td><td>1</td><td>3</td><td>6</td></tr>",
                            "<tr><td>1976 Summer</td><td>Thailand</td><td>0</td><td>0</td><td>1</td></tr>",
                            "<tr><td>1976 Summer</td><td>Trinidad</td><td>1</td><td>0</td><td>0</td></tr>",
                            "<tr><td>1976 Summer</td><td>UK</td><td>6</td><td>15</td><td>11</td></tr>",
                            "<tr><td>1976 Summer</td><td>USA</td><td>70</td><td>58</td><td>36</td></tr>",
                            "<tr><td>1976 Summer</td><td>Venezuela</td><td>0</td><td>1</td><td>0</td></tr>",
                            "<tr><td>1976 Winter</td><td>Austria</td><td>2</td><td>2</td><td>3</td></tr>",
                            "<tr><td>1976 Winter</td><td>Canada</td><td>1</td><td>1</td><td>1</td></tr>",
                            "<tr><td>1976 Winter</td><td>Czech Republic</td><td>0</td><td>19</td><td>0</td></tr>",
                            "<tr><td>1976 Winter</td><td>Finland</td><td>5</td><td>10</td><td>1</td></tr>",
                            "<tr><td>1976 Winter</td><td>France</td><td>0</td><td>0</td><td>1</td></tr>",
                            "<tr><td>1976 Winter</td><td>Germany</td><td>14</td><td>13</td><td>37</td></tr>",
                            "<tr><td>1976 Winter</td><td>Italy</td><td>1</td><td>2</td><td>1</td></tr>",
                            "<tr><td>1976 Winter</td><td>Liechtenstein</td><td>0</td><td>0</td><td>2</td></tr>",
                            "<tr><td>1976 Winter</td><td>Netherlands</td><td>1</td><td>2</td><td>3</td></tr>",
                            "<tr><td>1976 Winter</td><td>Norway</td><td>3</td><td>6</td><td>1</td></tr>",
                            "<tr><td>1976 Winter</td><td>Russia</td><td>38</td><td>7</td><td>11</td></tr>",
                            "<tr><td>1976 Winter</td><td>Sweden</td><td>0</td><td>0</td><td>2</td></tr>",
                            "<tr><td>1976 Winter</td><td>Switzerland</td><td>1</td><td>6</td><td>2</td></tr>",
                            "<tr><td>1976 Winter</td><td>UK</td><td>1</td><td>0</td><td>0</td></tr>",
                            "<tr><td>1976 Winter</td><td>USA</td><td>3</td><td>3</td><td>5</td></tr>",
                            "<tr><td>1980 Summer</td><td>Australia</td><td>6</td><td>2</td><td>5</td></tr>",
                            "<tr><td>1980 Summer</td><td>Austria</td><td>1</td><td>3</td><td>1</td></tr>",
                            "<tr><td>1980 Summer</td><td>Belgium</td><td>1</td><td>0</td><td>0</td></tr>",
                            "<tr><td>1980 Summer</td><td>Brazil</td><td>4</td><td>0</td><td>5</td></tr>",
                            "<tr><td>1980 Summer</td><td>Bulgaria</td><td>8</td><td>44</td><td>38</td></tr>",
                            "<tr><td>1980 Summer</td><td>Cuba</td><td>8</td><td>7</td><td>5</td></tr>",
                            "<tr><td>1980 Summer</td><td>Czech Republic</td><td>17</td><td>18</td><td>16</td></tr>",
                            "<tr><td>1980 Summer</td><td>Denmark</td><td>4</td><td>2</td><td>2</td></tr>",
                            "<tr><td>1980 Summer</td><td>Ethiopia</td><td>2</td><td>0</td><td>2</td></tr>",
                            "<tr><td>1980 Summer</td><td>Finland</td><td>3</td><td>1</td><td>5</td></tr>",
                            "<tr><td>1980 Summer</td><td>France</td><td>18</td><td>5</td><td>6</td></tr>",
                            "<tr><td>1980 Summer</td><td>Germany</td><td>115</td><td>88</td><td>61</td></tr>",
                            "<tr><td>1980 Summer</td><td>Greece</td><td>1</td><td>0</td><td>4</td></tr>",
                            "<tr><td>1980 Summer</td><td>Guyana</td><td>0</td><td>0</td><td>1</td></tr>",
                            "<tr><td>1980 Summer</td><td>Hungary</td><td>8</td><td>13</td><td>40</td></tr>",
                            "<tr><td>1980 Summer</td><td>India</td><td>16</td><td>0</td><td>0</td></tr>",
                            "<tr><td>1980 Summer</td><td>Ireland</td><td>0</td><td>2</td><td>1</td></tr>",
                            "<tr><td>1980 Summer</td><td>Italy</td><td>8</td><td>21</td><td>8</td></tr>",
                            "<tr><td>1980 Summer</td><td>Jamaica</td><td>0</td><td>0</td><td>3</td></tr>",
                            "<tr><td>1980 Summer</td><td>Lebanon</td><td>0</td><td>0</td><td>1</td></tr>",
                            "<tr><td>1980 Summer</td><td>Mexico</td><td>0</td><td>1</td><td>9</td></tr>",
                            "<tr><td>1980 Summer</td><td>Mongolia</td><td>0</td><td>2</td><td>2</td></tr>",
                            "<tr><td>1980 Summer</td><td>Netherlands</td><td>0</td><td>1</td><td>5</td></tr>",
                            "<tr><td>1980 Summer</td><td>North Korea</td><td>0</td><td>3</td><td>2</td></tr>",
                            "<tr><td>1980 Summer</td><td>Poland</td><td>3</td><td>25</td><td>22</td></tr>",
                            "<tr><td>1980 Summer</td><td>Romania</td><td>7</td><td>15</td><td>46</td></tr>",
                            "<tr><td>1980 Summer</td><td>Russia</td><td>187</td><td>129</td><td>126</td></tr>",
                            "<tr><td>1980 Summer</td><td>Serbia</td><td>13</td><td>27</td><td>17</td></tr>",
                            "<tr><td>1980 Summer</td><td>Spain</td><td>2</td><td>19</td><td>3</td></tr>",
                            "<tr><td>1980 Summer</td><td>Sweden</td><td>3</td><td>8</td><td>9</td></tr>",
                            "<tr><td>1980 Summer</td><td>Switzerland</td><td>2</td><td>0</td><td>0</td></tr>",
                            "<tr><td>1980 Summer</td><td>Tanzania</td><td>0</td><td>2</td><td>0</td></tr>",
                            "<tr><td>1980 Summer</td><td>Uganda</td><td>0</td><td>1</td><td>0</td></tr>",
                            "<tr><td>1980 Summer</td><td>UK</td><td>5</td><td>18</td><td>24</td></tr>",
                            "<tr><td>1980 Summer</td><td>Venezuela</td><td>0</td><td>1</td><td>0</td></tr>",
                            "<tr><td>1980 Summer</td><td>Zimbabwe</td><td>15</td><td>0</td><td>0</td></tr>",
                            "<tr><td>1980 Winter</td><td>Austria</td><td>3</td><td>2</td><td>3</td></tr>",
                            "<tr><td>1980 Winter</td><td>Bulgaria</td><td>0</td><td>0</td><td>1</td></tr>",
                            "<tr><td>1980 Winter</td><td>Canada</td><td>0</td><td>1</td><td>1</td></tr>",
                            "<tr><td>1980 Winter</td><td>Czech Republic</td><td>0</td><td>0</td><td>1</td></tr>",
                            "<tr><td>1980 Winter</td><td>Finland</td><td>1</td><td>5</td><td>6</td></tr>",
                            "<tr><td>1980 Winter</td><td>France</td><td>0</td><td>0</td><td>1</td></tr>",
                            "<tr><td>1980 Winter</td><td>Germany</td><td>16</td><td>13</td><td>18</td></tr>",
                            "<tr><td>1980 Winter</td><td>Hungary</td><td>0</td><td>2</td><td>0</td></tr>",
                            "<tr><td>1980 Winter</td><td>Italy</td><td>0</td><td>3</td><td>0</td></tr>",
                            "<tr><td>1980 Winter</td><td>Japan</td><td>0</td><td>1</td><td>0</td></tr>",
                            "<tr><td>1980 Winter</td><td>Liechtenstein</td><td>2</td><td>2</td><td>0</td></tr>",
                            "<tr><td>1980 Winter</td><td>Netherlands</td><td>1</td><td>2</td><td>1</td></tr>",
                            "<tr><td>1980 Winter</td><td>Norway</td><td>1</td><td>5</td><td>9</td></tr>",
                            "<tr><td>1980 Winter</td><td>Russia</td><td>18</td><td>29</td><td>7</td></tr>",
                            "<tr><td>1980 Winter</td><td>Sweden</td><td>3</td><td>0</td><td>20</td></tr>",
                            "<tr><td>1980 Winter</td><td>Switzerland</td><td>2</td><td>4</td><td>3</td></tr>",
                            "<tr><td>1980 Winter</td><td>UK</td><td>1</td><td>0</td><td>0</td></tr>",
                            "<tr><td>1980 Winter</td><td>USA</td><td>24</td><td>4</td><td>2</td></tr>",
                            "<tr><td>1984 Summer</td><td>Algeria</td><td>0</td><td>0</td><td>2</td></tr>",
                            "<tr><td>1984 Summer</td><td>Australia</td><td>7</td><td>14</td><td>31</td></tr>",
                            "<tr><td>1984 Summer</td><td>Austria</td><td>1</td><td>1</td><td>1</td></tr>",
                            "<tr><td>1984 Summer</td><td>Belgium</td><td>1</td><td>2</td><td>2</td></tr>",
                            "<tr><td>1984 Summer</td><td>Brazil</td><td>1</td><td>33</td><td>2</td></tr>",
                            "<tr><td>1984 Summer</td><td>Cameroon</td><td>0</td><td>0</td><td>1</td></tr>",
                            "<tr><td>1984 Summer</td><td>Canada</td><td>19</td><td>36</td><td>32</td></tr>",
                            "<tr><td>1984 Summer</td><td>China</td><td>24</td><td>13</td><td>37</td></tr>",
                            "<tr><td>1984 Summer</td><td>Colombia</td><td>0</td><td>1</td><td>0</td></tr>",
                            "<tr><td>1984 Summer</td><td>Denmark</td><td>0</td><td>3</td><td>10</td></tr>",
                            "<tr><td>1984 Summer</td><td>Dominican Republic</td><td>0</td><td>0</td><td>1</td></tr>",
                            "<tr><td>1984 Summer</td><td>Egypt</td><td>0</td><td>1</td><td>0</td></tr>",
                            "<tr><td>1984 Summer</td><td>Finland</td><td>4</td><td>2</td><td>6</td></tr>",
                            "<tr><td>1984 Summer</td><td>France</td><td>20</td><td>16</td><td>31</td></tr>",
                            "<tr><td>1984 Summer</td><td>Germany</td><td>30</td><td>75</td><td>53</td></tr>",
                            "<tr><td>1984 Summer</td><td>Greece</td><td>0</td><td>1</td><td>1</td></tr>",
                            "<tr><td>1984 Summer</td><td>Iceland</td><td>0</td><td>0</td><td>1</td></tr>",
                            "<tr><td>1984 Summer</td><td>Ireland</td><td>0</td><td>1</td><td>0</td></tr>",
                            "<tr><td>1984 Summer</td><td>Italy</td><td>29</td><td>6</td><td>28</td></tr>",
                            "<tr><td>1984 Summer</td><td>Ivory Coast</td><td>0</td><td>1</td><td>0</td></tr>",
                            "<tr><td>1984 Summer</td><td>Jamaica</td><td>0</td><td>5</td><td>2</td></tr>",
                            "<tr><td>1984 Summer</td><td>Japan</td><td>10</td><td>8</td><td>31</td></tr>",
                            "<tr><td>1984 Summer</td><td>Kenya</td><td>1</td><td>0</td><td>2</td></tr>",
                            "<tr><td>1984 Summer</td><td>Mexico</td><td>2</td><td>3</td><td>1</td></tr>",
                            "<tr><td>1984 Summer</td><td>Morocco</td><td>2</td><td>0</td><td>0</td></tr>",
                            "<tr><td>1984 Summer</td><td>Netherlands</td><td>20</td><td>7</td><td>14</td></tr>",
                            "<tr><td>1984 Summer</td><td>New Zealand</td><td>16</td><td>1</td><td>6</td></tr>",
                            "<tr><td>1984 Summer</td><td>Nigeria</td><td>0</td><td>1</td><td>4</td></tr>",
                            "<tr><td>1984 Summer</td><td>Norway</td><td>0</td><td>1</td><td>3</td></tr>",
                            "<tr><td>1984 Summer</td><td>Pakistan</td><td>16</td><td>0</td><td>0</td></tr>",
                            "<tr><td>1984 Summer</td><td>Peru</td><td>0</td><td>1</td><td>0</td></tr>",
                            "<tr><td>1984 Summer</td><td>Portugal</td><td>1</td><td>0</td><td>2</td></tr>",
                            "<tr><td>1984 Summer</td><td>Puerto Rico</td><td>0</td><td>1</td><td>1</td></tr>",
                            "<tr><td>1984 Summer</td><td>Romania</td><td>40</td><td>31</td><td>35</td></tr>",
                            "<tr><td>1984 Summer</td><td>Serbia</td><td>47</td><td>5</td><td>35</td></tr>",
                            "<tr><td>1984 Summer</td><td>South Korea</td><td>6</td><td>28</td><td>7</td></tr>",
                            "<tr><td>1984 Summer</td><td>Spain</td><td>2</td><td>14</td><td>3</td></tr>",
                            "<tr><td>1984 Summer</td><td>Sweden</td><td>3</td><td>18</td><td>13</td></tr>",
                            "<tr><td>1984 Summer</td><td>Switzerland</td><td>0</td><td>9</td><td>4</td></tr>",
                            "<tr><td>1984 Summer</td><td>Syria</td><td>0</td><td>1</td><td>0</td></tr>",
                            "<tr><td>1984 Summer</td><td>Taiwan</td><td>0</td><td>0</td><td>1</td></tr>",
                            "<tr><td>1984 Summer</td><td>Thailand</td><td>0</td><td>1</td><td>0</td></tr>",
                            "<tr><td>1984 Summer</td><td>Turkey</td><td>0</td><td>0</td><td>3</td></tr>",
                            "<tr><td>1984 Summer</td><td>UK</td><td>9</td><td>20</td><td>42</td></tr>",
                            "<tr><td>1984 Summer</td><td>USA</td><td>186</td><td>116</td><td>50</td></tr>",
                            "<tr><td>1984 Summer</td><td>Venezuela</td><td>0</td><td>0</td><td>3</td></tr>",
                            "<tr><td>1984 Summer</td><td>Zambia</td><td>0</td><td>0</td><td>1</td></tr>",
                            "<tr><td>1984 Winter</td><td>Austria</td><td>0</td><td>0</td><td>1</td></tr>",
                            "<tr><td>1984 Winter</td><td>Canada</td><td>2</td><td>1</td><td>1</td></tr>",
                            "<tr><td>1984 Winter</td><td>Czech Republic</td><td>0</td><td>24</td><td>4</td></tr>",
                            "<tr><td>1984 Winter</td><td>Finland</td><td>4</td><td>3</td><td>12</td></tr>",
                            "<tr><td>1984 Winter</td><td>France</td><td>0</td><td>1</td><td>2</td></tr>",
                            "<tr><td>1984 Winter</td><td>Germany</td><td>16</td><td>14</td><td>11</td></tr>",
                            "<tr><td>1984 Winter</td><td>Italy</td><td>2</td><td>0</td><td>0</td></tr>",
                            "<tr><td>1984 Winter</td><td>Japan</td><td>0</td><td>1</td><td>0</td></tr>",
                            "<tr><td>1984 Winter</td><td>Liechtenstein</td><td>0</td><td>0</td><td>2</td></tr>",
                            "<tr><td>1984 Winter</td><td>Norway</td><td>6</td><td>5</td><td>4</td></tr>",
                            "<tr><td>1984 Winter</td><td>Russia</td><td>29</td><td>15</td><td>12</td></tr>",
                            "<tr><td>1984 Winter</td><td>Serbia</td><td>0</td><td>1</td><td>0</td></tr>",
                            "<tr><td>1984 Winter</td><td>Sweden</td><td>7</td><td>2</td><td>21</td></tr>",
                            "<tr><td>1984 Winter</td><td>Switzerland</td><td>2</td><td>2</td><td>4</td></tr>",
                            "<tr><td>1984 Winter</td><td>UK</td><td>2</td><td>0</td><td>0</td></tr>",
                            "<tr><td>1984 Winter</td><td>USA</td><td>4</td><td>5</td><td>0</td></tr>",
                            "<tr><td>1988 Summer</td><td>Argentina</td><td>0</td><td>1</td><td>12</td></tr>",
                            "<tr><td>1988 Summer</td><td>Australia</td><td>18</td><td>6</td><td>11</td></tr>",
                            "<tr><td>1988 Summer</td><td>Austria</td><td>1</td><td>0</td><td>0</td></tr>",
                            "<tr><td>1988 Summer</td><td>Belgium</td><td>0</td><td>0</td><td>2</td></tr>",
                            "<tr><td>1988 Summer</td><td>Brazil</td><td>1</td><td>17</td><td>5</td></tr>",
                            "<tr><td>1988 Summer</td><td>Bulgaria</td><td>10</td><td>14</td><td>17</td></tr>",
                            "<tr><td>1988 Summer</td><td>Canada</td><td>4</td><td>5</td><td>14</td></tr>",
                            "<tr><td>1988 Summer</td><td>Chile</td><td>0</td><td>1</td><td>0</td></tr>",
                            "<tr><td>1988 Summer</td><td>China</td><td>6</td><td>16</td><td>30</td></tr>",
                            "<tr><td>1988 Summer</td><td>Colombia</td><td>0</td><td>0</td><td>1</td></tr>",
                            "<tr><td>1988 Summer</td><td>Costa Rica</td><td>0</td><td>1</td><td>0</td></tr>",
                            "<tr><td>1988 Summer</td><td>Curacao</td><td>0</td><td>1</td><td>0</td></tr>",
                            "<tr><td>1988 Summer</td><td>Czech Republic</td><td>3</td><td>4</td><td>3</td></tr>",
                            "<tr><td>1988 Summer</td><td>Denmark</td><td>3</td><td>1</td><td>3</td></tr>",
                            "<tr><td>1988 Summer</td><td>Djibouti</td><td>0</td><td>0</td><td>1</td></tr>",
                            "<tr><td>1988 Summer</td><td>Finland</td><td>1</td><td>1</td><td>2</td></tr>",
                            "<tr><td>1988 Summer</td><td>France</td><td>12</td><td>4</td><td>13</td></tr>",
                            "<tr><td>1988 Summer</td><td>Germany</td><td>111</td><td>91</td><td>94</td></tr>",
                            "<tr><td>1988 Summer</td><td>Greece</td><td>0</td><td>0</td><td>1</td></tr>",
                            "<tr><td>1988 Summer</td><td>Hungary</td><td>20</td><td>9</td><td>15</td></tr>",
                            "<tr><td>1988 Summer</td><td>Indonesia</td><td>0</td><td>3</td><td>0</td></tr>",
                            "<tr><td>1988 Summer</td><td>Iran</td><td>0</td><td>1</td><td>0</td></tr>",
                            "<tr><td>1988 Summer</td><td>Italy</td><td>11</td><td>10</td><td>8</td></tr>",
                            "<tr><td>1988 Summer</td><td>Jamaica</td><td>0</td><td>7</td><td>0</td></tr>",
                            "<tr><td>1988 Summer</td><td>Japan</td><td>4</td><td>3</td><td>13</td></tr>",
                            "<tr><td>1988 Summer</td><td>Kenya</td><td>5</td><td>2</td><td>2</td></tr>",
                            "<tr><td>1988 Summer</td><td>Mexico</td><td>0</td><td>0</td><td>2</td></tr>",
                            "<tr><td>1988 Summer</td><td>Mongolia</td><td>0</td><td>0</td><td>1</td></tr>",
                            "<tr><td>1988 Summer</td><td>Morocco</td><td>1</td><td>0</td><td>2</td></tr>",
                            "<tr><td>1988 Summer</td><td>Netherlands</td><td>3</td><td>6</td><td>36</td></tr>",
                            "<tr><td>1988 Summer</td><td>New Zealand</td><td>4</td><td>4</td><td>16</td></tr>",
                            "<tr><td>1988 Summer</td><td>Norway</td><td>2</td><td>20</td><td>0</td></tr>",
                            "<tr><td>1988 Summer</td><td>Pakistan</td><td>0</td><td>0</td><td>1</td></tr>",
                            "<tr><td>1988 Summer</td><td>Peru</td><td>0</td><td>12</td><td>0</td></tr>",
                            "<tr><td>1988 Summer</td><td>Philippines</td><td>0</td><td>0</td><td>1</td></tr>",
                            "<tr><td>1988 Summer</td><td>Poland</td><td>2</td><td>9</td><td>10</td></tr>",
                            "<tr><td>1988 Summer</td><td>Portugal</td><td>1</td><td>0</td><td>0</td></tr>",
                            "<tr><td>1988 Summer</td><td>Romania</td><td>8</td><td>34</td><td>16</td></tr>",
                            "<tr><td>1988 Summer</td><td>Russia</td><td>134</td><td>67</td><td>99</td></tr>",
                            "<tr><td>1988 Summer</td><td>Senegal</td><td>0</td><td>1</td><td>0</td></tr>",
                            "<tr><td>1988 Summer</td><td>Serbia</td><td>15</td><td>27</td><td>21</td></tr>",
                            "<tr><td>1988 Summer</td><td>South Korea</td><td>28</td><td>37</td><td>12</td></tr>",
                            "<tr><td>1988 Summer</td><td>Spain</td><td>1</td><td>2</td><td>2</td></tr>",
                            "<tr><td>1988 Summer</td><td>Suriname</td><td>1</td><td>0</td><td>0</td></tr>",
                            "<tr><td>1988 Summer</td><td>Sweden</td><td>0</td><td>5</td><td>11</td></tr>",
                            "<tr><td>1988 Summer</td><td>Switzerland</td><td>0</td><td>6</td><td>2</td></tr>",
                            "<tr><td>1988 Summer</td><td>Thailand</td><td>0</td><td>0</td><td>1</td></tr>",
                            "<tr><td>1988 Summer</td><td>Turkey</td><td>1</td><td>1</td><td>0</td></tr>",
                            "<tr><td>1988 Summer</td><td>UK</td><td>22</td><td>17</td><td>15</td></tr>",
                            "<tr><td>1988 Summer</td><td>USA</td><td>87</td><td>66</td><td>54</td></tr>",
                            "<tr><td>1988 Summer</td><td>Virgin Islands, US</td><td>0</td><td>1</td><td>0</td></tr>",
                            "<tr><td>1988 Winter</td><td>Austria</td><td>3</td><td>5</td><td>4</td></tr>",
                            "<tr><td>1988 Winter</td><td>Canada</td><td>0</td><td>2</td><td>4</td></tr>",
                            "<tr><td>1988 Winter</td><td>Czech Republic</td><td>0</td><td>1</td><td>5</td></tr>",
                            "<tr><td>1988 Winter</td><td>Finland</td><td>7</td><td>22</td><td>5</td></tr>",
                            "<tr><td>1988 Winter</td><td>France</td><td>1</td><td>0</td><td>1</td></tr>",
                            "<tr><td>1988 Winter</td><td>Germany</td><td>14</td><td>22</td><td>10</td></tr>",
                            "<tr><td>1988 Winter</td><td>Italy</td><td>2</td><td>1</td><td>5</td></tr>",
                            "<tr><td>1988 Winter</td><td>Japan</td><td>0</td><td>0</td><td>1</td></tr>",
                            "<tr><td>1988 Winter</td><td>Liechtenstein</td><td>0</td><td>0</td><td>1</td></tr>",
                            "<tr><td>1988 Winter</td><td>Netherlands</td><td>3</td><td>2</td><td>2</td></tr>",
                            "<tr><td>1988 Winter</td><td>Norway</td><td>0</td><td>6</td><td>5</td></tr>",
                            "<tr><td>1988 Winter</td><td>Russia</td><td>40</td><td>14</td><td>12</td></tr>",
                            "<tr><td>1988 Winter</td><td>Serbia</td><td>0</td><td>5</td><td>1</td></tr>",
                            "<tr><td>1988 Winter</td><td>Sweden</td><td>7</td><td>0</td><td>23</td></tr>",
                            "<tr><td>1988 Winter</td><td>Switzerland</td><td>8</td><td>7</td><td>5</td></tr>",
                            "<tr><td>1988 Winter</td><td>USA</td><td>2</td><td>1</td><td>4</td></tr>",
                            "<tr><td>1992 Summer</td><td>Algeria</td><td>1</td><td>0</td><td>1</td></tr>",
                            "<tr><td>1992 Summer</td><td>Argentina</td><td>0</td><td>0</td><td>2</td></tr>",
                            "<tr><td>1992 Summer</td><td>Australia</td><td>14</td><td>27</td><td>16</td></tr>",
                            "<tr><td>1992 Summer</td><td>Austria</td><td>0</td><td>6</td><td>0</td></tr>",
                            "<tr><td>1992 Summer</td><td>Bahamas</td><td>0</td><td>0</td><td>1</td></tr>",
                            "<tr><td>1992 Summer</td><td>Belgium</td><td>0</td><td>1</td><td>2</td></tr>",
                            "<tr><td>1992 Summer</td><td>Brazil</td><td>13</td><td>1</td><td>0</td></tr>",
                            "<tr><td>1992 Summer</td><td>Bulgaria</td><td>3</td><td>7</td><td>7</td></tr>",
                            "<tr><td>1992 Summer</td><td>Canada</td><td>27</td><td>5</td><td>12</td></tr>",
                            "<tr><td>1992 Summer</td><td>China</td><td>18</td><td>45</td><td>19</td></tr>",
                            "<tr><td>1992 Summer</td><td>Colombia</td><td>0</td><td>0</td><td>1</td></tr>",
                            "<tr><td>1992 Summer</td><td>Croatia</td><td>0</td><td>12</td><td>3</td></tr>",
                            "<tr><td>1992 Summer</td><td>Cuba</td><td>42</td><td>13</td><td>14</td></tr>",
                            "<tr><td>1992 Summer</td><td>Czech Republic</td><td>4</td><td>3</td><td>1</td></tr>",
                            "<tr><td>1992 Summer</td><td>Denmark</td><td>3</td><td>2</td><td>9</td></tr>",
                            "<tr><td>1992 Summer</td><td>Estonia</td><td>1</td><td>0</td><td>2</td></tr>",
                            "<tr><td>1992 Summer</td><td>Ethiopia</td><td>1</td><td>0</td><td>2</td></tr>",
                            "<tr><td>1992 Summer</td><td>Finland</td><td>1</td><td>4</td><td>2</td></tr>",
                            "<tr><td>1992 Summer</td><td>France</td><td>9</td><td>5</td><td>43</td></tr>",
                            "<tr><td>1992 Summer</td><td>Germany</td><td>81</td><td>57</td><td>60</td></tr>",
                            "<tr><td>1992 Summer</td><td>Ghana</td><td>0</td><td>0</td><td>20</td></tr>",
                            "<tr><td>1992 Summer</td><td>Greece</td><td>2</td><td>0</td><td>0</td></tr>",
                            "<tr><td>1992 Summer</td><td>Hungary</td><td>14</td><td>23</td><td>8</td></tr>",
                            "<tr><td>1992 Summer</td><td>Individual Olympic Athletes</td><td>0</td><td>1</td><td>2</td></tr>",
                            "<tr><td>1992 Summer</td><td>Indonesia</td><td>2</td><td>3</td><td>1</td></tr>",
                            "<tr><td>1992 Summer</td><td>Iran</td><td>0</td><td>1</td><td>2</td></tr>",
                            "<tr><td>1992 Summer</td><td>Ireland</td><td>1</td><td>1</td><td>0</td></tr>",
                            "<tr><td>1992 Summer</td><td>Israel</td><td>0</td><td>1</td><td>1</td></tr>",
                            "<tr><td>1992 Summer</td><td>Italy</td><td>21</td><td>10</td><td>14</td></tr>",
                            "<tr><td>1992 Summer</td><td>Jamaica</td><td>0</td><td>3</td><td>1</td></tr>",
                            "<tr><td>1992 Summer</td><td>Japan</td><td>3</td><td>8</td><td>36</td></tr>",
                            "<tr><td>1992 Summer</td><td>Kenya</td><td>2</td><td>4</td><td>2</td></tr>",
                            "<tr><td>1992 Summer</td><td>Latvia</td><td>0</td><td>2</td><td>1</td></tr>",
                            "<tr><td>1992 Summer</td><td>Lithuania</td><td>1</td><td>0</td><td>12</td></tr>",
                            "<tr><td>1992 Summer</td><td>Malaysia</td><td>0</td><td>0</td><td>2</td></tr>",
                            "<tr><td>1992 Summer</td><td>Mexico</td><td>0</td><td>1</td><td>0</td></tr>",
                            "<tr><td>1992 Summer</td><td>Mongolia</td><td>0</td><td>0</td><td>2</td></tr>",
                            "<tr><td>1992 Summer</td><td>Morocco</td><td>1</td><td>1</td><td>1</td></tr>",
                            "<tr><td>1992 Summer</td><td>Namibia</td><td>0</td><td>2</td><td>0</td></tr>",
                            "<tr><td>1992 Summer</td><td>Netherlands</td><td>5</td><td>20</td><td>8</td></tr>",
                            "<tr><td>1992 Summer</td><td>New Zealand</td><td>1</td><td>9</td><td>5</td></tr>",
                            "<tr><td>1992 Summer</td><td>Nigeria</td><td>0</td><td>7</td><td>4</td></tr>",
                            "<tr><td>1992 Summer</td><td>North Korea</td><td>4</td><td>0</td><td>6</td></tr>",
                            "<tr><td>1992 Summer</td><td>Norway</td><td>2</td><td>20</td><td>1</td></tr>",
                            "<tr><td>1992 Summer</td><td>Pakistan</td><td>0</td><td>0</td><td>16</td></tr>",
                            "<tr><td>1992 Summer</td><td>Peru</td><td>0</td><td>1</td><td>0</td></tr>",
                            "<tr><td>1992 Summer</td><td>Philippines</td><td>0</td><td>0</td><td>1</td></tr>",
                            "<tr><td>1992 Summer</td><td>Poland</td><td>5</td><td>22</td><td>19</td></tr>",
                            "<tr><td>1992 Summer</td><td>Puerto Rico</td><td>0</td><td>0</td><td>1</td></tr>",
                            "<tr><td>1992 Summer</td><td>Qatar</td><td>0</td><td>0</td><td>1</td></tr>",
                            "<tr><td>1992 Summer</td><td>Romania</td><td>8</td><td>31</td><td>14</td></tr>",
                            "<tr><td>1992 Summer</td><td>Russia</td><td>92</td><td>61</td><td>67</td></tr>",
                            "<tr><td>1992 Summer</td><td>Slovenia</td><td>0</td><td>0</td><td>6</td></tr>",
                            "<tr><td>1992 Summer</td><td>South Africa</td><td>0</td><td>3</td><td>0</td></tr>",
                            "<tr><td>1992 Summer</td><td>South Korea</td><td>28</td><td>5</td><td>16</td></tr>",
                            "<tr><td>1992 Summer</td><td>Spain</td><td>48</td><td>19</td><td>2</td></tr>",
                            "<tr><td>1992 Summer</td><td>Suriname</td><td>0</td><td>0</td><td>1</td></tr>",
                            "<tr><td>1992 Summer</td><td>Sweden</td><td>1</td><td>27</td><td>7</td></tr>",
                            "<tr><td>1992 Summer</td><td>Switzerland</td><td>1</td><td>0</td><td>0</td></tr>",
                            "<tr><td>1992 Summer</td><td>Taiwan</td><td>0</td><td>20</td><td>0</td></tr>",
                            "<tr><td>1992 Summer</td><td>Thailand</td><td>0</td><td>0</td><td>1</td></tr>",
                            "<tr><td>1992 Summer</td><td>Turkey</td><td>2</td><td>2</td><td>2</td></tr>",
                            "<tr><td>1992 Summer</td><td>UK</td><td>8</td><td>3</td><td>39</td></tr>",
                            "<tr><td>1992 Summer</td><td>USA</td><td>89</td><td>50</td><td>85</td></tr>",
                            "<tr><td>1992 Winter</td><td>Austria</td><td>9</td><td>10</td><td>10</td></tr>",
                            "<tr><td>1992 Winter</td><td>Canada</td><td>5</td><td>28</td><td>3</td></tr>",
                            "<tr><td>1992 Winter</td><td>China</td><td>0</td><td>3</td><td>0</td></tr>",
                            "<tr><td>1992 Winter</td><td>Czech Republic</td><td>0</td><td>0</td><td>27</td></tr>",
                            "<tr><td>1992 Winter</td><td>Finland</td><td>6</td><td>1</td><td>6</td></tr>",
                            "<tr><td>1992 Winter</td><td>France</td><td>5</td><td>6</td><td>1</td></tr>",
                            "<tr><td>1992 Winter</td><td>Germany</td><td>14</td><td>17</td><td>7</td></tr>",
                            "<tr><td>1992 Winter</td><td>Italy</td><td>4</td><td>9</td><td>8</td></tr>",
                            "<tr><td>1992 Winter</td><td>Japan</td><td>3</td><td>2</td><td>7</td></tr>",
                            "<tr><td>1992 Winter</td><td>Luxembourg</td><td>0</td><td>2</td><td>0</td></tr>",
                            "<tr><td>1992 Winter</td><td>Netherlands</td><td>1</td><td>1</td><td>2</td></tr>",
                            "<tr><td>1992 Winter</td><td>New Zealand</td><td>0</td><td>1</td><td>0</td></tr>",
                            "<tr><td>1992 Winter</td><td>North Korea</td><td>0</td><td>0</td><td>1</td></tr>",
                            "<tr><td>1992 Winter</td><td>Norway</td><td>9</td><td>10</td><td>5</td></tr>",
                            "<tr><td>1992 Winter</td><td>Russia</td><td>35</td><td>10</td><td>14</td></tr>",
                            "<tr><td>1992 Winter</td><td>South Korea</td><td>5</td><td>1</td><td>1</td></tr>",
                            "<tr><td>1992 Winter</td><td>Spain</td><td>0</td><td>0</td><td>1</td></tr>",
                            "<tr><td>1992 Winter</td><td>Sweden</td><td>1</td><td>0</td><td>6</td></tr>",
                            "<tr><td>1992 Winter</td><td>Switzerland</td><td>2</td><td>0</td><td>5</td></tr>",
                            "<tr><td>1992 Winter</td><td>USA</td><td>5</td><td>7</td><td>2</td></tr>",
                            "<tr><td>1994 Winter</td><td>Australia</td><td>0</td><td>0</td><td>4</td></tr>",
                            "<tr><td>1994 Winter</td><td>Austria</td><td>2</td><td>3</td><td>7</td></tr>",
                            "<tr><td>1994 Winter</td><td>Belarus</td><td>0</td><td>2</td><td>0</td></tr>",
                            "<tr><td>1994 Winter</td><td>Canada</td><td>3</td><td>29</td><td>5</td></tr>",
                            "<tr><td>1994 Winter</td><td>China</td><td>0</td><td>1</td><td>2</td></tr>",
                            "<tr><td>1994 Winter</td><td>Finland</td><td>0</td><td>1</td><td>29</td></tr>",
                            "<tr><td>1994 Winter</td><td>France</td><td>0</td><td>1</td><td>10</td></tr>",
                            "<tr><td>1994 Winter</td><td>Germany</td><td>18</td><td>10</td><td>12</td></tr>",
                            "<tr><td>1994 Winter</td><td>Italy</td><td>14</td><td>6</td><td>12</td></tr>",
                            "<tr><td>1994 Winter</td><td>Japan</td><td>3</td><td>5</td><td>2</td></tr>",
                            "<tr><td>1994 Winter</td><td>Kazakhstan</td><td>1</td><td>2</td><td>0</td></tr>",
                            "<tr><td>1994 Winter</td><td>Netherlands</td><td>0</td><td>1</td><td>3</td></tr>",
                            "<tr><td>1994 Winter</td><td>Norway</td><td>8</td><td>17</td><td>5</td></tr>",
                            "<tr><td>1994 Winter</td><td>Russia</td><td>19</td><td>13</td><td>4</td></tr>",
                            "<tr><td>1994 Winter</td><td>Slovenia</td><td>0</td><td>0</td><td>3</td></tr>",
                            "<tr><td>1994 Winter</td><td>South Korea</td><td>7</td><td>1</td><td>1</td></tr>",
                            "<tr><td>1994 Winter</td><td>Sweden</td><td>23</td><td>1</td><td>0</td></tr>",
                            "<tr><td>1994 Winter</td><td>Switzerland</td><td>4</td><td>8</td><td>4</td></tr>",
                            "<tr><td>1994 Winter</td><td>UK</td><td>0</td><td>0</td><td>3</td></tr>",
                            "<tr><td>1994 Winter</td><td>Ukraine</td><td>1</td><td>0</td><td>1</td></tr>",
                            "<tr><td>1994 Winter</td><td>USA</td><td>6</td><td>8</td><td>5</td></tr>",
                            "<tr><td>1994 Winter</td><td>Uzbekistan</td><td>1</td><td>0</td><td>0</td></tr>",
                            "<tr><td>1996 Summer</td><td>Algeria</td><td>2</td><td>0</td><td>1</td></tr>",
                            "<tr><td>1996 Summer</td><td>Argentina</td><td>0</td><td>19</td><td>1</td></tr>",
                            "<tr><td>1996 Summer</td><td>Armenia</td><td>1</td><td>1</td><td>0</td></tr>",
                            "<tr><td>1996 Summer</td><td>Australia</td><td>32</td><td>16</td><td>84</td></tr>",
                            "<tr><td>1996 Summer</td><td>Austria</td><td>0</td><td>1</td><td>2</td></tr>",
                            "<tr><td>1996 Summer</td><td>Azerbaijan</td><td>0</td><td>1</td><td>0</td></tr>",
                            "<tr><td>1996 Summer</td><td>Bahamas</td><td>0</td><td>5</td><td>0</td></tr>",
                            "<tr><td>1996 Summer</td><td>Belarus</td><td>1</td><td>6</td><td>16</td></tr>",
                            "<tr><td>1996 Summer</td><td>Belgium</td><td>2</td><td>2</td><td>2</td></tr>",
                            "<tr><td>1996 Summer</td><td>Brazil</td><td>5</td><td>15</td><td>43</td></tr>",
                            "<tr><td>1996 Summer</td><td>Bulgaria</td><td>3</td><td>12</td><td>6</td></tr>",
                            "<tr><td>1996 Summer</td><td>Burundi</td><td>1</td><td>0</td><td>0</td></tr>",
                            "<tr><td>1996 Summer</td><td>Canada</td><td>8</td><td>30</td><td>12</td></tr>",
                            "<tr><td>1996 Summer</td><td>China</td><td>20</td><td>70</td><td>17</td></tr>",
                            "<tr><td>1996 Summer</td><td>Costa Rica</td><td>1</td><td>0</td><td>0</td></tr>",
                            "<tr><td>1996 Summer</td><td>Croatia</td><td>16</td><td>12</td><td>0</td></tr>",
                            "<tr><td>1996 Summer</td><td>Cuba</td><td>37</td><td>8</td><td>10</td></tr>",
                            "<tr><td>1996 Summer</td><td>Czech Republic</td><td>4</td><td>5</td><td>4</td></tr>",
                            "<tr><td>1996 Summer</td><td>Denmark</td><td>21</td><td>1</td><td>1</td></tr>",
                            "<tr><td>1996 Summer</td><td>Ecuador</td><td>1</td><td>0</td><td>0</td></tr>",
                            "<tr><td>1996 Summer</td><td>Ethiopia</td><td>2</td><td>0</td><td>1</td></tr>",
                            "<tr><td>1996 Summer</td><td>Finland</td><td>1</td><td>2</td><td>1</td></tr>",
                            "<tr><td>1996 Summer</td><td>France</td><td>21</td><td>10</td><td>20</td></tr>",
                            "<tr><td>1996 Summer</td><td>Georgia</td><td>0</td><td>0</td><td>2</td></tr>",
                            "<tr><td>1996 Summer</td><td>Germany</td><td>42</td><td>35</td><td>47</td></tr>",
                            "<tr><td>1996 Summer</td><td>Greece</td><td>4</td><td>4</td><td>0</td></tr>",
                            "<tr><td>1996 Summer</td><td>Hungary</td><td>8</td><td>9</td><td>26</td></tr>",
                            "<tr><td>1996 Summer</td><td>India</td><td>0</td><td>0</td><td>1</td></tr>",
                            "<tr><td>1996 Summer</td><td>Indonesia</td><td>2</td><td>1</td><td>3</td></tr>",
                            "<tr><td>1996 Summer</td><td>Iran</td><td>1</td><td>1</td><td>1</td></tr>",
                            "<tr><td>1996 Summer</td><td>Ireland</td><td>3</td><td>0</td><td>1</td></tr>",
                            "<tr><td>1996 Summer</td><td>Israel</td><td>0</td><td>0</td><td>1</td></tr>",
                            "<tr><td>1996 Summer</td><td>Italy</td><td>19</td><td>24</td><td>28</td></tr>",
                            "<tr><td>1996 Summer</td><td>Jamaica</td><td>1</td><td>3</td><td>12</td></tr>",
                            "<tr><td>1996 Summer</td><td>Japan</td><td>3</td><td>26</td><td>13</td></tr>",
                            "<tr><td>1996 Summer</td><td>Kazakhstan</td><td>3</td><td>4</td><td>4</td></tr>",
                            "<tr><td>1996 Summer</td><td>Kenya</td><td>1</td><td>4</td><td>3</td></tr>",
                            "<tr><td>1996 Summer</td><td>Latvia</td><td>0</td><td>1</td><td>0</td></tr>",
                            "<tr><td>1996 Summer</td><td>Lithuania</td><td>0</td><td>0</td><td>11</td></tr>",
                            "<tr><td>1996 Summer</td><td>Malaysia</td><td>0</td><td>2</td><td>1</td></tr>",
                            "<tr><td>1996 Summer</td><td>Mexico</td><td>0</td><td>0</td><td>1</td></tr>",
                            "<tr><td>1996 Summer</td><td>Moldova</td><td>0</td><td>2</td><td>1</td></tr>",
                            "<tr><td>1996 Summer</td><td>Mongolia</td><td>0</td><td>0</td><td>1</td></tr>",
                            "<tr><td>1996 Summer</td><td>Morocco</td><td>0</td><td>0</td><td>2</td></tr>",
                            "<tr><td>1996 Summer</td><td>Mozambique</td><td>0</td><td>0</td><td>1</td></tr>",
                            "<tr><td>1996 Summer</td><td>Namibia</td><td>0</td><td>2</td><td>0</td></tr>",
                            "<tr><td>1996 Summer</td><td>Netherlands</td><td>38</td><td>9</td><td>26</td></tr>",
                            "<tr><td>1996 Summer</td><td>New Zealand</td><td>3</td><td>2</td><td>4</td></tr>",
                            "<tr><td>1996 Summer</td><td>Nigeria</td><td>17</td><td>4</td><td>3</td></tr>",
                            "<tr><td>1996 Summer</td><td>North Korea</td><td>2</td><td>1</td><td>2</td></tr>",
                            "<tr><td>1996 Summer</td><td>Norway</td><td>2</td><td>3</td><td>18</td></tr>",
                            "<tr><td>1996 Summer</td><td>Philippines</td><td>0</td><td>1</td><td>0</td></tr>",
                            "<tr><td>1996 Summer</td><td>Poland</td><td>7</td><td>8</td><td>7</td></tr>",
                            "<tr><td>1996 Summer</td><td>Portugal</td><td>1</td><td>0</td><td>2</td></tr>",
                            "<tr><td>1996 Summer</td><td>Puerto Rico</td><td>0</td><td>0</td><td>1</td></tr>",
                            "<tr><td>1996 Summer</td><td>Romania</td><td>13</td><td>10</td><td>15</td></tr>",
                            "<tr><td>1996 Summer</td><td>Russia</td><td>36</td><td>45</td><td>34</td></tr>",
                            "<tr><td>1996 Summer</td><td>Serbia</td><td>1</td><td>12</td><td>13</td></tr>",
                            "<tr><td>1996 Summer</td><td>Slovakia</td><td>1</td><td>1</td><td>1</td></tr>",
                            "<tr><td>1996 Summer</td><td>Slovenia</td><td>0</td><td>2</td><td>0</td></tr>",
                            "<tr><td>1996 Summer</td><td>South Africa</td><td>3</td><td>1</td><td>1</td></tr>",
                            "<tr><td>1996 Summer</td><td>South Korea</td><td>10</td><td>49</td><td>7</td></tr>",
                            "<tr><td>1996 Summer</td><td>Spain</td><td>23</td><td>21</td><td>22</td></tr>",
                            "<tr><td>1996 Summer</td><td>Sweden</td><td>3</td><td>23</td><td>5</td></tr>",
                            "<tr><td>1996 Summer</td><td>Switzerland</td><td>5</td><td>6</td><td>0</td></tr>",
                            "<tr><td>1996 Summer</td><td>Syria</td><td>1</td><td>0</td><td>0</td></tr>",
                            "<tr><td>1996 Summer</td><td>Taiwan</td><td>0</td><td>1</td><td>0</td></tr>",
                            "<tr><td>1996 Summer</td><td>Thailand</td><td>1</td><td>0</td><td>1</td></tr>",
                            "<tr><td>1996 Summer</td><td>Tonga</td><td>0</td><td>1</td><td>0</td></tr>",
                            "<tr><td>1996 Summer</td><td>Trinidad</td><td>0</td><td>0</td><td>2</td></tr>",
                            "<tr><td>1996 Summer</td><td>Tunisia</td><td>0</td><td>0</td><td>1</td></tr>",
                            "<tr><td>1996 Summer</td><td>Turkey</td><td>4</td><td>1</td><td>1</td></tr>",
                            "<tr><td>1996 Summer</td><td>Uganda</td><td>0</td><td>0</td><td>1</td></tr>",
                            "<tr><td>1996 Summer</td><td>UK</td><td>2</td><td>15</td><td>9</td></tr>",
                            "<tr><td>1996 Summer</td><td>Ukraine</td><td>10</td><td>5</td><td>19</td></tr>",
                            "<tr><td>1996 Summer</td><td>USA</td><td>159</td><td>48</td><td>52</td></tr>",
                            "<tr><td>1996 Summer</td><td>Uzbekistan</td><td>0</td><td>1</td><td>1</td></tr>",
                            "<tr><td>1996 Summer</td><td>Zambia</td><td>0</td><td>1</td><td>0</td></tr>",
                            "<tr><td>1998 Winter</td><td>Australia</td><td>0</td><td>0</td><td>1</td></tr>",
                            "<tr><td>1998 Winter</td><td>Austria</td><td>3</td><td>5</td><td>12</td></tr>",
                            "<tr><td>1998 Winter</td><td>Belarus</td><td>0</td><td>0</td><td>2</td></tr>",
                            "<tr><td>1998 Winter</td><td>Belgium</td><td>0</td><td>0</td><td>1</td></tr>",
                            "<tr><td>1998 Winter</td><td>Bulgaria</td><td>1</td><td>0</td><td>0</td></tr>",
                            "<tr><td>1998 Winter</td><td>Canada</td><td>14</td><td>28</td><td>7</td></tr>",
                            "<tr><td>1998 Winter</td><td>China</td><td>0</td><td>9</td><td>5</td></tr>",
                            "<tr><td>1998 Winter</td><td>Czech Republic</td><td>21</td><td>1</td><td>1</td></tr>",
                            "<tr><td>1998 Winter</td><td>Denmark</td><td>0</td><td>5</td><td>0</td></tr>",
                            "<tr><td>1998 Winter</td><td>Finland</td><td>2</td><td>7</td><td>49</td></tr>",
                            "<tr><td>1998 Winter</td><td>France</td><td>2</td><td>1</td><td>12</td></tr>",
                            "<tr><td>1998 Winter</td><td>Germany</td><td>22</td><td>12</td><td>10</td></tr>",
                            "<tr><td>1998 Winter</td><td>Italy</td><td>3</td><td>9</td><td>5</td></tr>",
                            "<tr><td>1998 Winter</td><td>Japan</td><td>8</td><td>1</td><td>4</td></tr>",
                            "<tr><td>1998 Winter</td><td>Kazakhstan</td><td>0</td><td>0</td><td>2</td></tr>",
                            "<tr><td>1998 Winter</td><td>Netherlands</td><td>5</td><td>4</td><td>2</td></tr>",
                            "<tr><td>1998 Winter</td><td>Norway</td><td>13</td><td>15</td><td>12</td></tr>",
                            "<tr><td>1998 Winter</td><td>Russia</td><td>14</td><td>32</td><td>6</td></tr>",
                            "<tr><td>1998 Winter</td><td>South Korea</td><td>6</td><td>4</td><td>2</td></tr>",
                            "<tr><td>1998 Winter</td><td>Sweden</td><td>0</td><td>2</td><td>5</td></tr>",
                            "<tr><td>1998 Winter</td><td>Switzerland</td><td>6</td><td>5</td><td>3</td></tr>",
                            "<tr><td>1998 Winter</td><td>UK</td><td>0</td><td>0</td><td>4</td></tr>",
                            "<tr><td>1998 Winter</td><td>Ukraine</td><td>0</td><td>1</td><td>0</td></tr>",
                            "<tr><td>1998 Winter</td><td>USA</td><td>25</td><td>4</td><td>5</td></tr>",
                            "<tr><td>2000 Summer</td><td>Algeria</td><td>1</td><td>1</td><td>3</td></tr>",
                            "<tr><td>2000 Summer</td><td>Argentina</td><td>0</td><td>17</td><td>3</td></tr>",
                            "<tr><td>2000 Summer</td><td>Armenia</td><td>0</td><td>0</td><td>1</td></tr>",
                            "<tr><td>2000 Summer</td><td>Australia</td><td>60</td><td>69</td><td>54</td></tr>",
                            "<tr><td>2000 Summer</td><td>Austria</td><td>3</td><td>1</td><td>0</td></tr>",
                            "<tr><td>2000 Summer</td><td>Azerbaijan</td><td>2</td><td>0</td><td>1</td></tr>",
                            "<tr><td>2000 Summer</td><td>Bahamas</td><td>6</td><td>0</td><td>5</td></tr>",
                            "<tr><td>2000 Summer</td><td>Barbados</td><td>0</td><td>0</td><td>1</td></tr>",
                            "<tr><td>2000 Summer</td><td>Belarus</td><td>3</td><td>8</td><td>11</td></tr>",
                            "<tr><td>2000 Summer</td><td>Belgium</td><td>0</td><td>3</td><td>4</td></tr>",
                            "<tr><td>2000 Summer</td><td>Brazil</td><td>0</td><td>12</td><td>36</td></tr>",
                            "<tr><td>2000 Summer</td><td>Bulgaria</td><td>5</td><td>6</td><td>2</td></tr>",
                            "<tr><td>2000 Summer</td><td>Cameroon</td><td>18</td><td>0</td><td>0</td></tr>",
                            "<tr><td>2000 Summer</td><td>Canada</td><td>4</td><td>4</td><td>23</td></tr>",
                            "<tr><td>2000 Summer</td><td>Chile</td><td>0</td><td>0</td><td>17</td></tr>",
                            "<tr><td>2000 Summer</td><td>China</td><td>39</td><td>23</td><td>17</td></tr>",
                            "<tr><td>2000 Summer</td><td>Colombia</td><td>1</td><td>0</td><td>0</td></tr>",
                            "<tr><td>2000 Summer</td><td>Costa Rica</td><td>0</td><td>0</td><td>2</td></tr>",
                            "<tr><td>2000 Summer</td><td>Croatia</td><td>1</td><td>0</td><td>9</td></tr>",
                            "<tr><td>2000 Summer</td><td>Cuba</td><td>18</td><td>35</td><td>12</td></tr>",
                            "<tr><td>2000 Summer</td><td>Czech Republic</td><td>2</td><td>3</td><td>4</td></tr>",
                            "<tr><td>2000 Summer</td><td>Denmark</td><td>18</td><td>3</td><td>4</td></tr>",
                            "<tr><td>2000 Summer</td><td>Estonia</td><td>1</td><td>0</td><td>2</td></tr>",
                            "<tr><td>2000 Summer</td><td>Ethiopia</td><td>4</td><td>1</td><td>3</td></tr>",
                            "<tr><td>2000 Summer</td><td>Finland</td><td>3</td><td>1</td><td>1</td></tr>",
                            "<tr><td>2000 Summer</td><td>France</td><td>22</td><td>30</td><td>14</td></tr>",
                            "<tr><td>2000 Summer</td><td>Georgia</td><td>0</td><td>0</td><td>6</td></tr>",
                            "<tr><td>2000 Summer</td><td>Germany</td><td>31</td><td>23</td><td>64</td></tr>",
                            "<tr><td>2000 Summer</td><td>Greece</td><td>4</td><td>6</td><td>8</td></tr>",
                            "<tr><td>2000 Summer</td><td>Hungary</td><td>25</td><td>24</td><td>4</td></tr>",
                            "<tr><td>2000 Summer</td><td>Iceland</td><td>0</td><td>0</td><td>1</td></tr>",
                            "<tr><td>2000 Summer</td><td>India</td><td>0</td><td>0</td><td>1</td></tr>",
                            "<tr><td>2000 Summer</td><td>Indonesia</td><td>2</td><td>4</td><td>2</td></tr>",
                            "<tr><td>2000 Summer</td><td>Iran</td><td>3</td><td>0</td><td>1</td></tr>",
                            "<tr><td>2000 Summer</td><td>Ireland</td><td>0</td><td>1</td><td>0</td></tr>",
                            "<tr><td>2000 Summer</td><td>Israel</td><td>0</td><td>0</td><td>1</td></tr>",
                            "<tr><td>2000 Summer</td><td>Italy</td><td>22</td><td>14</td><td>29</td></tr>",
                            "<tr><td>2000 Summer</td><td>Jamaica</td><td>0</td><td>20</td><td>3</td></tr>",
                            "<tr><td>2000 Summer</td><td>Japan</td><td>5</td><td>31</td><td>8</td></tr>",
                            "<tr><td>2000 Summer</td><td>Kazakhstan</td><td>3</td><td>4</td><td>0</td></tr>",
                            "<tr><td>2000 Summer</td><td>Kenya</td><td>2</td><td>3</td><td>2</td></tr>",
                            "<tr><td>2000 Summer</td><td>Kuwait</td><td>0</td><td>0</td><td>1</td></tr>",
                            "<tr><td>2000 Summer</td><td>Kyrgyzstan</td><td>0</td><td>0</td><td>1</td></tr>",
                            "<tr><td>2000 Summer</td><td>Latvia</td><td>1</td><td>1</td><td>1</td></tr>",
                            "<tr><td>2000 Summer</td><td>Lithuania</td><td>2</td><td>0</td><td>15</td></tr>",
                            "<tr><td>2000 Summer</td><td>Macedonia</td><td>0</td><td>0</td><td>1</td></tr>",
                            "<tr><td>2000 Summer</td><td>Mexico</td><td>1</td><td>2</td><td>3</td></tr>",
                            "<tr><td>2000 Summer</td><td>Moldova</td><td>0</td><td>1</td><td>1</td></tr>",
                            "<tr><td>2000 Summer</td><td>Morocco</td><td>0</td><td>1</td><td>4</td></tr>",
                            "<tr><td>2000 Summer</td><td>Mozambique</td><td>1</td><td>0</td><td>0</td></tr>",
                            "<tr><td>2000 Summer</td><td>Netherlands</td><td>27</td><td>29</td><td>23</td></tr>",
                            "<tr><td>2000 Summer</td><td>New Zealand</td><td>1</td><td>0</td><td>3</td></tr>",
                            "<tr><td>2000 Summer</td><td>Nigeria</td><td>6</td><td>2</td><td>0</td></tr>",
                            "<tr><td>2000 Summer</td><td>North Korea</td><td>0</td><td>1</td><td>3</td></tr>",
                            "<tr><td>2000 Summer</td><td>Norway</td><td>20</td><td>4</td><td>19</td></tr>",
                            "<tr><td>2000 Summer</td><td>Poland</td><td>7</td><td>10</td><td>7</td></tr>",
                            "<tr><td>2000 Summer</td><td>Portugal</td><td>0</td><td>0</td><td>2</td></tr>",
                            "<tr><td>2000 Summer</td><td>Qatar</td><td>0</td><td>0</td><td>1</td></tr>",
                            "<tr><td>2000 Summer</td><td>Romania</td><td>27</td><td>6</td><td>13</td></tr>",
                            "<tr><td>2000 Summer</td><td>Russia</td><td>66</td><td>67</td><td>54</td></tr>",
                            "<tr><td>2000 Summer</td><td>Saudi Arabia</td><td>0</td><td>1</td><td>1</td></tr>",
                            "<tr><td>2000 Summer</td><td>Serbia</td><td>11</td><td>1</td><td>13</td></tr>",
                            "<tr><td>2000 Summer</td><td>Slovakia</td><td>2</td><td>3</td><td>1</td></tr>",
                            "<tr><td>2000 Summer</td><td>Slovenia</td><td>3</td><td>0</td><td>0</td></tr>",
                            "<tr><td>2000 Summer</td><td>South Africa</td><td>0</td><td>2</td><td>3</td></tr>",
                            "<tr><td>2000 Summer</td><td>South Korea</td><td>12</td><td>26</td><td>35</td></tr>",
                            "<tr><td>2000 Summer</td><td>Spain</td><td>3</td><td>19</td><td>20</td></tr>",
                            "<tr><td>2000 Summer</td><td>Sri Lanka</td><td>0</td><td>1</td><td>0</td></tr>",
                            "<tr><td>2000 Summer</td><td>Sweden</td><td>4</td><td>20</td><td>8</td></tr>",
                            "<tr><td>2000 Summer</td><td>Switzerland</td><td>1</td><td>11</td><td>2</td></tr>",
                            "<tr><td>2000 Summer</td><td>Taiwan</td><td>0</td><td>1</td><td>4</td></tr>",
                            "<tr><td>2000 Summer</td><td>Thailand</td><td>1</td><td>0</td><td>2</td></tr>",
                            "<tr><td>2000 Summer</td><td>Trinidad</td><td>0</td><td>1</td><td>1</td></tr>",
                            "<tr><td>2000 Summer</td><td>Turkey</td><td>3</td><td>0</td><td>2</td></tr>",
                            "<tr><td>2000 Summer</td><td>UK</td><td>22</td><td>20</td><td>12</td></tr>",
                            "<tr><td>2000 Summer</td><td>Ukraine</td><td>3</td><td>20</td><td>12</td></tr>",
                            "<tr><td>2000 Summer</td><td>Uruguay</td><td>0</td><td>1</td><td>0</td></tr>",
                            "<tr><td>2000 Summer</td><td>USA</td><td>130</td><td>61</td><td>51</td></tr>",
                            "<tr><td>2000 Summer</td><td>Uzbekistan</td><td>1</td><td>1</td><td>2</td></tr>",
                            "<tr><td>2000 Summer</td><td>Vietnam</td><td>0</td><td>1</td><td>0</td></tr>",
                            "<tr><td>2002 Winter</td><td>Australia</td><td>2</td><td>0</td><td>0</td></tr>",
                            "<tr><td>2002 Winter</td><td>Austria</td><td>3</td><td>4</td><td>13</td></tr>",
                            "<tr><td>2002 Winter</td><td>Belarus</td><td>0</td><td>0</td><td>1</td></tr>",
                            "<tr><td>2002 Winter</td><td>Bulgaria</td><td>0</td><td>1</td><td>2</td></tr>",
                            "<tr><td>2002 Winter</td><td>Canada</td><td>52</td><td>7</td><td>15</td></tr>",
                            "<tr><td>2002 Winter</td><td>China</td><td>2</td><td>5</td><td>9</td></tr>",
                            "<tr><td>2002 Winter</td><td>Croatia</td><td>3</td><td>1</td><td>0</td></tr>",
                            "<tr><td>2002 Winter</td><td>Czech Republic</td><td>1</td><td>2</td><td>0</td></tr>",
                            "<tr><td>2002 Winter</td><td>Estonia</td><td>1</td><td>1</td><td>1</td></tr>",
                            "<tr><td>2002 Winter</td><td>Finland</td><td>7</td><td>5</td><td>1</td></tr>",
                            "<tr><td>2002 Winter</td><td>France</td><td>5</td><td>5</td><td>5</td></tr>",
                            "<tr><td>2002 Winter</td><td>Germany</td><td>26</td><td>23</td><td>12</td></tr>",
                            "<tr><td>2002 Winter</td><td>Italy</td><td>4</td><td>11</td><td>6</td></tr>",
                            "<tr><td>2002 Winter</td><td>Japan</td><td>0</td><td>1</td><td>1</td></tr>",
                            "<tr><td>2002 Winter</td><td>Netherlands</td><td>3</td><td>5</td><td>0</td></tr>",
                            "<tr><td>2002 Winter</td><td>Norway</td><td>23</td><td>11</td><td>7</td></tr>",
                            "<tr><td>2002 Winter</td><td>Poland</td><td>0</td><td>1</td><td>1</td></tr>",
                            "<tr><td>2002 Winter</td><td>Russia</td><td>6</td><td>5</td><td>27</td></tr>",
                            "<tr><td>2002 Winter</td><td>Slovenia</td><td>0</td><td>0</td><td>4</td></tr>",
                            "<tr><td>2002 Winter</td><td>South Korea</td><td>5</td><td>2</td><td>0</td></tr>",
                            "<tr><td>2002 Winter</td><td>Sweden</td><td>0</td><td>2</td><td>24</td></tr>",
                            "<tr><td>2002 Winter</td><td>Switzerland</td><td>3</td><td>7</td><td>14</td></tr>",
                            "<tr><td>2002 Winter</td><td>UK</td><td>5</td><td>0</td><td>1</td></tr>",
                            "<tr><td>2002 Winter</td><td>USA</td><td>11</td><td>58</td><td>15</td></tr>",
                            "<tr><td>2004 Summer</td><td>Argentina</td><td>28</td><td>0</td><td>21</td></tr>",
                            "<tr><td>2004 Summer</td><td>Australia</td><td>49</td><td>77</td><td>31</td></tr>",
                            "<tr><td>2004 Summer</td><td>Austria</td><td>3</td><td>4</td><td>1</td></tr>",
                            "<tr><td>2004 Summer</td><td>Azerbaijan</td><td>1</td><td>0</td><td>4</td></tr>",
                            "<tr><td>2004 Summer</td><td>Bahamas</td><td>1</td><td>0</td><td>1</td></tr>",
                            "<tr><td>2004 Summer</td><td>Belarus</td><td>2</td><td>5</td><td>8</td></tr>",
                            "<tr><td>2004 Summer</td><td>Belgium</td><td>1</td><td>0</td><td>2</td></tr>",
                            "<tr><td>2004 Summer</td><td>Brazil</td><td>18</td><td>19</td><td>3</td></tr>",
                            "<tr><td>2004 Summer</td><td>Bulgaria</td><td>2</td><td>1</td><td>14</td></tr>",
                            "<tr><td>2004 Summer</td><td>Cameroon</td><td>1</td><td>0</td><td>0</td></tr>",
                            "<tr><td>2004 Summer</td><td>Canada</td><td>3</td><td>10</td><td>4</td></tr>",
                            "<tr><td>2004 Summer</td><td>Chile</td><td>3</td><td>0</td><td>1</td></tr>",
                            "<tr><td>2004 Summer</td><td>China</td><td>52</td><td>29</td><td>15</td></tr>",
                            "<tr><td>2004 Summer</td><td>Colombia</td><td>0</td><td>0</td><td>2</td></tr>",
                            "<tr><td>2004 Summer</td><td>Croatia</td><td>15</td><td>3</td><td>3</td></tr>",
                            "<tr><td>2004 Summer</td><td>Cuba</td><td>32</td><td>8</td><td>22</td></tr>",
                            "<tr><td>2004 Summer</td><td>Czech Republic</td><td>1</td><td>6</td><td>6</td></tr>",
                            "<tr><td>2004 Summer</td><td>Denmark</td><td>19</td><td>1</td><td>9</td></tr>",
                            "<tr><td>2004 Summer</td><td>Dominican Republic</td><td>1</td><td>0</td><td>0</td></tr>",
                            "<tr><td>2004 Summer</td><td>Egypt</td><td>1</td><td>1</td><td>3</td></tr>",
                            "<tr><td>2004 Summer</td><td>Eritrea</td><td>0</td><td>0</td><td>1</td></tr>",
                            "<tr><td>2004 Summer</td><td>Estonia</td><td>0</td><td>1</td><td>2</td></tr>",
                            "<tr><td>2004 Summer</td><td>Ethiopia</td><td>2</td><td>3</td><td>2</td></tr>",
                            "<tr><td>2004 Summer</td><td>Finland</td><td>0</td><td>2</td><td>0</td></tr>",
                            "<tr><td>2004 Summer</td><td>France</td><td>21</td><td>10</td><td>22</td></tr>",
                            "<tr><td>2004 Summer</td><td>Georgia</td><td>2</td><td>2</td><td>0</td></tr>",
                            "<tr><td>2004 Summer</td><td>Germany</td><td>41</td><td>45</td><td>63</td></tr>",
                            "<tr><td>2004 Summer</td><td>Greece</td><td>8</td><td>18</td><td>5</td></tr>",
                            "<tr><td>2004 Summer</td><td>Hungary</td><td>24</td><td>12</td><td>4</td></tr>",
                            "<tr><td>2004 Summer</td><td>India</td><td>0</td><td>1</td><td>0</td></tr>",
                            "<tr><td>2004 Summer</td><td>Indonesia</td><td>1</td><td>1</td><td>3</td></tr>",
                            "<tr><td>2004 Summer</td><td>Iran</td><td>2</td><td>2</td><td>2</td></tr>",
                            "<tr><td>2004 Summer</td><td>Israel</td><td>1</td><td>0</td><td>1</td></tr>",
                            "<tr><td>2004 Summer</td><td>Italy</td><td>24</td><td>41</td><td>39</td></tr>",
                            "<tr><td>2004 Summer</td><td>Jamaica</td><td>6</td><td>1</td><td>6</td></tr>",
                            "<tr><td>2004 Summer</td><td>Japan</td><td>21</td><td>20</td><td>52</td></tr>",
                            "<tr><td>2004 Summer</td><td>Kazakhstan</td><td>1</td><td>4</td><td>3</td></tr>",
                            "<tr><td>2004 Summer</td><td>Kenya</td><td>1</td><td>4</td><td>2</td></tr>",
                            "<tr><td>2004 Summer</td><td>Latvia</td><td>0</td><td>4</td><td>0</td></tr>",
                            "<tr><td>2004 Summer</td><td>Lithuania</td><td>1</td><td>2</td><td>0</td></tr>",
                            "<tr><td>2004 Summer</td><td>Mexico</td><td>0</td><td>3</td><td>1</td></tr>",
                            "<tr><td>2004 Summer</td><td>Mongolia</td><td>0</td><td>0</td><td>1</td></tr>",
                            "<tr><td>2004 Summer</td><td>Morocco</td><td>2</td><td>1</td><td>0</td></tr>",
                            "<tr><td>2004 Summer</td><td>Netherlands</td><td>4</td><td>51</td><td>22</td></tr>",
                            "<tr><td>2004 Summer</td><td>New Zealand</td><td>4</td><td>2</td><td>0</td></tr>",
                            "<tr><td>2004 Summer</td><td>Nigeria</td><td>0</td><td>0</td><td>8</td></tr>",
                            "<tr><td>2004 Summer</td><td>North Korea</td><td>0</td><td>4</td><td>1</td></tr>",
                            "<tr><td>2004 Summer</td><td>Norway</td><td>5</td><td>0</td><td>2</td></tr>",
                            "<tr><td>2004 Summer</td><td>Paraguay</td><td>0</td><td>17</td><td>0</td></tr>",
                            "<tr><td>2004 Summer</td><td>Poland</td><td>4</td><td>2</td><td>6</td></tr>",
                            "<tr><td>2004 Summer</td><td>Portugal</td><td>0</td><td>2</td><td>1</td></tr>",
                            "<tr><td>2004 Summer</td><td>Romania</td><td>23</td><td>5</td><td>11</td></tr>",
                            "<tr><td>2004 Summer</td><td>Russia</td><td>48</td><td>46</td><td>95</td></tr>",
                            "<tr><td>2004 Summer</td><td>Serbia</td><td>0</td><td>13</td><td>0</td></tr>",
                            "<tr><td>2004 Summer</td><td>Slovakia</td><td>3</td><td>2</td><td>5</td></tr>",
                            "<tr><td>2004 Summer</td><td>Slovenia</td><td>0</td><td>2</td><td>3</td></tr>",
                            "<tr><td>2004 Summer</td><td>South Africa</td><td>4</td><td>3</td><td>3</td></tr>",
                            "<tr><td>2004 Summer</td><td>South Korea</td><td>14</td><td>28</td><td>10</td></tr>",
                            "<tr><td>2004 Summer</td><td>Spain</td><td>4</td><td>17</td><td>9</td></tr>",
                            "<tr><td>2004 Summer</td><td>Sweden</td><td>5</td><td>5</td><td>2</td></tr>",
                            "<tr><td>2004 Summer</td><td>Switzerland</td><td>1</td><td>2</td><td>4</td></tr>",
                            "<tr><td>2004 Summer</td><td>Syria</td><td>0</td><td>0</td><td>1</td></tr>",
                            "<tr><td>2004 Summer</td><td>Taiwan</td><td>2</td><td>4</td><td>3</td></tr>",
                            "<tr><td>2004 Summer</td><td>Thailand</td><td>3</td><td>1</td><td>4</td></tr>",
                            "<tr><td>2004 Summer</td><td>Trinidad</td><td>0</td><td>0</td><td>1</td></tr>",
                            "<tr><td>2004 Summer</td><td>Turkey</td><td>3</td><td>3</td><td>5</td></tr>",
                            "<tr><td>2004 Summer</td><td>UK</td><td>17</td><td>25</td><td>15</td></tr>",
                            "<tr><td>2004 Summer</td><td>Ukraine</td><td>8</td><td>8</td><td>31</td></tr>",
                            "<tr><td>2004 Summer</td><td>United Arab Emirates</td><td>1</td><td>0</td><td>0</td></tr>",
                            "<tr><td>2004 Summer</td><td>USA</td><td>117</td><td>75</td><td>71</td></tr>",
                            "<tr><td>2004 Summer</td><td>Uzbekistan</td><td>2</td><td>1</td><td>2</td></tr>",
                            "<tr><td>2004 Summer</td><td>Venezuela</td><td>0</td><td>0</td><td>2</td></tr>",
                            "<tr><td>2004 Summer</td><td>Zimbabwe</td><td>1</td><td>1</td><td>1</td></tr>",
                            "<tr><td>2006 Winter</td><td>Australia</td><td>1</td><td>0</td><td>1</td></tr>",
                            "<tr><td>2006 Winter</td><td>Austria</td><td>16</td><td>7</td><td>7</td></tr>",
                            "<tr><td>2006 Winter</td><td>Belarus</td><td>0</td><td>1</td><td>0</td></tr>",
                            "<tr><td>2006 Winter</td><td>Bulgaria</td><td>0</td><td>1</td><td>0</td></tr>",
                            "<tr><td>2006 Winter</td><td>Canada</td><td>30</td><td>28</td><td>11</td></tr>",
                            "<tr><td>2006 Winter</td><td>China</td><td>2</td><td>5</td><td>6</td></tr>",
                            "<tr><td>2006 Winter</td><td>Croatia</td><td>1</td><td>2</td><td>0</td></tr>",
                            "<tr><td>2006 Winter</td><td>Czech Republic</td><td>1</td><td>2</td><td>24</td></tr>",
                            "<tr><td>2006 Winter</td><td>Estonia</td><td>3</td><td>0</td><td>0</td></tr>",
                            "<tr><td>2006 Winter</td><td>Finland</td><td>0</td><td>34</td><td>7</td></tr>",
                            "<tr><td>2006 Winter</td><td>France</td><td>3</td><td>2</td><td>10</td></tr>",
                            "<tr><td>2006 Winter</td><td>Germany</td><td>23</td><td>25</td><td>6</td></tr>",
                            "<tr><td>2006 Winter</td><td>Italy</td><td>11</td><td>0</td><td>14</td></tr>",
                            "<tr><td>2006 Winter</td><td>Japan</td><td>1</td><td>0</td><td>0</td></tr>",
                            "<tr><td>2006 Winter</td><td>Latvia</td><td>0</td><td>0</td><td>1</td></tr>",
                            "<tr><td>2006 Winter</td><td>Netherlands</td><td>3</td><td>2</td><td>8</td></tr>",
                            "<tr><td>2006 Winter</td><td>Norway</td><td>2</td><td>9</td><td>12</td></tr>",
                            "<tr><td>2006 Winter</td><td>Poland</td><td>0</td><td>1</td><td>1</td></tr>",
                            "<tr><td>2006 Winter</td><td>Russia</td><td>16</td><td>12</td><td>13</td></tr>",
                            "<tr><td>2006 Winter</td><td>Slovakia</td><td>0</td><td>1</td><td>0</td></tr>",
                            "<tr><td>2006 Winter</td><td>South Korea</td><td>14</td><td>3</td><td>2</td></tr>",
                            "<tr><td>2006 Winter</td><td>Sweden</td><td>35</td><td>21</td><td>8</td></tr>",
                            "<tr><td>2006 Winter</td><td>Switzerland</td><td>5</td><td>7</td><td>9</td></tr>",
                            "<tr><td>2006 Winter</td><td>UK</td><td>0</td><td>1</td><td>0</td></tr>",
                            "<tr><td>2006 Winter</td><td>Ukraine</td><td>0</td><td>0</td><td>3</td></tr>",
                            "<tr><td>2006 Winter</td><td>USA</td><td>9</td><td>11</td><td>32</td></tr>",
                            "<tr><td>2008 Summer</td><td>Afghanistan</td><td>0</td><td>0</td><td>1</td></tr>",
                            "<tr><td>2008 Summer</td><td>Algeria</td><td>0</td><td>1</td><td>1</td></tr>",
                            "<tr><td>2008 Summer</td><td>Argentina</td><td>20</td><td>0</td><td>31</td></tr>",
                            "<tr><td>2008 Summer</td><td>Armenia</td><td>0</td><td>0</td><td>6</td></tr>",
                            "<tr><td>2008 Summer</td><td>Australia</td><td>31</td><td>42</td><td>76</td></tr>",
                            "<tr><td>2008 Summer</td><td>Austria</td><td>0</td><td>1</td><td>2</td></tr>",
                            "<tr><td>2008 Summer</td><td>Azerbaijan</td><td>1</td><td>2</td><td>4</td></tr>",
                            "<tr><td>2008 Summer</td><td>Bahamas</td><td>0</td><td>6</td><td>1</td></tr>",
                            "<tr><td>2008 Summer</td><td>Belarus</td><td>8</td><td>5</td><td>16</td></tr>",
                            "<tr><td>2008 Summer</td><td>Belgium</td><td>1</td><td>4</td><td>0</td></tr>",
                            "<tr><td>2008 Summer</td><td>Brazil</td><td>14</td><td>34</td><td>30</td></tr>",
                            "<tr><td>2008 Summer</td><td>Bulgaria</td><td>1</td><td>1</td><td>3</td></tr>",
                            "<tr><td>2008 Summer</td><td>Cameroon</td><td>1</td><td>0</td><td>0</td></tr>",
                            "<tr><td>2008 Summer</td><td>Canada</td><td>11</td><td>13</td><td>11</td></tr>",
                            "<tr><td>2008 Summer</td><td>Chile</td><td>0</td><td>1</td><td>0</td></tr>",
                            "<tr><td>2008 Summer</td><td>China</td><td>74</td><td>53</td><td>57</td></tr>",
                            "<tr><td>2008 Summer</td><td>Colombia</td><td>0</td><td>1</td><td>1</td></tr>",
                            "<tr><td>2008 Summer</td><td>Croatia</td><td>0</td><td>2</td><td>3</td></tr>",
                            "<tr><td>2008 Summer</td><td>Cuba</td><td>2</td><td>34</td><td>11</td></tr>",
                            "<tr><td>2008 Summer</td><td>Czech Republic</td><td>3</td><td>4</td><td>0</td></tr>",
                            "<tr><td>2008 Summer</td><td>Denmark</td><td>6</td><td>7</td><td>6</td></tr>",
                            "<tr><td>2008 Summer</td><td>Dominican Republic</td><td>1</td><td>1</td><td>0</td></tr>",
                            "<tr><td>2008 Summer</td><td>Ecuador</td><td>0</td><td>1</td><td>0</td></tr>",
                            "<tr><td>2008 Summer</td><td>Egypt</td><td>0</td><td>0</td><td>1</td></tr>",
                            "<tr><td>2008 Summer</td><td>Estonia</td><td>1</td><td>2</td><td>0</td></tr>",
                            "<tr><td>2008 Summer</td><td>Ethiopia</td><td>4</td><td>1</td><td>2</td></tr>",
                            "<tr><td>2008 Summer</td><td>Finland</td><td>1</td><td>2</td><td>2</td></tr>",
                            "<tr><td>2008 Summer</td><td>France</td><td>25</td><td>24</td><td>28</td></tr>",
                            "<tr><td>2008 Summer</td><td>Georgia</td><td>3</td><td>0</td><td>3</td></tr>",
                            "<tr><td>2008 Summer</td><td>Germany</td><td>42</td><td>16</td><td>41</td></tr>",
                            "<tr><td>2008 Summer</td><td>Greece</td><td>0</td><td>3</td><td>4</td></tr>",
                            "<tr><td>2008 Summer</td><td>Hungary</td><td>16</td><td>8</td><td>3</td></tr>",
                            "<tr><td>2008 Summer</td><td>Iceland</td><td>0</td><td>14</td><td>0</td></tr>",
                            "<tr><td>2008 Summer</td><td>India</td><td>1</td><td>0</td><td>2</td></tr>",
                            "<tr><td>2008 Summer</td><td>Indonesia</td><td>2</td><td>2</td><td>3</td></tr>",
                            "<tr><td>2008 Summer</td><td>Iran</td><td>1</td><td>0</td><td>1</td></tr>",
                            "<tr><td>2008 Summer</td><td>Ireland</td><td>0</td><td>1</td><td>2</td></tr>",
                            "<tr><td>2008 Summer</td><td>Israel</td><td>0</td><td>0</td><td>1</td></tr>",
                            "<tr><td>2008 Summer</td><td>Italy</td><td>8</td><td>14</td><td>20</td></tr>",
                            "<tr><td>2008 Summer</td><td>Jamaica</td><td>5</td><td>3</td><td>6</td></tr>",
                            "<tr><td>2008 Summer</td><td>Japan</td><td>23</td><td>15</td><td>13</td></tr>",
                            "<tr><td>2008 Summer</td><td>Kazakhstan</td><td>2</td><td>4</td><td>7</td></tr>",
                            "<tr><td>2008 Summer</td><td>Kenya</td><td>6</td><td>4</td><td>5</td></tr>",
                            "<tr><td>2008 Summer</td><td>Kyrgyzstan</td><td>0</td><td>1</td><td>1</td></tr>",
                            "<tr><td>2008 Summer</td><td>Latvia</td><td>1</td><td>1</td><td>1</td></tr>",
                            "<tr><td>2008 Summer</td><td>Lithuania</td><td>0</td><td>2</td><td>3</td></tr>",
                            "<tr><td>2008 Summer</td><td>Malaysia</td><td>0</td><td>1</td><td>0</td></tr>",
                            "<tr><td>2008 Summer</td><td>Mauritius</td><td>0</td><td>0</td><td>1</td></tr>",
                            "<tr><td>2008 Summer</td><td>Mexico</td><td>2</td><td>0</td><td>2</td></tr>",
                            "<tr><td>2008 Summer</td><td>Moldova</td><td>0</td><td>0</td><td>1</td></tr>",
                            "<tr><td>2008 Summer</td><td>Mongolia</td><td>2</td><td>2</td><td>0</td></tr>",
                            "<tr><td>2008 Summer</td><td>Morocco</td><td>0</td><td>1</td><td>1</td></tr>",
                            "<tr><td>2008 Summer</td><td>Netherlands</td><td>39</td><td>18</td><td>4</td></tr>",
                            "<tr><td>2008 Summer</td><td>New Zealand</td><td>4</td><td>2</td><td>9</td></tr>",
                            "<tr><td>2008 Summer</td><td>Nigeria</td><td>0</td><td>16</td><td>7</td></tr>",
                            "<tr><td>2008 Summer</td><td>North Korea</td><td>2</td><td>1</td><td>3</td></tr>",
                            "<tr><td>2008 Summer</td><td>Norway</td><td>16</td><td>5</td><td>1</td></tr>",
                            "<tr><td>2008 Summer</td><td>Panama</td><td>1</td><td>0</td><td>0</td></tr>",
                            "<tr><td>2008 Summer</td><td>Poland</td><td>6</td><td>13</td><td>1</td></tr>",
                            "<tr><td>2008 Summer</td><td>Portugal</td><td>1</td><td>1</td><td>0</td></tr>",
                            "<tr><td>2008 Summer</td><td>Romania</td><td>5</td><td>1</td><td>16</td></tr>",
                            "<tr><td>2008 Summer</td><td>Russia</td><td>43</td><td>46</td><td>53</td></tr>",
                            "<tr><td>2008 Summer</td><td>Serbia</td><td>0</td><td>1</td><td>14</td></tr>",
                            "<tr><td>2008 Summer</td><td>Slovakia</td><td>4</td><td>5</td><td>1</td></tr>",
                            "<tr><td>2008 Summer</td><td>Slovenia</td><td>1</td><td>2</td><td>2</td></tr>",
                            "<tr><td>2008 Summer</td><td>South Africa</td><td>0</td><td>1</td><td>0</td></tr>",
                            "<tr><td>2008 Summer</td><td>South Korea</td><td>41</td><td>11</td><td>26</td></tr>",
                            "<tr><td>2008 Summer</td><td>Spain</td><td>7</td><td>47</td><td>16</td></tr>",
                            "<tr><td>2008 Summer</td><td>Sudan</td><td>0</td><td>1</td><td>0</td></tr>",
                            "<tr><td>2008 Summer</td><td>Sweden</td><td>0</td><td>5</td><td>2</td></tr>",
                            "<tr><td>2008 Summer</td><td>Switzerland</td><td>3</td><td>1</td><td>7</td></tr>",
                            "<tr><td>2008 Summer</td><td>Taiwan</td><td>0</td><td>0</td><td>4</td></tr>",
                            "<tr><td>2008 Summer</td><td>Tajikistan</td><td>0</td><td>1</td><td>1</td></tr>",
                            "<tr><td>2008 Summer</td><td>Thailand</td><td>2</td><td>2</td><td>0</td></tr>",
                            "<tr><td>2008 Summer</td><td>Togo</td><td>0</td><td>0</td><td>1</td></tr>",
                            "<tr><td>2008 Summer</td><td>Trinidad</td><td>5</td><td>1</td><td>0</td></tr>",
                            "<tr><td>2008 Summer</td><td>Tunisia</td><td>1</td><td>0</td><td>0</td></tr>",
                            "<tr><td>2008 Summer</td><td>Turkey</td><td>1</td><td>3</td><td>3</td></tr>",
                            "<tr><td>2008 Summer</td><td>UK</td><td>31</td><td>25</td><td>25</td></tr>",
                            "<tr><td>2008 Summer</td><td>Ukraine</td><td>10</td><td>5</td><td>16</td></tr>",
                            "<tr><td>2008 Summer</td><td>USA</td><td>127</td><td>110</td><td>80</td></tr>",
                            "<tr><td>2008 Summer</td><td>Uzbekistan</td><td>1</td><td>2</td><td>3</td></tr>",
                            "<tr><td>2008 Summer</td><td>Venezuela</td><td>0</td><td>0</td><td>1</td></tr>",
                            "<tr><td>2008 Summer</td><td>Vietnam</td><td>0</td><td>1</td><td>0</td></tr>",
                            "<tr><td>2008 Summer</td><td>Zimbabwe</td><td>1</td><td>3</td><td>0</td></tr>",
                            "<tr><td>2010 Winter</td><td>Australia</td><td>2</td><td>1</td><td>0</td></tr>",
                            "<tr><td>2010 Winter</td><td>Austria</td><td>11</td><td>9</td><td>6</td></tr>",
                            "<tr><td>2010 Winter</td><td>Belarus</td><td>1</td><td>1</td><td>1</td></tr>",
                            "<tr><td>2010 Winter</td><td>Canada</td><td>67</td><td>15</td><td>8</td></tr>",
                            "<tr><td>2010 Winter</td><td>China</td><td>9</td><td>3</td><td>7</td></tr>",
                            "<tr><td>2010 Winter</td><td>Croatia</td><td>0</td><td>2</td><td>1</td></tr>",
                            "<tr><td>2010 Winter</td><td>Czech Republic</td><td>2</td><td>0</td><td>7</td></tr>",
                            "<tr><td>2010 Winter</td><td>Estonia</td><td>0</td><td>1</td><td>0</td></tr>",
                            "<tr><td>2010 Winter</td><td>Finland</td><td>0</td><td>1</td><td>46</td></tr>",
                            "<tr><td>2010 Winter</td><td>France</td><td>2</td><td>6</td><td>6</td></tr>",
                            "<tr><td>2010 Winter</td><td>Germany</td><td>15</td><td>24</td><td>15</td></tr>",
                            "<tr><td>2010 Winter</td><td>Italy</td><td>1</td><td>1</td><td>3</td></tr>",
                            "<tr><td>2010 Winter</td><td>Japan</td><td>0</td><td>5</td><td>2</td></tr>",
                            "<tr><td>2010 Winter</td><td>Kazakhstan</td><td>0</td><td>1</td><td>0</td></tr>",
                            "<tr><td>2010 Winter</td><td>Latvia</td><td>0</td><td>3</td><td>0</td></tr>",
                            "<tr><td>2010 Winter</td><td>Netherlands</td><td>4</td><td>1</td><td>6</td></tr>",
                            "<tr><td>2010 Winter</td><td>Norway</td><td>16</td><td>14</td><td>9</td></tr>",
                            "<tr><td>2010 Winter</td><td>Poland</td><td>1</td><td>3</td><td>4</td></tr>",
                            "<tr><td>2010 Winter</td><td>Russia</td><td>6</td><td>5</td><td>14</td></tr>",
                            "<tr><td>2010 Winter</td><td>Slovakia</td><td>1</td><td>1</td><td>1</td></tr>",
                            "<tr><td>2010 Winter</td><td>Slovenia</td><td>0</td><td>2</td><td>1</td></tr>",
                            "<tr><td>2010 Winter</td><td>South Korea</td><td>6</td><td>10</td><td>2</td></tr>",
                            "<tr><td>2010 Winter</td><td>Sweden</td><td>11</td><td>3</td><td>4</td></tr>",
                            "<tr><td>2010 Winter</td><td>Switzerland</td><td>6</td><td>0</td><td>6</td></tr>",
                            "<tr><td>2010 Winter</td><td>UK</td><td>1</td><td>0</td><td>0</td></tr>",
                            "<tr><td>2010 Winter</td><td>USA</td><td>12</td><td>63</td><td>22</td></tr>",
                            "<tr><td>2012 Summer</td><td>Afghanistan</td><td>0</td><td>0</td><td>1</td></tr>",
                            "<tr><td>2012 Summer</td><td>Algeria</td><td>1</td><td>0</td><td>0</td></tr>",
                            "<tr><td>2012 Summer</td><td>Argentina</td><td>1</td><td>15</td><td>3</td></tr>",
                            "<tr><td>2012 Summer</td><td>Armenia</td><td>0</td><td>1</td><td>2</td></tr>",
                            "<tr><td>2012 Summer</td><td>Australia</td><td>18</td><td>37</td><td>59</td></tr>",
                            "<tr><td>2012 Summer</td><td>Azerbaijan</td><td>2</td><td>2</td><td>6</td></tr>",
                            "<tr><td>2012 Summer</td><td>Bahamas</td><td>4</td><td>0</td><td>0</td></tr>",
                            "<tr><td>2012 Summer</td><td>Bahrain</td><td>0</td><td>0</td><td>1</td></tr>",
                            "<tr><td>2012 Summer</td><td>Belarus</td><td>3</td><td>12</td><td>8</td></tr>",
                            "<tr><td>2012 Summer</td><td>Belgium</td><td>0</td><td>1</td><td>2</td></tr>",
                            "<tr><td>2012 Summer</td><td>Botswana</td><td>0</td><td>1</td><td>0</td></tr>",
                            "<tr><td>2012 Summer</td><td>Brazil</td><td>14</td><td>34</td><td>11</td></tr>",
                            "<tr><td>2012 Summer</td><td>Bulgaria</td><td>0</td><td>1</td><td>1</td></tr>",
                            "<tr><td>2012 Summer</td><td>Canada</td><td>1</td><td>21</td><td>33</td></tr>",
                            "<tr><td>2012 Summer</td><td>China</td><td>56</td><td>40</td><td>30</td></tr>",
                            "<tr><td>2012 Summer</td><td>Colombia</td><td>1</td><td>3</td><td>4</td></tr>",
                            "<tr><td>2012 Summer</td><td>Croatia</td><td>15</td><td>4</td><td>16</td></tr>",
                            "<tr><td>2012 Summer</td><td>Cuba</td><td>5</td><td>3</td><td>6</td></tr>",
                            "<tr><td>2012 Summer</td><td>Cyprus</td><td>0</td><td>1</td><td>0</td></tr>",
                            "<tr><td>2012 Summer</td><td>Czech Republic</td><td>4</td><td>4</td><td>6</td></tr>",
                            "<tr><td>2012 Summer</td><td>Denmark</td><td>3</td><td>5</td><td>8</td></tr>",
                            "<tr><td>2012 Summer</td><td>Dominican Republic</td><td>1</td><td>1</td><td>0</td></tr>",
                            "<tr><td>2012 Summer</td><td>Egypt</td><td>0</td><td>2</td><td>0</td></tr>",
                            "<tr><td>2012 Summer</td><td>Estonia</td><td>0</td><td>1</td><td>1</td></tr>",
                            "<tr><td>2012 Summer</td><td>Ethiopia</td><td>3</td><td>1</td><td>3</td></tr>",
                            "<tr><td>2012 Summer</td><td>Finland</td><td>0</td><td>1</td><td>4</td></tr>",
                            "<tr><td>2012 Summer</td><td>France</td><td>30</td><td>30</td><td>22</td></tr>",
                            "<tr><td>2012 Summer</td><td>Gabon</td><td>0</td><td>1</td><td>0</td></tr>",
                            "<tr><td>2012 Summer</td><td>Georgia</td><td>1</td><td>3</td><td>3</td></tr>",
                            "<tr><td>2012 Summer</td><td>Germany</td><td>45</td><td>27</td><td>22</td></tr>",
                            "<tr><td>2012 Summer</td><td>Greece</td><td>0</td><td>0</td><td>3</td></tr>",
                            "<tr><td>2012 Summer</td><td>Grenada</td><td>1</td><td>0</td><td>0</td></tr>",
                            "<tr><td>2012 Summer</td><td>Guatemala</td><td>0</td><td>1</td><td>0</td></tr>",
                            "<tr><td>2012 Summer</td><td>Hungary</td><td>12</td><td>8</td><td>6</td></tr>",
                            "<tr><td>2012 Summer</td><td>India</td><td>0</td><td>2</td><td>4</td></tr>",
                            "<tr><td>2012 Summer</td><td>Indonesia</td><td>0</td><td>1</td><td>1</td></tr>",
                            "<tr><td>2012 Summer</td><td>Iran</td><td>4</td><td>5</td><td>3</td></tr>",
                            "<tr><td>2012 Summer</td><td>Ireland</td><td>1</td><td>1</td><td>3</td></tr>",
                            "<tr><td>2012 Summer</td><td>Italy</td><td>16</td><td>22</td><td>30</td></tr>",
                            "<tr><td>2012 Summer</td><td>Jamaica</td><td>8</td><td>9</td><td>8</td></tr>",
                            "<tr><td>2012 Summer</td><td>Japan</td><td>7</td><td>44</td><td>33</td></tr>",
                            "<tr><td>2012 Summer</td><td>Kazakhstan</td><td>7</td><td>1</td><td>5</td></tr>",
                            "<tr><td>2012 Summer</td><td>Kenya</td><td>2</td><td>4</td><td>5</td></tr>",
                            "<tr><td>2012 Summer</td><td>Kuwait</td><td>0</td><td>0</td><td>1</td></tr>",
                            "<tr><td>2012 Summer</td><td>Latvia</td><td>1</td><td>0</td><td>2</td></tr>",
                            "<tr><td>2012 Summer</td><td>Lithuania</td><td>2</td><td>1</td><td>2</td></tr>",
                            "<tr><td>2012 Summer</td><td>Malaysia</td><td>0</td><td>1</td><td>1</td></tr>",
                            "<tr><td>2012 Summer</td><td>Mexico</td><td>16</td><td>5</td><td>3</td></tr>",
                            "<tr><td>2012 Summer</td><td>Moldova</td><td>0</td><td>0</td><td>2</td></tr>",
                            "<tr><td>2012 Summer</td><td>Mongolia</td><td>0</td><td>2</td><td>3</td></tr>",
                            "<tr><td>2012 Summer</td><td>Montenegro</td><td>0</td><td>14</td><td>0</td></tr>",
                            "<tr><td>2012 Summer</td><td>Morocco</td><td>0</td><td>0</td><td>1</td></tr>",
                            "<tr><td>2012 Summer</td><td>Netherlands</td><td>21</td><td>29</td><td>19</td></tr>",
                            "<tr><td>2012 Summer</td><td>New Zealand</td><td>9</td><td>3</td><td>15</td></tr>",
                            "<tr><td>2012 Summer</td><td>North Korea</td><td>4</td><td>0</td><td>2</td></tr>",
                            "<tr><td>2012 Summer</td><td>Norway</td><td>15</td><td>1</td><td>1</td></tr>",
                            "<tr><td>2012 Summer</td><td>Poland</td><td>2</td><td>2</td><td>8</td></tr>",
                            "<tr><td>2012 Summer</td><td>Portugal</td><td>0</td><td>2</td><td>0</td></tr>",
                            "<tr><td>2012 Summer</td><td>Puerto Rico</td><td>0</td><td>1</td><td>1</td></tr>",
                            "<tr><td>2012 Summer</td><td>Qatar</td><td>0</td><td>0</td><td>2</td></tr>",
                            "<tr><td>2012 Summer</td><td>Romania</td><td>2</td><td>8</td><td>6</td></tr>",
                            "<tr><td>2012 Summer</td><td>Russia</td><td>50</td><td>39</td><td>51</td></tr>",
                            "<tr><td>2012 Summer</td><td>Saudi Arabia</td><td>0</td><td>0</td><td>4</td></tr>",
                            "<tr><td>2012 Summer</td><td>Serbia</td><td>1</td><td>1</td><td>14</td></tr>",
                            "<tr><td>2012 Summer</td><td>Slovakia</td><td>0</td><td>1</td><td>4</td></tr>",
                            "<tr><td>2012 Summer</td><td>Slovenia</td><td>1</td><td>1</td><td>3</td></tr>",
                            "<tr><td>2012 Summer</td><td>South Africa</td><td>6</td><td>2</td><td>1</td></tr>",
                            "<tr><td>2012 Summer</td><td>South Korea</td><td>18</td><td>13</td><td>30</td></tr>",
                            "<tr><td>2012 Summer</td><td>Spain</td><td>5</td><td>33</td><td>25</td></tr>",
                            "<tr><td>2012 Summer</td><td>Sweden</td><td>2</td><td>17</td><td>3</td></tr>",
                            "<tr><td>2012 Summer</td><td>Switzerland</td><td>2</td><td>2</td><td>0</td></tr>",
                            "<tr><td>2012 Summer</td><td>Taiwan</td><td>0</td><td>1</td><td>1</td></tr>",
                            "<tr><td>2012 Summer</td><td>Tajikistan</td><td>0</td><td>0</td><td>1</td></tr>",
                            "<tr><td>2012 Summer</td><td>Thailand</td><td>0</td><td>2</td><td>1</td></tr>",
                            "<tr><td>2012 Summer</td><td>Trinidad</td><td>1</td><td>4</td><td>5</td></tr>",
                            "<tr><td>2012 Summer</td><td>Tunisia</td><td>1</td><td>1</td><td>1</td></tr>",
                            "<tr><td>2012 Summer</td><td>Turkey</td><td>2</td><td>2</td><td>1</td></tr>",
                            "<tr><td>2012 Summer</td><td>Uganda</td><td>1</td><td>0</td><td>0</td></tr>",
                            "<tr><td>2012 Summer</td><td>UK</td><td>48</td><td>30</td><td>48</td></tr>",
                            "<tr><td>2012 Summer</td><td>Ukraine</td><td>9</td><td>5</td><td>12</td></tr>",
                            "<tr><td>2012 Summer</td><td>USA</td><td>145</td><td>57</td><td>46</td></tr>",
                            "<tr><td>2012 Summer</td><td>Uzbekistan</td><td>1</td><td>0</td><td>2</td></tr>",
                            "<tr><td>2012 Summer</td><td>Venezuela</td><td>1</td><td>0</td><td>0</td></tr>",
                            "<tr><td>2014 Winter</td><td>Australia</td><td>0</td><td>2</td><td>1</td></tr>",
                            "<tr><td>2014 Winter</td><td>Austria</td><td>4</td><td>12</td><td>11</td></tr>",
                            "<tr><td>2014 Winter</td><td>Belarus</td><td>5</td><td>0</td><td>1</td></tr>",
                            "<tr><td>2014 Winter</td><td>Canada</td><td>59</td><td>22</td><td>5</td></tr>",
                            "<tr><td>2014 Winter</td><td>China</td><td>3</td><td>4</td><td>5</td></tr>",
                            "<tr><td>2014 Winter</td><td>Croatia</td><td>0</td><td>1</td><td>0</td></tr>",
                            "<tr><td>2014 Winter</td><td>Czech Republic</td><td>2</td><td>7</td><td>2</td></tr>",
                            "<tr><td>2014 Winter</td><td>Finland</td><td>2</td><td>7</td><td>24</td></tr>",
                            "<tr><td>2014 Winter</td><td>France</td><td>4</td><td>4</td><td>10</td></tr>",
                            "<tr><td>2014 Winter</td><td>Germany</td><td>15</td><td>12</td><td>9</td></tr>",
                            "<tr><td>2014 Winter</td><td>Italy</td><td>0</td><td>2</td><td>12</td></tr>",
                            "<tr><td>2014 Winter</td><td>Japan</td><td>1</td><td>4</td><td>6</td></tr>",
                            "<tr><td>2014 Winter</td><td>Kazakhstan</td><td>0</td><td>0</td><td>1</td></tr>",
                            "<tr><td>2014 Winter</td><td>Latvia</td><td>0</td><td>5</td><td>6</td></tr>",
                            "<tr><td>2014 Winter</td><td>Netherlands</td><td>13</td><td>7</td><td>9</td></tr>",
                            "<tr><td>2014 Winter</td><td>Norway</td><td>18</td><td>5</td><td>13</td></tr>",
                            "<tr><td>2014 Winter</td><td>Poland</td><td>4</td><td>4</td><td>3</td></tr>",
                            "<tr><td>2014 Winter</td><td>Russia</td><td>33</td><td>22</td><td>13</td></tr>",
                            "<tr><td>2014 Winter</td><td>Slovakia</td><td>1</td><td>0</td><td>0</td></tr>",
                            "<tr><td>2014 Winter</td><td>Slovenia</td><td>2</td><td>2</td><td>4</td></tr>",
                            "<tr><td>2014 Winter</td><td>South Korea</td><td>7</td><td>5</td><td>2</td></tr>",
                            "<tr><td>2014 Winter</td><td>Sweden</td><td>8</td><td>32</td><td>11</td></tr>",
                            "<tr><td>2014 Winter</td><td>Switzerland</td><td>6</td><td>4</td><td>20</td></tr>",
                            "<tr><td>2014 Winter</td><td>UK</td><td>1</td><td>4</td><td>5</td></tr>",
                            "<tr><td>2014 Winter</td><td>Ukraine</td><td>4</td><td>0</td><td>1</td></tr>",
                            "<tr><td>2014 Winter</td><td>USA</td><td>10</td><td>30</td><td>24</td></tr>",
                            "<tr><td>2016 Summer</td><td>Algeria</td><td>0</td><td>2</td><td>0</td></tr>",
                            "<tr><td>2016 Summer</td><td>Argentina</td><td>21</td><td>1</td><td>0</td></tr>",
                            "<tr><td>2016 Summer</td><td>Armenia</td><td>1</td><td>3</td><td>0</td></tr>",
                            "<tr><td>2016 Summer</td><td>Australia</td><td>23</td><td>34</td><td>25</td></tr>",
                            "<tr><td>2016 Summer</td><td>Austria</td><td>0</td><td>0</td><td>2</td></tr>",
                            "<tr><td>2016 Summer</td><td>Azerbaijan</td><td>1</td><td>7</td><td>10</td></tr>",
                            "<tr><td>2016 Summer</td><td>Bahamas</td><td>1</td><td>0</td><td>5</td></tr>",
                            "<tr><td>2016 Summer</td><td>Bahrain</td><td>1</td><td>1</td><td>0</td></tr>",
                            "<tr><td>2016 Summer</td><td>Belarus</td><td>1</td><td>4</td><td>7</td></tr>",
                            "<tr><td>2016 Summer</td><td>Belgium</td><td>2</td><td>17</td><td>2</td></tr>",
                            "<tr><td>2016 Summer</td><td>Brazil</td><td>36</td><td>8</td><td>6</td></tr>",
                            "<tr><td>2016 Summer</td><td>Bulgaria</td><td>0</td><td>1</td><td>6</td></tr>",
                            "<tr><td>2016 Summer</td><td>Burundi</td><td>0</td><td>1</td><td>0</td></tr>",
                            "<tr><td>2016 Summer</td><td>Canada</td><td>4</td><td>4</td><td>61</td></tr>",
                            "<tr><td>2016 Summer</td><td>China</td><td>46</td><td>30</td><td>37</td></tr>",
                            "<tr><td>2016 Summer</td><td>Colombia</td><td>3</td><td>2</td><td>3</td></tr>",
                            "<tr><td>2016 Summer</td><td>Croatia</td><td>7</td><td>15</td><td>2</td></tr>",
                            "<tr><td>2016 Summer</td><td>Cuba</td><td>5</td><td>2</td><td>4</td></tr>",
                            "<tr><td>2016 Summer</td><td>Czech Republic</td><td>1</td><td>2</td><td>12</td></tr>",
                            "<tr><td>2016 Summer</td><td>Denmark</td><td>15</td><td>10</td><td>16</td></tr>",
                            "<tr><td>2016 Summer</td><td>Dominican Republic</td><td>0</td><td>0</td><td>1</td></tr>",
                            "<tr><td>2016 Summer</td><td>Egypt</td><td>0</td><td>0</td><td>3</td></tr>",
                            "<tr><td>2016 Summer</td><td>Estonia</td><td>0</td><td>0</td><td>4</td></tr>",
                            "<tr><td>2016 Summer</td><td>Ethiopia</td><td>1</td><td>2</td><td>5</td></tr>",
                            "<tr><td>2016 Summer</td><td>Fiji</td><td>13</td><td>0</td><td>0</td></tr>",
                            "<tr><td>2016 Summer</td><td>Finland</td><td>0</td><td>0</td><td>1</td></tr>",
                            "<tr><td>2016 Summer</td><td>France</td><td>20</td><td>55</td><td>21</td></tr>",
                            "<tr><td>2016 Summer</td><td>Georgia</td><td>2</td><td>1</td><td>4</td></tr>",
                            "<tr><td>2016 Summer</td><td>Germany</td><td>49</td><td>43</td><td>67</td></tr>",
                            "<tr><td>2016 Summer</td><td>Greece</td><td>3</td><td>1</td><td>3</td></tr>",
                            "<tr><td>2016 Summer</td><td>Grenada</td><td>0</td><td>1</td><td>0</td></tr>",
                            "<tr><td>2016 Summer</td><td>Hungary</td><td>12</td><td>3</td><td>7</td></tr>",
                            "<tr><td>2016 Summer</td><td>India</td><td>0</td><td>1</td><td>1</td></tr>",
                            "<tr><td>2016 Summer</td><td>Individual Olympic Athletes</td><td>1</td><td>0</td><td>1</td></tr>",
                            "<tr><td>2016 Summer</td><td>Indonesia</td><td>2</td><td>2</td><td>0</td></tr>",
                            "<tr><td>2016 Summer</td><td>Iran</td><td>3</td><td>1</td><td>4</td></tr>",
                            "<tr><td>2016 Summer</td><td>Ireland</td><td>0</td><td>3</td><td>0</td></tr>",
                            "<tr><td>2016 Summer</td><td>Israel</td><td>0</td><td>0</td><td>2</td></tr>",
                            "<tr><td>2016 Summer</td><td>Italy</td><td>8</td><td>40</td><td>24</td></tr>",
                            "<tr><td>2016 Summer</td><td>Ivory Coast</td><td>1</td><td>0</td><td>1</td></tr>",
                            "<tr><td>2016 Summer</td><td>Jamaica</td><td>11</td><td>17</td><td>2</td></tr>",
                            "<tr><td>2016 Summer</td><td>Japan</td><td>17</td><td>13</td><td>34</td></tr>",
                            "<tr><td>2016 Summer</td><td>Jordan</td><td>1</td><td>0</td><td>0</td></tr>",
                            "<tr><td>2016 Summer</td><td>Kazakhstan</td><td>3</td><td>5</td><td>10</td></tr>",
                            "<tr><td>2016 Summer</td><td>Kenya</td><td>6</td><td>6</td><td>1</td></tr>",
                            "<tr><td>2016 Summer</td><td>Kosovo</td><td>1</td><td>0</td><td>0</td></tr>",
                            "<tr><td>2016 Summer</td><td>Lithuania</td><td>0</td><td>2</td><td>5</td></tr>",
                            "<tr><td>2016 Summer</td><td>Malaysia</td><td>0</td><td>7</td><td>1</td></tr>",
                            "<tr><td>2016 Summer</td><td>Mexico</td><td>0</td><td>3</td><td>2</td></tr>",
                            "<tr><td>2016 Summer</td><td>Mongolia</td><td>0</td><td>1</td><td>1</td></tr>",
                            "<tr><td>2016 Summer</td><td>Morocco</td><td>0</td><td>0</td><td>1</td></tr>",
                            "<tr><td>2016 Summer</td><td>Netherlands</td><td>9</td><td>25</td><td>13</td></tr>",
                            "<tr><td>2016 Summer</td><td>New Zealand</td><td>6</td><td>25</td><td>5</td></tr>",
                            "<tr><td>2016 Summer</td><td>Niger</td><td>0</td><td>1</td><td>0</td></tr>",
                            "<tr><td>2016 Summer</td><td>Nigeria</td><td>0</td><td>0</td><td>18</td></tr>",
                            "<tr><td>2016 Summer</td><td>North Korea</td><td>2</td><td>3</td><td>2</td></tr>",
                            "<tr><td>2016 Summer</td><td>Norway</td><td>0</td><td>0</td><td>19</td></tr>",
                            "<tr><td>2016 Summer</td><td>Philippines</td><td>0</td><td>1</td><td>0</td></tr>",
                            "<tr><td>2016 Summer</td><td>Poland</td><td>3</td><td>3</td><td>10</td></tr>",
                            "<tr><td>2016 Summer</td><td>Portugal</td><td>0</td><td>0</td><td>1</td></tr>",
                            "<tr><td>2016 Summer</td><td>Puerto Rico</td><td>1</td><td>0</td><td>0</td></tr>",
                            "<tr><td>2016 Summer</td><td>Qatar</td><td>0</td><td>1</td><td>0</td></tr>",
                            "<tr><td>2016 Summer</td><td>Romania</td><td>4</td><td>2</td><td>10</td></tr>",
                            "<tr><td>2016 Summer</td><td>Russia</td><td>52</td><td>28</td><td>35</td></tr>",
                            "<tr><td>2016 Summer</td><td>Serbia</td><td>14</td><td>27</td><td>13</td></tr>",
                            "<tr><td>2016 Summer</td><td>Slovakia</td><td>3</td><td>5</td><td>0</td></tr>",
                            "<tr><td>2016 Summer</td><td>Slovenia</td><td>1</td><td>2</td><td>1</td></tr>",
                            "<tr><td>2016 Summer</td><td>South Africa</td><td>2</td><td>7</td><td>14</td></tr>",
                            "<tr><td>2016 Summer</td><td>South Korea</td><td>13</td><td>3</td><td>10</td></tr>",
                            "<tr><td>2016 Summer</td><td>Spain</td><td>9</td><td>19</td><td>17</td></tr>",
                            "<tr><td>2016 Summer</td><td>Sweden</td><td>2</td><td>23</td><td>3</td></tr>",
                            "<tr><td>2016 Summer</td><td>Switzerland</td><td>6</td><td>3</td><td>2</td></tr>",
                            "<tr><td>2016 Summer</td><td>Taiwan</td><td>1</td><td>0</td><td>4</td></tr>",
                            "<tr><td>2016 Summer</td><td>Tajikistan</td><td>1</td><td>0</td><td>0</td></tr>",
                            "<tr><td>2016 Summer</td><td>Thailand</td><td>2</td><td>2</td><td>2</td></tr>",
                            "<tr><td>2016 Summer</td><td>Trinidad</td><td>0</td><td>0</td><td>1</td></tr>",
                            "<tr><td>2016 Summer</td><td>Tunisia</td><td>0</td><td>0</td><td>3</td></tr>",
                            "<tr><td>2016 Summer</td><td>Turkey</td><td>1</td><td>3</td><td>4</td></tr>",
                            "<tr><td>2016 Summer</td><td>UK</td><td>64</td><td>55</td><td>26</td></tr>",
                            "<tr><td>2016 Summer</td><td>Ukraine</td><td>2</td><td>8</td><td>5</td></tr>",
                            "<tr><td>2016 Summer</td><td>United Arab Emirates</td><td>0</td><td>0</td><td>1</td></tr>",
                            "<tr><td>2016 Summer</td><td>USA</td><td>139</td><td>54</td><td>71</td></tr>",
                            "<tr><td>2016 Summer</td><td>Uzbekistan</td><td>4</td><td>2</td><td>7</td></tr>",
                            "<tr><td>2016 Summer</td><td>Venezuela</td><td>0</td><td>1</td><td>2</td></tr>",
                            "<tr><td>2016 Summer</td><td>Vietnam</td><td>1</td><td>1</td><td>0</td></tr>",
                            "</table>"
                        ]
                    }
                }
            ],
            "execution_count": 41
        },
        {
            "cell_type": "markdown",
            "source": [
                "*The followung query returns each olympic game and the country that won the highest gold, silver and bronze medals:*"
            ],
            "metadata": {
                "azdata_cell_guid": "684d504a-79cc-4fbe-bcdd-0c7148a1401e"
            }
        },
        {
            "cell_type": "code",
            "source": [
                "WITH country_medals_table AS\r\n",
                "(\r\n",
                "\tSELECT\r\n",
                "\t\t*\r\n",
                "\tFROM\r\n",
                "\t(\r\n",
                "\t\tSELECT\r\n",
                "\t\t\tae.Games,\r\n",
                "\t\t\tae.Medal,\r\n",
                "\t\t\tnr.Region AS 'Country'\r\n",
                "\t\tFROM\r\n",
                "\t\t\tdbo.AthleteEvents ae \r\n",
                "\t\t\tINNER JOIN dbo.NOCRegions nr ON ae.NOC = nr.NOC\r\n",
                "\t\tWHERE\r\n",
                "\t\t\tae.Medal <> 'NA'\r\n",
                "\t) AS country_medals\r\n",
                "\r\n",
                "\tPIVOT\r\n",
                "\t(\r\n",
                "\t\tCOUNT(Medal)\r\n",
                "\t\tFOR Medal IN ([Gold], [Silver], [Bronze])\r\n",
                "\t) AS pivot_table\r\n",
                ")\r\n",
                "\r\n",
                "SELECT DISTINCT\r\n",
                "\tGames,\r\n",
                "\tCONCAT\r\n",
                "\t(\r\n",
                "\t\tFIRST_VALUE(Country) OVER (PARTITION BY Games ORDER BY Gold DESC),\r\n",
                "\t\t' : ',\r\n",
                "\t\tFIRST_VALUE(Gold) OVER (PARTITION BY Games ORDER BY Gold DESC)\r\n",
                "\t) AS maximum_golds,\r\n",
                "\tCONCAT\r\n",
                "\t(\r\n",
                "\t\tFIRST_VALUE(Country) OVER (PARTITION BY Games ORDER BY Silver DESC),\r\n",
                "\t\t' : ',\r\n",
                "\t\tFIRST_VALUE(Silver) OVER (PARTITION BY Games ORDER BY Silver DESC)\r\n",
                "\t) AS maximum_silver,\r\n",
                "\tCONCAT\r\n",
                "\t(\r\n",
                "\t\tFIRST_VALUE(Country) OVER (PARTITION BY Games ORDER BY Bronze DESC),\r\n",
                "\t\t' : ',\r\n",
                "\t\tFIRST_VALUE(Bronze) OVER (PARTITION BY Games ORDER BY Bronze DESC)\r\n",
                "\t) AS maximum_bronze\r\n",
                "\r\n",
                "FROM\r\n",
                "\tcountry_medals_table\r\n",
                "ORDER BY\r\n",
                "\tGames"
            ],
            "metadata": {
                "azdata_cell_guid": "5b1911be-acd6-41b3-9a6e-1ea49b32e621"
            },
            "outputs": [
                {
                    "output_type": "display_data",
                    "data": {
                        "text/html": "(51 rows affected)"
                    },
                    "metadata": {}
                },
                {
                    "output_type": "display_data",
                    "data": {
                        "text/html": "Total execution time: 00:00:00.100"
                    },
                    "metadata": {}
                },
                {
                    "output_type": "execute_result",
                    "metadata": {},
                    "execution_count": 28,
                    "data": {
                        "application/vnd.dataresource+json": {
                            "schema": {
                                "fields": [
                                    {
                                        "name": "Games"
                                    },
                                    {
                                        "name": "maximum_golds"
                                    },
                                    {
                                        "name": "maximum_silver"
                                    },
                                    {
                                        "name": "maximum_bronze"
                                    }
                                ]
                            },
                            "data": [
                                {
                                    "0": "1896 Summer",
                                    "1": "Germany : 25",
                                    "2": "Greece : 18",
                                    "3": "Greece : 20"
                                },
                                {
                                    "0": "1900 Summer",
                                    "1": "UK : 59",
                                    "2": "France : 101",
                                    "3": "France : 82"
                                },
                                {
                                    "0": "1904 Summer",
                                    "1": "USA : 128",
                                    "2": "USA : 141",
                                    "3": "USA : 125"
                                },
                                {
                                    "0": "1906 Summer",
                                    "1": "Greece : 24",
                                    "2": "Greece : 48",
                                    "3": "Greece : 30"
                                },
                                {
                                    "0": "1908 Summer",
                                    "1": "UK : 147",
                                    "2": "UK : 131",
                                    "3": "UK : 90"
                                },
                                {
                                    "0": "1912 Summer",
                                    "1": "Sweden : 103",
                                    "2": "UK : 64",
                                    "3": "UK : 59"
                                },
                                {
                                    "0": "1920 Summer",
                                    "1": "USA : 111",
                                    "2": "France : 71",
                                    "3": "Belgium : 66"
                                },
                                {
                                    "0": "1924 Summer",
                                    "1": "USA : 97",
                                    "2": "France : 51",
                                    "3": "USA : 49"
                                },
                                {
                                    "0": "1924 Winter",
                                    "1": "UK : 16",
                                    "2": "USA : 10",
                                    "3": "UK : 11"
                                },
                                {
                                    "0": "1928 Summer",
                                    "1": "USA : 47",
                                    "2": "Netherlands : 29",
                                    "3": "Germany : 41"
                                },
                                {
                                    "0": "1928 Winter",
                                    "1": "Canada : 12",
                                    "2": "Sweden : 13",
                                    "3": "Switzerland : 12"
                                },
                                {
                                    "0": "1932 Summer",
                                    "1": "USA : 81",
                                    "2": "USA : 47",
                                    "3": "USA : 61"
                                },
                                {
                                    "0": "1932 Winter",
                                    "1": "Canada : 14",
                                    "2": "USA : 21",
                                    "3": "Germany : 14"
                                },
                                {
                                    "0": "1936 Summer",
                                    "1": "Germany : 93",
                                    "2": "Germany : 70",
                                    "3": "Germany : 61"
                                },
                                {
                                    "0": "1936 Winter",
                                    "1": "UK : 12",
                                    "2": "Canada : 13",
                                    "3": "USA : 14"
                                },
                                {
                                    "0": "1948 Summer",
                                    "1": "USA : 87",
                                    "2": "UK : 42",
                                    "3": "USA : 35"
                                },
                                {
                                    "0": "1948 Winter",
                                    "1": "Canada : 13",
                                    "2": "Czech Republic : 17",
                                    "3": "Switzerland : 19"
                                },
                                {
                                    "0": "1952 Summer",
                                    "1": "USA : 83",
                                    "2": "Russia : 62",
                                    "3": "Hungary : 32"
                                },
                                {
                                    "0": "1952 Winter",
                                    "1": "Canada : 16",
                                    "2": "USA : 25",
                                    "3": "Sweden : 23"
                                },
                                {
                                    "0": "1956 Summer",
                                    "1": "Russia : 68",
                                    "2": "Russia : 46",
                                    "3": "Russia : 55"
                                },
                                {
                                    "0": "1956 Winter",
                                    "1": "Russia : 26",
                                    "2": "USA : 19",
                                    "3": "Canada : 18"
                                },
                                {
                                    "0": "1960 Summer",
                                    "1": "USA : 81",
                                    "2": "Russia : 63",
                                    "3": "Russia : 45"
                                },
                                {
                                    "0": "1960 Winter",
                                    "1": "USA : 19",
                                    "2": "Canada : 17",
                                    "3": "Russia : 28"
                                },
                                {
                                    "0": "1964 Summer",
                                    "1": "USA : 95",
                                    "2": "Russia : 63",
                                    "3": "Russia : 51"
                                },
                                {
                                    "0": "1964 Winter",
                                    "1": "Russia : 30",
                                    "2": "Sweden : 21",
                                    "3": "Czech Republic : 17"
                                },
                                {
                                    "0": "1968 Summer",
                                    "1": "USA : 99",
                                    "2": "Russia : 63",
                                    "3": "Russia : 64"
                                },
                                {
                                    "0": "1968 Winter",
                                    "1": "Russia : 26",
                                    "2": "Czech Republic : 19",
                                    "3": "Canada : 18"
                                },
                                {
                                    "0": "1972 Summer",
                                    "1": "Russia : 107",
                                    "2": "Germany : 83",
                                    "3": "Germany : 96"
                                },
                                {
                                    "0": "1972 Winter",
                                    "1": "Russia : 36",
                                    "2": "USA : 18",
                                    "3": "Czech Republic : 19"
                                },
                                {
                                    "0": "1976 Summer",
                                    "1": "Germany : 123",
                                    "2": "Russia : 95",
                                    "3": "Russia : 77"
                                },
                                {
                                    "0": "1976 Winter",
                                    "1": "Russia : 38",
                                    "2": "Czech Republic : 19",
                                    "3": "Germany : 37"
                                },
                                {
                                    "0": "1980 Summer",
                                    "1": "Russia : 187",
                                    "2": "Russia : 129",
                                    "3": "Russia : 126"
                                },
                                {
                                    "0": "1980 Winter",
                                    "1": "USA : 24",
                                    "2": "Russia : 29",
                                    "3": "Sweden : 20"
                                },
                                {
                                    "0": "1984 Summer",
                                    "1": "USA : 186",
                                    "2": "USA : 116",
                                    "3": "Germany : 53"
                                },
                                {
                                    "0": "1984 Winter",
                                    "1": "Russia : 29",
                                    "2": "Czech Republic : 24",
                                    "3": "Sweden : 21"
                                },
                                {
                                    "0": "1988 Summer",
                                    "1": "Russia : 134",
                                    "2": "Germany : 91",
                                    "3": "Russia : 99"
                                },
                                {
                                    "0": "1988 Winter",
                                    "1": "Russia : 40",
                                    "2": "Germany : 22",
                                    "3": "Sweden : 23"
                                },
                                {
                                    "0": "1992 Summer",
                                    "1": "Russia : 92",
                                    "2": "Russia : 61",
                                    "3": "USA : 85"
                                },
                                {
                                    "0": "1992 Winter",
                                    "1": "Russia : 35",
                                    "2": "Canada : 28",
                                    "3": "Czech Republic : 27"
                                },
                                {
                                    "0": "1994 Winter",
                                    "1": "Sweden : 23",
                                    "2": "Canada : 29",
                                    "3": "Finland : 29"
                                },
                                {
                                    "0": "1996 Summer",
                                    "1": "USA : 159",
                                    "2": "China : 70",
                                    "3": "Australia : 84"
                                },
                                {
                                    "0": "1998 Winter",
                                    "1": "USA : 25",
                                    "2": "Russia : 32",
                                    "3": "Finland : 49"
                                },
                                {
                                    "0": "2000 Summer",
                                    "1": "USA : 130",
                                    "2": "Australia : 69",
                                    "3": "Germany : 64"
                                },
                                {
                                    "0": "2002 Winter",
                                    "1": "Canada : 52",
                                    "2": "USA : 58",
                                    "3": "Russia : 27"
                                },
                                {
                                    "0": "2004 Summer",
                                    "1": "USA : 117",
                                    "2": "Australia : 77",
                                    "3": "Russia : 95"
                                },
                                {
                                    "0": "2006 Winter",
                                    "1": "Sweden : 35",
                                    "2": "Finland : 34",
                                    "3": "USA : 32"
                                },
                                {
                                    "0": "2008 Summer",
                                    "1": "USA : 127",
                                    "2": "USA : 110",
                                    "3": "USA : 80"
                                },
                                {
                                    "0": "2010 Winter",
                                    "1": "Canada : 67",
                                    "2": "USA : 63",
                                    "3": "Finland : 46"
                                },
                                {
                                    "0": "2012 Summer",
                                    "1": "USA : 145",
                                    "2": "USA : 57",
                                    "3": "Australia : 59"
                                },
                                {
                                    "0": "2014 Winter",
                                    "1": "Canada : 59",
                                    "2": "Sweden : 32",
                                    "3": "USA : 24"
                                },
                                {
                                    "0": "2016 Summer",
                                    "1": "USA : 139",
                                    "2": "UK : 55",
                                    "3": "USA : 71"
                                }
                            ]
                        },
                        "text/html": [
                            "<table>",
                            "<tr><th>Games</th><th>maximum_golds</th><th>maximum_silver</th><th>maximum_bronze</th></tr>",
                            "<tr><td>1896 Summer</td><td>Germany : 25</td><td>Greece : 18</td><td>Greece : 20</td></tr>",
                            "<tr><td>1900 Summer</td><td>UK : 59</td><td>France : 101</td><td>France : 82</td></tr>",
                            "<tr><td>1904 Summer</td><td>USA : 128</td><td>USA : 141</td><td>USA : 125</td></tr>",
                            "<tr><td>1906 Summer</td><td>Greece : 24</td><td>Greece : 48</td><td>Greece : 30</td></tr>",
                            "<tr><td>1908 Summer</td><td>UK : 147</td><td>UK : 131</td><td>UK : 90</td></tr>",
                            "<tr><td>1912 Summer</td><td>Sweden : 103</td><td>UK : 64</td><td>UK : 59</td></tr>",
                            "<tr><td>1920 Summer</td><td>USA : 111</td><td>France : 71</td><td>Belgium : 66</td></tr>",
                            "<tr><td>1924 Summer</td><td>USA : 97</td><td>France : 51</td><td>USA : 49</td></tr>",
                            "<tr><td>1924 Winter</td><td>UK : 16</td><td>USA : 10</td><td>UK : 11</td></tr>",
                            "<tr><td>1928 Summer</td><td>USA : 47</td><td>Netherlands : 29</td><td>Germany : 41</td></tr>",
                            "<tr><td>1928 Winter</td><td>Canada : 12</td><td>Sweden : 13</td><td>Switzerland : 12</td></tr>",
                            "<tr><td>1932 Summer</td><td>USA : 81</td><td>USA : 47</td><td>USA : 61</td></tr>",
                            "<tr><td>1932 Winter</td><td>Canada : 14</td><td>USA : 21</td><td>Germany : 14</td></tr>",
                            "<tr><td>1936 Summer</td><td>Germany : 93</td><td>Germany : 70</td><td>Germany : 61</td></tr>",
                            "<tr><td>1936 Winter</td><td>UK : 12</td><td>Canada : 13</td><td>USA : 14</td></tr>",
                            "<tr><td>1948 Summer</td><td>USA : 87</td><td>UK : 42</td><td>USA : 35</td></tr>",
                            "<tr><td>1948 Winter</td><td>Canada : 13</td><td>Czech Republic : 17</td><td>Switzerland : 19</td></tr>",
                            "<tr><td>1952 Summer</td><td>USA : 83</td><td>Russia : 62</td><td>Hungary : 32</td></tr>",
                            "<tr><td>1952 Winter</td><td>Canada : 16</td><td>USA : 25</td><td>Sweden : 23</td></tr>",
                            "<tr><td>1956 Summer</td><td>Russia : 68</td><td>Russia : 46</td><td>Russia : 55</td></tr>",
                            "<tr><td>1956 Winter</td><td>Russia : 26</td><td>USA : 19</td><td>Canada : 18</td></tr>",
                            "<tr><td>1960 Summer</td><td>USA : 81</td><td>Russia : 63</td><td>Russia : 45</td></tr>",
                            "<tr><td>1960 Winter</td><td>USA : 19</td><td>Canada : 17</td><td>Russia : 28</td></tr>",
                            "<tr><td>1964 Summer</td><td>USA : 95</td><td>Russia : 63</td><td>Russia : 51</td></tr>",
                            "<tr><td>1964 Winter</td><td>Russia : 30</td><td>Sweden : 21</td><td>Czech Republic : 17</td></tr>",
                            "<tr><td>1968 Summer</td><td>USA : 99</td><td>Russia : 63</td><td>Russia : 64</td></tr>",
                            "<tr><td>1968 Winter</td><td>Russia : 26</td><td>Czech Republic : 19</td><td>Canada : 18</td></tr>",
                            "<tr><td>1972 Summer</td><td>Russia : 107</td><td>Germany : 83</td><td>Germany : 96</td></tr>",
                            "<tr><td>1972 Winter</td><td>Russia : 36</td><td>USA : 18</td><td>Czech Republic : 19</td></tr>",
                            "<tr><td>1976 Summer</td><td>Germany : 123</td><td>Russia : 95</td><td>Russia : 77</td></tr>",
                            "<tr><td>1976 Winter</td><td>Russia : 38</td><td>Czech Republic : 19</td><td>Germany : 37</td></tr>",
                            "<tr><td>1980 Summer</td><td>Russia : 187</td><td>Russia : 129</td><td>Russia : 126</td></tr>",
                            "<tr><td>1980 Winter</td><td>USA : 24</td><td>Russia : 29</td><td>Sweden : 20</td></tr>",
                            "<tr><td>1984 Summer</td><td>USA : 186</td><td>USA : 116</td><td>Germany : 53</td></tr>",
                            "<tr><td>1984 Winter</td><td>Russia : 29</td><td>Czech Republic : 24</td><td>Sweden : 21</td></tr>",
                            "<tr><td>1988 Summer</td><td>Russia : 134</td><td>Germany : 91</td><td>Russia : 99</td></tr>",
                            "<tr><td>1988 Winter</td><td>Russia : 40</td><td>Germany : 22</td><td>Sweden : 23</td></tr>",
                            "<tr><td>1992 Summer</td><td>Russia : 92</td><td>Russia : 61</td><td>USA : 85</td></tr>",
                            "<tr><td>1992 Winter</td><td>Russia : 35</td><td>Canada : 28</td><td>Czech Republic : 27</td></tr>",
                            "<tr><td>1994 Winter</td><td>Sweden : 23</td><td>Canada : 29</td><td>Finland : 29</td></tr>",
                            "<tr><td>1996 Summer</td><td>USA : 159</td><td>China : 70</td><td>Australia : 84</td></tr>",
                            "<tr><td>1998 Winter</td><td>USA : 25</td><td>Russia : 32</td><td>Finland : 49</td></tr>",
                            "<tr><td>2000 Summer</td><td>USA : 130</td><td>Australia : 69</td><td>Germany : 64</td></tr>",
                            "<tr><td>2002 Winter</td><td>Canada : 52</td><td>USA : 58</td><td>Russia : 27</td></tr>",
                            "<tr><td>2004 Summer</td><td>USA : 117</td><td>Australia : 77</td><td>Russia : 95</td></tr>",
                            "<tr><td>2006 Winter</td><td>Sweden : 35</td><td>Finland : 34</td><td>USA : 32</td></tr>",
                            "<tr><td>2008 Summer</td><td>USA : 127</td><td>USA : 110</td><td>USA : 80</td></tr>",
                            "<tr><td>2010 Winter</td><td>Canada : 67</td><td>USA : 63</td><td>Finland : 46</td></tr>",
                            "<tr><td>2012 Summer</td><td>USA : 145</td><td>USA : 57</td><td>Australia : 59</td></tr>",
                            "<tr><td>2014 Winter</td><td>Canada : 59</td><td>Sweden : 32</td><td>USA : 24</td></tr>",
                            "<tr><td>2016 Summer</td><td>USA : 139</td><td>UK : 55</td><td>USA : 71</td></tr>",
                            "</table>"
                        ]
                    }
                }
            ],
            "execution_count": 28
        },
        {
            "cell_type": "markdown",
            "source": [
                "*The followung query returns each olympic game and the country that won the highest gold, silver, bronze medals along with the country with highest medals:*"
            ],
            "metadata": {
                "azdata_cell_guid": "a46ecee8-fc33-4871-a4e5-6fc09a4e7c96"
            }
        },
        {
            "cell_type": "code",
            "source": [
                "WITH country_medals_table AS\r\n",
                "(\r\n",
                "\tSELECT\r\n",
                "\t\t*,\r\n",
                "\t\t[Gold]+[Silver]+[Bronze] AS 'total_medals'\r\n",
                "\tFROM\r\n",
                "\t(\r\n",
                "\t\tSELECT\r\n",
                "\t\t\tae.Games,\r\n",
                "\t\t\tae.Medal,\r\n",
                "\t\t\tnr.Region AS 'Country'\r\n",
                "\t\tFROM\r\n",
                "\t\t\tdbo.AthleteEvents ae \r\n",
                "\t\t\tINNER JOIN dbo.NOCRegions nr ON ae.NOC = nr.NOC\r\n",
                "\t\tWHERE\r\n",
                "\t\t\tae.Medal <> 'NA'\r\n",
                "\t) AS country_medals\r\n",
                "\r\n",
                "\tPIVOT\r\n",
                "\t(\r\n",
                "\t\tCOUNT(Medal)\r\n",
                "\t\tFOR Medal IN ([Gold], [Silver], [Bronze])\r\n",
                "\t) AS pivot_table\r\n",
                ")\r\n",
                "\r\n",
                "SELECT DISTINCT\r\n",
                "\tGames,\r\n",
                "\tCONCAT\r\n",
                "\t(\r\n",
                "\t\tFIRST_VALUE(Country) OVER (PARTITION BY Games ORDER BY Gold DESC),\r\n",
                "\t\t' : ',\r\n",
                "\t\tFIRST_VALUE(Gold) OVER (PARTITION BY Games ORDER BY Gold DESC)\r\n",
                "\t) AS maximum_golds,\r\n",
                "\tCONCAT\r\n",
                "\t(\r\n",
                "\t\tFIRST_VALUE(Country) OVER (PARTITION BY Games ORDER BY Silver DESC),\r\n",
                "\t\t' : ',\r\n",
                "\t\tFIRST_VALUE(Silver) OVER (PARTITION BY Games ORDER BY Silver DESC)\r\n",
                "\t) AS maximum_silver,\r\n",
                "\tCONCAT\r\n",
                "\t(\r\n",
                "\t\tFIRST_VALUE(Country) OVER (PARTITION BY Games ORDER BY Bronze DESC),\r\n",
                "\t\t' : ',\r\n",
                "\t\tFIRST_VALUE(Bronze) OVER (PARTITION BY Games ORDER BY Bronze DESC)\r\n",
                "\t) AS maximum_bronze,\r\n",
                "\tCONCAT\r\n",
                "\t(\r\n",
                "\t\tFIRST_VALUE(Country) OVER (PARTITION BY Games ORDER BY total_medals DESC),\r\n",
                "\t\t' : ',\r\n",
                "\t\tFIRST_VALUE(total_medals) OVER (PARTITION BY Games ORDER BY total_medals DESC)\r\n",
                "\t) AS maximum_medals\r\n",
                "\r\n",
                "FROM\r\n",
                "\tcountry_medals_table\r\n",
                "ORDER BY\r\n",
                "\tGames"
            ],
            "metadata": {
                "azdata_cell_guid": "bbe60499-f9f9-4c53-be05-77cf12bef63a"
            },
            "outputs": [
                {
                    "output_type": "display_data",
                    "data": {
                        "text/html": "(51 rows affected)"
                    },
                    "metadata": {}
                },
                {
                    "output_type": "display_data",
                    "data": {
                        "text/html": "Total execution time: 00:00:00.091"
                    },
                    "metadata": {}
                },
                {
                    "output_type": "execute_result",
                    "metadata": {},
                    "execution_count": 29,
                    "data": {
                        "application/vnd.dataresource+json": {
                            "schema": {
                                "fields": [
                                    {
                                        "name": "Games"
                                    },
                                    {
                                        "name": "maximum_golds"
                                    },
                                    {
                                        "name": "maximum_silver"
                                    },
                                    {
                                        "name": "maximum_bronze"
                                    },
                                    {
                                        "name": "maximum_medals"
                                    }
                                ]
                            },
                            "data": [
                                {
                                    "0": "1896 Summer",
                                    "1": "Germany : 25",
                                    "2": "Greece : 18",
                                    "3": "Greece : 20",
                                    "4": "Greece : 48"
                                },
                                {
                                    "0": "1900 Summer",
                                    "1": "UK : 59",
                                    "2": "France : 101",
                                    "3": "France : 82",
                                    "4": "France : 235"
                                },
                                {
                                    "0": "1904 Summer",
                                    "1": "USA : 128",
                                    "2": "USA : 141",
                                    "3": "USA : 125",
                                    "4": "USA : 394"
                                },
                                {
                                    "0": "1906 Summer",
                                    "1": "Greece : 24",
                                    "2": "Greece : 48",
                                    "3": "Greece : 30",
                                    "4": "Greece : 102"
                                },
                                {
                                    "0": "1908 Summer",
                                    "1": "UK : 147",
                                    "2": "UK : 131",
                                    "3": "UK : 90",
                                    "4": "UK : 368"
                                },
                                {
                                    "0": "1912 Summer",
                                    "1": "Sweden : 103",
                                    "2": "UK : 64",
                                    "3": "UK : 59",
                                    "4": "Sweden : 190"
                                },
                                {
                                    "0": "1920 Summer",
                                    "1": "USA : 111",
                                    "2": "France : 71",
                                    "3": "Belgium : 66",
                                    "4": "USA : 194"
                                },
                                {
                                    "0": "1924 Summer",
                                    "1": "USA : 97",
                                    "2": "France : 51",
                                    "3": "USA : 49",
                                    "4": "USA : 182"
                                },
                                {
                                    "0": "1924 Winter",
                                    "1": "UK : 16",
                                    "2": "USA : 10",
                                    "3": "UK : 11",
                                    "4": "UK : 31"
                                },
                                {
                                    "0": "1928 Summer",
                                    "1": "USA : 47",
                                    "2": "Netherlands : 29",
                                    "3": "Germany : 41",
                                    "4": "USA : 88"
                                },
                                {
                                    "0": "1928 Winter",
                                    "1": "Canada : 12",
                                    "2": "Sweden : 13",
                                    "3": "Switzerland : 12",
                                    "4": "Sweden : 16"
                                },
                                {
                                    "0": "1932 Summer",
                                    "1": "USA : 81",
                                    "2": "USA : 47",
                                    "3": "USA : 61",
                                    "4": "USA : 189"
                                },
                                {
                                    "0": "1932 Winter",
                                    "1": "Canada : 14",
                                    "2": "USA : 21",
                                    "3": "Germany : 14",
                                    "4": "USA : 34"
                                },
                                {
                                    "0": "1936 Summer",
                                    "1": "Germany : 93",
                                    "2": "Germany : 70",
                                    "3": "Germany : 61",
                                    "4": "Germany : 224"
                                },
                                {
                                    "0": "1936 Winter",
                                    "1": "UK : 12",
                                    "2": "Canada : 13",
                                    "3": "USA : 14",
                                    "4": "Norway : 18"
                                },
                                {
                                    "0": "1948 Summer",
                                    "1": "USA : 87",
                                    "2": "UK : 42",
                                    "3": "USA : 35",
                                    "4": "USA : 152"
                                },
                                {
                                    "0": "1948 Winter",
                                    "1": "Canada : 13",
                                    "2": "Czech Republic : 17",
                                    "3": "Switzerland : 19",
                                    "4": "Switzerland : 28"
                                },
                                {
                                    "0": "1952 Summer",
                                    "1": "USA : 83",
                                    "2": "Russia : 62",
                                    "3": "Hungary : 32",
                                    "4": "USA : 134"
                                },
                                {
                                    "0": "1952 Winter",
                                    "1": "Canada : 16",
                                    "2": "USA : 25",
                                    "3": "Sweden : 23",
                                    "4": "USA : 30"
                                },
                                {
                                    "0": "1956 Summer",
                                    "1": "Russia : 68",
                                    "2": "Russia : 46",
                                    "3": "Russia : 55",
                                    "4": "Russia : 169"
                                },
                                {
                                    "0": "1956 Winter",
                                    "1": "Russia : 26",
                                    "2": "USA : 19",
                                    "3": "Canada : 18",
                                    "4": "Russia : 37"
                                },
                                {
                                    "0": "1960 Summer",
                                    "1": "USA : 81",
                                    "2": "Russia : 63",
                                    "3": "Russia : 45",
                                    "4": "Russia : 169"
                                },
                                {
                                    "0": "1960 Winter",
                                    "1": "USA : 19",
                                    "2": "Canada : 17",
                                    "3": "Russia : 28",
                                    "4": "Russia : 42"
                                },
                                {
                                    "0": "1964 Summer",
                                    "1": "USA : 95",
                                    "2": "Russia : 63",
                                    "3": "Russia : 51",
                                    "4": "Russia : 174"
                                },
                                {
                                    "0": "1964 Winter",
                                    "1": "Russia : 30",
                                    "2": "Sweden : 21",
                                    "3": "Czech Republic : 17",
                                    "4": "Russia : 47"
                                },
                                {
                                    "0": "1968 Summer",
                                    "1": "USA : 99",
                                    "2": "Russia : 63",
                                    "3": "Russia : 64",
                                    "4": "Russia : 192"
                                },
                                {
                                    "0": "1968 Winter",
                                    "1": "Russia : 26",
                                    "2": "Czech Republic : 19",
                                    "3": "Canada : 18",
                                    "4": "Russia : 37"
                                },
                                {
                                    "0": "1972 Summer",
                                    "1": "Russia : 107",
                                    "2": "Germany : 83",
                                    "3": "Germany : 96",
                                    "4": "Germany : 253"
                                },
                                {
                                    "0": "1972 Winter",
                                    "1": "Russia : 36",
                                    "2": "USA : 18",
                                    "3": "Czech Republic : 19",
                                    "4": "Russia : 45"
                                },
                                {
                                    "0": "1976 Summer",
                                    "1": "Germany : 123",
                                    "2": "Russia : 95",
                                    "3": "Russia : 77",
                                    "4": "Russia : 286"
                                },
                                {
                                    "0": "1976 Winter",
                                    "1": "Russia : 38",
                                    "2": "Czech Republic : 19",
                                    "3": "Germany : 37",
                                    "4": "Germany : 64"
                                },
                                {
                                    "0": "1980 Summer",
                                    "1": "Russia : 187",
                                    "2": "Russia : 129",
                                    "3": "Russia : 126",
                                    "4": "Russia : 442"
                                },
                                {
                                    "0": "1980 Winter",
                                    "1": "USA : 24",
                                    "2": "Russia : 29",
                                    "3": "Sweden : 20",
                                    "4": "Russia : 54"
                                },
                                {
                                    "0": "1984 Summer",
                                    "1": "USA : 186",
                                    "2": "USA : 116",
                                    "3": "Germany : 53",
                                    "4": "USA : 352"
                                },
                                {
                                    "0": "1984 Winter",
                                    "1": "Russia : 29",
                                    "2": "Czech Republic : 24",
                                    "3": "Sweden : 21",
                                    "4": "Russia : 56"
                                },
                                {
                                    "0": "1988 Summer",
                                    "1": "Russia : 134",
                                    "2": "Germany : 91",
                                    "3": "Russia : 99",
                                    "4": "Russia : 300"
                                },
                                {
                                    "0": "1988 Winter",
                                    "1": "Russia : 40",
                                    "2": "Germany : 22",
                                    "3": "Sweden : 23",
                                    "4": "Russia : 66"
                                },
                                {
                                    "0": "1992 Summer",
                                    "1": "Russia : 92",
                                    "2": "Russia : 61",
                                    "3": "USA : 85",
                                    "4": "USA : 224"
                                },
                                {
                                    "0": "1992 Winter",
                                    "1": "Russia : 35",
                                    "2": "Canada : 28",
                                    "3": "Czech Republic : 27",
                                    "4": "Russia : 59"
                                },
                                {
                                    "0": "1994 Winter",
                                    "1": "Sweden : 23",
                                    "2": "Canada : 29",
                                    "3": "Finland : 29",
                                    "4": "Germany : 40"
                                },
                                {
                                    "0": "1996 Summer",
                                    "1": "USA : 159",
                                    "2": "China : 70",
                                    "3": "Australia : 84",
                                    "4": "USA : 259"
                                },
                                {
                                    "0": "1998 Winter",
                                    "1": "USA : 25",
                                    "2": "Russia : 32",
                                    "3": "Finland : 49",
                                    "4": "Finland : 58"
                                },
                                {
                                    "0": "2000 Summer",
                                    "1": "USA : 130",
                                    "2": "Australia : 69",
                                    "3": "Germany : 64",
                                    "4": "USA : 242"
                                },
                                {
                                    "0": "2002 Winter",
                                    "1": "Canada : 52",
                                    "2": "USA : 58",
                                    "3": "Russia : 27",
                                    "4": "USA : 84"
                                },
                                {
                                    "0": "2004 Summer",
                                    "1": "USA : 117",
                                    "2": "Australia : 77",
                                    "3": "Russia : 95",
                                    "4": "USA : 263"
                                },
                                {
                                    "0": "2006 Winter",
                                    "1": "Sweden : 35",
                                    "2": "Finland : 34",
                                    "3": "USA : 32",
                                    "4": "Canada : 69"
                                },
                                {
                                    "0": "2008 Summer",
                                    "1": "USA : 127",
                                    "2": "USA : 110",
                                    "3": "USA : 80",
                                    "4": "USA : 317"
                                },
                                {
                                    "0": "2010 Winter",
                                    "1": "Canada : 67",
                                    "2": "USA : 63",
                                    "3": "Finland : 46",
                                    "4": "USA : 97"
                                },
                                {
                                    "0": "2012 Summer",
                                    "1": "USA : 145",
                                    "2": "USA : 57",
                                    "3": "Australia : 59",
                                    "4": "USA : 248"
                                },
                                {
                                    "0": "2014 Winter",
                                    "1": "Canada : 59",
                                    "2": "Sweden : 32",
                                    "3": "USA : 24",
                                    "4": "Canada : 86"
                                },
                                {
                                    "0": "2016 Summer",
                                    "1": "USA : 139",
                                    "2": "UK : 55",
                                    "3": "USA : 71",
                                    "4": "USA : 264"
                                }
                            ]
                        },
                        "text/html": [
                            "<table>",
                            "<tr><th>Games</th><th>maximum_golds</th><th>maximum_silver</th><th>maximum_bronze</th><th>maximum_medals</th></tr>",
                            "<tr><td>1896 Summer</td><td>Germany : 25</td><td>Greece : 18</td><td>Greece : 20</td><td>Greece : 48</td></tr>",
                            "<tr><td>1900 Summer</td><td>UK : 59</td><td>France : 101</td><td>France : 82</td><td>France : 235</td></tr>",
                            "<tr><td>1904 Summer</td><td>USA : 128</td><td>USA : 141</td><td>USA : 125</td><td>USA : 394</td></tr>",
                            "<tr><td>1906 Summer</td><td>Greece : 24</td><td>Greece : 48</td><td>Greece : 30</td><td>Greece : 102</td></tr>",
                            "<tr><td>1908 Summer</td><td>UK : 147</td><td>UK : 131</td><td>UK : 90</td><td>UK : 368</td></tr>",
                            "<tr><td>1912 Summer</td><td>Sweden : 103</td><td>UK : 64</td><td>UK : 59</td><td>Sweden : 190</td></tr>",
                            "<tr><td>1920 Summer</td><td>USA : 111</td><td>France : 71</td><td>Belgium : 66</td><td>USA : 194</td></tr>",
                            "<tr><td>1924 Summer</td><td>USA : 97</td><td>France : 51</td><td>USA : 49</td><td>USA : 182</td></tr>",
                            "<tr><td>1924 Winter</td><td>UK : 16</td><td>USA : 10</td><td>UK : 11</td><td>UK : 31</td></tr>",
                            "<tr><td>1928 Summer</td><td>USA : 47</td><td>Netherlands : 29</td><td>Germany : 41</td><td>USA : 88</td></tr>",
                            "<tr><td>1928 Winter</td><td>Canada : 12</td><td>Sweden : 13</td><td>Switzerland : 12</td><td>Sweden : 16</td></tr>",
                            "<tr><td>1932 Summer</td><td>USA : 81</td><td>USA : 47</td><td>USA : 61</td><td>USA : 189</td></tr>",
                            "<tr><td>1932 Winter</td><td>Canada : 14</td><td>USA : 21</td><td>Germany : 14</td><td>USA : 34</td></tr>",
                            "<tr><td>1936 Summer</td><td>Germany : 93</td><td>Germany : 70</td><td>Germany : 61</td><td>Germany : 224</td></tr>",
                            "<tr><td>1936 Winter</td><td>UK : 12</td><td>Canada : 13</td><td>USA : 14</td><td>Norway : 18</td></tr>",
                            "<tr><td>1948 Summer</td><td>USA : 87</td><td>UK : 42</td><td>USA : 35</td><td>USA : 152</td></tr>",
                            "<tr><td>1948 Winter</td><td>Canada : 13</td><td>Czech Republic : 17</td><td>Switzerland : 19</td><td>Switzerland : 28</td></tr>",
                            "<tr><td>1952 Summer</td><td>USA : 83</td><td>Russia : 62</td><td>Hungary : 32</td><td>USA : 134</td></tr>",
                            "<tr><td>1952 Winter</td><td>Canada : 16</td><td>USA : 25</td><td>Sweden : 23</td><td>USA : 30</td></tr>",
                            "<tr><td>1956 Summer</td><td>Russia : 68</td><td>Russia : 46</td><td>Russia : 55</td><td>Russia : 169</td></tr>",
                            "<tr><td>1956 Winter</td><td>Russia : 26</td><td>USA : 19</td><td>Canada : 18</td><td>Russia : 37</td></tr>",
                            "<tr><td>1960 Summer</td><td>USA : 81</td><td>Russia : 63</td><td>Russia : 45</td><td>Russia : 169</td></tr>",
                            "<tr><td>1960 Winter</td><td>USA : 19</td><td>Canada : 17</td><td>Russia : 28</td><td>Russia : 42</td></tr>",
                            "<tr><td>1964 Summer</td><td>USA : 95</td><td>Russia : 63</td><td>Russia : 51</td><td>Russia : 174</td></tr>",
                            "<tr><td>1964 Winter</td><td>Russia : 30</td><td>Sweden : 21</td><td>Czech Republic : 17</td><td>Russia : 47</td></tr>",
                            "<tr><td>1968 Summer</td><td>USA : 99</td><td>Russia : 63</td><td>Russia : 64</td><td>Russia : 192</td></tr>",
                            "<tr><td>1968 Winter</td><td>Russia : 26</td><td>Czech Republic : 19</td><td>Canada : 18</td><td>Russia : 37</td></tr>",
                            "<tr><td>1972 Summer</td><td>Russia : 107</td><td>Germany : 83</td><td>Germany : 96</td><td>Germany : 253</td></tr>",
                            "<tr><td>1972 Winter</td><td>Russia : 36</td><td>USA : 18</td><td>Czech Republic : 19</td><td>Russia : 45</td></tr>",
                            "<tr><td>1976 Summer</td><td>Germany : 123</td><td>Russia : 95</td><td>Russia : 77</td><td>Russia : 286</td></tr>",
                            "<tr><td>1976 Winter</td><td>Russia : 38</td><td>Czech Republic : 19</td><td>Germany : 37</td><td>Germany : 64</td></tr>",
                            "<tr><td>1980 Summer</td><td>Russia : 187</td><td>Russia : 129</td><td>Russia : 126</td><td>Russia : 442</td></tr>",
                            "<tr><td>1980 Winter</td><td>USA : 24</td><td>Russia : 29</td><td>Sweden : 20</td><td>Russia : 54</td></tr>",
                            "<tr><td>1984 Summer</td><td>USA : 186</td><td>USA : 116</td><td>Germany : 53</td><td>USA : 352</td></tr>",
                            "<tr><td>1984 Winter</td><td>Russia : 29</td><td>Czech Republic : 24</td><td>Sweden : 21</td><td>Russia : 56</td></tr>",
                            "<tr><td>1988 Summer</td><td>Russia : 134</td><td>Germany : 91</td><td>Russia : 99</td><td>Russia : 300</td></tr>",
                            "<tr><td>1988 Winter</td><td>Russia : 40</td><td>Germany : 22</td><td>Sweden : 23</td><td>Russia : 66</td></tr>",
                            "<tr><td>1992 Summer</td><td>Russia : 92</td><td>Russia : 61</td><td>USA : 85</td><td>USA : 224</td></tr>",
                            "<tr><td>1992 Winter</td><td>Russia : 35</td><td>Canada : 28</td><td>Czech Republic : 27</td><td>Russia : 59</td></tr>",
                            "<tr><td>1994 Winter</td><td>Sweden : 23</td><td>Canada : 29</td><td>Finland : 29</td><td>Germany : 40</td></tr>",
                            "<tr><td>1996 Summer</td><td>USA : 159</td><td>China : 70</td><td>Australia : 84</td><td>USA : 259</td></tr>",
                            "<tr><td>1998 Winter</td><td>USA : 25</td><td>Russia : 32</td><td>Finland : 49</td><td>Finland : 58</td></tr>",
                            "<tr><td>2000 Summer</td><td>USA : 130</td><td>Australia : 69</td><td>Germany : 64</td><td>USA : 242</td></tr>",
                            "<tr><td>2002 Winter</td><td>Canada : 52</td><td>USA : 58</td><td>Russia : 27</td><td>USA : 84</td></tr>",
                            "<tr><td>2004 Summer</td><td>USA : 117</td><td>Australia : 77</td><td>Russia : 95</td><td>USA : 263</td></tr>",
                            "<tr><td>2006 Winter</td><td>Sweden : 35</td><td>Finland : 34</td><td>USA : 32</td><td>Canada : 69</td></tr>",
                            "<tr><td>2008 Summer</td><td>USA : 127</td><td>USA : 110</td><td>USA : 80</td><td>USA : 317</td></tr>",
                            "<tr><td>2010 Winter</td><td>Canada : 67</td><td>USA : 63</td><td>Finland : 46</td><td>USA : 97</td></tr>",
                            "<tr><td>2012 Summer</td><td>USA : 145</td><td>USA : 57</td><td>Australia : 59</td><td>USA : 248</td></tr>",
                            "<tr><td>2014 Winter</td><td>Canada : 59</td><td>Sweden : 32</td><td>USA : 24</td><td>Canada : 86</td></tr>",
                            "<tr><td>2016 Summer</td><td>USA : 139</td><td>UK : 55</td><td>USA : 71</td><td>USA : 264</td></tr>",
                            "</table>"
                        ]
                    }
                }
            ],
            "execution_count": 29
        },
        {
            "cell_type": "markdown",
            "source": [
                "*The followung query returns the sport which has won India the highest no of medals:*"
            ],
            "metadata": {
                "azdata_cell_guid": "2b68dbd6-e313-4b31-8fff-cdc98d2652fe"
            }
        },
        {
            "cell_type": "code",
            "source": [
                "SELECT TOP(1)\r\n",
                "\tnr.Region AS 'Country',\r\n",
                "\tae.Sport,\r\n",
                "\tCOUNT(ae.Medal) AS 'total_medals_won'\r\n",
                "FROM\r\n",
                "\tdbo.AthleteEvents ae \r\n",
                "\tINNER JOIN dbo.NOCRegions nr ON ae.NOC = nr.NOC\r\n",
                "WHERE\r\n",
                "\tae.Medal <> 'NA' AND nr.Region = 'India'\r\n",
                "GROUP BY\r\n",
                "\tnr.Region, ae.Sport\r\n",
                "ORDER BY\r\n",
                "\ttotal_medals_won DESC"
            ],
            "metadata": {
                "azdata_cell_guid": "87cf40fc-f29c-4dc5-97ac-67268e851ce7"
            },
            "outputs": [
                {
                    "output_type": "display_data",
                    "data": {
                        "text/html": "(1 row affected)"
                    },
                    "metadata": {}
                },
                {
                    "output_type": "display_data",
                    "data": {
                        "text/html": "Total execution time: 00:00:00.021"
                    },
                    "metadata": {}
                },
                {
                    "output_type": "execute_result",
                    "metadata": {},
                    "execution_count": 26,
                    "data": {
                        "application/vnd.dataresource+json": {
                            "schema": {
                                "fields": [
                                    {
                                        "name": "Country"
                                    },
                                    {
                                        "name": "Sport"
                                    },
                                    {
                                        "name": "total_medals_won"
                                    }
                                ]
                            },
                            "data": [
                                {
                                    "0": "India",
                                    "1": "Hockey",
                                    "2": "173"
                                }
                            ]
                        },
                        "text/html": [
                            "<table>",
                            "<tr><th>Country</th><th>Sport</th><th>total_medals_won</th></tr>",
                            "<tr><td>India</td><td>Hockey</td><td>173</td></tr>",
                            "</table>"
                        ]
                    }
                }
            ],
            "execution_count": 26
        },
        {
            "cell_type": "markdown",
            "source": [
                "*The followung query returns the details of all olympic games where India won medal(s) in hockey:*"
            ],
            "metadata": {
                "azdata_cell_guid": "6647ce47-2576-42a9-bd6d-59b9f5188c3a"
            }
        },
        {
            "cell_type": "code",
            "source": [
                "SELECT\r\n",
                "\tnr.Region AS 'Country',\r\n",
                "\tae.Sport,\r\n",
                "\tae.Games,\r\n",
                "\tCOUNT(ae.Medal) AS 'Medals Won'\r\n",
                "FROM\r\n",
                "\tdbo.AthleteEvents ae \r\n",
                "\tINNER JOIN dbo.NOCRegions nr ON ae.NOC = nr.NOC\r\n",
                "WHERE\r\n",
                "\tae.Medal <> 'NA' AND nr.Region = 'India' AND ae.Sport = 'Hockey'\r\n",
                "GROUP BY\r\n",
                "\tnr.Region, ae.Sport, ae.Games\r\n",
                "ORDER BY\r\n",
                "\tGames"
            ],
            "metadata": {
                "azdata_cell_guid": "7d36ae3f-5ea1-4281-aed6-0280506767c3",
                "tags": []
            },
            "outputs": [
                {
                    "output_type": "display_data",
                    "data": {
                        "text/html": "(11 rows affected)"
                    },
                    "metadata": {}
                },
                {
                    "output_type": "display_data",
                    "data": {
                        "text/html": "Total execution time: 00:00:00.026"
                    },
                    "metadata": {}
                },
                {
                    "output_type": "execute_result",
                    "metadata": {},
                    "execution_count": 27,
                    "data": {
                        "application/vnd.dataresource+json": {
                            "schema": {
                                "fields": [
                                    {
                                        "name": "Country"
                                    },
                                    {
                                        "name": "Sport"
                                    },
                                    {
                                        "name": "Games"
                                    },
                                    {
                                        "name": "Medals Won"
                                    }
                                ]
                            },
                            "data": [
                                {
                                    "0": "India",
                                    "1": "Hockey",
                                    "2": "1928 Summer",
                                    "3": "14"
                                },
                                {
                                    "0": "India",
                                    "1": "Hockey",
                                    "2": "1932 Summer",
                                    "3": "15"
                                },
                                {
                                    "0": "India",
                                    "1": "Hockey",
                                    "2": "1936 Summer",
                                    "3": "19"
                                },
                                {
                                    "0": "India",
                                    "1": "Hockey",
                                    "2": "1948 Summer",
                                    "3": "20"
                                },
                                {
                                    "0": "India",
                                    "1": "Hockey",
                                    "2": "1952 Summer",
                                    "3": "14"
                                },
                                {
                                    "0": "India",
                                    "1": "Hockey",
                                    "2": "1956 Summer",
                                    "3": "17"
                                },
                                {
                                    "0": "India",
                                    "1": "Hockey",
                                    "2": "1960 Summer",
                                    "3": "13"
                                },
                                {
                                    "0": "India",
                                    "1": "Hockey",
                                    "2": "1964 Summer",
                                    "3": "15"
                                },
                                {
                                    "0": "India",
                                    "1": "Hockey",
                                    "2": "1968 Summer",
                                    "3": "16"
                                },
                                {
                                    "0": "India",
                                    "1": "Hockey",
                                    "2": "1972 Summer",
                                    "3": "14"
                                },
                                {
                                    "0": "India",
                                    "1": "Hockey",
                                    "2": "1980 Summer",
                                    "3": "16"
                                }
                            ]
                        },
                        "text/html": [
                            "<table>",
                            "<tr><th>Country</th><th>Sport</th><th>Games</th><th>Medals Won</th></tr>",
                            "<tr><td>India</td><td>Hockey</td><td>1928 Summer</td><td>14</td></tr>",
                            "<tr><td>India</td><td>Hockey</td><td>1932 Summer</td><td>15</td></tr>",
                            "<tr><td>India</td><td>Hockey</td><td>1936 Summer</td><td>19</td></tr>",
                            "<tr><td>India</td><td>Hockey</td><td>1948 Summer</td><td>20</td></tr>",
                            "<tr><td>India</td><td>Hockey</td><td>1952 Summer</td><td>14</td></tr>",
                            "<tr><td>India</td><td>Hockey</td><td>1956 Summer</td><td>17</td></tr>",
                            "<tr><td>India</td><td>Hockey</td><td>1960 Summer</td><td>13</td></tr>",
                            "<tr><td>India</td><td>Hockey</td><td>1964 Summer</td><td>15</td></tr>",
                            "<tr><td>India</td><td>Hockey</td><td>1968 Summer</td><td>16</td></tr>",
                            "<tr><td>India</td><td>Hockey</td><td>1972 Summer</td><td>14</td></tr>",
                            "<tr><td>India</td><td>Hockey</td><td>1980 Summer</td><td>16</td></tr>",
                            "</table>"
                        ]
                    }
                }
            ],
            "execution_count": 27
        }
    ]
}